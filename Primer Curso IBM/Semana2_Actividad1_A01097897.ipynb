{
  "nbformat": 4,
  "nbformat_minor": 0,
  "metadata": {
    "colab": {
      "provenance": [],
      "collapsed_sections": [],
      "toc_visible": true,
      "authorship_tag": "ABX9TyO6ArIf8QKRqx1E1bINmgAn",
      "include_colab_link": true
    },
    "kernelspec": {
      "name": "python3",
      "display_name": "Python 3"
    },
    "language_info": {
      "name": "python"
    }
  },
  "cells": [
    {
      "cell_type": "markdown",
      "metadata": {
        "id": "view-in-github",
        "colab_type": "text"
      },
      "source": [
        "<a href=\"https://colab.research.google.com/github/PosgradoMNA/actividades-de-aprendizaje-pnogueron/blob/main/Semana2_Actividad1_A01097897.ipynb\" target=\"_parent\"><img src=\"https://colab.research.google.com/assets/colab-badge.svg\" alt=\"Open In Colab\"/></a>"
      ]
    },
    {
      "cell_type": "markdown",
      "source": [
        "<h1>Semana 2, Actividad 1</h1>\n",
        "<h3>Juan Pablo Noguerón Morales - A01097897</h3>"
      ],
      "metadata": {
        "id": "e_veggx6Fxlt"
      }
    },
    {
      "cell_type": "markdown",
      "source": [
        "# Lab reading files"
      ],
      "metadata": {
        "id": "Y9cJCF_3Gu42"
      }
    },
    {
      "cell_type": "markdown",
      "source": [
        "Download data \n",
        "\n",
        "Since I'm using google collab (which is in a different server than IBM course), I need to download the file"
      ],
      "metadata": {
        "id": "Bsv6K6FxHZCb"
      }
    },
    {
      "cell_type": "code",
      "source": [
        "## Uncomment these if working locally, else let the following code cell run.\n",
        "\n",
        "import urllib.request\n",
        "url = 'https://cf-courses-data.s3.us.cloud-object-storage.appdomain.cloud/IBMDeveloperSkillsNetwork-PY0101EN-SkillsNetwork/labs/Module%204/data/example1.txt'\n",
        "filename = 'Example1.txt'\n",
        "urllib.request.urlretrieve(url, filename)\n",
        "\n",
        "## Download Example file\n",
        "!wget -O /resources/data/Example1.txt https://cf-courses-data.s3.us.cloud-object-storage.appdomain.cloud/IBMDeveloperSkillsNetwork-PY0101EN-SkillsNetwork/labs/Module%204/data/example1.txt"
      ],
      "metadata": {
        "colab": {
          "base_uri": "https://localhost:8080/"
        },
        "id": "TWA94FbiHVPK",
        "outputId": "20f4278e-9278-4680-a36c-f03ded9e6b45"
      },
      "execution_count": null,
      "outputs": [
        {
          "output_type": "stream",
          "name": "stdout",
          "text": [
            "/resources/data/Example1.txt: No such file or directory\n"
          ]
        }
      ]
    },
    {
      "cell_type": "code",
      "source": [
        "# Read the Example1.txt. Abrimos en modo lectura\n",
        "example1 = \"Example1.txt\"\n",
        "file1 = open(example1, \"r\")\n"
      ],
      "metadata": {
        "id": "YnLuOsX-JSLY"
      },
      "execution_count": null,
      "outputs": []
    },
    {
      "cell_type": "code",
      "source": [
        "# Print the path of file\n",
        "\n",
        "file1.name"
      ],
      "metadata": {
        "id": "BqGTaeJeJU6h",
        "colab": {
          "base_uri": "https://localhost:8080/",
          "height": 35
        },
        "outputId": "296c50ce-208d-4dab-feba-c08c04d3d0e9"
      },
      "execution_count": 14,
      "outputs": [
        {
          "output_type": "execute_result",
          "data": {
            "text/plain": [
              "'Example1.txt'"
            ],
            "application/vnd.google.colaboratory.intrinsic+json": {
              "type": "string"
            }
          },
          "metadata": {},
          "execution_count": 14
        }
      ]
    },
    {
      "cell_type": "code",
      "source": [
        "# Print the mode of file, either 'r' or 'w'\n",
        "\n",
        "file1.mode"
      ],
      "metadata": {
        "colab": {
          "base_uri": "https://localhost:8080/",
          "height": 35
        },
        "id": "XmshdxkaJuu7",
        "outputId": "f474351f-052d-4218-ce5c-13ca6e48b5e6"
      },
      "execution_count": 13,
      "outputs": [
        {
          "output_type": "execute_result",
          "data": {
            "text/plain": [
              "'r'"
            ],
            "application/vnd.google.colaboratory.intrinsic+json": {
              "type": "string"
            }
          },
          "metadata": {},
          "execution_count": 13
        }
      ]
    },
    {
      "cell_type": "code",
      "source": [
        "#Leemos el archivo y lo asignamos a una variable\n",
        "# Read the file\n",
        "\n",
        "FileContent = file1.read()\n",
        "FileContent"
      ],
      "metadata": {
        "colab": {
          "base_uri": "https://localhost:8080/",
          "height": 35
        },
        "id": "ww_2yXN9Jy1j",
        "outputId": "2abbcf3d-eb40-481e-e923-d786fdb99fa5"
      },
      "execution_count": 15,
      "outputs": [
        {
          "output_type": "execute_result",
          "data": {
            "text/plain": [
              "'This is line 1 \\nThis is line 2\\nThis is line 3'"
            ],
            "application/vnd.google.colaboratory.intrinsic+json": {
              "type": "string"
            }
          },
          "metadata": {},
          "execution_count": 15
        }
      ]
    },
    {
      "cell_type": "code",
      "source": [
        "#Imprimimos el contenido \n",
        "# Print the file with '\\n' as a new line\n",
        "\n",
        "print(FileContent)"
      ],
      "metadata": {
        "colab": {
          "base_uri": "https://localhost:8080/"
        },
        "id": "HD7qv-KRJ5EU",
        "outputId": "bdb0f4bf-de87-43da-abcb-db3c1f58a095"
      },
      "execution_count": 16,
      "outputs": [
        {
          "output_type": "stream",
          "name": "stdout",
          "text": [
            "This is line 1 \n",
            "This is line 2\n",
            "This is line 3\n"
          ]
        }
      ]
    },
    {
      "cell_type": "code",
      "source": [
        "# Type of file content\n",
        "\n",
        "type(FileContent)"
      ],
      "metadata": {
        "colab": {
          "base_uri": "https://localhost:8080/"
        },
        "id": "OOba4DciJ9L3",
        "outputId": "ffe6ae74-a05d-47a0-d939-fba4de1cb9bf"
      },
      "execution_count": 17,
      "outputs": [
        {
          "output_type": "execute_result",
          "data": {
            "text/plain": [
              "str"
            ]
          },
          "metadata": {},
          "execution_count": 17
        }
      ]
    },
    {
      "cell_type": "code",
      "source": [
        "# Close file after finish\n",
        "\n",
        "file1.close()"
      ],
      "metadata": {
        "id": "O-aRDhslJ_kC"
      },
      "execution_count": 18,
      "outputs": []
    },
    {
      "cell_type": "markdown",
      "source": [
        "<h4>Usando with para abrir el archivo</h4>"
      ],
      "metadata": {
        "id": "yAKDa0nZKFiK"
      }
    },
    {
      "cell_type": "code",
      "source": [
        "# Open file using with\n",
        "\n",
        "with open(example1, \"r\") as file1:\n",
        "    FileContent = file1.read()\n",
        "    print(FileContent)"
      ],
      "metadata": {
        "colab": {
          "base_uri": "https://localhost:8080/"
        },
        "id": "SdueXij1KOjs",
        "outputId": "7773930a-f1c5-4c6f-f97a-d9ccd193e8ca"
      },
      "execution_count": 19,
      "outputs": [
        {
          "output_type": "stream",
          "name": "stdout",
          "text": [
            "This is line 1 \n",
            "This is line 2\n",
            "This is line 3\n"
          ]
        }
      ]
    },
    {
      "cell_type": "code",
      "source": [
        "# Verify if the file is closed\n",
        "\n",
        "file1.closed"
      ],
      "metadata": {
        "colab": {
          "base_uri": "https://localhost:8080/"
        },
        "id": "EUzEGiJ2KRxY",
        "outputId": "6da1b817-b52a-4818-bce3-e86fd1d49559"
      },
      "execution_count": 20,
      "outputs": [
        {
          "output_type": "execute_result",
          "data": {
            "text/plain": [
              "True"
            ]
          },
          "metadata": {},
          "execution_count": 20
        }
      ]
    },
    {
      "cell_type": "code",
      "source": [
        "# See the content of file\n",
        "\n",
        "print(FileContent)"
      ],
      "metadata": {
        "colab": {
          "base_uri": "https://localhost:8080/"
        },
        "id": "V0fb-u3rKUAB",
        "outputId": "a6ef64e8-ff95-4dbe-e7f9-47551d0b2bfb"
      },
      "execution_count": 21,
      "outputs": [
        {
          "output_type": "stream",
          "name": "stdout",
          "text": [
            "This is line 1 \n",
            "This is line 2\n",
            "This is line 3\n"
          ]
        }
      ]
    },
    {
      "cell_type": "code",
      "source": [
        "# Read first four characters\n",
        "\n",
        "with open(example1, \"r\") as file1:\n",
        "    print(file1.read(4))"
      ],
      "metadata": {
        "colab": {
          "base_uri": "https://localhost:8080/"
        },
        "id": "EooTzWAEKY8q",
        "outputId": "819dbfa5-c80b-4aa2-8346-21c369f5130c"
      },
      "execution_count": 29,
      "outputs": [
        {
          "output_type": "stream",
          "name": "stdout",
          "text": [
            "<class '_io.TextIOWrapper'>\n",
            "This\n"
          ]
        }
      ]
    },
    {
      "cell_type": "code",
      "source": [
        "# Read certain amount of characters\n",
        "\n",
        "with open(example1, \"r\") as file1:\n",
        "    print(file1.read(4))\n",
        "    print(file1.read(4))\n",
        "    print(file1.read(7))\n",
        "    print(file1.read(15))"
      ],
      "metadata": {
        "colab": {
          "base_uri": "https://localhost:8080/"
        },
        "id": "vnODAO4TKcsO",
        "outputId": "f28c28c0-1b87-414c-a037-054543d3d8bb"
      },
      "execution_count": 25,
      "outputs": [
        {
          "output_type": "stream",
          "name": "stdout",
          "text": [
            "This\n",
            " is \n",
            "line 1 \n",
            "\n",
            "This is line 2\n"
          ]
        }
      ]
    },
    {
      "cell_type": "code",
      "source": [
        "#Here is an example using the same file, but instead we read 16, 5, and then 9 characters at a time:\n",
        "# Read certain amount of characters\n",
        "\n",
        "with open(example1, \"r\") as file1:\n",
        "    print(file1.read(16))\n",
        "    print(file1.read(5))\n",
        "    print(file1.read(9))"
      ],
      "metadata": {
        "colab": {
          "base_uri": "https://localhost:8080/"
        },
        "id": "IGQuO6skLA5n",
        "outputId": "8549e418-3331-4b92-fa26-39acbe41f1a1"
      },
      "execution_count": 26,
      "outputs": [
        {
          "output_type": "stream",
          "name": "stdout",
          "text": [
            "This is line 1 \n",
            "\n",
            "This \n",
            "is line 2\n"
          ]
        }
      ]
    },
    {
      "cell_type": "code",
      "source": [
        "# Read one line\n",
        "\n",
        "with open(example1, \"r\") as file1:\n",
        "    print(\"first line: \" + file1.readline())"
      ],
      "metadata": {
        "colab": {
          "base_uri": "https://localhost:8080/"
        },
        "id": "3Nc2mi1FLE_i",
        "outputId": "a3a4dca0-a147-4a56-ae57-b84015ec7c97"
      },
      "execution_count": 27,
      "outputs": [
        {
          "output_type": "stream",
          "name": "stdout",
          "text": [
            "first line: This is line 1 \n",
            "\n"
          ]
        }
      ]
    },
    {
      "cell_type": "code",
      "source": [
        "#We can also pass an argument to  readline()  to specify the number of charecters we want to read. However, unlike  read(),  readline() can only read one line at most.\n",
        "with open(example1, \"r\") as file1:\n",
        "    print(file1.readline(20)) # does not read past the end of line\n",
        "    print(file1.read(20)) # Returns the next 20 chars"
      ],
      "metadata": {
        "colab": {
          "base_uri": "https://localhost:8080/"
        },
        "id": "GgX1b4LOLOeW",
        "outputId": "ef6b8f1a-cc49-4cd2-be79-cd3de1bb6ef8"
      },
      "execution_count": 28,
      "outputs": [
        {
          "output_type": "stream",
          "name": "stdout",
          "text": [
            "This is line 1 \n",
            "\n",
            "This is line 2\n",
            "This \n"
          ]
        }
      ]
    },
    {
      "cell_type": "code",
      "source": [
        "# Iterate through the lines\n",
        "\n",
        "with open(example1,\"r\") as file1:\n",
        "        i = 0;\n",
        "        for line in file1:\n",
        "            print(\"Iteration\", str(i), \": \", line)\n",
        "            i = i + 1"
      ],
      "metadata": {
        "colab": {
          "base_uri": "https://localhost:8080/"
        },
        "id": "7E_HKEb-Lf7Y",
        "outputId": "505af3bd-3fed-4b47-8d29-e8c8c8adcd4d"
      },
      "execution_count": 31,
      "outputs": [
        {
          "output_type": "stream",
          "name": "stdout",
          "text": [
            "Iteration 0 :  This is line 1 \n",
            "\n",
            "Iteration 1 :  This is line 2\n",
            "\n",
            "Iteration 2 :  This is line 3\n"
          ]
        }
      ]
    },
    {
      "cell_type": "code",
      "source": [
        "# Read all lines and save as a list\n",
        "\n",
        "with open(example1, \"r\") as file1:\n",
        "    FileasList = file1.readlines()"
      ],
      "metadata": {
        "id": "o8qPOnfaL-mY"
      },
      "execution_count": 32,
      "outputs": []
    },
    {
      "cell_type": "code",
      "source": [
        "# Print the first line\n",
        "\n",
        "FileasList[0]"
      ],
      "metadata": {
        "colab": {
          "base_uri": "https://localhost:8080/",
          "height": 35
        },
        "id": "fZb5D9beMEC7",
        "outputId": "5b6362fc-3dfb-4d36-b7a9-7032daa8383f"
      },
      "execution_count": 33,
      "outputs": [
        {
          "output_type": "execute_result",
          "data": {
            "text/plain": [
              "'This is line 1 \\n'"
            ],
            "application/vnd.google.colaboratory.intrinsic+json": {
              "type": "string"
            }
          },
          "metadata": {},
          "execution_count": 33
        }
      ]
    },
    {
      "cell_type": "code",
      "source": [
        "# Print the third line\n",
        "\n",
        "FileasList[2]"
      ],
      "metadata": {
        "colab": {
          "base_uri": "https://localhost:8080/",
          "height": 35
        },
        "id": "w8z_nmMRMv_p",
        "outputId": "fb9dbc68-d3a7-4d6c-95c9-ec55afb70e2a"
      },
      "execution_count": 34,
      "outputs": [
        {
          "output_type": "execute_result",
          "data": {
            "text/plain": [
              "'This is line 3'"
            ],
            "application/vnd.google.colaboratory.intrinsic+json": {
              "type": "string"
            }
          },
          "metadata": {},
          "execution_count": 34
        }
      ]
    },
    {
      "cell_type": "markdown",
      "source": [
        "# Lab writing files"
      ],
      "metadata": {
        "id": "cCiDNkP5OQil"
      }
    },
    {
      "cell_type": "markdown",
      "source": [
        "<h2>Writing Files</h2>"
      ],
      "metadata": {
        "id": "VRgvydTgPf4R"
      }
    },
    {
      "cell_type": "code",
      "source": [
        "#We can open a file object using the method write() to save the text file to a list. \n",
        "#To write to a file, the mode argument must be set to w. Let’s write a file Example2.txt with the line: “This is line A”\n",
        "# Write line to file\n",
        "exmp2 = 'Example2.txt'\n",
        "with open(exmp2, 'w') as writefile:\n",
        "    writefile.write(\"This is line A\")"
      ],
      "metadata": {
        "id": "5n_ar8L1OTSC"
      },
      "execution_count": 35,
      "outputs": []
    },
    {
      "cell_type": "code",
      "source": [
        "# Read file\n",
        "\n",
        "with open(exmp2, 'r') as testwritefile:\n",
        "    print(testwritefile.read())"
      ],
      "metadata": {
        "colab": {
          "base_uri": "https://localhost:8080/"
        },
        "id": "mIEuFvxgOoDF",
        "outputId": "56099068-3317-4b9a-f356-7e7cb82238b6"
      },
      "execution_count": 36,
      "outputs": [
        {
          "output_type": "stream",
          "name": "stdout",
          "text": [
            "This is line A\n"
          ]
        }
      ]
    },
    {
      "cell_type": "code",
      "source": [
        "# Write lines to file\n",
        "\n",
        "with open(exmp2, 'w') as writefile:\n",
        "    writefile.write(\"This is line A\\n\")\n",
        "    writefile.write(\"This is line B\\n\")"
      ],
      "metadata": {
        "id": "EcGMsXmJOsmp"
      },
      "execution_count": 37,
      "outputs": []
    },
    {
      "cell_type": "code",
      "source": [
        "# Check whether write to file\n",
        "\n",
        "with open(exmp2, 'r') as testwritefile:\n",
        "    print(testwritefile.read())"
      ],
      "metadata": {
        "colab": {
          "base_uri": "https://localhost:8080/"
        },
        "id": "y91yPvLDO1lH",
        "outputId": "0e7505a2-16f0-489f-d994-0dd06bd141f2"
      },
      "execution_count": 38,
      "outputs": [
        {
          "output_type": "stream",
          "name": "stdout",
          "text": [
            "This is line A\n",
            "This is line B\n",
            "\n"
          ]
        }
      ]
    },
    {
      "cell_type": "code",
      "source": [
        "#We write a list to a .txt file as follows:\n",
        "# Sample list of text\n",
        "\n",
        "Lines = [\"This is line A\\n\", \"This is line B\\n\", \"This is line C\\n\"]\n",
        "Lines"
      ],
      "metadata": {
        "colab": {
          "base_uri": "https://localhost:8080/"
        },
        "id": "PoP29zC8O9z6",
        "outputId": "e591d0e0-30de-451c-9e54-02702b8b66d9"
      },
      "execution_count": 39,
      "outputs": [
        {
          "output_type": "execute_result",
          "data": {
            "text/plain": [
              "['This is line A\\n', 'This is line B\\n', 'This is line C\\n']"
            ]
          },
          "metadata": {},
          "execution_count": 39
        }
      ]
    },
    {
      "cell_type": "code",
      "source": [
        "# Write the strings in the list to text file\n",
        "\n",
        "with open('Example2.txt', 'w') as writefile:\n",
        "    for line in Lines:\n",
        "        print(line)\n",
        "        writefile.write(line)"
      ],
      "metadata": {
        "colab": {
          "base_uri": "https://localhost:8080/"
        },
        "id": "ZDH7xM1fPB-W",
        "outputId": "e7cbaba0-ec27-4d00-f934-69b1d5452284"
      },
      "execution_count": 40,
      "outputs": [
        {
          "output_type": "stream",
          "name": "stdout",
          "text": [
            "This is line A\n",
            "\n",
            "This is line B\n",
            "\n",
            "This is line C\n",
            "\n"
          ]
        }
      ]
    },
    {
      "cell_type": "code",
      "source": [
        "# Verify if writing to file is successfully executed\n",
        "\n",
        "with open('Example2.txt', 'r') as testwritefile:\n",
        "    print(testwritefile.read())"
      ],
      "metadata": {
        "colab": {
          "base_uri": "https://localhost:8080/"
        },
        "id": "2I1fWhoAPHBZ",
        "outputId": "7506102c-167a-4aa6-aba5-fb2365208dfa"
      },
      "execution_count": 41,
      "outputs": [
        {
          "output_type": "stream",
          "name": "stdout",
          "text": [
            "This is line A\n",
            "This is line B\n",
            "This is line C\n",
            "\n"
          ]
        }
      ]
    },
    {
      "cell_type": "code",
      "source": [
        "#However, note that setting the mode to w overwrites all the existing data in the file.\n",
        "with open('Example2.txt', 'w') as writefile:\n",
        "    writefile.write(\"Overwrite\\n\")\n",
        "with open('Example2.txt', 'r') as testwritefile:\n",
        "    print(testwritefile.read())"
      ],
      "metadata": {
        "colab": {
          "base_uri": "https://localhost:8080/"
        },
        "id": "T4XU5jPbPJPH",
        "outputId": "0a54ca3b-f6b4-47d0-cec7-f0414a60ab2f"
      },
      "execution_count": 43,
      "outputs": [
        {
          "output_type": "stream",
          "name": "stdout",
          "text": [
            "Overwrite\n",
            "\n"
          ]
        }
      ]
    },
    {
      "cell_type": "markdown",
      "source": [
        "<h2>Appending Files</h2>"
      ],
      "metadata": {
        "id": "keUIHYFmPkde"
      }
    },
    {
      "cell_type": "code",
      "source": [
        "# Write a new line to text file\n",
        "\n",
        "with open('Example2.txt', 'a') as testwritefile:\n",
        "    testwritefile.write(\"This is line C\\n\")\n",
        "    testwritefile.write(\"This is line D\\n\")\n",
        "    testwritefile.write(\"This is line E\\n\")"
      ],
      "metadata": {
        "id": "h39e_TU5PmC2"
      },
      "execution_count": 45,
      "outputs": []
    },
    {
      "cell_type": "code",
      "source": [
        "# Verify if the new line is in the text file\n",
        "\n",
        "with open('Example2.txt', 'r') as testwritefile:\n",
        "    print(testwritefile.read())"
      ],
      "metadata": {
        "colab": {
          "base_uri": "https://localhost:8080/"
        },
        "id": "ukZx8DjsPyyr",
        "outputId": "d8c072bc-7df9-400c-a437-894677c4e4c5"
      },
      "execution_count": 46,
      "outputs": [
        {
          "output_type": "stream",
          "name": "stdout",
          "text": [
            "Overwrite\n",
            "This is line C\n",
            "This is line D\n",
            "This is line E\n",
            "This is line C\n",
            "This is line D\n",
            "This is line E\n",
            "\n"
          ]
        }
      ]
    },
    {
      "cell_type": "markdown",
      "source": [
        "<h2>Additional Modes</h2>\n",
        "\n",
        "It's fairly ineffecient to open the file in a or w and then reopening it in r to read any lines. Luckily we can access the file in the following modes:\n",
        "\n",
        "\n",
        "r+ : Reading and writing. Cannot truncate the file.\n",
        "\n",
        "w+ : Writing and reading. Truncates the file.\n",
        "\n",
        "a+ : Appending and Reading. Creates a new file, if none exists.\n",
        "\n",
        "You dont have to dwell on the specifics of each mode for this lab."
      ],
      "metadata": {
        "id": "fajGdB-yQPyv"
      }
    },
    {
      "cell_type": "code",
      "source": [
        "#A mode\n",
        "with open('Example2.txt', 'a+') as testwritefile:\n",
        "    testwritefile.write(\"This is line E\\n\")\n",
        "    print(testwritefile.read())"
      ],
      "metadata": {
        "colab": {
          "base_uri": "https://localhost:8080/"
        },
        "id": "2OoQXxYDQc2Q",
        "outputId": "d2eae305-f655-4056-9545-81944b555b08"
      },
      "execution_count": 48,
      "outputs": [
        {
          "output_type": "stream",
          "name": "stdout",
          "text": [
            "\n"
          ]
        }
      ]
    },
    {
      "cell_type": "code",
      "source": [
        "#Trabajando con posición del cursor \n",
        "with open('Example2.txt', 'a+') as testwritefile:\n",
        "    print(\"Initial Location: {}\".format(testwritefile.tell()))\n",
        "    \n",
        "    data = testwritefile.read()\n",
        "    if (not data):  #empty strings return false in python\n",
        "            print('Read nothing') \n",
        "    else: \n",
        "            print(testwritefile.read())\n",
        "            \n",
        "    testwritefile.seek(0,0) # move 0 bytes from beginning.\n",
        "    \n",
        "    print(\"\\nNew Location : {}\".format(testwritefile.tell()))\n",
        "    data = testwritefile.read()\n",
        "    if (not data): \n",
        "            print('Read nothing') \n",
        "    else: \n",
        "            print(data)\n",
        "    \n",
        "    print(\"Location after read: {}\".format(testwritefile.tell()) )"
      ],
      "metadata": {
        "colab": {
          "base_uri": "https://localhost:8080/"
        },
        "id": "LBBv3l3URKiT",
        "outputId": "f00fce72-472a-48b3-850f-973da4b59bd3"
      },
      "execution_count": 49,
      "outputs": [
        {
          "output_type": "stream",
          "name": "stdout",
          "text": [
            "Initial Location: 130\n",
            "Read nothing\n",
            "\n",
            "New Location : 0\n",
            "Overwrite\n",
            "This is line C\n",
            "This is line D\n",
            "This is line E\n",
            "This is line C\n",
            "This is line D\n",
            "This is line E\n",
            "This is line E\n",
            "This is line E\n",
            "\n",
            "Location after read: 130\n"
          ]
        }
      ]
    },
    {
      "cell_type": "code",
      "source": [
        "with open('Example2.txt', 'r+') as testwritefile:\n",
        "    data = testwritefile.readlines()\n",
        "    testwritefile.seek(0,0) #write at beginning of file\n",
        "   \n",
        "    testwritefile.write(\"Line 1\" + \"\\n\")\n",
        "    testwritefile.write(\"Line 2\" + \"\\n\")\n",
        "    testwritefile.write(\"Line 3\" + \"\\n\")\n",
        "    testwritefile.write(\"finished\\n\")\n",
        "    #Uncomment the line below\n",
        "    #testwritefile.truncate()\n",
        "    testwritefile.seek(0,0)\n",
        "    print(testwritefile.read())\n",
        "    "
      ],
      "metadata": {
        "colab": {
          "base_uri": "https://localhost:8080/"
        },
        "id": "bxN6pU3FRcz4",
        "outputId": "17996ff0-91e2-455e-8685-95bf8cf8a104"
      },
      "execution_count": 50,
      "outputs": [
        {
          "output_type": "stream",
          "name": "stdout",
          "text": [
            "Line 1\n",
            "Line 2\n",
            "Line 3\n",
            "finished\n",
            "is line D\n",
            "This is line E\n",
            "This is line C\n",
            "This is line D\n",
            "This is line E\n",
            "This is line E\n",
            "This is line E\n",
            "\n"
          ]
        }
      ]
    },
    {
      "cell_type": "markdown",
      "source": [
        "<h2>Copy a file</h2>"
      ],
      "metadata": {
        "id": "-uBFeNx9Rg77"
      }
    },
    {
      "cell_type": "code",
      "source": [
        "# Copy file to another\n",
        "\n",
        "with open('Example2.txt','r') as readfile:\n",
        "    with open('Example3.txt','w') as writefile:\n",
        "          for line in readfile:\n",
        "                writefile.write(line)"
      ],
      "metadata": {
        "id": "ijmS8DCZQRkZ"
      },
      "execution_count": 51,
      "outputs": []
    },
    {
      "cell_type": "code",
      "source": [
        "# Verify if the copy is successfully executed\n",
        "\n",
        "with open('Example3.txt','r') as testwritefile:\n",
        "    print(testwritefile.read())"
      ],
      "metadata": {
        "colab": {
          "base_uri": "https://localhost:8080/"
        },
        "id": "YDU3DmoORm-0",
        "outputId": "339f47e2-cba2-4508-a4ee-ae6d8af9b2cb"
      },
      "execution_count": 52,
      "outputs": [
        {
          "output_type": "stream",
          "name": "stdout",
          "text": [
            "Line 1\n",
            "Line 2\n",
            "Line 3\n",
            "finished\n",
            "is line D\n",
            "This is line E\n",
            "This is line C\n",
            "This is line D\n",
            "This is line E\n",
            "This is line E\n",
            "This is line E\n",
            "\n"
          ]
        }
      ]
    },
    {
      "cell_type": "markdown",
      "source": [
        "<h2>Excercise</h2>"
      ],
      "metadata": {
        "id": "_wqBYeM3RqKq"
      }
    },
    {
      "cell_type": "code",
      "source": [
        "#Run this prior to starting the exercise\n",
        "from random import randint as rnd\n",
        "\n",
        "memReg = 'members.txt'\n",
        "exReg = 'inactive.txt'\n",
        "fee =('yes','no')\n",
        "\n",
        "def genFiles(current,old):\n",
        "    with open(current,'w+') as writefile: \n",
        "        writefile.write('Membership No  Date Joined  Active  \\n')\n",
        "        data = \"{:^13}  {:<11}  {:<6}\\n\"\n",
        "\n",
        "        for rowno in range(20):\n",
        "            date = str(rnd(2015,2020))+ '-' + str(rnd(1,12))+'-'+str(rnd(1,25))\n",
        "            writefile.write(data.format(rnd(10000,99999),date,fee[rnd(0,1)]))\n",
        "\n",
        "\n",
        "    with open(old,'w+') as writefile: \n",
        "        writefile.write('Membership No  Date Joined  Active  \\n')\n",
        "        data = \"{:^13}  {:<11}  {:<6}\\n\"\n",
        "        for rowno in range(3):\n",
        "            date = str(rnd(2015,2020))+ '-' + str(rnd(1,12))+'-'+str(rnd(1,25))\n",
        "            writefile.write(data.format(rnd(10000,99999),date,fee[1]))\n",
        "\n",
        "\n",
        "genFiles(memReg,exReg)\n"
      ],
      "metadata": {
        "id": "eh7lEdBgRtRe"
      },
      "execution_count": 54,
      "outputs": []
    },
    {
      "cell_type": "code",
      "source": [
        "'''\n",
        "The two arguments for this function are the files:\n",
        "    - currentMem: File containing list of current members\n",
        "    - exMem: File containing list of old members\n",
        "    \n",
        "    This function should remove all rows from currentMem containing 'no' \n",
        "    in the 'Active' column and appends them to exMem.\n",
        "    '''\n",
        "def cleanFiles(currentMem, exMem):\n",
        "    data = \"{:^13}  {:<11}  {:<6}\\n\"\n",
        "    # Open the currentMem file as in r+ mode\n",
        "    with open(currentMem,'r+') as curM: \n",
        "        #Open the exMem file in a+ mode\n",
        "        with open(exMem,'a+') as exM: \n",
        "          #Read each member in the currentMem (1 member per row) file into a list.\n",
        "          header = curM.readline() #skip the first line\n",
        "          records = curM.readlines()\n",
        "          inactiveMembers = dict()\n",
        "\n",
        "          #Iterate through the members and create a new list of the innactive members  \n",
        "          for record in records:\n",
        "              membershipNo = record[0:13].replace(' ','')\n",
        "              dateJoined = record[13:26].replace(' ','')\n",
        "              isActive = record[26:31].replace(' ','')\n",
        "\n",
        "              inactiveMembers[membershipNo] = (dateJoined, isActive)\n",
        "\n",
        "          # Go to the beginning of the currentMem file\n",
        "          curM.seek(0)\n",
        "          curM.write(header)\n",
        "\n",
        "          # Iterate through the members list. \n",
        "          # If a member is inactive, add them to exMem, otherwise write them into currentMem\n",
        "          for record in records:\n",
        "              membershipNo = record[0:13].replace(' ','')\n",
        "              if(inactiveMembers[membershipNo][1] == 'yes'):\n",
        "                  curM.write(record)\n",
        "              else:\n",
        "                  exM.write(record)\n",
        "\n",
        "          curM.truncate()\n",
        "\n",
        "# The code below is to help you view the files.\n",
        "# Do not modify this code for this exercise.\n",
        "memReg = 'members.txt'\n",
        "exReg = 'inactive.txt'\n",
        "cleanFiles(memReg,exReg)\n",
        "\n",
        "\n",
        "#headers = \"Membership No  Date Joined  Active  \\n\"\n",
        "with open(memReg,'r') as readFile:\n",
        "    print(\"Active Members: \\n\\n\")\n",
        "    print(readFile.read())\n",
        "    \n",
        "with open(exReg,'r') as readFile:\n",
        "    print(\"Inactive Members: \\n\\n\")\n",
        "    print(readFile.read())\n",
        "                "
      ],
      "metadata": {
        "colab": {
          "base_uri": "https://localhost:8080/"
        },
        "id": "rbnc8VYSTI6a",
        "outputId": "f2c767bb-a980-4a32-805a-4165bbe64aad"
      },
      "execution_count": 116,
      "outputs": [
        {
          "output_type": "stream",
          "name": "stdout",
          "text": [
            "Active Members: \n",
            "\n",
            "\n",
            "Membership No  Date Joined  Active  \n",
            "    30971      2020-2-3     yes   \n",
            "    81809      2018-6-16    yes   \n",
            "    71859      2018-10-5    yes   \n",
            "    82620      2017-9-15    yes   \n",
            "    76988      2018-8-12    yes   \n",
            "    36434      2019-8-18    yes   \n",
            "    74000      2017-1-10    yes   \n",
            "    13177      2016-8-13    yes   \n",
            "    71929      2018-1-4     yes   \n",
            "    36434      2019-8-18    yes   \n",
            "    74000      2017-1-10    yes   \n",
            "    13177      2016-8-13    yes   \n",
            "    71929      2018-1-4     yes   \n",
            "\n",
            "Inactive Members: \n",
            "\n",
            "\n",
            "Membership No  Date Joined  Active  \n",
            "    76030      2019-2-6     no    \n",
            "    58381      2018-7-3     no    \n",
            "    19656      2017-10-10   no    \n",
            "    29443      2020-12-6    no    \n",
            "    97390      2020-9-23    no    \n",
            "    28629      2016-6-10    no    \n",
            "    24402      2019-3-9     no    \n",
            "    42478      2015-11-12   no    \n",
            "    63396      2015-5-11    no    \n",
            "    79101      2020-3-10    no    \n",
            "    50682      2020-4-10    no    \n",
            "    83102      2017-2-16    no    \n",
            "    23870      2018-8-3     no    \n",
            "    14049      2017-4-17    no    \n",
            "    42478      2015-11-12   no    \n",
            "    63396      2015-5-11    no    \n",
            "    79101      2020-3-10    no    \n",
            "    50682      2020-4-10    no    \n",
            "    83102      2017-2-16    no    \n",
            "    23870      2018-8-3     no    \n",
            "    14049      2017-4-17    no    \n",
            "\n"
          ]
        }
      ]
    },
    {
      "cell_type": "code",
      "source": [
        "def testMsg(passed):\n",
        "    if passed:\n",
        "       return 'Test Passed'\n",
        "    else :\n",
        "       return 'Test Failed'\n",
        "\n",
        "testWrite = \"testWrite.txt\"\n",
        "testAppend = \"testAppend.txt\" \n",
        "passed = True\n",
        "\n",
        "genFiles(testWrite,testAppend)\n",
        "\n",
        "with open(testWrite,'r') as file:\n",
        "    ogWrite = file.readlines()\n",
        "\n",
        "with open(testAppend,'r') as file:\n",
        "    ogAppend = file.readlines()\n",
        "\n",
        "try:\n",
        "    cleanFiles(testWrite,testAppend)\n",
        "except:\n",
        "    print('Error')\n",
        "\n",
        "with open(testWrite,'r') as file:\n",
        "    clWrite = file.readlines()\n",
        "\n",
        "with open(testAppend,'r') as file:\n",
        "    clAppend = file.readlines()\n",
        "        \n",
        "# checking if total no of rows is same, including headers\n",
        "\n",
        "if (len(ogWrite) + len(ogAppend) != len(clWrite) + len(clAppend)):\n",
        "    print(\"The number of rows do not add up. Make sure your final files have the same header and format.\")\n",
        "    passed = False\n",
        "    \n",
        "for line in clWrite:\n",
        "    if  'no' in line:\n",
        "        passed = False\n",
        "        print(\"Inactive members in file\")\n",
        "        break\n",
        "    else:\n",
        "        if line not in ogWrite:\n",
        "            print(\"Data in file does not match original file\")\n",
        "            passed = False\n",
        "print (\"{}\".format(testMsg(passed)))\n",
        "    "
      ],
      "metadata": {
        "colab": {
          "base_uri": "https://localhost:8080/"
        },
        "id": "jrmWTc-8gTSH",
        "outputId": "78dd0613-4a97-4a78-da69-c7a7b624b76e"
      },
      "execution_count": 117,
      "outputs": [
        {
          "output_type": "stream",
          "name": "stdout",
          "text": [
            "Test Passed\n"
          ]
        }
      ]
    },
    {
      "cell_type": "markdown",
      "source": [
        "# Quizz Pandas"
      ],
      "metadata": {
        "id": "_wM_w7jTh3NU"
      }
    },
    {
      "cell_type": "markdown",
      "source": [
        "<h2>4.3</h2>"
      ],
      "metadata": {
        "id": "eZxCcj7nqRNt"
      }
    },
    {
      "cell_type": "code",
      "source": [
        "#Importing pandas\n",
        "import pandas as pd\n",
        "\n",
        "df=pd.DataFrame({'a':[11,21,31],'b':[21,22,23]})\n",
        "df"
      ],
      "metadata": {
        "colab": {
          "base_uri": "https://localhost:8080/",
          "height": 143
        },
        "id": "8lIybPKLh896",
        "outputId": "5c1604e8-b376-4e61-843e-781edd41b55f"
      },
      "execution_count": 119,
      "outputs": [
        {
          "output_type": "execute_result",
          "data": {
            "text/plain": [
              "    a   b\n",
              "0  11  21\n",
              "1  21  22\n",
              "2  31  23"
            ],
            "text/html": [
              "\n",
              "  <div id=\"df-aea5b73a-08bc-4862-aff1-cecb393585c4\">\n",
              "    <div class=\"colab-df-container\">\n",
              "      <div>\n",
              "<style scoped>\n",
              "    .dataframe tbody tr th:only-of-type {\n",
              "        vertical-align: middle;\n",
              "    }\n",
              "\n",
              "    .dataframe tbody tr th {\n",
              "        vertical-align: top;\n",
              "    }\n",
              "\n",
              "    .dataframe thead th {\n",
              "        text-align: right;\n",
              "    }\n",
              "</style>\n",
              "<table border=\"1\" class=\"dataframe\">\n",
              "  <thead>\n",
              "    <tr style=\"text-align: right;\">\n",
              "      <th></th>\n",
              "      <th>a</th>\n",
              "      <th>b</th>\n",
              "    </tr>\n",
              "  </thead>\n",
              "  <tbody>\n",
              "    <tr>\n",
              "      <th>0</th>\n",
              "      <td>11</td>\n",
              "      <td>21</td>\n",
              "    </tr>\n",
              "    <tr>\n",
              "      <th>1</th>\n",
              "      <td>21</td>\n",
              "      <td>22</td>\n",
              "    </tr>\n",
              "    <tr>\n",
              "      <th>2</th>\n",
              "      <td>31</td>\n",
              "      <td>23</td>\n",
              "    </tr>\n",
              "  </tbody>\n",
              "</table>\n",
              "</div>\n",
              "      <button class=\"colab-df-convert\" onclick=\"convertToInteractive('df-aea5b73a-08bc-4862-aff1-cecb393585c4')\"\n",
              "              title=\"Convert this dataframe to an interactive table.\"\n",
              "              style=\"display:none;\">\n",
              "        \n",
              "  <svg xmlns=\"http://www.w3.org/2000/svg\" height=\"24px\"viewBox=\"0 0 24 24\"\n",
              "       width=\"24px\">\n",
              "    <path d=\"M0 0h24v24H0V0z\" fill=\"none\"/>\n",
              "    <path d=\"M18.56 5.44l.94 2.06.94-2.06 2.06-.94-2.06-.94-.94-2.06-.94 2.06-2.06.94zm-11 1L8.5 8.5l.94-2.06 2.06-.94-2.06-.94L8.5 2.5l-.94 2.06-2.06.94zm10 10l.94 2.06.94-2.06 2.06-.94-2.06-.94-.94-2.06-.94 2.06-2.06.94z\"/><path d=\"M17.41 7.96l-1.37-1.37c-.4-.4-.92-.59-1.43-.59-.52 0-1.04.2-1.43.59L10.3 9.45l-7.72 7.72c-.78.78-.78 2.05 0 2.83L4 21.41c.39.39.9.59 1.41.59.51 0 1.02-.2 1.41-.59l7.78-7.78 2.81-2.81c.8-.78.8-2.07 0-2.86zM5.41 20L4 18.59l7.72-7.72 1.47 1.35L5.41 20z\"/>\n",
              "  </svg>\n",
              "      </button>\n",
              "      \n",
              "  <style>\n",
              "    .colab-df-container {\n",
              "      display:flex;\n",
              "      flex-wrap:wrap;\n",
              "      gap: 12px;\n",
              "    }\n",
              "\n",
              "    .colab-df-convert {\n",
              "      background-color: #E8F0FE;\n",
              "      border: none;\n",
              "      border-radius: 50%;\n",
              "      cursor: pointer;\n",
              "      display: none;\n",
              "      fill: #1967D2;\n",
              "      height: 32px;\n",
              "      padding: 0 0 0 0;\n",
              "      width: 32px;\n",
              "    }\n",
              "\n",
              "    .colab-df-convert:hover {\n",
              "      background-color: #E2EBFA;\n",
              "      box-shadow: 0px 1px 2px rgba(60, 64, 67, 0.3), 0px 1px 3px 1px rgba(60, 64, 67, 0.15);\n",
              "      fill: #174EA6;\n",
              "    }\n",
              "\n",
              "    [theme=dark] .colab-df-convert {\n",
              "      background-color: #3B4455;\n",
              "      fill: #D2E3FC;\n",
              "    }\n",
              "\n",
              "    [theme=dark] .colab-df-convert:hover {\n",
              "      background-color: #434B5C;\n",
              "      box-shadow: 0px 1px 3px 1px rgba(0, 0, 0, 0.15);\n",
              "      filter: drop-shadow(0px 1px 2px rgba(0, 0, 0, 0.3));\n",
              "      fill: #FFFFFF;\n",
              "    }\n",
              "  </style>\n",
              "\n",
              "      <script>\n",
              "        const buttonEl =\n",
              "          document.querySelector('#df-aea5b73a-08bc-4862-aff1-cecb393585c4 button.colab-df-convert');\n",
              "        buttonEl.style.display =\n",
              "          google.colab.kernel.accessAllowed ? 'block' : 'none';\n",
              "\n",
              "        async function convertToInteractive(key) {\n",
              "          const element = document.querySelector('#df-aea5b73a-08bc-4862-aff1-cecb393585c4');\n",
              "          const dataTable =\n",
              "            await google.colab.kernel.invokeFunction('convertToInteractive',\n",
              "                                                     [key], {});\n",
              "          if (!dataTable) return;\n",
              "\n",
              "          const docLinkHtml = 'Like what you see? Visit the ' +\n",
              "            '<a target=\"_blank\" href=https://colab.research.google.com/notebooks/data_table.ipynb>data table notebook</a>'\n",
              "            + ' to learn more about interactive tables.';\n",
              "          element.innerHTML = '';\n",
              "          dataTable['output_type'] = 'display_data';\n",
              "          await google.colab.output.renderOutput(dataTable, element);\n",
              "          const docLink = document.createElement('div');\n",
              "          docLink.innerHTML = docLinkHtml;\n",
              "          element.appendChild(docLink);\n",
              "        }\n",
              "      </script>\n",
              "    </div>\n",
              "  </div>\n",
              "  "
            ]
          },
          "metadata": {},
          "execution_count": 119
        }
      ]
    },
    {
      "cell_type": "code",
      "source": [
        "#Display the first three rows:\n",
        "df.head(3)"
      ],
      "metadata": {
        "colab": {
          "base_uri": "https://localhost:8080/",
          "height": 143
        },
        "id": "NuEGlPfQkYd9",
        "outputId": "cd5dfb1d-91d4-47ff-8426-fcafae6540b9"
      },
      "execution_count": 120,
      "outputs": [
        {
          "output_type": "execute_result",
          "data": {
            "text/plain": [
              "    a   b\n",
              "0  11  21\n",
              "1  21  22\n",
              "2  31  23"
            ],
            "text/html": [
              "\n",
              "  <div id=\"df-a50ce616-cef9-43a8-bce3-e1f73267c08a\">\n",
              "    <div class=\"colab-df-container\">\n",
              "      <div>\n",
              "<style scoped>\n",
              "    .dataframe tbody tr th:only-of-type {\n",
              "        vertical-align: middle;\n",
              "    }\n",
              "\n",
              "    .dataframe tbody tr th {\n",
              "        vertical-align: top;\n",
              "    }\n",
              "\n",
              "    .dataframe thead th {\n",
              "        text-align: right;\n",
              "    }\n",
              "</style>\n",
              "<table border=\"1\" class=\"dataframe\">\n",
              "  <thead>\n",
              "    <tr style=\"text-align: right;\">\n",
              "      <th></th>\n",
              "      <th>a</th>\n",
              "      <th>b</th>\n",
              "    </tr>\n",
              "  </thead>\n",
              "  <tbody>\n",
              "    <tr>\n",
              "      <th>0</th>\n",
              "      <td>11</td>\n",
              "      <td>21</td>\n",
              "    </tr>\n",
              "    <tr>\n",
              "      <th>1</th>\n",
              "      <td>21</td>\n",
              "      <td>22</td>\n",
              "    </tr>\n",
              "    <tr>\n",
              "      <th>2</th>\n",
              "      <td>31</td>\n",
              "      <td>23</td>\n",
              "    </tr>\n",
              "  </tbody>\n",
              "</table>\n",
              "</div>\n",
              "      <button class=\"colab-df-convert\" onclick=\"convertToInteractive('df-a50ce616-cef9-43a8-bce3-e1f73267c08a')\"\n",
              "              title=\"Convert this dataframe to an interactive table.\"\n",
              "              style=\"display:none;\">\n",
              "        \n",
              "  <svg xmlns=\"http://www.w3.org/2000/svg\" height=\"24px\"viewBox=\"0 0 24 24\"\n",
              "       width=\"24px\">\n",
              "    <path d=\"M0 0h24v24H0V0z\" fill=\"none\"/>\n",
              "    <path d=\"M18.56 5.44l.94 2.06.94-2.06 2.06-.94-2.06-.94-.94-2.06-.94 2.06-2.06.94zm-11 1L8.5 8.5l.94-2.06 2.06-.94-2.06-.94L8.5 2.5l-.94 2.06-2.06.94zm10 10l.94 2.06.94-2.06 2.06-.94-2.06-.94-.94-2.06-.94 2.06-2.06.94z\"/><path d=\"M17.41 7.96l-1.37-1.37c-.4-.4-.92-.59-1.43-.59-.52 0-1.04.2-1.43.59L10.3 9.45l-7.72 7.72c-.78.78-.78 2.05 0 2.83L4 21.41c.39.39.9.59 1.41.59.51 0 1.02-.2 1.41-.59l7.78-7.78 2.81-2.81c.8-.78.8-2.07 0-2.86zM5.41 20L4 18.59l7.72-7.72 1.47 1.35L5.41 20z\"/>\n",
              "  </svg>\n",
              "      </button>\n",
              "      \n",
              "  <style>\n",
              "    .colab-df-container {\n",
              "      display:flex;\n",
              "      flex-wrap:wrap;\n",
              "      gap: 12px;\n",
              "    }\n",
              "\n",
              "    .colab-df-convert {\n",
              "      background-color: #E8F0FE;\n",
              "      border: none;\n",
              "      border-radius: 50%;\n",
              "      cursor: pointer;\n",
              "      display: none;\n",
              "      fill: #1967D2;\n",
              "      height: 32px;\n",
              "      padding: 0 0 0 0;\n",
              "      width: 32px;\n",
              "    }\n",
              "\n",
              "    .colab-df-convert:hover {\n",
              "      background-color: #E2EBFA;\n",
              "      box-shadow: 0px 1px 2px rgba(60, 64, 67, 0.3), 0px 1px 3px 1px rgba(60, 64, 67, 0.15);\n",
              "      fill: #174EA6;\n",
              "    }\n",
              "\n",
              "    [theme=dark] .colab-df-convert {\n",
              "      background-color: #3B4455;\n",
              "      fill: #D2E3FC;\n",
              "    }\n",
              "\n",
              "    [theme=dark] .colab-df-convert:hover {\n",
              "      background-color: #434B5C;\n",
              "      box-shadow: 0px 1px 3px 1px rgba(0, 0, 0, 0.15);\n",
              "      filter: drop-shadow(0px 1px 2px rgba(0, 0, 0, 0.3));\n",
              "      fill: #FFFFFF;\n",
              "    }\n",
              "  </style>\n",
              "\n",
              "      <script>\n",
              "        const buttonEl =\n",
              "          document.querySelector('#df-a50ce616-cef9-43a8-bce3-e1f73267c08a button.colab-df-convert');\n",
              "        buttonEl.style.display =\n",
              "          google.colab.kernel.accessAllowed ? 'block' : 'none';\n",
              "\n",
              "        async function convertToInteractive(key) {\n",
              "          const element = document.querySelector('#df-a50ce616-cef9-43a8-bce3-e1f73267c08a');\n",
              "          const dataTable =\n",
              "            await google.colab.kernel.invokeFunction('convertToInteractive',\n",
              "                                                     [key], {});\n",
              "          if (!dataTable) return;\n",
              "\n",
              "          const docLinkHtml = 'Like what you see? Visit the ' +\n",
              "            '<a target=\"_blank\" href=https://colab.research.google.com/notebooks/data_table.ipynb>data table notebook</a>'\n",
              "            + ' to learn more about interactive tables.';\n",
              "          element.innerHTML = '';\n",
              "          dataTable['output_type'] = 'display_data';\n",
              "          await google.colab.output.renderOutput(dataTable, element);\n",
              "          const docLink = document.createElement('div');\n",
              "          docLink.innerHTML = docLinkHtml;\n",
              "          element.appendChild(docLink);\n",
              "        }\n",
              "      </script>\n",
              "    </div>\n",
              "  </div>\n",
              "  "
            ]
          },
          "metadata": {},
          "execution_count": 120
        }
      ]
    },
    {
      "cell_type": "code",
      "source": [
        "#Obtain column  'a' :\n",
        "colA = df['a']\n",
        "colA"
      ],
      "metadata": {
        "colab": {
          "base_uri": "https://localhost:8080/"
        },
        "id": "IcwNq14tlbPZ",
        "outputId": "0db190aa-bb76-44b9-f6c5-15c2f012657f"
      },
      "execution_count": 123,
      "outputs": [
        {
          "output_type": "execute_result",
          "data": {
            "text/plain": [
              "0    11\n",
              "1    21\n",
              "2    31\n",
              "Name: a, dtype: int64"
            ]
          },
          "metadata": {},
          "execution_count": 123
        }
      ]
    },
    {
      "cell_type": "code",
      "source": [
        "#TO access a given element, we can use the method ix\n",
        "import pandas as banana\n",
        "\n",
        "df=banana.DataFrame({'a':[11,21,31],'b':[21,22,23]})\n",
        "\n",
        "df.head()"
      ],
      "metadata": {
        "colab": {
          "base_uri": "https://localhost:8080/",
          "height": 143
        },
        "id": "u29qUk0AmoN2",
        "outputId": "312ff235-26f7-48ac-afbe-1270486fa6fa"
      },
      "execution_count": 131,
      "outputs": [
        {
          "output_type": "execute_result",
          "data": {
            "text/plain": [
              "    a   b\n",
              "0  11  21\n",
              "1  21  22\n",
              "2  31  23"
            ],
            "text/html": [
              "\n",
              "  <div id=\"df-5171f25c-b73a-4cad-85a5-483583f3b898\">\n",
              "    <div class=\"colab-df-container\">\n",
              "      <div>\n",
              "<style scoped>\n",
              "    .dataframe tbody tr th:only-of-type {\n",
              "        vertical-align: middle;\n",
              "    }\n",
              "\n",
              "    .dataframe tbody tr th {\n",
              "        vertical-align: top;\n",
              "    }\n",
              "\n",
              "    .dataframe thead th {\n",
              "        text-align: right;\n",
              "    }\n",
              "</style>\n",
              "<table border=\"1\" class=\"dataframe\">\n",
              "  <thead>\n",
              "    <tr style=\"text-align: right;\">\n",
              "      <th></th>\n",
              "      <th>a</th>\n",
              "      <th>b</th>\n",
              "    </tr>\n",
              "  </thead>\n",
              "  <tbody>\n",
              "    <tr>\n",
              "      <th>0</th>\n",
              "      <td>11</td>\n",
              "      <td>21</td>\n",
              "    </tr>\n",
              "    <tr>\n",
              "      <th>1</th>\n",
              "      <td>21</td>\n",
              "      <td>22</td>\n",
              "    </tr>\n",
              "    <tr>\n",
              "      <th>2</th>\n",
              "      <td>31</td>\n",
              "      <td>23</td>\n",
              "    </tr>\n",
              "  </tbody>\n",
              "</table>\n",
              "</div>\n",
              "      <button class=\"colab-df-convert\" onclick=\"convertToInteractive('df-5171f25c-b73a-4cad-85a5-483583f3b898')\"\n",
              "              title=\"Convert this dataframe to an interactive table.\"\n",
              "              style=\"display:none;\">\n",
              "        \n",
              "  <svg xmlns=\"http://www.w3.org/2000/svg\" height=\"24px\"viewBox=\"0 0 24 24\"\n",
              "       width=\"24px\">\n",
              "    <path d=\"M0 0h24v24H0V0z\" fill=\"none\"/>\n",
              "    <path d=\"M18.56 5.44l.94 2.06.94-2.06 2.06-.94-2.06-.94-.94-2.06-.94 2.06-2.06.94zm-11 1L8.5 8.5l.94-2.06 2.06-.94-2.06-.94L8.5 2.5l-.94 2.06-2.06.94zm10 10l.94 2.06.94-2.06 2.06-.94-2.06-.94-.94-2.06-.94 2.06-2.06.94z\"/><path d=\"M17.41 7.96l-1.37-1.37c-.4-.4-.92-.59-1.43-.59-.52 0-1.04.2-1.43.59L10.3 9.45l-7.72 7.72c-.78.78-.78 2.05 0 2.83L4 21.41c.39.39.9.59 1.41.59.51 0 1.02-.2 1.41-.59l7.78-7.78 2.81-2.81c.8-.78.8-2.07 0-2.86zM5.41 20L4 18.59l7.72-7.72 1.47 1.35L5.41 20z\"/>\n",
              "  </svg>\n",
              "      </button>\n",
              "      \n",
              "  <style>\n",
              "    .colab-df-container {\n",
              "      display:flex;\n",
              "      flex-wrap:wrap;\n",
              "      gap: 12px;\n",
              "    }\n",
              "\n",
              "    .colab-df-convert {\n",
              "      background-color: #E8F0FE;\n",
              "      border: none;\n",
              "      border-radius: 50%;\n",
              "      cursor: pointer;\n",
              "      display: none;\n",
              "      fill: #1967D2;\n",
              "      height: 32px;\n",
              "      padding: 0 0 0 0;\n",
              "      width: 32px;\n",
              "    }\n",
              "\n",
              "    .colab-df-convert:hover {\n",
              "      background-color: #E2EBFA;\n",
              "      box-shadow: 0px 1px 2px rgba(60, 64, 67, 0.3), 0px 1px 3px 1px rgba(60, 64, 67, 0.15);\n",
              "      fill: #174EA6;\n",
              "    }\n",
              "\n",
              "    [theme=dark] .colab-df-convert {\n",
              "      background-color: #3B4455;\n",
              "      fill: #D2E3FC;\n",
              "    }\n",
              "\n",
              "    [theme=dark] .colab-df-convert:hover {\n",
              "      background-color: #434B5C;\n",
              "      box-shadow: 0px 1px 3px 1px rgba(0, 0, 0, 0.15);\n",
              "      filter: drop-shadow(0px 1px 2px rgba(0, 0, 0, 0.3));\n",
              "      fill: #FFFFFF;\n",
              "    }\n",
              "  </style>\n",
              "\n",
              "      <script>\n",
              "        const buttonEl =\n",
              "          document.querySelector('#df-5171f25c-b73a-4cad-85a5-483583f3b898 button.colab-df-convert');\n",
              "        buttonEl.style.display =\n",
              "          google.colab.kernel.accessAllowed ? 'block' : 'none';\n",
              "\n",
              "        async function convertToInteractive(key) {\n",
              "          const element = document.querySelector('#df-5171f25c-b73a-4cad-85a5-483583f3b898');\n",
              "          const dataTable =\n",
              "            await google.colab.kernel.invokeFunction('convertToInteractive',\n",
              "                                                     [key], {});\n",
              "          if (!dataTable) return;\n",
              "\n",
              "          const docLinkHtml = 'Like what you see? Visit the ' +\n",
              "            '<a target=\"_blank\" href=https://colab.research.google.com/notebooks/data_table.ipynb>data table notebook</a>'\n",
              "            + ' to learn more about interactive tables.';\n",
              "          element.innerHTML = '';\n",
              "          dataTable['output_type'] = 'display_data';\n",
              "          await google.colab.output.renderOutput(dataTable, element);\n",
              "          const docLink = document.createElement('div');\n",
              "          docLink.innerHTML = docLinkHtml;\n",
              "          element.appendChild(docLink);\n",
              "        }\n",
              "      </script>\n",
              "    </div>\n",
              "  </div>\n",
              "  "
            ]
          },
          "metadata": {},
          "execution_count": 131
        }
      ]
    },
    {
      "cell_type": "markdown",
      "source": [
        "<h2>4.4</h2>"
      ],
      "metadata": {
        "id": "3G_VtsS2qWl-"
      }
    },
    {
      "cell_type": "code",
      "source": [
        "#You will use the dataframe df for the following:\n",
        "import pandas as pd\n",
        "\n",
        "df=pd.DataFrame({'a':[1,2,1],'b':[1,1,1]})"
      ],
      "metadata": {
        "id": "2f5OAc1xqXki"
      },
      "execution_count": 134,
      "outputs": []
    },
    {
      "cell_type": "code",
      "source": [
        "#Find the unique values in column  'a' :\n",
        "df['a'].unique()"
      ],
      "metadata": {
        "colab": {
          "base_uri": "https://localhost:8080/"
        },
        "id": "vPSySAvWqk9i",
        "outputId": "268b118d-a28c-4efc-dc29-365c8a37ae3a"
      },
      "execution_count": 136,
      "outputs": [
        {
          "output_type": "execute_result",
          "data": {
            "text/plain": [
              "array([1, 2])"
            ]
          },
          "metadata": {},
          "execution_count": 136
        }
      ]
    },
    {
      "cell_type": "code",
      "source": [
        "#Return a dataframe with only the rows where column  a  is less than two:\n",
        "df1 = df[df['a'] < 2]\n",
        "df1"
      ],
      "metadata": {
        "colab": {
          "base_uri": "https://localhost:8080/",
          "height": 112
        },
        "id": "SzgzjwiNq1fP",
        "outputId": "5d07ca80-04cd-473e-dc1d-96e79c005b37"
      },
      "execution_count": 137,
      "outputs": [
        {
          "output_type": "execute_result",
          "data": {
            "text/plain": [
              "   a  b\n",
              "0  1  1\n",
              "2  1  1"
            ],
            "text/html": [
              "\n",
              "  <div id=\"df-a0397f43-0dfd-4c0a-9ada-98c60559f7c1\">\n",
              "    <div class=\"colab-df-container\">\n",
              "      <div>\n",
              "<style scoped>\n",
              "    .dataframe tbody tr th:only-of-type {\n",
              "        vertical-align: middle;\n",
              "    }\n",
              "\n",
              "    .dataframe tbody tr th {\n",
              "        vertical-align: top;\n",
              "    }\n",
              "\n",
              "    .dataframe thead th {\n",
              "        text-align: right;\n",
              "    }\n",
              "</style>\n",
              "<table border=\"1\" class=\"dataframe\">\n",
              "  <thead>\n",
              "    <tr style=\"text-align: right;\">\n",
              "      <th></th>\n",
              "      <th>a</th>\n",
              "      <th>b</th>\n",
              "    </tr>\n",
              "  </thead>\n",
              "  <tbody>\n",
              "    <tr>\n",
              "      <th>0</th>\n",
              "      <td>1</td>\n",
              "      <td>1</td>\n",
              "    </tr>\n",
              "    <tr>\n",
              "      <th>2</th>\n",
              "      <td>1</td>\n",
              "      <td>1</td>\n",
              "    </tr>\n",
              "  </tbody>\n",
              "</table>\n",
              "</div>\n",
              "      <button class=\"colab-df-convert\" onclick=\"convertToInteractive('df-a0397f43-0dfd-4c0a-9ada-98c60559f7c1')\"\n",
              "              title=\"Convert this dataframe to an interactive table.\"\n",
              "              style=\"display:none;\">\n",
              "        \n",
              "  <svg xmlns=\"http://www.w3.org/2000/svg\" height=\"24px\"viewBox=\"0 0 24 24\"\n",
              "       width=\"24px\">\n",
              "    <path d=\"M0 0h24v24H0V0z\" fill=\"none\"/>\n",
              "    <path d=\"M18.56 5.44l.94 2.06.94-2.06 2.06-.94-2.06-.94-.94-2.06-.94 2.06-2.06.94zm-11 1L8.5 8.5l.94-2.06 2.06-.94-2.06-.94L8.5 2.5l-.94 2.06-2.06.94zm10 10l.94 2.06.94-2.06 2.06-.94-2.06-.94-.94-2.06-.94 2.06-2.06.94z\"/><path d=\"M17.41 7.96l-1.37-1.37c-.4-.4-.92-.59-1.43-.59-.52 0-1.04.2-1.43.59L10.3 9.45l-7.72 7.72c-.78.78-.78 2.05 0 2.83L4 21.41c.39.39.9.59 1.41.59.51 0 1.02-.2 1.41-.59l7.78-7.78 2.81-2.81c.8-.78.8-2.07 0-2.86zM5.41 20L4 18.59l7.72-7.72 1.47 1.35L5.41 20z\"/>\n",
              "  </svg>\n",
              "      </button>\n",
              "      \n",
              "  <style>\n",
              "    .colab-df-container {\n",
              "      display:flex;\n",
              "      flex-wrap:wrap;\n",
              "      gap: 12px;\n",
              "    }\n",
              "\n",
              "    .colab-df-convert {\n",
              "      background-color: #E8F0FE;\n",
              "      border: none;\n",
              "      border-radius: 50%;\n",
              "      cursor: pointer;\n",
              "      display: none;\n",
              "      fill: #1967D2;\n",
              "      height: 32px;\n",
              "      padding: 0 0 0 0;\n",
              "      width: 32px;\n",
              "    }\n",
              "\n",
              "    .colab-df-convert:hover {\n",
              "      background-color: #E2EBFA;\n",
              "      box-shadow: 0px 1px 2px rgba(60, 64, 67, 0.3), 0px 1px 3px 1px rgba(60, 64, 67, 0.15);\n",
              "      fill: #174EA6;\n",
              "    }\n",
              "\n",
              "    [theme=dark] .colab-df-convert {\n",
              "      background-color: #3B4455;\n",
              "      fill: #D2E3FC;\n",
              "    }\n",
              "\n",
              "    [theme=dark] .colab-df-convert:hover {\n",
              "      background-color: #434B5C;\n",
              "      box-shadow: 0px 1px 3px 1px rgba(0, 0, 0, 0.15);\n",
              "      filter: drop-shadow(0px 1px 2px rgba(0, 0, 0, 0.3));\n",
              "      fill: #FFFFFF;\n",
              "    }\n",
              "  </style>\n",
              "\n",
              "      <script>\n",
              "        const buttonEl =\n",
              "          document.querySelector('#df-a0397f43-0dfd-4c0a-9ada-98c60559f7c1 button.colab-df-convert');\n",
              "        buttonEl.style.display =\n",
              "          google.colab.kernel.accessAllowed ? 'block' : 'none';\n",
              "\n",
              "        async function convertToInteractive(key) {\n",
              "          const element = document.querySelector('#df-a0397f43-0dfd-4c0a-9ada-98c60559f7c1');\n",
              "          const dataTable =\n",
              "            await google.colab.kernel.invokeFunction('convertToInteractive',\n",
              "                                                     [key], {});\n",
              "          if (!dataTable) return;\n",
              "\n",
              "          const docLinkHtml = 'Like what you see? Visit the ' +\n",
              "            '<a target=\"_blank\" href=https://colab.research.google.com/notebooks/data_table.ipynb>data table notebook</a>'\n",
              "            + ' to learn more about interactive tables.';\n",
              "          element.innerHTML = '';\n",
              "          dataTable['output_type'] = 'display_data';\n",
              "          await google.colab.output.renderOutput(dataTable, element);\n",
              "          const docLink = document.createElement('div');\n",
              "          docLink.innerHTML = docLinkHtml;\n",
              "          element.appendChild(docLink);\n",
              "        }\n",
              "      </script>\n",
              "    </div>\n",
              "  </div>\n",
              "  "
            ]
          },
          "metadata": {},
          "execution_count": 137
        }
      ]
    },
    {
      "cell_type": "code",
      "source": [
        "df['a']==1 "
      ],
      "metadata": {
        "colab": {
          "base_uri": "https://localhost:8080/"
        },
        "id": "HDC-OjaQrCjj",
        "outputId": "5adea018-a428-4ac2-ed9f-b55f737258b1"
      },
      "execution_count": 138,
      "outputs": [
        {
          "output_type": "execute_result",
          "data": {
            "text/plain": [
              "0     True\n",
              "1    False\n",
              "2     True\n",
              "Name: a, dtype: bool"
            ]
          },
          "metadata": {},
          "execution_count": 138
        }
      ]
    },
    {
      "cell_type": "markdown",
      "source": [
        "# Lab Loading Data and Viewing Data"
      ],
      "metadata": {
        "id": "gIRAO4bXrr5F"
      }
    },
    {
      "cell_type": "code",
      "source": [
        "# Dependency needed to install file \n",
        "\n",
        "# No pude instalar esta libreria, debe ser tema de compatibilidad con google colab. Se hicieron los ejercicios en el sistema de IBM"
      ],
      "metadata": {
        "id": "NPiCVPKOrxqf"
      },
      "execution_count": 144,
      "outputs": []
    },
    {
      "cell_type": "markdown",
      "source": [
        "![image.png](data:image/png;base64,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)"
      ],
      "metadata": {
        "id": "g3F6tRjYu1qj"
      }
    },
    {
      "cell_type": "markdown",
      "source": [],
      "metadata": {
        "id": "-dlwJoQvu7LZ"
      }
    }
  ]
}
