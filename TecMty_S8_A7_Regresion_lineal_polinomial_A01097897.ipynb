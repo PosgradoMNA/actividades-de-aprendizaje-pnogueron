{
  "nbformat": 4,
  "nbformat_minor": 0,
  "metadata": {
    "kernelspec": {
      "display_name": "Python 3",
      "language": "python",
      "name": "python3"
    },
    "language_info": {
      "codemirror_mode": {
        "name": "ipython",
        "version": 3
      },
      "file_extension": ".py",
      "mimetype": "text/x-python",
      "name": "python",
      "nbconvert_exporter": "python",
      "pygments_lexer": "ipython3",
      "version": "3.7.7"
    },
    "colab": {
      "provenance": [],
      "collapsed_sections": [
        "TIFwAtW1pc6h"
      ],
      "include_colab_link": true
    },
    "accelerator": "GPU"
  },
  "cells": [
    {
      "cell_type": "markdown",
      "metadata": {
        "id": "view-in-github",
        "colab_type": "text"
      },
      "source": [
        "<a href=\"https://colab.research.google.com/github/PosgradoMNA/actividades-de-aprendizaje-pnogueron/blob/main/TecMty_S8_A7_Regresion_lineal_polinomial_A01097897.ipynb\" target=\"_parent\"><img src=\"https://colab.research.google.com/assets/colab-badge.svg\" alt=\"Open In Colab\"/></a>"
      ]
    },
    {
      "cell_type": "markdown",
      "metadata": {
        "id": "WUO-kdryVQwK"
      },
      "source": [
        "# Linear Models\n"
      ]
    },
    {
      "cell_type": "markdown",
      "metadata": {
        "id": "u3ytB4LpVQwM"
      },
      "source": [
        "- In supervised learning, the training data fed to the algorithm includes the desired solutions, called labels. \n",
        "- In **regression**, the labels are continuous quantities.\n",
        "- Linear models predict by computing a weighted sum of input features plus a bias term."
      ]
    },
    {
      "cell_type": "code",
      "metadata": {
        "id": "HMp_I4Y6VQwN"
      },
      "source": [
        "import numpy as np\n",
        "%matplotlib inline\n",
        "import matplotlib\n",
        "import matplotlib.pyplot as plt\n",
        "import pandas as pd\n",
        "import seaborn as sns\n",
        "from sklearn.model_selection import train_test_split\n",
        "from sklearn.linear_model import LinearRegression, Ridge, Lasso\n",
        "from sklearn import metrics\n",
        "from sklearn.metrics import r2_score\n",
        "# to make this notebook's output stable across runs\n",
        "np.random.seed(42)"
      ],
      "execution_count": 219,
      "outputs": []
    },
    {
      "cell_type": "markdown",
      "metadata": {
        "id": "szpzFXgiVQwN"
      },
      "source": [
        "## Simple Linear Regression\n",
        "\n",
        "Simple linear regression equation:\n",
        "\n",
        "$y = ax + b$\n",
        "<br>\n",
        "$a$: slope\n",
        "<br>\n",
        "$b$: intercept\n",
        "\n",
        "Generate linear-looking data with the equation:\n",
        "\n",
        "$y = 3X + 4 + noise$"
      ]
    },
    {
      "cell_type": "code",
      "metadata": {
        "colab": {
          "base_uri": "https://localhost:8080/"
        },
        "id": "mitJFYeiMQqD",
        "outputId": "531378a8-8c83-4702-d850-4ed120cd437d"
      },
      "source": [
        "np.random.rand(100, 1)"
      ],
      "execution_count": 220,
      "outputs": [
        {
          "output_type": "execute_result",
          "data": {
            "text/plain": [
              "array([[0.37454012],\n",
              "       [0.95071431],\n",
              "       [0.73199394],\n",
              "       [0.59865848],\n",
              "       [0.15601864],\n",
              "       [0.15599452],\n",
              "       [0.05808361],\n",
              "       [0.86617615],\n",
              "       [0.60111501],\n",
              "       [0.70807258],\n",
              "       [0.02058449],\n",
              "       [0.96990985],\n",
              "       [0.83244264],\n",
              "       [0.21233911],\n",
              "       [0.18182497],\n",
              "       [0.18340451],\n",
              "       [0.30424224],\n",
              "       [0.52475643],\n",
              "       [0.43194502],\n",
              "       [0.29122914],\n",
              "       [0.61185289],\n",
              "       [0.13949386],\n",
              "       [0.29214465],\n",
              "       [0.36636184],\n",
              "       [0.45606998],\n",
              "       [0.78517596],\n",
              "       [0.19967378],\n",
              "       [0.51423444],\n",
              "       [0.59241457],\n",
              "       [0.04645041],\n",
              "       [0.60754485],\n",
              "       [0.17052412],\n",
              "       [0.06505159],\n",
              "       [0.94888554],\n",
              "       [0.96563203],\n",
              "       [0.80839735],\n",
              "       [0.30461377],\n",
              "       [0.09767211],\n",
              "       [0.68423303],\n",
              "       [0.44015249],\n",
              "       [0.12203823],\n",
              "       [0.49517691],\n",
              "       [0.03438852],\n",
              "       [0.9093204 ],\n",
              "       [0.25877998],\n",
              "       [0.66252228],\n",
              "       [0.31171108],\n",
              "       [0.52006802],\n",
              "       [0.54671028],\n",
              "       [0.18485446],\n",
              "       [0.96958463],\n",
              "       [0.77513282],\n",
              "       [0.93949894],\n",
              "       [0.89482735],\n",
              "       [0.59789998],\n",
              "       [0.92187424],\n",
              "       [0.0884925 ],\n",
              "       [0.19598286],\n",
              "       [0.04522729],\n",
              "       [0.32533033],\n",
              "       [0.38867729],\n",
              "       [0.27134903],\n",
              "       [0.82873751],\n",
              "       [0.35675333],\n",
              "       [0.28093451],\n",
              "       [0.54269608],\n",
              "       [0.14092422],\n",
              "       [0.80219698],\n",
              "       [0.07455064],\n",
              "       [0.98688694],\n",
              "       [0.77224477],\n",
              "       [0.19871568],\n",
              "       [0.00552212],\n",
              "       [0.81546143],\n",
              "       [0.70685734],\n",
              "       [0.72900717],\n",
              "       [0.77127035],\n",
              "       [0.07404465],\n",
              "       [0.35846573],\n",
              "       [0.11586906],\n",
              "       [0.86310343],\n",
              "       [0.62329813],\n",
              "       [0.33089802],\n",
              "       [0.06355835],\n",
              "       [0.31098232],\n",
              "       [0.32518332],\n",
              "       [0.72960618],\n",
              "       [0.63755747],\n",
              "       [0.88721274],\n",
              "       [0.47221493],\n",
              "       [0.11959425],\n",
              "       [0.71324479],\n",
              "       [0.76078505],\n",
              "       [0.5612772 ],\n",
              "       [0.77096718],\n",
              "       [0.4937956 ],\n",
              "       [0.52273283],\n",
              "       [0.42754102],\n",
              "       [0.02541913],\n",
              "       [0.10789143]])"
            ]
          },
          "metadata": {},
          "execution_count": 220
        }
      ]
    },
    {
      "cell_type": "code",
      "metadata": {
        "colab": {
          "base_uri": "https://localhost:8080/",
          "height": 268
        },
        "id": "QyubE1VEVQwN",
        "outputId": "f37208f6-627f-4b54-f310-583b2bd70124"
      },
      "source": [
        "X = 2 * np.random.rand(100, 1)\n",
        "y = 4 + 3 * X + np.random.randn(100, 1)\n",
        "plt.scatter(X, y);"
      ],
      "execution_count": 221,
      "outputs": [
        {
          "output_type": "display_data",
          "data": {
            "text/plain": [
              "<Figure size 432x288 with 1 Axes>"
            ],
            "image/png": "[encoded data removed]"
          },
          "metadata": {
            "needs_background": "light"
          }
        }
      ]
    },
    {
      "cell_type": "code",
      "source": [
        "import pandas as pd\n",
        "pd.DataFrame(y)"
      ],
      "metadata": {
        "colab": {
          "base_uri": "https://localhost:8080/",
          "height": 423
        },
        "id": "M5kaENJ4bZY5",
        "outputId": "29432bbb-8351-4a48-ce6d-2c8dfb73e2ab"
      },
      "execution_count": 222,
      "outputs": [
        {
          "output_type": "execute_result",
          "data": {
            "text/plain": [
              "            0\n",
              "0    3.508550\n",
              "1    8.050716\n",
              "2    6.179208\n",
              "3    6.337073\n",
              "4   11.311173\n",
              "..        ...\n",
              "95   5.441928\n",
              "96  10.121188\n",
              "97   9.787643\n",
              "98   8.061635\n",
              "99   9.597115\n",
              "\n",
              "[100 rows x 1 columns]"
            ],
            "text/html": [
              "\n",
              "  <div id=\"df-080e8a47-d3c2-47a3-b98c-2f39606e2411\">\n",
              "    <div class=\"colab-df-container\">\n",
              "      <div>\n",
              "<style scoped>\n",
              "    .dataframe tbody tr th:only-of-type {\n",
              "        vertical-align: middle;\n",
              "    }\n",
              "\n",
              "    .dataframe tbody tr th {\n",
              "        vertical-align: top;\n",
              "    }\n",
              "\n",
              "    .dataframe thead th {\n",
              "        text-align: right;\n",
              "    }\n",
              "</style>\n",
              "<table border=\"1\" class=\"dataframe\">\n",
              "  <thead>\n",
              "    <tr style=\"text-align: right;\">\n",
              "      <th></th>\n",
              "      <th>0</th>\n",
              "    </tr>\n",
              "  </thead>\n",
              "  <tbody>\n",
              "    <tr>\n",
              "      <th>0</th>\n",
              "      <td>3.508550</td>\n",
              "    </tr>\n",
              "    <tr>\n",
              "      <th>1</th>\n",
              "      <td>8.050716</td>\n",
              "    </tr>\n",
              "    <tr>\n",
              "      <th>2</th>\n",
              "      <td>6.179208</td>\n",
              "    </tr>\n",
              "    <tr>\n",
              "      <th>3</th>\n",
              "      <td>6.337073</td>\n",
              "    </tr>\n",
              "    <tr>\n",
              "      <th>4</th>\n",
              "      <td>11.311173</td>\n",
              "    </tr>\n",
              "    <tr>\n",
              "      <th>...</th>\n",
              "      <td>...</td>\n",
              "    </tr>\n",
              "    <tr>\n",
              "      <th>95</th>\n",
              "      <td>5.441928</td>\n",
              "    </tr>\n",
              "    <tr>\n",
              "      <th>96</th>\n",
              "      <td>10.121188</td>\n",
              "    </tr>\n",
              "    <tr>\n",
              "      <th>97</th>\n",
              "      <td>9.787643</td>\n",
              "    </tr>\n",
              "    <tr>\n",
              "      <th>98</th>\n",
              "      <td>8.061635</td>\n",
              "    </tr>\n",
              "    <tr>\n",
              "      <th>99</th>\n",
              "      <td>9.597115</td>\n",
              "    </tr>\n",
              "  </tbody>\n",
              "</table>\n",
              "<p>100 rows × 1 columns</p>\n",
              "</div>\n",
              "      <button class=\"colab-df-convert\" onclick=\"convertToInteractive('df-080e8a47-d3c2-47a3-b98c-2f39606e2411')\"\n",
              "              title=\"Convert this dataframe to an interactive table.\"\n",
              "              style=\"display:none;\">\n",
              "        \n",
              "  <svg xmlns=\"http://www.w3.org/2000/svg\" height=\"24px\"viewBox=\"0 0 24 24\"\n",
              "       width=\"24px\">\n",
              "    <path d=\"M0 0h24v24H0V0z\" fill=\"none\"/>\n",
              "    <path d=\"M18.56 5.44l.94 2.06.94-2.06 2.06-.94-2.06-.94-.94-2.06-.94 2.06-2.06.94zm-11 1L8.5 8.5l.94-2.06 2.06-.94-2.06-.94L8.5 2.5l-.94 2.06-2.06.94zm10 10l.94 2.06.94-2.06 2.06-.94-2.06-.94-.94-2.06-.94 2.06-2.06.94z\"/><path d=\"M17.41 7.96l-1.37-1.37c-.4-.4-.92-.59-1.43-.59-.52 0-1.04.2-1.43.59L10.3 9.45l-7.72 7.72c-.78.78-.78 2.05 0 2.83L4 21.41c.39.39.9.59 1.41.59.51 0 1.02-.2 1.41-.59l7.78-7.78 2.81-2.81c.8-.78.8-2.07 0-2.86zM5.41 20L4 18.59l7.72-7.72 1.47 1.35L5.41 20z\"/>\n",
              "  </svg>\n",
              "      </button>\n",
              "      \n",
              "  <style>\n",
              "    .colab-df-container {\n",
              "      display:flex;\n",
              "      flex-wrap:wrap;\n",
              "      gap: 12px;\n",
              "    }\n",
              "\n",
              "    .colab-df-convert {\n",
              "      background-color: #E8F0FE;\n",
              "      border: none;\n",
              "      border-radius: 50%;\n",
              "      cursor: pointer;\n",
              "      display: none;\n",
              "      fill: #1967D2;\n",
              "      height: 32px;\n",
              "      padding: 0 0 0 0;\n",
              "      width: 32px;\n",
              "    }\n",
              "\n",
              "    .colab-df-convert:hover {\n",
              "      background-color: #E2EBFA;\n",
              "      box-shadow: 0px 1px 2px rgba(60, 64, 67, 0.3), 0px 1px 3px 1px rgba(60, 64, 67, 0.15);\n",
              "      fill: #174EA6;\n",
              "    }\n",
              "\n",
              "    [theme=dark] .colab-df-convert {\n",
              "      background-color: #3B4455;\n",
              "      fill: #D2E3FC;\n",
              "    }\n",
              "\n",
              "    [theme=dark] .colab-df-convert:hover {\n",
              "      background-color: #434B5C;\n",
              "      box-shadow: 0px 1px 3px 1px rgba(0, 0, 0, 0.15);\n",
              "      filter: drop-shadow(0px 1px 2px rgba(0, 0, 0, 0.3));\n",
              "      fill: #FFFFFF;\n",
              "    }\n",
              "  </style>\n",
              "\n",
              "      <script>\n",
              "        const buttonEl =\n",
              "          document.querySelector('#df-080e8a47-d3c2-47a3-b98c-2f39606e2411 button.colab-df-convert');\n",
              "        buttonEl.style.display =\n",
              "          google.colab.kernel.accessAllowed ? 'block' : 'none';\n",
              "\n",
              "        async function convertToInteractive(key) {\n",
              "          const element = document.querySelector('#df-080e8a47-d3c2-47a3-b98c-2f39606e2411');\n",
              "          const dataTable =\n",
              "            await google.colab.kernel.invokeFunction('convertToInteractive',\n",
              "                                                     [key], {});\n",
              "          if (!dataTable) return;\n",
              "\n",
              "          const docLinkHtml = 'Like what you see? Visit the ' +\n",
              "            '<a target=\"_blank\" href=https://colab.research.google.com/notebooks/data_table.ipynb>data table notebook</a>'\n",
              "            + ' to learn more about interactive tables.';\n",
              "          element.innerHTML = '';\n",
              "          dataTable['output_type'] = 'display_data';\n",
              "          await google.colab.output.renderOutput(dataTable, element);\n",
              "          const docLink = document.createElement('div');\n",
              "          docLink.innerHTML = docLinkHtml;\n",
              "          element.appendChild(docLink);\n",
              "        }\n",
              "      </script>\n",
              "    </div>\n",
              "  </div>\n",
              "  "
            ]
          },
          "metadata": {},
          "execution_count": 222
        }
      ]
    },
    {
      "cell_type": "code",
      "metadata": {
        "colab": {
          "base_uri": "https://localhost:8080/"
        },
        "id": "x6XGt_iAVQwO",
        "outputId": "83692b9d-c4d1-4860-cb10-345c42427b31"
      },
      "source": [
        "linear_reg = LinearRegression(fit_intercept = True)\n",
        "linear_reg.fit(X, y)"
      ],
      "execution_count": 223,
      "outputs": [
        {
          "output_type": "execute_result",
          "data": {
            "text/plain": [
              "LinearRegression()"
            ]
          },
          "metadata": {},
          "execution_count": 223
        }
      ]
    },
    {
      "cell_type": "markdown",
      "metadata": {
        "id": "Hnm9YgjbVQwO"
      },
      "source": [
        "Plot the model's predictions:"
      ]
    },
    {
      "cell_type": "code",
      "metadata": {
        "id": "9NtrLfGGVQwP"
      },
      "source": [
        "y_hat = pd.DataFrame(linear_reg.predict(X))"
      ],
      "execution_count": 224,
      "outputs": []
    },
    {
      "cell_type": "code",
      "source": [
        "sns.set(rc={'figure.figsize':(6,6)})\n",
        "plt.scatter(X, y_hat);"
      ],
      "metadata": {
        "colab": {
          "base_uri": "https://localhost:8080/",
          "height": 377
        },
        "id": "d3yo5hMLxrjt",
        "outputId": "96b5c076-f27f-4bb7-bb58-e390ce125451"
      },
      "execution_count": 225,
      "outputs": [
        {
          "output_type": "display_data",
          "data": {
            "text/plain": [
              "<Figure size 432x432 with 1 Axes>"
            ],
            "image/png": "[encoded data removed]"
          },
          "metadata": {}
        }
      ]
    },
    {
      "cell_type": "code",
      "metadata": {
        "colab": {
          "base_uri": "https://localhost:8080/",
          "height": 399
        },
        "id": "1ZTT31igVQwP",
        "outputId": "96111b2e-0e9e-461a-b72f-8fd407983f7e"
      },
      "source": [
        "# construct best fit line\n",
        "X_fit = np.linspace(0, 2, 100)\n",
        "y_fit = linear_reg.predict(X_fit[:, np.newaxis])\n",
        "\n",
        "plt.scatter(X, y)\n",
        "plt.plot(X_fit, y_fit, \"r-\", linewidth=2, label=\"Predictions\")\n",
        "plt.xlabel(\"$X$\", fontsize=18)\n",
        "plt.ylabel(\"$y$\", rotation=0, fontsize=18)\n",
        "plt.legend(loc=\"upper left\", fontsize=14);"
      ],
      "execution_count": 226,
      "outputs": [
        {
          "output_type": "display_data",
          "data": {
            "text/plain": [
              "<Figure size 432x432 with 1 Axes>"
            ],
            "image/png": "[encoded data removed]"
          },
          "metadata": {}
        }
      ]
    },
    {
      "cell_type": "markdown",
      "metadata": {
        "id": "kIfOsEcWVQwP"
      },
      "source": [
        "Predictions are a good fit."
      ]
    },
    {
      "cell_type": "markdown",
      "metadata": {
        "id": "z2VYUeGrVQwQ"
      },
      "source": [
        "Generate new data to make predictions with the model:"
      ]
    },
    {
      "cell_type": "code",
      "metadata": {
        "colab": {
          "base_uri": "https://localhost:8080/"
        },
        "id": "FuEd0Wp0VQwQ",
        "outputId": "dc61a15a-a47b-4361-871d-b611c1f8508b"
      },
      "source": [
        "X_new = np.array([[0], [2]])\n",
        "X_new"
      ],
      "execution_count": 227,
      "outputs": [
        {
          "output_type": "execute_result",
          "data": {
            "text/plain": [
              "array([[0],\n",
              "       [2]])"
            ]
          },
          "metadata": {},
          "execution_count": 227
        }
      ]
    },
    {
      "cell_type": "code",
      "metadata": {
        "colab": {
          "base_uri": "https://localhost:8080/"
        },
        "id": "lLCnLm7_VQwQ",
        "outputId": "c6627f18-4a1a-417d-b09e-80347d769a01"
      },
      "source": [
        "X_new.shape"
      ],
      "execution_count": 228,
      "outputs": [
        {
          "output_type": "execute_result",
          "data": {
            "text/plain": [
              "(2, 1)"
            ]
          },
          "metadata": {},
          "execution_count": 228
        }
      ]
    },
    {
      "cell_type": "code",
      "metadata": {
        "colab": {
          "base_uri": "https://localhost:8080/"
        },
        "id": "zJIzUfZsVQwQ",
        "outputId": "b4e4ea6d-fd48-485f-bd70-4c8f2804b637"
      },
      "source": [
        "y_new = linear_reg.predict(X_new)\n",
        "y_new"
      ],
      "execution_count": 229,
      "outputs": [
        {
          "output_type": "execute_result",
          "data": {
            "text/plain": [
              "array([[ 3.74406122],\n",
              "       [10.47517611]])"
            ]
          },
          "metadata": {},
          "execution_count": 229
        }
      ]
    },
    {
      "cell_type": "code",
      "metadata": {
        "colab": {
          "base_uri": "https://localhost:8080/"
        },
        "id": "ICiEnkbdVQwQ",
        "outputId": "a919e661-ce1d-4094-be0e-960b8d6c83ad"
      },
      "source": [
        " linear_reg.coef_, linear_reg.intercept_"
      ],
      "execution_count": 230,
      "outputs": [
        {
          "output_type": "execute_result",
          "data": {
            "text/plain": [
              "(array([[3.36555744]]), array([3.74406122]))"
            ]
          },
          "metadata": {},
          "execution_count": 230
        }
      ]
    },
    {
      "cell_type": "markdown",
      "metadata": {
        "id": "iBXzOecgVQwR"
      },
      "source": [
        "The model estimates:\n",
        "\n",
        "$\\hat{y} = 3.36X + 3.74$"
      ]
    },
    {
      "cell_type": "code",
      "metadata": {
        "id": "ZNvipq0wQYfj"
      },
      "source": [
        "#|VENTAS|GANANCIAS|\n",
        "#COEF*VENTAS+B\n",
        "#|VENTAS|COMPRAS|GANANCIAS|\n",
        "#COEF1*X1+COEF2*X2+B=Y"
      ],
      "execution_count": null,
      "outputs": []
    },
    {
      "cell_type": "markdown",
      "metadata": {
        "id": "_Rv-RJSnVQwR"
      },
      "source": [
        "## Polynomial Regression\n",
        "\n",
        "If data is more complex than a straight line, you can use a linear model ti fit non-linear data adding powers of each feature as new features and then train a linear model on the extended set of features. "
      ]
    },
    {
      "cell_type": "markdown",
      "metadata": {
        "id": "dPrpAVsZVQwR"
      },
      "source": [
        "$$y = a_0 + a_1x_1 + a_2x_2 + a_3x_3 + ...$$ to $$y = a_0 + a_1x + a_2x^2 + a_3x^3+ ...$$ "
      ]
    },
    {
      "cell_type": "markdown",
      "metadata": {
        "id": "9kjMWzEfVQwR"
      },
      "source": [
        "This is still a linear model, the linearity refers to the fact that the coefficients never multiply or divide each other."
      ]
    },
    {
      "cell_type": "markdown",
      "metadata": {
        "id": "2M3fp_CSVQwR"
      },
      "source": [
        "To generate polynomial data we use the function:\n",
        "\n",
        "$y = 0.50X^2 + X + 2 + noise$"
      ]
    },
    {
      "cell_type": "code",
      "metadata": {
        "id": "sSrueMnPVQwR"
      },
      "source": [
        "# generate non-linear data e.g. quadratic equation\n",
        "m = 100\n",
        "X = 6 * np.random.rand(m, 1) - 3\n",
        "y = 0.5 * X**2 + X + 2 + np.random.randn(m, 1)"
      ],
      "execution_count": 231,
      "outputs": []
    },
    {
      "cell_type": "code",
      "metadata": {
        "colab": {
          "base_uri": "https://localhost:8080/",
          "height": 403
        },
        "id": "GNQQoXkMVQwS",
        "outputId": "403af2d4-bf41-4f93-d9f7-38ce69784d23"
      },
      "source": [
        "plt.plot(X, y, \"b.\")\n",
        "plt.xlabel(\"$x_1$\", fontsize=18)\n",
        "plt.ylabel(\"$y$\", rotation=0, fontsize=18)\n",
        "plt.axis([-3, 3, 0, 10]);"
      ],
      "execution_count": 232,
      "outputs": [
        {
          "output_type": "display_data",
          "data": {
            "text/plain": [
              "<Figure size 432x432 with 1 Axes>"
            ],
            "image/png": "[encoded data removed]"
          },
          "metadata": {}
        }
      ]
    },
    {
      "cell_type": "code",
      "source": [
        "import pandas as pd\n",
        "pd.DataFrame(y)"
      ],
      "metadata": {
        "id": "YtaK_dsidNcP",
        "outputId": "6545e63a-45b8-4771-ee33-c1271cee4b16",
        "colab": {
          "base_uri": "https://localhost:8080/",
          "height": 423
        }
      },
      "execution_count": 233,
      "outputs": [
        {
          "output_type": "execute_result",
          "data": {
            "text/plain": [
              "           0\n",
              "0   8.529240\n",
              "1   3.768929\n",
              "2   3.354423\n",
              "3   2.747935\n",
              "4   0.808458\n",
              "..       ...\n",
              "95  5.346771\n",
              "96  6.338229\n",
              "97  3.488785\n",
              "98  1.372002\n",
              "99 -0.072150\n",
              "\n",
              "[100 rows x 1 columns]"
            ],
            "text/html": [
              "\n",
              "  <div id=\"df-d19f57f7-f692-4cb0-acdf-221d0e6d4494\">\n",
              "    <div class=\"colab-df-container\">\n",
              "      <div>\n",
              "<style scoped>\n",
              "    .dataframe tbody tr th:only-of-type {\n",
              "        vertical-align: middle;\n",
              "    }\n",
              "\n",
              "    .dataframe tbody tr th {\n",
              "        vertical-align: top;\n",
              "    }\n",
              "\n",
              "    .dataframe thead th {\n",
              "        text-align: right;\n",
              "    }\n",
              "</style>\n",
              "<table border=\"1\" class=\"dataframe\">\n",
              "  <thead>\n",
              "    <tr style=\"text-align: right;\">\n",
              "      <th></th>\n",
              "      <th>0</th>\n",
              "    </tr>\n",
              "  </thead>\n",
              "  <tbody>\n",
              "    <tr>\n",
              "      <th>0</th>\n",
              "      <td>8.529240</td>\n",
              "    </tr>\n",
              "    <tr>\n",
              "      <th>1</th>\n",
              "      <td>3.768929</td>\n",
              "    </tr>\n",
              "    <tr>\n",
              "      <th>2</th>\n",
              "      <td>3.354423</td>\n",
              "    </tr>\n",
              "    <tr>\n",
              "      <th>3</th>\n",
              "      <td>2.747935</td>\n",
              "    </tr>\n",
              "    <tr>\n",
              "      <th>4</th>\n",
              "      <td>0.808458</td>\n",
              "    </tr>\n",
              "    <tr>\n",
              "      <th>...</th>\n",
              "      <td>...</td>\n",
              "    </tr>\n",
              "    <tr>\n",
              "      <th>95</th>\n",
              "      <td>5.346771</td>\n",
              "    </tr>\n",
              "    <tr>\n",
              "      <th>96</th>\n",
              "      <td>6.338229</td>\n",
              "    </tr>\n",
              "    <tr>\n",
              "      <th>97</th>\n",
              "      <td>3.488785</td>\n",
              "    </tr>\n",
              "    <tr>\n",
              "      <th>98</th>\n",
              "      <td>1.372002</td>\n",
              "    </tr>\n",
              "    <tr>\n",
              "      <th>99</th>\n",
              "      <td>-0.072150</td>\n",
              "    </tr>\n",
              "  </tbody>\n",
              "</table>\n",
              "<p>100 rows × 1 columns</p>\n",
              "</div>\n",
              "      <button class=\"colab-df-convert\" onclick=\"convertToInteractive('df-d19f57f7-f692-4cb0-acdf-221d0e6d4494')\"\n",
              "              title=\"Convert this dataframe to an interactive table.\"\n",
              "              style=\"display:none;\">\n",
              "        \n",
              "  <svg xmlns=\"http://www.w3.org/2000/svg\" height=\"24px\"viewBox=\"0 0 24 24\"\n",
              "       width=\"24px\">\n",
              "    <path d=\"M0 0h24v24H0V0z\" fill=\"none\"/>\n",
              "    <path d=\"M18.56 5.44l.94 2.06.94-2.06 2.06-.94-2.06-.94-.94-2.06-.94 2.06-2.06.94zm-11 1L8.5 8.5l.94-2.06 2.06-.94-2.06-.94L8.5 2.5l-.94 2.06-2.06.94zm10 10l.94 2.06.94-2.06 2.06-.94-2.06-.94-.94-2.06-.94 2.06-2.06.94z\"/><path d=\"M17.41 7.96l-1.37-1.37c-.4-.4-.92-.59-1.43-.59-.52 0-1.04.2-1.43.59L10.3 9.45l-7.72 7.72c-.78.78-.78 2.05 0 2.83L4 21.41c.39.39.9.59 1.41.59.51 0 1.02-.2 1.41-.59l7.78-7.78 2.81-2.81c.8-.78.8-2.07 0-2.86zM5.41 20L4 18.59l7.72-7.72 1.47 1.35L5.41 20z\"/>\n",
              "  </svg>\n",
              "      </button>\n",
              "      \n",
              "  <style>\n",
              "    .colab-df-container {\n",
              "      display:flex;\n",
              "      flex-wrap:wrap;\n",
              "      gap: 12px;\n",
              "    }\n",
              "\n",
              "    .colab-df-convert {\n",
              "      background-color: #E8F0FE;\n",
              "      border: none;\n",
              "      border-radius: 50%;\n",
              "      cursor: pointer;\n",
              "      display: none;\n",
              "      fill: #1967D2;\n",
              "      height: 32px;\n",
              "      padding: 0 0 0 0;\n",
              "      width: 32px;\n",
              "    }\n",
              "\n",
              "    .colab-df-convert:hover {\n",
              "      background-color: #E2EBFA;\n",
              "      box-shadow: 0px 1px 2px rgba(60, 64, 67, 0.3), 0px 1px 3px 1px rgba(60, 64, 67, 0.15);\n",
              "      fill: #174EA6;\n",
              "    }\n",
              "\n",
              "    [theme=dark] .colab-df-convert {\n",
              "      background-color: #3B4455;\n",
              "      fill: #D2E3FC;\n",
              "    }\n",
              "\n",
              "    [theme=dark] .colab-df-convert:hover {\n",
              "      background-color: #434B5C;\n",
              "      box-shadow: 0px 1px 3px 1px rgba(0, 0, 0, 0.15);\n",
              "      filter: drop-shadow(0px 1px 2px rgba(0, 0, 0, 0.3));\n",
              "      fill: #FFFFFF;\n",
              "    }\n",
              "  </style>\n",
              "\n",
              "      <script>\n",
              "        const buttonEl =\n",
              "          document.querySelector('#df-d19f57f7-f692-4cb0-acdf-221d0e6d4494 button.colab-df-convert');\n",
              "        buttonEl.style.display =\n",
              "          google.colab.kernel.accessAllowed ? 'block' : 'none';\n",
              "\n",
              "        async function convertToInteractive(key) {\n",
              "          const element = document.querySelector('#df-d19f57f7-f692-4cb0-acdf-221d0e6d4494');\n",
              "          const dataTable =\n",
              "            await google.colab.kernel.invokeFunction('convertToInteractive',\n",
              "                                                     [key], {});\n",
              "          if (!dataTable) return;\n",
              "\n",
              "          const docLinkHtml = 'Like what you see? Visit the ' +\n",
              "            '<a target=\"_blank\" href=https://colab.research.google.com/notebooks/data_table.ipynb>data table notebook</a>'\n",
              "            + ' to learn more about interactive tables.';\n",
              "          element.innerHTML = '';\n",
              "          dataTable['output_type'] = 'display_data';\n",
              "          await google.colab.output.renderOutput(dataTable, element);\n",
              "          const docLink = document.createElement('div');\n",
              "          docLink.innerHTML = docLinkHtml;\n",
              "          element.appendChild(docLink);\n",
              "        }\n",
              "      </script>\n",
              "    </div>\n",
              "  </div>\n",
              "  "
            ]
          },
          "metadata": {},
          "execution_count": 233
        }
      ]
    },
    {
      "cell_type": "markdown",
      "metadata": {
        "id": "vrZTRaLNVQwS"
      },
      "source": [
        "Now we can use `PolynomialFeatues` to transform training data adding the square of each feature as new features."
      ]
    },
    {
      "cell_type": "code",
      "metadata": {
        "id": "BXo0Hm56VQwS"
      },
      "source": [
        "from sklearn.preprocessing import PolynomialFeatures\n",
        "\n",
        "poly_features = PolynomialFeatures(degree=2, include_bias=False)\n",
        "X_poly = poly_features.fit_transform(X)"
      ],
      "execution_count": 234,
      "outputs": []
    },
    {
      "cell_type": "code",
      "metadata": {
        "colab": {
          "base_uri": "https://localhost:8080/"
        },
        "id": "1FqY9-I4VQwS",
        "outputId": "4e8e7343-7d71-466b-c29f-480eccdd0a3b"
      },
      "source": [
        "X_poly"
      ],
      "execution_count": 235,
      "outputs": [
        {
          "output_type": "execute_result",
          "data": {
            "text/plain": [
              "array([[ 2.72919168e+00,  7.44848725e+00],\n",
              "       [ 1.42738150e+00,  2.03741795e+00],\n",
              "       [ 3.26124315e-01,  1.06357069e-01],\n",
              "       [ 6.70324477e-01,  4.49334905e-01],\n",
              "       [-4.82399625e-01,  2.32709399e-01],\n",
              "       [-1.51361406e+00,  2.29102753e+00],\n",
              "       [-8.64163928e-01,  7.46779295e-01],\n",
              "       [ 1.54707666e+00,  2.39344620e+00],\n",
              "       [-2.91363907e+00,  8.48929262e+00],\n",
              "       [-2.30356416e+00,  5.30640783e+00],\n",
              "       [-2.72398415e+00,  7.42008964e+00],\n",
              "       [-2.75562719e+00,  7.59348119e+00],\n",
              "       [ 2.13276350e+00,  4.54868016e+00],\n",
              "       [ 1.22194716e+00,  1.49315485e+00],\n",
              "       [-1.54957025e-01,  2.40116797e-02],\n",
              "       [-2.41299504e+00,  5.82254504e+00],\n",
              "       [-5.03047493e-02,  2.53056780e-03],\n",
              "       [-1.59169375e-01,  2.53348900e-02],\n",
              "       [-1.96078878e+00,  3.84469264e+00],\n",
              "       [-3.96890105e-01,  1.57521755e-01],\n",
              "       [-6.08971594e-01,  3.70846402e-01],\n",
              "       [ 6.95100588e-01,  4.83164828e-01],\n",
              "       [ 8.10561905e-01,  6.57010602e-01],\n",
              "       [-2.72817594e+00,  7.44294397e+00],\n",
              "       [-7.52324312e-01,  5.65991871e-01],\n",
              "       [ 7.55159494e-01,  5.70265862e-01],\n",
              "       [ 1.88175515e-02,  3.54100244e-04],\n",
              "       [ 2.13893905e+00,  4.57506025e+00],\n",
              "       [ 9.52161790e-01,  9.06612074e-01],\n",
              "       [-2.02239344e+00,  4.09007522e+00],\n",
              "       [-2.57658752e+00,  6.63880323e+00],\n",
              "       [ 8.54515669e-01,  7.30197029e-01],\n",
              "       [-2.84093214e+00,  8.07089541e+00],\n",
              "       [ 5.14653488e-01,  2.64868212e-01],\n",
              "       [ 2.64138145e+00,  6.97689596e+00],\n",
              "       [ 4.52845067e-01,  2.05068655e-01],\n",
              "       [-6.70980443e-01,  4.50214755e-01],\n",
              "       [ 8.59729311e-01,  7.39134488e-01],\n",
              "       [-2.50482657e-01,  6.27415615e-02],\n",
              "       [ 2.73700736e-01,  7.49120928e-02],\n",
              "       [ 2.64878885e+00,  7.01608239e+00],\n",
              "       [-6.83384173e-01,  4.67013928e-01],\n",
              "       [ 2.76714338e+00,  7.65708250e+00],\n",
              "       [ 2.43210385e+00,  5.91512915e+00],\n",
              "       [-1.82525319e+00,  3.33154921e+00],\n",
              "       [-2.58383219e+00,  6.67618881e+00],\n",
              "       [-2.39533199e+00,  5.73761535e+00],\n",
              "       [-2.89066905e+00,  8.35596753e+00],\n",
              "       [-2.43334224e+00,  5.92115443e+00],\n",
              "       [ 1.09804064e+00,  1.20569325e+00],\n",
              "       [-2.57286811e+00,  6.61965031e+00],\n",
              "       [-1.08614622e+00,  1.17971361e+00],\n",
              "       [ 2.06925187e+00,  4.28180328e+00],\n",
              "       [-2.86036839e+00,  8.18170730e+00],\n",
              "       [ 1.88681090e+00,  3.56005536e+00],\n",
              "       [-1.30887135e+00,  1.71314421e+00],\n",
              "       [-2.29101103e+00,  5.24873156e+00],\n",
              "       [ 1.18042299e+00,  1.39339844e+00],\n",
              "       [ 7.73657081e-01,  5.98545278e-01],\n",
              "       [ 2.26483208e+00,  5.12946436e+00],\n",
              "       [ 1.41042626e+00,  1.98930224e+00],\n",
              "       [ 1.82088558e+00,  3.31562430e+00],\n",
              "       [-1.30779256e+00,  1.71032139e+00],\n",
              "       [-1.93536274e+00,  3.74562893e+00],\n",
              "       [ 1.50368851e+00,  2.26107913e+00],\n",
              "       [ 1.84100844e+00,  3.38931206e+00],\n",
              "       [ 2.94303085e+00,  8.66143060e+00],\n",
              "       [-5.24293939e-01,  2.74884134e-01],\n",
              "       [-7.67891485e-01,  5.89657333e-01],\n",
              "       [ 1.65847776e+00,  2.75054850e+00],\n",
              "       [-9.55178758e-01,  9.12366461e-01],\n",
              "       [ 2.58454395e+00,  6.67986745e+00],\n",
              "       [ 2.15047651e+00,  4.62454922e+00],\n",
              "       [-4.26035836e-01,  1.81506533e-01],\n",
              "       [ 1.50522641e+00,  2.26570654e+00],\n",
              "       [ 1.52725724e+00,  2.33251469e+00],\n",
              "       [-2.38125679e+00,  5.67038389e+00],\n",
              "       [ 2.41531744e+00,  5.83375834e+00],\n",
              "       [ 3.15142347e-02,  9.93146988e-04],\n",
              "       [ 1.95874480e+00,  3.83668118e+00],\n",
              "       [-1.07970239e+00,  1.16575726e+00],\n",
              "       [ 2.37313937e+00,  5.63179047e+00],\n",
              "       [-6.64789928e-01,  4.41945648e-01],\n",
              "       [-2.93497409e+00,  8.61407292e+00],\n",
              "       [ 2.43229186e+00,  5.91604369e+00],\n",
              "       [-2.45227994e+00,  6.01367690e+00],\n",
              "       [-1.08411817e+00,  1.17531222e+00],\n",
              "       [ 2.70037180e+00,  7.29200787e+00],\n",
              "       [ 2.70364288e+00,  7.30968483e+00],\n",
              "       [ 4.40627329e-01,  1.94152443e-01],\n",
              "       [ 7.91023273e-01,  6.25717818e-01],\n",
              "       [-3.09326868e-01,  9.56831113e-02],\n",
              "       [-1.24073537e+00,  1.53942426e+00],\n",
              "       [-1.02801273e+00,  1.05681017e+00],\n",
              "       [ 1.03511074e+00,  1.07145424e+00],\n",
              "       [ 1.51424718e+00,  2.29294451e+00],\n",
              "       [ 1.74947426e+00,  3.06066019e+00],\n",
              "       [ 1.73770886e+00,  3.01963207e+00],\n",
              "       [-2.45276338e+00,  6.01604821e+00],\n",
              "       [-3.34781718e-02,  1.12078799e-03]])"
            ]
          },
          "metadata": {},
          "execution_count": 235
        }
      ]
    },
    {
      "cell_type": "markdown",
      "metadata": {
        "id": "GrFMRU_eVQwS"
      },
      "source": [
        "`X_poly` now contains the original feature of X plus the square of the feature:"
      ]
    },
    {
      "cell_type": "code",
      "metadata": {
        "colab": {
          "base_uri": "https://localhost:8080/"
        },
        "id": "M8FH1dY2UwgN",
        "outputId": "5b443f45-ad5b-4a2e-d3a1-625adbc05f2c"
      },
      "source": [
        "print(X[0])\n",
        "print(X[0]*X[0])\n"
      ],
      "execution_count": 236,
      "outputs": [
        {
          "output_type": "stream",
          "name": "stdout",
          "text": [
            "[2.72919168]\n",
            "[7.44848725]\n"
          ]
        }
      ]
    },
    {
      "cell_type": "code",
      "metadata": {
        "colab": {
          "base_uri": "https://localhost:8080/"
        },
        "id": "PSflPniWVQwT",
        "outputId": "90e4d529-6ab3-4c48-ccb0-905468339bae"
      },
      "source": [
        "X_poly[0]"
      ],
      "execution_count": 237,
      "outputs": [
        {
          "output_type": "execute_result",
          "data": {
            "text/plain": [
              "array([2.72919168, 7.44848725])"
            ]
          },
          "metadata": {},
          "execution_count": 237
        }
      ]
    },
    {
      "cell_type": "markdown",
      "metadata": {
        "id": "HaXjXg7FVQwT"
      },
      "source": [
        "Fit the model to this extended training data:"
      ]
    },
    {
      "cell_type": "code",
      "metadata": {
        "colab": {
          "base_uri": "https://localhost:8080/"
        },
        "id": "c0Qu93dgVQwT",
        "outputId": "c547c0c6-9613-4860-b8fb-a372744c366c"
      },
      "source": [
        "lin_reg = LinearRegression(fit_intercept=True)\n",
        "lin_reg.fit(X_poly, y)\n",
        "lin_reg.coef_, lin_reg.intercept_"
      ],
      "execution_count": 238,
      "outputs": [
        {
          "output_type": "execute_result",
          "data": {
            "text/plain": [
              "(array([[1.04271531, 0.50866711]]), array([2.01873554]))"
            ]
          },
          "metadata": {},
          "execution_count": 238
        }
      ]
    },
    {
      "cell_type": "markdown",
      "metadata": {
        "id": "rKOSwvnmVQwT"
      },
      "source": [
        "The model estimates:\n",
        "\n",
        "$\\hat{y} =  0.89X +0.48X^2 + 2.09$"
      ]
    },
    {
      "cell_type": "markdown",
      "metadata": {
        "id": "_EtZEKz5VQwT"
      },
      "source": [
        "Plot the data and the predictions:"
      ]
    },
    {
      "cell_type": "code",
      "metadata": {
        "colab": {
          "base_uri": "https://localhost:8080/",
          "height": 403
        },
        "id": "6Q8dHRgdVQwT",
        "outputId": "5e76192a-2682-4381-ccd8-a34a19b119ae"
      },
      "source": [
        "X_new=np.linspace(-3, 3, 100).reshape(100, 1)\n",
        "X_new_poly = poly_features.transform(X_new)\n",
        "y_new = lin_reg.predict(X_new_poly)\n",
        "plt.plot(X, y, \"b.\")\n",
        "plt.plot(X_new, y_new, \"r-\", linewidth=2, label=\"Predictions\")\n",
        "plt.xlabel(\"$x_1$\", fontsize=18)\n",
        "plt.ylabel(\"$y$\", rotation=0, fontsize=18)\n",
        "plt.legend(loc=\"upper left\", fontsize=14)\n",
        "plt.axis([-3, 3, 0, 10]);"
      ],
      "execution_count": 239,
      "outputs": [
        {
          "output_type": "display_data",
          "data": {
            "text/plain": [
              "<Figure size 432x432 with 1 Axes>"
            ],
            "image/png": "[encoded data removed]"
          },
          "metadata": {}
        }
      ]
    },
    {
      "cell_type": "markdown",
      "source": [
        "## R square\n",
        "\n",
        "R² es una medida estadística de qué tan cerca están los datos de la línea de regresión ajustada. También se conoce como el coeficiente de determinación o el coeficiente de determinación múltiple para la regresión múltiple. Para decirlo en un lenguaje más simple, R² es una medida de ajuste para los modelos de regresión lineal.\n",
        "\n",
        "\n",
        "\n",
        "R² no indica si un modelo de regresión se ajusta adecuadamente a sus datos. Un buen modelo puede tener un valor R² bajo. Por otro lado, un modelo sesgado puede tener un valor alto de R².\n",
        "\n",
        " SSres + SSreg = SStot, R² = Explained variation / Total Variation\n",
        " \n",
        " ![image.png](https://i.stack.imgur.com/xb1VY.png)\n",
        " \n",
        "![image.png](https://3.bp.blogspot.com/-MFqQLwbGwd4/WMO7tz39beI/AAAAAAAAF9I/Bjpfohgv_5E4lu7HzHJBQtXsBM--byqPwCLcB/s1600/rsquared.png)\n"
      ],
      "metadata": {
        "id": "TIFwAtW1pc6h"
      }
    },
    {
      "cell_type": "markdown",
      "metadata": {
        "id": "nTKFj4x9LMXm"
      },
      "source": [
        "# Ejercicio 1\n",
        "\n",
        "Utiliza la base de datos de \n",
        "https://www.kaggle.com/vinicius150987/manufacturing-cost\n",
        "\n",
        "Suponga que trabaja como consultor de una empresa de nueva creación que busca desarrollar un modelo para estimar el costo de los bienes vendidos a medida que varían el volumen de producción (número de unidades producidas). La startup recopiló datos y le pidió que desarrollara un modelo para predecir su costo frente a la cantidad de unidades vendidas."
      ]
    },
    {
      "cell_type": "code",
      "metadata": {
        "id": "oTnErQOkL3oa"
      },
      "source": [
        "import pandas as pd\n",
        "df = pd.read_csv('https://raw.githubusercontent.com/marypazrf/bdd/main/EconomiesOfScale.csv')\n",
        "df.sample(10)\n",
        "\n",
        "MAE = {}\n",
        "R2 = {}"
      ],
      "execution_count": 328,
      "outputs": []
    },
    {
      "cell_type": "code",
      "metadata": {
        "id": "14kGO5nkMGlV"
      },
      "source": [
        "X = df[['Number of Units']]\n",
        "y = df['Manufacturing Cost']"
      ],
      "execution_count": 329,
      "outputs": []
    },
    {
      "cell_type": "code",
      "source": [
        "len(X)"
      ],
      "metadata": {
        "id": "ksh_OrkjY3GW",
        "outputId": "feef03ca-1875-48de-b445-4ae038b4e557",
        "colab": {
          "base_uri": "https://localhost:8080/"
        }
      },
      "execution_count": 330,
      "outputs": [
        {
          "output_type": "execute_result",
          "data": {
            "text/plain": [
              "1000"
            ]
          },
          "metadata": {},
          "execution_count": 330
        }
      ]
    },
    {
      "cell_type": "code",
      "source": [
        "y.describe"
      ],
      "metadata": {
        "colab": {
          "base_uri": "https://localhost:8080/"
        },
        "id": "bwR6SSqQDfC2",
        "outputId": "e76dadb2-e949-4c0f-d31e-3907214d8f51"
      },
      "execution_count": 331,
      "outputs": [
        {
          "output_type": "execute_result",
          "data": {
            "text/plain": [
              "<bound method NDFrame.describe of 0      95.066056\n",
              "1      96.531750\n",
              "2      73.661311\n",
              "3      95.566843\n",
              "4      98.777013\n",
              "         ...    \n",
              "995    23.855067\n",
              "996    27.536542\n",
              "997    25.973787\n",
              "998    25.138311\n",
              "999    21.547777\n",
              "Name: Manufacturing Cost, Length: 1000, dtype: float64>"
            ]
          },
          "metadata": {},
          "execution_count": 331
        }
      ]
    },
    {
      "cell_type": "code",
      "metadata": {
        "colab": {
          "base_uri": "https://localhost:8080/",
          "height": 395
        },
        "id": "idoEjfEhMoxk",
        "outputId": "f118c843-11b9-4be9-b705-506566f0b0e1"
      },
      "source": [
        "plt.plot(X,y,'b.')"
      ],
      "execution_count": 332,
      "outputs": [
        {
          "output_type": "execute_result",
          "data": {
            "text/plain": [
              "[<matplotlib.lines.Line2D at 0x7f55b57f68d0>]"
            ]
          },
          "metadata": {},
          "execution_count": 332
        },
        {
          "output_type": "display_data",
          "data": {
            "text/plain": [
              "<Figure size 432x432 with 1 Axes>"
            ],
            "image/png": "[encoded data removed]"
          },
          "metadata": {}
        }
      ]
    },
    {
      "cell_type": "code",
      "source": [
        "#Dividimos los datos \n",
        "X_train, X_test, y_train, y_test = train_test_split(X, y, test_size = 0.2, random_state = 101)"
      ],
      "metadata": {
        "id": "X61286W_AuM4"
      },
      "execution_count": 333,
      "outputs": []
    },
    {
      "cell_type": "code",
      "source": [
        "#lineal\n",
        "lrm = LinearRegression()\n",
        "lrm.fit(X_train, y_train)\n",
        "\n",
        "y_pred = lrm.predict(X_test)\n",
        "\n",
        "print('Coeficiente de la formula:', lrm.coef_)\n",
        "print('Intercept de la fórmula:', lrm.intercept_)\n",
        "print(\"Fórmula: y = %f %f X\" % (lrm.intercept_, lrm.coef_))\n",
        "print('Error medio Absoluto (MAE):', metrics.mean_absolute_error(y_test, y_pred))\n",
        "print('Root Mean Squared Error:', np.sqrt(metrics.mean_squared_error(y_test, y_pred)))\n",
        "print('r2_score',r2_score(y_test, y_pred))\n",
        "\n",
        "MAE['Lineal'] = metrics.mean_absolute_error(y_test, y_pred)\n",
        "R2['Lineal'] = r2_score(y_test, y_pred)\n",
        "\n",
        "plt.plot(X_test, y_test, \"b.\")\n",
        "plt.plot(X_test, y_pred, \"r-\", linewidth = 1, label = \"Predictions\")\n",
        "plt.xlabel(\"Number of units\", fontsize = 12)\n",
        "plt.ylabel(\"Manufacturing cost\", fontsize = 12)\n",
        "plt.legend(loc=\"upper right\", fontsize = 12)\n",
        "#plt.axis([-3, 3, 0, 10]);"
      ],
      "metadata": {
        "id": "kMmOy97puOLE",
        "colab": {
          "base_uri": "https://localhost:8080/",
          "height": 523
        },
        "outputId": "90c98add-6bd4-494c-9ff2-d3b7c24f6255"
      },
      "execution_count": 361,
      "outputs": [
        {
          "output_type": "stream",
          "name": "stdout",
          "text": [
            "Coeficiente de la formula: [-5.97912772]\n",
            "Intercept de la fórmula: 66.79997932683362\n",
            "Fórmula: y = 66.799979 -5.979128 X\n",
            "Error medio Absoluto (MAE): 5.033403667160277\n",
            "Root Mean Squared Error: 7.067709647692056\n",
            "r2_score 0.595798333672179\n"
          ]
        },
        {
          "output_type": "execute_result",
          "data": {
            "text/plain": [
              "<matplotlib.legend.Legend at 0x7f55b4fb57d0>"
            ]
          },
          "metadata": {},
          "execution_count": 361
        },
        {
          "output_type": "display_data",
          "data": {
            "text/plain": [
              "<Figure size 432x432 with 1 Axes>"
            ],
            "image/png": "[encoded data removed]"
          },
          "metadata": {}
        }
      ]
    },
    {
      "cell_type": "code",
      "source": [
        "#polinomial\n",
        "poly_features = PolynomialFeatures(degree = 3, include_bias=False)\n",
        "X_train_poly = poly_features.fit_transform(X_train)\n",
        "X_test_poly = poly_features.fit_transform(X_test)\n",
        "\n",
        "lrpm = LinearRegression()\n",
        "lrpm.fit(X_train_poly, y_train)\n",
        "\n",
        "y_poly_pred = lrpm.predict(X_test_poly)\n",
        "\n",
        "print('Coeficientes de la formula:', lrpm.coef_)\n",
        "print('Intercept de la fórmula:', lrpm.intercept_)\n",
        "\n",
        "print(\"Fórmula: y = %f %f X + %f X^2 %f X^3\" % (lrpm.intercept_, lrpm.coef_[0], lrpm.coef_[1], lrpm.coef_[2]))\n",
        "\n",
        "print('Error medio Absoluto (MAE):', metrics.mean_absolute_error(y_test, y_poly_pred))\n",
        "print('Root Mean Squared Error:', np.sqrt(metrics.mean_squared_error(y_test, y_poly_pred)))\n",
        "print('r2_score', r2_score(y_test, y_poly_pred))\n",
        "\n",
        "MAE['Polinomial'] = metrics.mean_absolute_error(y_test, y_poly_pred)\n",
        "R2['Polinomial'] = r2_score(y_test, y_poly_pred)\n",
        "\n",
        "plt.plot(X_test, y_test, \"b.\")\n",
        "plt.plot(X_test, y_poly_pred, \"r-\", linewidth = 1, label = \"Predictions\")\n",
        "plt.xlabel(\"Number of units\", fontsize = 12)\n",
        "plt.ylabel(\"Manufacturing cost\", fontsize = 12)\n",
        "plt.legend(loc=\"upper right\", fontsize = 12)\n",
        "#plt.axis([-3, 3, 0, 10]);\n",
        "\n",
        "lrpm.coef_\n",
        "lrpm.intercept_\n"
      ],
      "metadata": {
        "id": "LWvfEDGKuoLJ",
        "colab": {
          "base_uri": "https://localhost:8080/",
          "height": 523
        },
        "outputId": "84e9db1d-f9ef-4397-86d8-a842c288e14b"
      },
      "execution_count": 362,
      "outputs": [
        {
          "output_type": "stream",
          "name": "stdout",
          "text": [
            "Coeficientes de la formula: [-31.83069901   4.58905775  -0.23734936]\n",
            "Intercept de la fórmula: 109.50904482461846\n",
            "Fórmula: y = 109.509045 -31.830699 X + 4.589058 X^2 -0.237349 X^3\n",
            "Error medio Absoluto (MAE): 4.339059416327442\n",
            "Root Mean Squared Error: 5.637445640824418\n",
            "r2_score 0.7428388053898056\n"
          ]
        },
        {
          "output_type": "execute_result",
          "data": {
            "text/plain": [
              "109.50904482461846"
            ]
          },
          "metadata": {},
          "execution_count": 362
        },
        {
          "output_type": "display_data",
          "data": {
            "text/plain": [
              "<Figure size 432x432 with 1 Axes>"
            ],
            "image/png": "[encoded data removed]"
          },
          "metadata": {}
        }
      ]
    },
    {
      "cell_type": "code",
      "source": [
        "#Ridge\n",
        "poly_features = PolynomialFeatures(degree = 3, include_bias=False)\n",
        "X_train_poly = poly_features.fit_transform(X_train)\n",
        "X_test_poly = poly_features.fit_transform(X_test)\n",
        "\n",
        "RidgeModel = Ridge(alpha = .02)\n",
        "RidgeModel.fit(X_train_poly, y_train)\n",
        "\n",
        "y_ridge_pred = RidgeModel.predict(X_test_poly)\n",
        "print('Coeficientes de la formula:', lrpm.coef_)\n",
        "print('Intercept de la fórmula:', lrpm.intercept_)\n",
        "print('Álpha: ', RidgeModel.alpha)\n",
        "print(\"Fórmula: y = %f %f X + %f X^2 %f X^3\" % (lrpm.intercept_, lrpm.coef_[0] * RidgeModel.alpha, lrpm.coef_[1] * RidgeModel.alpha, lrpm.coef_[2] * RidgeModel.alpha))\n",
        "\n",
        "print('Error medio Absoluto (MAE):', metrics.mean_absolute_error(y_test, y_ridge_pred))\n",
        "print('Root Mean Squared Error:', np.sqrt(metrics.mean_squared_error(y_test, y_ridge_pred)))\n",
        "print('r2_score',r2_score(y_test, y_ridge_pred))\n",
        "\n",
        "\n",
        "MAE['Ridge'] = metrics.mean_absolute_error(y_test, y_ridge_pred)\n",
        "R2['Ridge'] = r2_score(y_test, y_ridge_pred)\n",
        "\n",
        "plt.plot(X_test, y_test, \"b.\")\n",
        "plt.plot(X_test, y_ridge_pred, \"r-\", linewidth = 1, label = \"Predictions\")\n",
        "plt.xlabel(\"Number of units\", fontsize = 12)\n",
        "plt.ylabel(\"Manufacturing cost\", fontsize = 12)\n",
        "plt.legend(loc=\"upper right\", fontsize = 12)\n",
        "#plt.axis([-3, 3, 0, 10]);"
      ],
      "metadata": {
        "colab": {
          "base_uri": "https://localhost:8080/",
          "height": 542
        },
        "id": "AmTxd2U0EWPG",
        "outputId": "e6954350-36ad-4bda-f468-8c1712f2973d"
      },
      "execution_count": 363,
      "outputs": [
        {
          "output_type": "stream",
          "name": "stdout",
          "text": [
            "Coeficientes de la formula: [-31.83069901   4.58905775  -0.23734936]\n",
            "Intercept de la fórmula: 109.50904482461846\n",
            "Álpha:  0.02\n",
            "Fórmula: y = 109.509045 -0.636614 X + 0.091781 X^2 -0.004747 X^3\n",
            "Error medio Absoluto (MAE): 4.338732739362826\n",
            "Root Mean Squared Error: 5.638400837082249\n",
            "r2_score 0.7427516523645881\n"
          ]
        },
        {
          "output_type": "execute_result",
          "data": {
            "text/plain": [
              "<matplotlib.legend.Legend at 0x7f55b4f3b310>"
            ]
          },
          "metadata": {},
          "execution_count": 363
        },
        {
          "output_type": "display_data",
          "data": {
            "text/plain": [
              "<Figure size 432x432 with 1 Axes>"
            ],
            "image/png": "[encoded data removed]"
          },
          "metadata": {}
        }
      ]
    },
    {
      "cell_type": "code",
      "metadata": {
        "id": "-VDz4zLK9Q0K",
        "outputId": "e7466132-f5a8-44ea-b2da-879ced9d6bc5",
        "colab": {
          "base_uri": "https://localhost:8080/",
          "height": 525
        }
      },
      "source": [
        "#Lasso\n",
        "poly_features = PolynomialFeatures(degree = 4, include_bias=False)\n",
        "X_train_poly = poly_features.fit_transform(X_train)\n",
        "X_test_poly = poly_features.fit_transform(X_test)\n",
        "\n",
        "LassoModel = Lasso(alpha = 1)\n",
        "LassoModel.fit(X_train_poly, y_train)\n",
        "\n",
        "y_lasso_pred = LassoModel.predict(X_test_poly)\n",
        "\n",
        "print('Error medio Absoluto (MAE):', metrics.mean_absolute_error(y_test, y_lasso_pred))\n",
        "print('Root Mean Squared Error:', np.sqrt(metrics.mean_squared_error(y_test, y_lasso_pred)))\n",
        "print('r2_score',r2_score(y_test, y_lasso_pred))\n",
        "\n",
        "MAE['Lasso'] = metrics.mean_absolute_error(y_test, y_lasso_pred)\n",
        "R2['Lasso'] = r2_score(y_test, y_lasso_pred)\n",
        "\n",
        "plt.plot(X_test, y_test, \"b.\")\n",
        "plt.plot(X_test, y_lasso_pred, \"r-\", linewidth = 1, label = \"Predictions\")\n",
        "plt.xlabel(\"Number of units\", fontsize = 12)\n",
        "plt.ylabel(\"Manufacturing cost\", fontsize = 12)\n",
        "plt.legend(loc=\"upper right\", fontsize = 12)\n",
        "#plt.axis([-3, 3, 0, 10]);"
      ],
      "execution_count": 364,
      "outputs": [
        {
          "output_type": "stream",
          "name": "stdout",
          "text": [
            "Error medio Absoluto (MAE): 4.654760690022674\n",
            "Root Mean Squared Error: 6.690272280416553\n",
            "r2_score 0.6378168128075252\n"
          ]
        },
        {
          "output_type": "stream",
          "name": "stderr",
          "text": [
            "/usr/local/lib/python3.7/dist-packages/sklearn/linear_model/_coordinate_descent.py:648: ConvergenceWarning: Objective did not converge. You might want to increase the number of iterations, check the scale of the features or consider increasing regularisation. Duality gap: 3.133e+03, tolerance: 8.743e+00\n",
            "  coef_, l1_reg, l2_reg, X, y, max_iter, tol, rng, random, positive\n"
          ]
        },
        {
          "output_type": "execute_result",
          "data": {
            "text/plain": [
              "<matplotlib.legend.Legend at 0x7f55b4eb5b90>"
            ]
          },
          "metadata": {},
          "execution_count": 364
        },
        {
          "output_type": "display_data",
          "data": {
            "text/plain": [
              "<Figure size 432x432 with 1 Axes>"
            ],
            "image/png": "[encoded data removed]"
          },
          "metadata": {}
        }
      ]
    },
    {
      "cell_type": "code",
      "source": [
        "MAE"
      ],
      "metadata": {
        "colab": {
          "base_uri": "https://localhost:8080/"
        },
        "id": "Mh5EeBUxO_vf",
        "outputId": "9a8020e1-50c0-483d-b162-da5151078db7"
      },
      "execution_count": 365,
      "outputs": [
        {
          "output_type": "execute_result",
          "data": {
            "text/plain": [
              "{'Lineal': 5.033403667160277,\n",
              " 'Polinomial': 4.339059416327442,\n",
              " 'Ridge': 4.338732739362826,\n",
              " 'Lasso': 4.654760690022674}"
            ]
          },
          "metadata": {},
          "execution_count": 365
        }
      ]
    },
    {
      "cell_type": "code",
      "source": [
        "R2"
      ],
      "metadata": {
        "colab": {
          "base_uri": "https://localhost:8080/"
        },
        "id": "B60snHF0O_-H",
        "outputId": "a777f8a3-0798-4b5b-a135-9d4dcc6f71df"
      },
      "execution_count": 366,
      "outputs": [
        {
          "output_type": "execute_result",
          "data": {
            "text/plain": [
              "{'Lineal': 0.595798333672179,\n",
              " 'Polinomial': 0.7428388053898056,\n",
              " 'Ridge': 0.7427516523645881,\n",
              " 'Lasso': 0.6378168128075252}"
            ]
          },
          "metadata": {},
          "execution_count": 366
        }
      ]
    },
    {
      "cell_type": "code",
      "source": [
        "myList = MAE.items()\n",
        "x, y = zip(*myList) \n",
        "\n",
        "plt.plot(x, y)\n",
        "plt.title(\"MAE\", fontsize = 12)\n",
        "plt.show()"
      ],
      "metadata": {
        "colab": {
          "base_uri": "https://localhost:8080/",
          "height": 393
        },
        "id": "08jmIfTlPABk",
        "outputId": "d8c813f0-ba98-4494-dcaf-e799b27b3d75"
      },
      "execution_count": 367,
      "outputs": [
        {
          "output_type": "display_data",
          "data": {
            "text/plain": [
              "<Figure size 432x432 with 1 Axes>"
            ],
            "image/png": "[encoded data removed]"
          },
          "metadata": {}
        }
      ]
    },
    {
      "cell_type": "code",
      "source": [
        "myList = R2.items()\n",
        "x, y = zip(*myList) \n",
        "\n",
        "plt.plot(x, y)\n",
        "plt.title(\"R2\", fontsize = 12)\n",
        "plt.show()"
      ],
      "metadata": {
        "colab": {
          "base_uri": "https://localhost:8080/",
          "height": 393
        },
        "id": "002RvbRASt0_",
        "outputId": "3bfeecd6-c998-401e-ae49-34f41b1594fd"
      },
      "execution_count": 368,
      "outputs": [
        {
          "output_type": "display_data",
          "data": {
            "text/plain": [
              "<Figure size 432x432 with 1 Axes>"
            ],
            "image/png": "[encoded data removed]"
          },
          "metadata": {}
        }
      ]
    },
    {
      "cell_type": "markdown",
      "source": [
        "Decidí usar porcentajes de 80-20, pues esa distribución me permitió obtener un mejor score sin caer en el sobreentrenamiento, pero me dio suficientes datos de training para evitar el sub entrenamiento. Se puede observar que el comportamiento es polinomial, por lo que, en este caso, el lineal no explica para nada la variable dependiente, mientras que Lasso, al eliminar variables tampoco ayuda en el modelo polinomial, por lo que vemos que acertaron de manera muy baja. Por otro lado, el modelo polinomial y el polinomial con ridge, obtuvieron mejores resultados. \n",
        "\n",
        "En todo caso, considero que los resultados generales son más bien malos, lo que nos indica que simplemente el número de unidades no determina por si solo el costo de manofactura. Puede haber otras variables que podríamos tomar en cuenta"
      ],
      "metadata": {
        "id": "i7HKQLQoSyTu"
      }
    },
    {
      "cell_type": "markdown",
      "metadata": {
        "id": "CfqcmLmxLoe9"
      },
      "source": [
        "#Ejercicio 2\n",
        "Realiza la regresión polinomial de los siguientes datos:"
      ]
    },
    {
      "cell_type": "code",
      "source": [
        "df = pd.read_csv('https://raw.githubusercontent.com/marypazrf/bdd/main/kc_house_data.csv')\n",
        "df.sample(10)"
      ],
      "metadata": {
        "id": "57bn0j38qGrg"
      },
      "execution_count": null,
      "outputs": []
    },
    {
      "cell_type": "code",
      "source": [
        "df.info()"
      ],
      "metadata": {
        "id": "n0fs14KoqI3M"
      },
      "execution_count": null,
      "outputs": []
    },
    {
      "cell_type": "code",
      "source": [
        "df.describe()"
      ],
      "metadata": {
        "id": "1PNzDJZeqKhe"
      },
      "execution_count": null,
      "outputs": []
    },
    {
      "cell_type": "code",
      "source": [
        "df.drop('id', axis = 1, inplace = True)\n",
        "df.drop('date', axis = 1, inplace = True)\n",
        "df.drop('zipcode', axis = 1, inplace = True)\n",
        "df.drop('lat', axis = 1, inplace = True)\n",
        "df.drop('long', axis = 1, inplace = True)\n"
      ],
      "metadata": {
        "id": "0KUD8T08qMmq"
      },
      "execution_count": null,
      "outputs": []
    },
    {
      "cell_type": "code",
      "source": [
        "plt.figure(figsize=(12,8)) \n",
        "sns.heatmap(df.corr(), annot=True, cmap='Dark2_r', linewidths = 2)\n",
        "plt.show()"
      ],
      "metadata": {
        "id": "r-jk_nHmqKpp"
      },
      "execution_count": null,
      "outputs": []
    },
    {
      "cell_type": "code",
      "source": [
        "columns = df.columns.drop('price')\n",
        "\n",
        "features = columns\n",
        "label = ['price']\n",
        "\n",
        "X = df[features]\n",
        "y = df[label]"
      ],
      "metadata": {
        "id": "p4zqCnFwq7Oc"
      },
      "execution_count": null,
      "outputs": []
    },
    {
      "cell_type": "code",
      "source": [
        "from sklearn.model_selection import train_test_split\n",
        "X_train, X_test, y_train, y_test = train_test_split(X, y, test_size = 0.1, random_state = 101)\n",
        "\n",
        "print(f'Numero total de registros en la bdd: {len(X)}')\n",
        "print(\"*****\"*10)\n",
        "print(f'Numero total de registros en el training set: {len(X_train)}')\n",
        "print(f'Tamaño de X_train: {X_train.shape}')\n",
        "print(\"*****\"*10)\n",
        "print(f'Mumero total de registros en el test dataset: {len(X_test)}')\n",
        "print(f'Tamaño del X_test: {X_test.shape}')"
      ],
      "metadata": {
        "id": "p91PEVPLq93-"
      },
      "execution_count": null,
      "outputs": []
    },
    {
      "cell_type": "code",
      "source": [
        "#tu codigo aquí"
      ],
      "metadata": {
        "id": "0faHrN8-rv9V"
      },
      "execution_count": null,
      "outputs": []
    }
  ]
}