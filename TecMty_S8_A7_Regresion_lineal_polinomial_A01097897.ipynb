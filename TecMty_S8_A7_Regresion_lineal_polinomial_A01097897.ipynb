{
  "nbformat": 4,
  "nbformat_minor": 0,
  "metadata": {
    "kernelspec": {
      "display_name": "Python 3",
      "language": "python",
      "name": "python3"
    },
    "language_info": {
      "codemirror_mode": {
        "name": "ipython",
        "version": 3
      },
      "file_extension": ".py",
      "mimetype": "text/x-python",
      "name": "python",
      "nbconvert_exporter": "python",
      "pygments_lexer": "ipython3",
      "version": "3.7.7"
    },
    "colab": {
      "provenance": [],
      "collapsed_sections": [
        "TIFwAtW1pc6h"
      ],
      "include_colab_link": true
    },
    "accelerator": "GPU"
  },
  "cells": [
    {
      "cell_type": "markdown",
      "metadata": {
        "id": "view-in-github",
        "colab_type": "text"
      },
      "source": [
        "<a href=\"https://colab.research.google.com/github/PosgradoMNA/actividades-de-aprendizaje-pnogueron/blob/main/TecMty_S8_A7_Regresion_lineal_polinomial_A01097897.ipynb\" target=\"_parent\"><img src=\"https://colab.research.google.com/assets/colab-badge.svg\" alt=\"Open In Colab\"/></a>"
      ]
    },
    {
      "cell_type": "markdown",
      "metadata": {
        "id": "WUO-kdryVQwK"
      },
      "source": [
        "# Linear Models\n"
      ]
    },
    {
      "cell_type": "markdown",
      "metadata": {
        "id": "u3ytB4LpVQwM"
      },
      "source": [
        "- In supervised learning, the training data fed to the algorithm includes the desired solutions, called labels. \n",
        "- In **regression**, the labels are continuous quantities.\n",
        "- Linear models predict by computing a weighted sum of input features plus a bias term."
      ]
    },
    {
      "cell_type": "code",
      "metadata": {
        "id": "HMp_I4Y6VQwN"
      },
      "source": [
        "import numpy as np\n",
        "%matplotlib inline\n",
        "import matplotlib\n",
        "import matplotlib.pyplot as plt\n",
        "import pandas as pd\n",
        "import seaborn as sns\n",
        "from sklearn.model_selection import train_test_split\n",
        "from sklearn.linear_model import LinearRegression, Ridge, Lasso\n",
        "from sklearn import metrics\n",
        "from sklearn.metrics import r2_score\n",
        "# to make this notebook's output stable across runs\n",
        "np.random.seed(42)"
      ],
      "execution_count": 219,
      "outputs": []
    },
    {
      "cell_type": "markdown",
      "metadata": {
        "id": "szpzFXgiVQwN"
      },
      "source": [
        "## Simple Linear Regression\n",
        "\n",
        "Simple linear regression equation:\n",
        "\n",
        "$y = ax + b$\n",
        "<br>\n",
        "$a$: slope\n",
        "<br>\n",
        "$b$: intercept\n",
        "\n",
        "Generate linear-looking data with the equation:\n",
        "\n",
        "$y = 3X + 4 + noise$"
      ]
    },
    {
      "cell_type": "code",
      "metadata": {
        "colab": {
          "base_uri": "https://localhost:8080/"
        },
        "id": "mitJFYeiMQqD",
        "outputId": "531378a8-8c83-4702-d850-4ed120cd437d"
      },
      "source": [
        "np.random.rand(100, 1)"
      ],
      "execution_count": 220,
      "outputs": [
        {
          "output_type": "execute_result",
          "data": {
            "text/plain": [
              "array([[0.37454012],\n",
              "       [0.95071431],\n",
              "       [0.73199394],\n",
              "       [0.59865848],\n",
              "       [0.15601864],\n",
              "       [0.15599452],\n",
              "       [0.05808361],\n",
              "       [0.86617615],\n",
              "       [0.60111501],\n",
              "       [0.70807258],\n",
              "       [0.02058449],\n",
              "       [0.96990985],\n",
              "       [0.83244264],\n",
              "       [0.21233911],\n",
              "       [0.18182497],\n",
              "       [0.18340451],\n",
              "       [0.30424224],\n",
              "       [0.52475643],\n",
              "       [0.43194502],\n",
              "       [0.29122914],\n",
              "       [0.61185289],\n",
              "       [0.13949386],\n",
              "       [0.29214465],\n",
              "       [0.36636184],\n",
              "       [0.45606998],\n",
              "       [0.78517596],\n",
              "       [0.19967378],\n",
              "       [0.51423444],\n",
              "       [0.59241457],\n",
              "       [0.04645041],\n",
              "       [0.60754485],\n",
              "       [0.17052412],\n",
              "       [0.06505159],\n",
              "       [0.94888554],\n",
              "       [0.96563203],\n",
              "       [0.80839735],\n",
              "       [0.30461377],\n",
              "       [0.09767211],\n",
              "       [0.68423303],\n",
              "       [0.44015249],\n",
              "       [0.12203823],\n",
              "       [0.49517691],\n",
              "       [0.03438852],\n",
              "       [0.9093204 ],\n",
              "       [0.25877998],\n",
              "       [0.66252228],\n",
              "       [0.31171108],\n",
              "       [0.52006802],\n",
              "       [0.54671028],\n",
              "       [0.18485446],\n",
              "       [0.96958463],\n",
              "       [0.77513282],\n",
              "       [0.93949894],\n",
              "       [0.89482735],\n",
              "       [0.59789998],\n",
              "       [0.92187424],\n",
              "       [0.0884925 ],\n",
              "       [0.19598286],\n",
              "       [0.04522729],\n",
              "       [0.32533033],\n",
              "       [0.38867729],\n",
              "       [0.27134903],\n",
              "       [0.82873751],\n",
              "       [0.35675333],\n",
              "       [0.28093451],\n",
              "       [0.54269608],\n",
              "       [0.14092422],\n",
              "       [0.80219698],\n",
              "       [0.07455064],\n",
              "       [0.98688694],\n",
              "       [0.77224477],\n",
              "       [0.19871568],\n",
              "       [0.00552212],\n",
              "       [0.81546143],\n",
              "       [0.70685734],\n",
              "       [0.72900717],\n",
              "       [0.77127035],\n",
              "       [0.07404465],\n",
              "       [0.35846573],\n",
              "       [0.11586906],\n",
              "       [0.86310343],\n",
              "       [0.62329813],\n",
              "       [0.33089802],\n",
              "       [0.06355835],\n",
              "       [0.31098232],\n",
              "       [0.32518332],\n",
              "       [0.72960618],\n",
              "       [0.63755747],\n",
              "       [0.88721274],\n",
              "       [0.47221493],\n",
              "       [0.11959425],\n",
              "       [0.71324479],\n",
              "       [0.76078505],\n",
              "       [0.5612772 ],\n",
              "       [0.77096718],\n",
              "       [0.4937956 ],\n",
              "       [0.52273283],\n",
              "       [0.42754102],\n",
              "       [0.02541913],\n",
              "       [0.10789143]])"
            ]
          },
          "metadata": {},
          "execution_count": 220
        }
      ]
    },
    {
      "cell_type": "code",
      "metadata": {
        "colab": {
          "base_uri": "https://localhost:8080/",
          "height": 268
        },
        "id": "QyubE1VEVQwN",
        "outputId": "f37208f6-627f-4b54-f310-583b2bd70124"
      },
      "source": [
        "X = 2 * np.random.rand(100, 1)\n",
        "y = 4 + 3 * X + np.random.randn(100, 1)\n",
        "plt.scatter(X, y);"
      ],
      "execution_count": 221,
      "outputs": [
        {
          "output_type": "display_data",
          "data": {
            "text/plain": [
              "<Figure size 432x288 with 1 Axes>"
            ],
            "image/png": "[encoded data removed]"
          },
          "metadata": {
            "needs_background": "light"
          }
        }
      ]
    },
    {
      "cell_type": "code",
      "source": [
        "import pandas as pd\n",
        "pd.DataFrame(y)"
      ],
      "metadata": {
        "colab": {
          "base_uri": "https://localhost:8080/",
          "height": 423
        },
        "id": "M5kaENJ4bZY5",
        "outputId": "29432bbb-8351-4a48-ce6d-2c8dfb73e2ab"
      },
      "execution_count": 222,
      "outputs": [
        {
          "output_type": "execute_result",
          "data": {
            "text/plain": [
              "            0\n",
              "0    3.508550\n",
              "1    8.050716\n",
              "2    6.179208\n",
              "3    6.337073\n",
              "4   11.311173\n",
              "..        ...\n",
              "95   5.441928\n",
              "96  10.121188\n",
              "97   9.787643\n",
              "98   8.061635\n",
              "99   9.597115\n",
              "\n",
              "[100 rows x 1 columns]"
            ],
            "text/html": [
              "\n",
              "  <div id=\"df-080e8a47-d3c2-47a3-b98c-2f39606e2411\">\n",
              "    <div class=\"colab-df-container\">\n",
              "      <div>\n",
              "<style scoped>\n",
              "    .dataframe tbody tr th:only-of-type {\n",
              "        vertical-align: middle;\n",
              "    }\n",
              "\n",
              "    .dataframe tbody tr th {\n",
              "        vertical-align: top;\n",
              "    }\n",
              "\n",
              "    .dataframe thead th {\n",
              "        text-align: right;\n",
              "    }\n",
              "</style>\n",
              "<table border=\"1\" class=\"dataframe\">\n",
              "  <thead>\n",
              "    <tr style=\"text-align: right;\">\n",
              "      <th></th>\n",
              "      <th>0</th>\n",
              "    </tr>\n",
              "  </thead>\n",
              "  <tbody>\n",
              "    <tr>\n",
              "      <th>0</th>\n",
              "      <td>3.508550</td>\n",
              "    </tr>\n",
              "    <tr>\n",
              "      <th>1</th>\n",
              "      <td>8.050716</td>\n",
              "    </tr>\n",
              "    <tr>\n",
              "      <th>2</th>\n",
              "      <td>6.179208</td>\n",
              "    </tr>\n",
              "    <tr>\n",
              "      <th>3</th>\n",
              "      <td>6.337073</td>\n",
              "    </tr>\n",
              "    <tr>\n",
              "      <th>4</th>\n",
              "      <td>11.311173</td>\n",
              "    </tr>\n",
              "    <tr>\n",
              "      <th>...</th>\n",
              "      <td>...</td>\n",
              "    </tr>\n",
              "    <tr>\n",
              "      <th>95</th>\n",
              "      <td>5.441928</td>\n",
              "    </tr>\n",
              "    <tr>\n",
              "      <th>96</th>\n",
              "      <td>10.121188</td>\n",
              "    </tr>\n",
              "    <tr>\n",
              "      <th>97</th>\n",
              "      <td>9.787643</td>\n",
              "    </tr>\n",
              "    <tr>\n",
              "      <th>98</th>\n",
              "      <td>8.061635</td>\n",
              "    </tr>\n",
              "    <tr>\n",
              "      <th>99</th>\n",
              "      <td>9.597115</td>\n",
              "    </tr>\n",
              "  </tbody>\n",
              "</table>\n",
              "<p>100 rows × 1 columns</p>\n",
              "</div>\n",
              "      <button class=\"colab-df-convert\" onclick=\"convertToInteractive('df-080e8a47-d3c2-47a3-b98c-2f39606e2411')\"\n",
              "              title=\"Convert this dataframe to an interactive table.\"\n",
              "              style=\"display:none;\">\n",
              "        \n",
              "  <svg xmlns=\"http://www.w3.org/2000/svg\" height=\"24px\"viewBox=\"0 0 24 24\"\n",
              "       width=\"24px\">\n",
              "    <path d=\"M0 0h24v24H0V0z\" fill=\"none\"/>\n",
              "    <path d=\"M18.56 5.44l.94 2.06.94-2.06 2.06-.94-2.06-.94-.94-2.06-.94 2.06-2.06.94zm-11 1L8.5 8.5l.94-2.06 2.06-.94-2.06-.94L8.5 2.5l-.94 2.06-2.06.94zm10 10l.94 2.06.94-2.06 2.06-.94-2.06-.94-.94-2.06-.94 2.06-2.06.94z\"/><path d=\"M17.41 7.96l-1.37-1.37c-.4-.4-.92-.59-1.43-.59-.52 0-1.04.2-1.43.59L10.3 9.45l-7.72 7.72c-.78.78-.78 2.05 0 2.83L4 21.41c.39.39.9.59 1.41.59.51 0 1.02-.2 1.41-.59l7.78-7.78 2.81-2.81c.8-.78.8-2.07 0-2.86zM5.41 20L4 18.59l7.72-7.72 1.47 1.35L5.41 20z\"/>\n",
              "  </svg>\n",
              "      </button>\n",
              "      \n",
              "  <style>\n",
              "    .colab-df-container {\n",
              "      display:flex;\n",
              "      flex-wrap:wrap;\n",
              "      gap: 12px;\n",
              "    }\n",
              "\n",
              "    .colab-df-convert {\n",
              "      background-color: #E8F0FE;\n",
              "      border: none;\n",
              "      border-radius: 50%;\n",
              "      cursor: pointer;\n",
              "      display: none;\n",
              "      fill: #1967D2;\n",
              "      height: 32px;\n",
              "      padding: 0 0 0 0;\n",
              "      width: 32px;\n",
              "    }\n",
              "\n",
              "    .colab-df-convert:hover {\n",
              "      background-color: #E2EBFA;\n",
              "      box-shadow: 0px 1px 2px rgba(60, 64, 67, 0.3), 0px 1px 3px 1px rgba(60, 64, 67, 0.15);\n",
              "      fill: #174EA6;\n",
              "    }\n",
              "\n",
              "    [theme=dark] .colab-df-convert {\n",
              "      background-color: #3B4455;\n",
              "      fill: #D2E3FC;\n",
              "    }\n",
              "\n",
              "    [theme=dark] .colab-df-convert:hover {\n",
              "      background-color: #434B5C;\n",
              "      box-shadow: 0px 1px 3px 1px rgba(0, 0, 0, 0.15);\n",
              "      filter: drop-shadow(0px 1px 2px rgba(0, 0, 0, 0.3));\n",
              "      fill: #FFFFFF;\n",
              "    }\n",
              "  </style>\n",
              "\n",
              "      <script>\n",
              "        const buttonEl =\n",
              "          document.querySelector('#df-080e8a47-d3c2-47a3-b98c-2f39606e2411 button.colab-df-convert');\n",
              "        buttonEl.style.display =\n",
              "          google.colab.kernel.accessAllowed ? 'block' : 'none';\n",
              "\n",
              "        async function convertToInteractive(key) {\n",
              "          const element = document.querySelector('#df-080e8a47-d3c2-47a3-b98c-2f39606e2411');\n",
              "          const dataTable =\n",
              "            await google.colab.kernel.invokeFunction('convertToInteractive',\n",
              "                                                     [key], {});\n",
              "          if (!dataTable) return;\n",
              "\n",
              "          const docLinkHtml = 'Like what you see? Visit the ' +\n",
              "            '<a target=\"_blank\" href=https://colab.research.google.com/notebooks/data_table.ipynb>data table notebook</a>'\n",
              "            + ' to learn more about interactive tables.';\n",
              "          element.innerHTML = '';\n",
              "          dataTable['output_type'] = 'display_data';\n",
              "          await google.colab.output.renderOutput(dataTable, element);\n",
              "          const docLink = document.createElement('div');\n",
              "          docLink.innerHTML = docLinkHtml;\n",
              "          element.appendChild(docLink);\n",
              "        }\n",
              "      </script>\n",
              "    </div>\n",
              "  </div>\n",
              "  "
            ]
          },
          "metadata": {},
          "execution_count": 222
        }
      ]
    },
    {
      "cell_type": "code",
      "metadata": {
        "colab": {
          "base_uri": "https://localhost:8080/"
        },
        "id": "x6XGt_iAVQwO",
        "outputId": "83692b9d-c4d1-4860-cb10-345c42427b31"
      },
      "source": [
        "linear_reg = LinearRegression(fit_intercept = True)\n",
        "linear_reg.fit(X, y)"
      ],
      "execution_count": 223,
      "outputs": [
        {
          "output_type": "execute_result",
          "data": {
            "text/plain": [
              "LinearRegression()"
            ]
          },
          "metadata": {},
          "execution_count": 223
        }
      ]
    },
    {
      "cell_type": "markdown",
      "metadata": {
        "id": "Hnm9YgjbVQwO"
      },
      "source": [
        "Plot the model's predictions:"
      ]
    },
    {
      "cell_type": "code",
      "metadata": {
        "id": "9NtrLfGGVQwP"
      },
      "source": [
        "y_hat = pd.DataFrame(linear_reg.predict(X))"
      ],
      "execution_count": 224,
      "outputs": []
    },
    {
      "cell_type": "code",
      "source": [
        "sns.set(rc={'figure.figsize':(6,6)})\n",
        "plt.scatter(X, y_hat);"
      ],
      "metadata": {
        "colab": {
          "base_uri": "https://localhost:8080/",
          "height": 377
        },
        "id": "d3yo5hMLxrjt",
        "outputId": "96b5c076-f27f-4bb7-bb58-e390ce125451"
      },
      "execution_count": 225,
      "outputs": [
        {
          "output_type": "display_data",
          "data": {
            "text/plain": [
              "<Figure size 432x432 with 1 Axes>"
            ],
            "image/png": "[encoded data removed]"
          },
          "metadata": {}
        }
      ]
    },
    {
      "cell_type": "code",
      "metadata": {
        "colab": {
          "base_uri": "https://localhost:8080/",
          "height": 399
        },
        "id": "1ZTT31igVQwP",
        "outputId": "96111b2e-0e9e-461a-b72f-8fd407983f7e"
      },
      "source": [
        "# construct best fit line\n",
        "X_fit = np.linspace(0, 2, 100)\n",
        "y_fit = linear_reg.predict(X_fit[:, np.newaxis])\n",
        "\n",
        "plt.scatter(X, y)\n",
        "plt.plot(X_fit, y_fit, \"r-\", linewidth=2, label=\"Predictions\")\n",
        "plt.xlabel(\"$X$\", fontsize=18)\n",
        "plt.ylabel(\"$y$\", rotation=0, fontsize=18)\n",
        "plt.legend(loc=\"upper left\", fontsize=14);"
      ],
      "execution_count": 226,
      "outputs": [
        {
          "output_type": "display_data",
          "data": {
            "text/plain": [
              "<Figure size 432x432 with 1 Axes>"
            ],
            "image/png": "[encoded data removed]"
          },
          "metadata": {}
        }
      ]
    },
    {
      "cell_type": "markdown",
      "metadata": {
        "id": "kIfOsEcWVQwP"
      },
      "source": [
        "Predictions are a good fit."
      ]
    },
    {
      "cell_type": "markdown",
      "metadata": {
        "id": "z2VYUeGrVQwQ"
      },
      "source": [
        "Generate new data to make predictions with the model:"
      ]
    },
    {
      "cell_type": "code",
      "metadata": {
        "colab": {
          "base_uri": "https://localhost:8080/"
        },
        "id": "FuEd0Wp0VQwQ",
        "outputId": "dc61a15a-a47b-4361-871d-b611c1f8508b"
      },
      "source": [
        "X_new = np.array([[0], [2]])\n",
        "X_new"
      ],
      "execution_count": 227,
      "outputs": [
        {
          "output_type": "execute_result",
          "data": {
            "text/plain": [
              "array([[0],\n",
              "       [2]])"
            ]
          },
          "metadata": {},
          "execution_count": 227
        }
      ]
    },
    {
      "cell_type": "code",
      "metadata": {
        "colab": {
          "base_uri": "https://localhost:8080/"
        },
        "id": "lLCnLm7_VQwQ",
        "outputId": "c6627f18-4a1a-417d-b09e-80347d769a01"
      },
      "source": [
        "X_new.shape"
      ],
      "execution_count": 228,
      "outputs": [
        {
          "output_type": "execute_result",
          "data": {
            "text/plain": [
              "(2, 1)"
            ]
          },
          "metadata": {},
          "execution_count": 228
        }
      ]
    },
    {
      "cell_type": "code",
      "metadata": {
        "colab": {
          "base_uri": "https://localhost:8080/"
        },
        "id": "zJIzUfZsVQwQ",
        "outputId": "b4e4ea6d-fd48-485f-bd70-4c8f2804b637"
      },
      "source": [
        "y_new = linear_reg.predict(X_new)\n",
        "y_new"
      ],
      "execution_count": 229,
      "outputs": [
        {
          "output_type": "execute_result",
          "data": {
            "text/plain": [
              "array([[ 3.74406122],\n",
              "       [10.47517611]])"
            ]
          },
          "metadata": {},
          "execution_count": 229
        }
      ]
    },
    {
      "cell_type": "code",
      "metadata": {
        "colab": {
          "base_uri": "https://localhost:8080/"
        },
        "id": "ICiEnkbdVQwQ",
        "outputId": "a919e661-ce1d-4094-be0e-960b8d6c83ad"
      },
      "source": [
        " linear_reg.coef_, linear_reg.intercept_"
      ],
      "execution_count": 230,
      "outputs": [
        {
          "output_type": "execute_result",
          "data": {
            "text/plain": [
              "(array([[3.36555744]]), array([3.74406122]))"
            ]
          },
          "metadata": {},
          "execution_count": 230
        }
      ]
    },
    {
      "cell_type": "markdown",
      "metadata": {
        "id": "iBXzOecgVQwR"
      },
      "source": [
        "The model estimates:\n",
        "\n",
        "$\\hat{y} = 3.36X + 3.74$"
      ]
    },
    {
      "cell_type": "code",
      "metadata": {
        "id": "ZNvipq0wQYfj"
      },
      "source": [
        "#|VENTAS|GANANCIAS|\n",
        "#COEF*VENTAS+B\n",
        "#|VENTAS|COMPRAS|GANANCIAS|\n",
        "#COEF1*X1+COEF2*X2+B=Y"
      ],
      "execution_count": null,
      "outputs": []
    },
    {
      "cell_type": "markdown",
      "metadata": {
        "id": "_Rv-RJSnVQwR"
      },
      "source": [
        "## Polynomial Regression\n",
        "\n",
        "If data is more complex than a straight line, you can use a linear model ti fit non-linear data adding powers of each feature as new features and then train a linear model on the extended set of features. "
      ]
    },
    {
      "cell_type": "markdown",
      "metadata": {
        "id": "dPrpAVsZVQwR"
      },
      "source": [
        "$$y = a_0 + a_1x_1 + a_2x_2 + a_3x_3 + ...$$ to $$y = a_0 + a_1x + a_2x^2 + a_3x^3+ ...$$ "
      ]
    },
    {
      "cell_type": "markdown",
      "metadata": {
        "id": "9kjMWzEfVQwR"
      },
      "source": [
        "This is still a linear model, the linearity refers to the fact that the coefficients never multiply or divide each other."
      ]
    },
    {
      "cell_type": "markdown",
      "metadata": {
        "id": "2M3fp_CSVQwR"
      },
      "source": [
        "To generate polynomial data we use the function:\n",
        "\n",
        "$y = 0.50X^2 + X + 2 + noise$"
      ]
    },
    {
      "cell_type": "code",
      "metadata": {
        "id": "sSrueMnPVQwR"
      },
      "source": [
        "# generate non-linear data e.g. quadratic equation\n",
        "m = 100\n",
        "X = 6 * np.random.rand(m, 1) - 3\n",
        "y = 0.5 * X**2 + X + 2 + np.random.randn(m, 1)"
      ],
      "execution_count": 231,
      "outputs": []
    },
    {
      "cell_type": "code",
      "metadata": {
        "colab": {
          "base_uri": "https://localhost:8080/",
          "height": 403
        },
        "id": "GNQQoXkMVQwS",
        "outputId": "403af2d4-bf41-4f93-d9f7-38ce69784d23"
      },
      "source": [
        "plt.plot(X, y, \"b.\")\n",
        "plt.xlabel(\"$x_1$\", fontsize=18)\n",
        "plt.ylabel(\"$y$\", rotation=0, fontsize=18)\n",
        "plt.axis([-3, 3, 0, 10]);"
      ],
      "execution_count": 232,
      "outputs": [
        {
          "output_type": "display_data",
          "data": {
            "text/plain": [
              "<Figure size 432x432 with 1 Axes>"
            ],
            "image/png": "[encoded data removed]"
          },
          "metadata": {}
        }
      ]
    },
    {
      "cell_type": "code",
      "source": [
        "import pandas as pd\n",
        "pd.DataFrame(y)"
      ],
      "metadata": {
        "id": "YtaK_dsidNcP",
        "outputId": "6545e63a-45b8-4771-ee33-c1271cee4b16",
        "colab": {
          "base_uri": "https://localhost:8080/",
          "height": 423
        }
      },
      "execution_count": 233,
      "outputs": [
        {
          "output_type": "execute_result",
          "data": {
            "text/plain": [
              "           0\n",
              "0   8.529240\n",
              "1   3.768929\n",
              "2   3.354423\n",
              "3   2.747935\n",
              "4   0.808458\n",
              "..       ...\n",
              "95  5.346771\n",
              "96  6.338229\n",
              "97  3.488785\n",
              "98  1.372002\n",
              "99 -0.072150\n",
              "\n",
              "[100 rows x 1 columns]"
            ],
            "text/html": [
              "\n",
              "  <div id=\"df-d19f57f7-f692-4cb0-acdf-221d0e6d4494\">\n",
              "    <div class=\"colab-df-container\">\n",
              "      <div>\n",
              "<style scoped>\n",
              "    .dataframe tbody tr th:only-of-type {\n",
              "        vertical-align: middle;\n",
              "    }\n",
              "\n",
              "    .dataframe tbody tr th {\n",
              "        vertical-align: top;\n",
              "    }\n",
              "\n",
              "    .dataframe thead th {\n",
              "        text-align: right;\n",
              "    }\n",
              "</style>\n",
              "<table border=\"1\" class=\"dataframe\">\n",
              "  <thead>\n",
              "    <tr style=\"text-align: right;\">\n",
              "      <th></th>\n",
              "      <th>0</th>\n",
              "    </tr>\n",
              "  </thead>\n",
              "  <tbody>\n",
              "    <tr>\n",
              "      <th>0</th>\n",
              "      <td>8.529240</td>\n",
              "    </tr>\n",
              "    <tr>\n",
              "      <th>1</th>\n",
              "      <td>3.768929</td>\n",
              "    </tr>\n",
              "    <tr>\n",
              "      <th>2</th>\n",
              "      <td>3.354423</td>\n",
              "    </tr>\n",
              "    <tr>\n",
              "      <th>3</th>\n",
              "      <td>2.747935</td>\n",
              "    </tr>\n",
              "    <tr>\n",
              "      <th>4</th>\n",
              "      <td>0.808458</td>\n",
              "    </tr>\n",
              "    <tr>\n",
              "      <th>...</th>\n",
              "      <td>...</td>\n",
              "    </tr>\n",
              "    <tr>\n",
              "      <th>95</th>\n",
              "      <td>5.346771</td>\n",
              "    </tr>\n",
              "    <tr>\n",
              "      <th>96</th>\n",
              "      <td>6.338229</td>\n",
              "    </tr>\n",
              "    <tr>\n",
              "      <th>97</th>\n",
              "      <td>3.488785</td>\n",
              "    </tr>\n",
              "    <tr>\n",
              "      <th>98</th>\n",
              "      <td>1.372002</td>\n",
              "    </tr>\n",
              "    <tr>\n",
              "      <th>99</th>\n",
              "      <td>-0.072150</td>\n",
              "    </tr>\n",
              "  </tbody>\n",
              "</table>\n",
              "<p>100 rows × 1 columns</p>\n",
              "</div>\n",
              "      <button class=\"colab-df-convert\" onclick=\"convertToInteractive('df-d19f57f7-f692-4cb0-acdf-221d0e6d4494')\"\n",
              "              title=\"Convert this dataframe to an interactive table.\"\n",
              "              style=\"display:none;\">\n",
              "        \n",
              "  <svg xmlns=\"http://www.w3.org/2000/svg\" height=\"24px\"viewBox=\"0 0 24 24\"\n",
              "       width=\"24px\">\n",
              "    <path d=\"M0 0h24v24H0V0z\" fill=\"none\"/>\n",
              "    <path d=\"M18.56 5.44l.94 2.06.94-2.06 2.06-.94-2.06-.94-.94-2.06-.94 2.06-2.06.94zm-11 1L8.5 8.5l.94-2.06 2.06-.94-2.06-.94L8.5 2.5l-.94 2.06-2.06.94zm10 10l.94 2.06.94-2.06 2.06-.94-2.06-.94-.94-2.06-.94 2.06-2.06.94z\"/><path d=\"M17.41 7.96l-1.37-1.37c-.4-.4-.92-.59-1.43-.59-.52 0-1.04.2-1.43.59L10.3 9.45l-7.72 7.72c-.78.78-.78 2.05 0 2.83L4 21.41c.39.39.9.59 1.41.59.51 0 1.02-.2 1.41-.59l7.78-7.78 2.81-2.81c.8-.78.8-2.07 0-2.86zM5.41 20L4 18.59l7.72-7.72 1.47 1.35L5.41 20z\"/>\n",
              "  </svg>\n",
              "      </button>\n",
              "      \n",
              "  <style>\n",
              "    .colab-df-container {\n",
              "      display:flex;\n",
              "      flex-wrap:wrap;\n",
              "      gap: 12px;\n",
              "    }\n",
              "\n",
              "    .colab-df-convert {\n",
              "      background-color: #E8F0FE;\n",
              "      border: none;\n",
              "      border-radius: 50%;\n",
              "      cursor: pointer;\n",
              "      display: none;\n",
              "      fill: #1967D2;\n",
              "      height: 32px;\n",
              "      padding: 0 0 0 0;\n",
              "      width: 32px;\n",
              "    }\n",
              "\n",
              "    .colab-df-convert:hover {\n",
              "      background-color: #E2EBFA;\n",
              "      box-shadow: 0px 1px 2px rgba(60, 64, 67, 0.3), 0px 1px 3px 1px rgba(60, 64, 67, 0.15);\n",
              "      fill: #174EA6;\n",
              "    }\n",
              "\n",
              "    [theme=dark] .colab-df-convert {\n",
              "      background-color: #3B4455;\n",
              "      fill: #D2E3FC;\n",
              "    }\n",
              "\n",
              "    [theme=dark] .colab-df-convert:hover {\n",
              "      background-color: #434B5C;\n",
              "      box-shadow: 0px 1px 3px 1px rgba(0, 0, 0, 0.15);\n",
              "      filter: drop-shadow(0px 1px 2px rgba(0, 0, 0, 0.3));\n",
              "      fill: #FFFFFF;\n",
              "    }\n",
              "  </style>\n",
              "\n",
              "      <script>\n",
              "        const buttonEl =\n",
              "          document.querySelector('#df-d19f57f7-f692-4cb0-acdf-221d0e6d4494 button.colab-df-convert');\n",
              "        buttonEl.style.display =\n",
              "          google.colab.kernel.accessAllowed ? 'block' : 'none';\n",
              "\n",
              "        async function convertToInteractive(key) {\n",
              "          const element = document.querySelector('#df-d19f57f7-f692-4cb0-acdf-221d0e6d4494');\n",
              "          const dataTable =\n",
              "            await google.colab.kernel.invokeFunction('convertToInteractive',\n",
              "                                                     [key], {});\n",
              "          if (!dataTable) return;\n",
              "\n",
              "          const docLinkHtml = 'Like what you see? Visit the ' +\n",
              "            '<a target=\"_blank\" href=https://colab.research.google.com/notebooks/data_table.ipynb>data table notebook</a>'\n",
              "            + ' to learn more about interactive tables.';\n",
              "          element.innerHTML = '';\n",
              "          dataTable['output_type'] = 'display_data';\n",
              "          await google.colab.output.renderOutput(dataTable, element);\n",
              "          const docLink = document.createElement('div');\n",
              "          docLink.innerHTML = docLinkHtml;\n",
              "          element.appendChild(docLink);\n",
              "        }\n",
              "      </script>\n",
              "    </div>\n",
              "  </div>\n",
              "  "
            ]
          },
          "metadata": {},
          "execution_count": 233
        }
      ]
    },
    {
      "cell_type": "markdown",
      "metadata": {
        "id": "vrZTRaLNVQwS"
      },
      "source": [
        "Now we can use `PolynomialFeatues` to transform training data adding the square of each feature as new features."
      ]
    },
    {
      "cell_type": "code",
      "metadata": {
        "id": "BXo0Hm56VQwS"
      },
      "source": [
        "from sklearn.preprocessing import PolynomialFeatures\n",
        "\n",
        "poly_features = PolynomialFeatures(degree=2, include_bias=False)\n",
        "X_poly = poly_features.fit_transform(X)"
      ],
      "execution_count": 234,
      "outputs": []
    },
    {
      "cell_type": "code",
      "metadata": {
        "colab": {
          "base_uri": "https://localhost:8080/"
        },
        "id": "1FqY9-I4VQwS",
        "outputId": "4e8e7343-7d71-466b-c29f-480eccdd0a3b"
      },
      "source": [
        "X_poly"
      ],
      "execution_count": 235,
      "outputs": [
        {
          "output_type": "execute_result",
          "data": {
            "text/plain": [
              "array([[ 2.72919168e+00,  7.44848725e+00],\n",
              "       [ 1.42738150e+00,  2.03741795e+00],\n",
              "       [ 3.26124315e-01,  1.06357069e-01],\n",
              "       [ 6.70324477e-01,  4.49334905e-01],\n",
              "       [-4.82399625e-01,  2.32709399e-01],\n",
              "       [-1.51361406e+00,  2.29102753e+00],\n",
              "       [-8.64163928e-01,  7.46779295e-01],\n",
              "       [ 1.54707666e+00,  2.39344620e+00],\n",
              "       [-2.91363907e+00,  8.48929262e+00],\n",
              "       [-2.30356416e+00,  5.30640783e+00],\n",
              "       [-2.72398415e+00,  7.42008964e+00],\n",
              "       [-2.75562719e+00,  7.59348119e+00],\n",
              "       [ 2.13276350e+00,  4.54868016e+00],\n",
              "       [ 1.22194716e+00,  1.49315485e+00],\n",
              "       [-1.54957025e-01,  2.40116797e-02],\n",
              "       [-2.41299504e+00,  5.82254504e+00],\n",
              "       [-5.03047493e-02,  2.53056780e-03],\n",
              "       [-1.59169375e-01,  2.53348900e-02],\n",
              "       [-1.96078878e+00,  3.84469264e+00],\n",
              "       [-3.96890105e-01,  1.57521755e-01],\n",
              "       [-6.08971594e-01,  3.70846402e-01],\n",
              "       [ 6.95100588e-01,  4.83164828e-01],\n",
              "       [ 8.10561905e-01,  6.57010602e-01],\n",
              "       [-2.72817594e+00,  7.44294397e+00],\n",
              "       [-7.52324312e-01,  5.65991871e-01],\n",
              "       [ 7.55159494e-01,  5.70265862e-01],\n",
              "       [ 1.88175515e-02,  3.54100244e-04],\n",
              "       [ 2.13893905e+00,  4.57506025e+00],\n",
              "       [ 9.52161790e-01,  9.06612074e-01],\n",
              "       [-2.02239344e+00,  4.09007522e+00],\n",
              "       [-2.57658752e+00,  6.63880323e+00],\n",
              "       [ 8.54515669e-01,  7.30197029e-01],\n",
              "       [-2.84093214e+00,  8.07089541e+00],\n",
              "       [ 5.14653488e-01,  2.64868212e-01],\n",
              "       [ 2.64138145e+00,  6.97689596e+00],\n",
              "       [ 4.52845067e-01,  2.05068655e-01],\n",
              "       [-6.70980443e-01,  4.50214755e-01],\n",
              "       [ 8.59729311e-01,  7.39134488e-01],\n",
              "       [-2.50482657e-01,  6.27415615e-02],\n",
              "       [ 2.73700736e-01,  7.49120928e-02],\n",
              "       [ 2.64878885e+00,  7.01608239e+00],\n",
              "       [-6.83384173e-01,  4.67013928e-01],\n",
              "       [ 2.76714338e+00,  7.65708250e+00],\n",
              "       [ 2.43210385e+00,  5.91512915e+00],\n",
              "       [-1.82525319e+00,  3.33154921e+00],\n",
              "       [-2.58383219e+00,  6.67618881e+00],\n",
              "       [-2.39533199e+00,  5.73761535e+00],\n",
              "       [-2.89066905e+00,  8.35596753e+00],\n",
              "       [-2.43334224e+00,  5.92115443e+00],\n",
              "       [ 1.09804064e+00,  1.20569325e+00],\n",
              "       [-2.57286811e+00,  6.61965031e+00],\n",
              "       [-1.08614622e+00,  1.17971361e+00],\n",
              "       [ 2.06925187e+00,  4.28180328e+00],\n",
              "       [-2.86036839e+00,  8.18170730e+00],\n",
              "       [ 1.88681090e+00,  3.56005536e+00],\n",
              "       [-1.30887135e+00,  1.71314421e+00],\n",
              "       [-2.29101103e+00,  5.24873156e+00],\n",
              "       [ 1.18042299e+00,  1.39339844e+00],\n",
              "       [ 7.73657081e-01,  5.98545278e-01],\n",
              "       [ 2.26483208e+00,  5.12946436e+00],\n",
              "       [ 1.41042626e+00,  1.98930224e+00],\n",
              "       [ 1.82088558e+00,  3.31562430e+00],\n",
              "       [-1.30779256e+00,  1.71032139e+00],\n",
              "       [-1.93536274e+00,  3.74562893e+00],\n",
              "       [ 1.50368851e+00,  2.26107913e+00],\n",
              "       [ 1.84100844e+00,  3.38931206e+00],\n",
              "       [ 2.94303085e+00,  8.66143060e+00],\n",
              "       [-5.24293939e-01,  2.74884134e-01],\n",
              "       [-7.67891485e-01,  5.89657333e-01],\n",
              "       [ 1.65847776e+00,  2.75054850e+00],\n",
              "       [-9.55178758e-01,  9.12366461e-01],\n",
              "       [ 2.58454395e+00,  6.67986745e+00],\n",
              "       [ 2.15047651e+00,  4.62454922e+00],\n",
              "       [-4.26035836e-01,  1.81506533e-01],\n",
              "       [ 1.50522641e+00,  2.26570654e+00],\n",
              "       [ 1.52725724e+00,  2.33251469e+00],\n",
              "       [-2.38125679e+00,  5.67038389e+00],\n",
              "       [ 2.41531744e+00,  5.83375834e+00],\n",
              "       [ 3.15142347e-02,  9.93146988e-04],\n",
              "       [ 1.95874480e+00,  3.83668118e+00],\n",
              "       [-1.07970239e+00,  1.16575726e+00],\n",
              "       [ 2.37313937e+00,  5.63179047e+00],\n",
              "       [-6.64789928e-01,  4.41945648e-01],\n",
              "       [-2.93497409e+00,  8.61407292e+00],\n",
              "       [ 2.43229186e+00,  5.91604369e+00],\n",
              "       [-2.45227994e+00,  6.01367690e+00],\n",
              "       [-1.08411817e+00,  1.17531222e+00],\n",
              "       [ 2.70037180e+00,  7.29200787e+00],\n",
              "       [ 2.70364288e+00,  7.30968483e+00],\n",
              "       [ 4.40627329e-01,  1.94152443e-01],\n",
              "       [ 7.91023273e-01,  6.25717818e-01],\n",
              "       [-3.09326868e-01,  9.56831113e-02],\n",
              "       [-1.24073537e+00,  1.53942426e+00],\n",
              "       [-1.02801273e+00,  1.05681017e+00],\n",
              "       [ 1.03511074e+00,  1.07145424e+00],\n",
              "       [ 1.51424718e+00,  2.29294451e+00],\n",
              "       [ 1.74947426e+00,  3.06066019e+00],\n",
              "       [ 1.73770886e+00,  3.01963207e+00],\n",
              "       [-2.45276338e+00,  6.01604821e+00],\n",
              "       [-3.34781718e-02,  1.12078799e-03]])"
            ]
          },
          "metadata": {},
          "execution_count": 235
        }
      ]
    },
    {
      "cell_type": "markdown",
      "metadata": {
        "id": "GrFMRU_eVQwS"
      },
      "source": [
        "`X_poly` now contains the original feature of X plus the square of the feature:"
      ]
    },
    {
      "cell_type": "code",
      "metadata": {
        "colab": {
          "base_uri": "https://localhost:8080/"
        },
        "id": "M8FH1dY2UwgN",
        "outputId": "5b443f45-ad5b-4a2e-d3a1-625adbc05f2c"
      },
      "source": [
        "print(X[0])\n",
        "print(X[0]*X[0])\n"
      ],
      "execution_count": 236,
      "outputs": [
        {
          "output_type": "stream",
          "name": "stdout",
          "text": [
            "[2.72919168]\n",
            "[7.44848725]\n"
          ]
        }
      ]
    },
    {
      "cell_type": "code",
      "metadata": {
        "colab": {
          "base_uri": "https://localhost:8080/"
        },
        "id": "PSflPniWVQwT",
        "outputId": "90e4d529-6ab3-4c48-ccb0-905468339bae"
      },
      "source": [
        "X_poly[0]"
      ],
      "execution_count": 237,
      "outputs": [
        {
          "output_type": "execute_result",
          "data": {
            "text/plain": [
              "array([2.72919168, 7.44848725])"
            ]
          },
          "metadata": {},
          "execution_count": 237
        }
      ]
    },
    {
      "cell_type": "markdown",
      "metadata": {
        "id": "HaXjXg7FVQwT"
      },
      "source": [
        "Fit the model to this extended training data:"
      ]
    },
    {
      "cell_type": "code",
      "metadata": {
        "colab": {
          "base_uri": "https://localhost:8080/"
        },
        "id": "c0Qu93dgVQwT",
        "outputId": "c547c0c6-9613-4860-b8fb-a372744c366c"
      },
      "source": [
        "lin_reg = LinearRegression(fit_intercept=True)\n",
        "lin_reg.fit(X_poly, y)\n",
        "lin_reg.coef_, lin_reg.intercept_"
      ],
      "execution_count": 238,
      "outputs": [
        {
          "output_type": "execute_result",
          "data": {
            "text/plain": [
              "(array([[1.04271531, 0.50866711]]), array([2.01873554]))"
            ]
          },
          "metadata": {},
          "execution_count": 238
        }
      ]
    },
    {
      "cell_type": "markdown",
      "metadata": {
        "id": "rKOSwvnmVQwT"
      },
      "source": [
        "The model estimates:\n",
        "\n",
        "$\\hat{y} =  0.89X +0.48X^2 + 2.09$"
      ]
    },
    {
      "cell_type": "markdown",
      "metadata": {
        "id": "_EtZEKz5VQwT"
      },
      "source": [
        "Plot the data and the predictions:"
      ]
    },
    {
      "cell_type": "code",
      "metadata": {
        "colab": {
          "base_uri": "https://localhost:8080/",
          "height": 403
        },
        "id": "6Q8dHRgdVQwT",
        "outputId": "5e76192a-2682-4381-ccd8-a34a19b119ae"
      },
      "source": [
        "X_new=np.linspace(-3, 3, 100).reshape(100, 1)\n",
        "X_new_poly = poly_features.transform(X_new)\n",
        "y_new = lin_reg.predict(X_new_poly)\n",
        "plt.plot(X, y, \"b.\")\n",
        "plt.plot(X_new, y_new, \"r-\", linewidth=2, label=\"Predictions\")\n",
        "plt.xlabel(\"$x_1$\", fontsize=18)\n",
        "plt.ylabel(\"$y$\", rotation=0, fontsize=18)\n",
        "plt.legend(loc=\"upper left\", fontsize=14)\n",
        "plt.axis([-3, 3, 0, 10]);"
      ],
      "execution_count": 239,
      "outputs": [
        {
          "output_type": "display_data",
          "data": {
            "text/plain": [
              "<Figure size 432x432 with 1 Axes>"
            ],
            "image/png": "[encoded data removed]"
          },
          "metadata": {}
        }
      ]
    },
    {
      "cell_type": "markdown",
      "source": [
        "## R square\n",
        "\n",
        "R² es una medida estadística de qué tan cerca están los datos de la línea de regresión ajustada. También se conoce como el coeficiente de determinación o el coeficiente de determinación múltiple para la regresión múltiple. Para decirlo en un lenguaje más simple, R² es una medida de ajuste para los modelos de regresión lineal.\n",
        "\n",
        "\n",
        "\n",
        "R² no indica si un modelo de regresión se ajusta adecuadamente a sus datos. Un buen modelo puede tener un valor R² bajo. Por otro lado, un modelo sesgado puede tener un valor alto de R².\n",
        "\n",
        " SSres + SSreg = SStot, R² = Explained variation / Total Variation\n",
        " \n",
        " ![image.png](https://i.stack.imgur.com/xb1VY.png)\n",
        " \n",
        "![image.png](https://3.bp.blogspot.com/-MFqQLwbGwd4/WMO7tz39beI/AAAAAAAAF9I/Bjpfohgv_5E4lu7HzHJBQtXsBM--byqPwCLcB/s1600/rsquared.png)\n"
      ],
      "metadata": {
        "id": "TIFwAtW1pc6h"
      }
    },
    {
      "cell_type": "markdown",
      "metadata": {
        "id": "nTKFj4x9LMXm"
      },
      "source": [
        "# Ejercicio 1\n",
        "\n",
        "Utiliza la base de datos de \n",
        "https://www.kaggle.com/vinicius150987/manufacturing-cost\n",
        "\n",
        "Suponga que trabaja como consultor de una empresa de nueva creación que busca desarrollar un modelo para estimar el costo de los bienes vendidos a medida que varían el volumen de producción (número de unidades producidas). La startup recopiló datos y le pidió que desarrollara un modelo para predecir su costo frente a la cantidad de unidades vendidas."
      ]
    },
    {
      "cell_type": "code",
      "metadata": {
        "id": "oTnErQOkL3oa"
      },
      "source": [
        "import pandas as pd\n",
        "df = pd.read_csv('https://raw.githubusercontent.com/marypazrf/bdd/main/EconomiesOfScale.csv')\n",
        "df.sample(10)\n",
        "\n",
        "MAE = {}\n",
        "R2 = {}"
      ],
      "execution_count": 328,
      "outputs": []
    },
    {
      "cell_type": "code",
      "metadata": {
        "id": "14kGO5nkMGlV"
      },
      "source": [
        "X = df[['Number of Units']]\n",
        "y = df['Manufacturing Cost']"
      ],
      "execution_count": 329,
      "outputs": []
    },
    {
      "cell_type": "code",
      "source": [
        "len(X)"
      ],
      "metadata": {
        "id": "ksh_OrkjY3GW",
        "outputId": "feef03ca-1875-48de-b445-4ae038b4e557",
        "colab": {
          "base_uri": "https://localhost:8080/"
        }
      },
      "execution_count": 330,
      "outputs": [
        {
          "output_type": "execute_result",
          "data": {
            "text/plain": [
              "1000"
            ]
          },
          "metadata": {},
          "execution_count": 330
        }
      ]
    },
    {
      "cell_type": "code",
      "source": [
        "y.describe"
      ],
      "metadata": {
        "colab": {
          "base_uri": "https://localhost:8080/"
        },
        "id": "bwR6SSqQDfC2",
        "outputId": "e76dadb2-e949-4c0f-d31e-3907214d8f51"
      },
      "execution_count": 331,
      "outputs": [
        {
          "output_type": "execute_result",
          "data": {
            "text/plain": [
              "<bound method NDFrame.describe of 0      95.066056\n",
              "1      96.531750\n",
              "2      73.661311\n",
              "3      95.566843\n",
              "4      98.777013\n",
              "         ...    \n",
              "995    23.855067\n",
              "996    27.536542\n",
              "997    25.973787\n",
              "998    25.138311\n",
              "999    21.547777\n",
              "Name: Manufacturing Cost, Length: 1000, dtype: float64>"
            ]
          },
          "metadata": {},
          "execution_count": 331
        }
      ]
    },
    {
      "cell_type": "code",
      "metadata": {
        "colab": {
          "base_uri": "https://localhost:8080/",
          "height": 395
        },
        "id": "idoEjfEhMoxk",
        "outputId": "f118c843-11b9-4be9-b705-506566f0b0e1"
      },
      "source": [
        "plt.plot(X,y,'b.')"
      ],
      "execution_count": 332,
      "outputs": [
        {
          "output_type": "execute_result",
          "data": {
            "text/plain": [
              "[<matplotlib.lines.Line2D at 0x7f55b57f68d0>]"
            ]
          },
          "metadata": {},
          "execution_count": 332
        },
        {
          "output_type": "display_data",
          "data": {
            "text/plain": [
              "<Figure size 432x432 with 1 Axes>"
            ],
            "image/png": "[encoded data removed]"
          },
          "metadata": {}
        }
      ]
    },
    {
      "cell_type": "code",
      "source": [
        "#Dividimos los datos \n",
        "X_train, X_test, y_train, y_test = train_test_split(X, y, test_size = 0.2, random_state = 101)"
      ],
      "metadata": {
        "id": "X61286W_AuM4"
      },
      "execution_count": 333,
      "outputs": []
    },
    {
      "cell_type": "code",
      "source": [
        "#lineal\n",
        "lrm = LinearRegression()\n",
        "lrm.fit(X_train, y_train)\n",
        "\n",
        "y_pred = lrm.predict(X_test)\n",
        "\n",
        "print('Coeficiente de la formula:', lrm.coef_)\n",
        "print('Intercept de la fórmula:', lrm.intercept_)\n",
        "print(\"Fórmula: y = %f %f X\" % (lrm.intercept_, lrm.coef_))\n",
        "print('Error medio Absoluto (MAE):', metrics.mean_absolute_error(y_test, y_pred))\n",
        "print('Root Mean Squared Error:', np.sqrt(metrics.mean_squared_error(y_test, y_pred)))\n",
        "print('r2_score',r2_score(y_test, y_pred))\n",
        "\n",
        "MAE['Lineal'] = metrics.mean_absolute_error(y_test, y_pred)\n",
        "R2['Lineal'] = r2_score(y_test, y_pred)\n",
        "\n",
        "plt.plot(X_test, y_test, \"b.\")\n",
        "plt.plot(X_test, y_pred, \"r-\", linewidth = 1, label = \"Predictions\")\n",
        "plt.xlabel(\"Number of units\", fontsize = 12)\n",
        "plt.ylabel(\"Manufacturing cost\", fontsize = 12)\n",
        "plt.legend(loc=\"upper right\", fontsize = 12)\n",
        "#plt.axis([-3, 3, 0, 10]);"
      ],
      "metadata": {
        "id": "kMmOy97puOLE",
        "colab": {
          "base_uri": "https://localhost:8080/",
          "height": 523
        },
        "outputId": "90c98add-6bd4-494c-9ff2-d3b7c24f6255"
      },
      "execution_count": 361,
      "outputs": [
        {
          "output_type": "stream",
          "name": "stdout",
          "text": [
            "Coeficiente de la formula: [-5.97912772]\n",
            "Intercept de la fórmula: 66.79997932683362\n",
            "Fórmula: y = 66.799979 -5.979128 X\n",
            "Error medio Absoluto (MAE): 5.033403667160277\n",
            "Root Mean Squared Error: 7.067709647692056\n",
            "r2_score 0.595798333672179\n"
          ]
        },
        {
          "output_type": "execute_result",
          "data": {
            "text/plain": [
              "<matplotlib.legend.Legend at 0x7f55b4fb57d0>"
            ]
          },
          "metadata": {},
          "execution_count": 361
        },
        {
          "output_type": "display_data",
          "data": {
            "text/plain": [
              "<Figure size 432x432 with 1 Axes>"
            ],
            "image/png": "[encoded data removed]"
          },
          "metadata": {}
        }
      ]
    },
    {
      "cell_type": "code",
      "source": [
        "#polinomial\n",
        "poly_features = PolynomialFeatures(degree = 3, include_bias=False)\n",
        "X_train_poly = poly_features.fit_transform(X_train)\n",
        "X_test_poly = poly_features.fit_transform(X_test)\n",
        "\n",
        "lrpm = LinearRegression()\n",
        "lrpm.fit(X_train_poly, y_train)\n",
        "\n",
        "y_poly_pred = lrpm.predict(X_test_poly)\n",
        "\n",
        "print('Coeficientes de la formula:', lrpm.coef_)\n",
        "print('Intercept de la fórmula:', lrpm.intercept_)\n",
        "\n",
        "print(\"Fórmula: y = %f %f X + %f X^2 %f X^3\" % (lrpm.intercept_, lrpm.coef_[0], lrpm.coef_[1], lrpm.coef_[2]))\n",
        "\n",
        "print('Error medio Absoluto (MAE):', metrics.mean_absolute_error(y_test, y_poly_pred))\n",
        "print('Root Mean Squared Error:', np.sqrt(metrics.mean_squared_error(y_test, y_poly_pred)))\n",
        "print('r2_score', r2_score(y_test, y_poly_pred))\n",
        "\n",
        "MAE['Polinomial'] = metrics.mean_absolute_error(y_test, y_poly_pred)\n",
        "R2['Polinomial'] = r2_score(y_test, y_poly_pred)\n",
        "\n",
        "plt.plot(X_test, y_test, \"b.\")\n",
        "plt.plot(X_test, y_poly_pred, \"r-\", linewidth = 1, label = \"Predictions\")\n",
        "plt.xlabel(\"Number of units\", fontsize = 12)\n",
        "plt.ylabel(\"Manufacturing cost\", fontsize = 12)\n",
        "plt.legend(loc=\"upper right\", fontsize = 12)\n",
        "#plt.axis([-3, 3, 0, 10]);\n"
      ],
      "metadata": {
        "id": "LWvfEDGKuoLJ",
        "colab": {
          "base_uri": "https://localhost:8080/",
          "height": 523
        },
        "outputId": "84e9db1d-f9ef-4397-86d8-a842c288e14b"
      },
      "execution_count": 362,
      "outputs": [
        {
          "output_type": "stream",
          "name": "stdout",
          "text": [
            "Coeficientes de la formula: [-31.83069901   4.58905775  -0.23734936]\n",
            "Intercept de la fórmula: 109.50904482461846\n",
            "Fórmula: y = 109.509045 -31.830699 X + 4.589058 X^2 -0.237349 X^3\n",
            "Error medio Absoluto (MAE): 4.339059416327442\n",
            "Root Mean Squared Error: 5.637445640824418\n",
            "r2_score 0.7428388053898056\n"
          ]
        },
        {
          "output_type": "execute_result",
          "data": {
            "text/plain": [
              "109.50904482461846"
            ]
          },
          "metadata": {},
          "execution_count": 362
        },
        {
          "output_type": "display_data",
          "data": {
            "text/plain": [
              "<Figure size 432x432 with 1 Axes>"
            ],
            "image/png": "[encoded data removed]"
          },
          "metadata": {}
        }
      ]
    },
    {
      "cell_type": "code",
      "source": [
        "#Ridge\n",
        "poly_features = PolynomialFeatures(degree = 3, include_bias=False)\n",
        "X_train_poly = poly_features.fit_transform(X_train)\n",
        "X_test_poly = poly_features.fit_transform(X_test)\n",
        "\n",
        "RidgeModel = Ridge(alpha = .02)\n",
        "RidgeModel.fit(X_train_poly, y_train)\n",
        "\n",
        "y_ridge_pred = RidgeModel.predict(X_test_poly)\n",
        "print('Coeficientes de la formula:', lrpm.coef_)\n",
        "print('Intercept de la fórmula:', lrpm.intercept_)\n",
        "print('Álpha: ', RidgeModel.alpha)\n",
        "print(\"Fórmula: y = %f %f X + %f X^2 %f X^3\" % (lrpm.intercept_, lrpm.coef_[0] * RidgeModel.alpha, lrpm.coef_[1] * RidgeModel.alpha, lrpm.coef_[2] * RidgeModel.alpha))\n",
        "\n",
        "print('Error medio Absoluto (MAE):', metrics.mean_absolute_error(y_test, y_ridge_pred))\n",
        "print('Root Mean Squared Error:', np.sqrt(metrics.mean_squared_error(y_test, y_ridge_pred)))\n",
        "print('r2_score',r2_score(y_test, y_ridge_pred))\n",
        "\n",
        "\n",
        "MAE['Ridge'] = metrics.mean_absolute_error(y_test, y_ridge_pred)\n",
        "R2['Ridge'] = r2_score(y_test, y_ridge_pred)\n",
        "\n",
        "plt.plot(X_test, y_test, \"b.\")\n",
        "plt.plot(X_test, y_ridge_pred, \"r-\", linewidth = 1, label = \"Predictions\")\n",
        "plt.xlabel(\"Number of units\", fontsize = 12)\n",
        "plt.ylabel(\"Manufacturing cost\", fontsize = 12)\n",
        "plt.legend(loc=\"upper right\", fontsize = 12)\n",
        "#plt.axis([-3, 3, 0, 10]);"
      ],
      "metadata": {
        "colab": {
          "base_uri": "https://localhost:8080/",
          "height": 542
        },
        "id": "AmTxd2U0EWPG",
        "outputId": "e6954350-36ad-4bda-f468-8c1712f2973d"
      },
      "execution_count": 363,
      "outputs": [
        {
          "output_type": "stream",
          "name": "stdout",
          "text": [
            "Coeficientes de la formula: [-31.83069901   4.58905775  -0.23734936]\n",
            "Intercept de la fórmula: 109.50904482461846\n",
            "Álpha:  0.02\n",
            "Fórmula: y = 109.509045 -0.636614 X + 0.091781 X^2 -0.004747 X^3\n",
            "Error medio Absoluto (MAE): 4.338732739362826\n",
            "Root Mean Squared Error: 5.638400837082249\n",
            "r2_score 0.7427516523645881\n"
          ]
        },
        {
          "output_type": "execute_result",
          "data": {
            "text/plain": [
              "<matplotlib.legend.Legend at 0x7f55b4f3b310>"
            ]
          },
          "metadata": {},
          "execution_count": 363
        },
        {
          "output_type": "display_data",
          "data": {
            "text/plain": [
              "<Figure size 432x432 with 1 Axes>"
            ],
            "image/png": "[encoded data removed]"
          },
          "metadata": {}
        }
      ]
    },
    {
      "cell_type": "code",
      "metadata": {
        "id": "-VDz4zLK9Q0K",
        "outputId": "e7466132-f5a8-44ea-b2da-879ced9d6bc5",
        "colab": {
          "base_uri": "https://localhost:8080/",
          "height": 525
        }
      },
      "source": [
        "#Lasso\n",
        "poly_features = PolynomialFeatures(degree = 4, include_bias=False)\n",
        "X_train_poly = poly_features.fit_transform(X_train)\n",
        "X_test_poly = poly_features.fit_transform(X_test)\n",
        "\n",
        "LassoModel = Lasso(alpha = 1)\n",
        "LassoModel.fit(X_train_poly, y_train)\n",
        "\n",
        "y_lasso_pred = LassoModel.predict(X_test_poly)\n",
        "\n",
        "print('Error medio Absoluto (MAE):', metrics.mean_absolute_error(y_test, y_lasso_pred))\n",
        "print('Root Mean Squared Error:', np.sqrt(metrics.mean_squared_error(y_test, y_lasso_pred)))\n",
        "print('r2_score',r2_score(y_test, y_lasso_pred))\n",
        "\n",
        "MAE['Lasso'] = metrics.mean_absolute_error(y_test, y_lasso_pred)\n",
        "R2['Lasso'] = r2_score(y_test, y_lasso_pred)\n",
        "\n",
        "plt.plot(X_test, y_test, \"b.\")\n",
        "plt.plot(X_test, y_lasso_pred, \"r-\", linewidth = 1, label = \"Predictions\")\n",
        "plt.xlabel(\"Number of units\", fontsize = 12)\n",
        "plt.ylabel(\"Manufacturing cost\", fontsize = 12)\n",
        "plt.legend(loc=\"upper right\", fontsize = 12)\n",
        "#plt.axis([-3, 3, 0, 10]);"
      ],
      "execution_count": 364,
      "outputs": [
        {
          "output_type": "stream",
          "name": "stdout",
          "text": [
            "Error medio Absoluto (MAE): 4.654760690022674\n",
            "Root Mean Squared Error: 6.690272280416553\n",
            "r2_score 0.6378168128075252\n"
          ]
        },
        {
          "output_type": "stream",
          "name": "stderr",
          "text": [
            "/usr/local/lib/python3.7/dist-packages/sklearn/linear_model/_coordinate_descent.py:648: ConvergenceWarning: Objective did not converge. You might want to increase the number of iterations, check the scale of the features or consider increasing regularisation. Duality gap: 3.133e+03, tolerance: 8.743e+00\n",
            "  coef_, l1_reg, l2_reg, X, y, max_iter, tol, rng, random, positive\n"
          ]
        },
        {
          "output_type": "execute_result",
          "data": {
            "text/plain": [
              "<matplotlib.legend.Legend at 0x7f55b4eb5b90>"
            ]
          },
          "metadata": {},
          "execution_count": 364
        },
        {
          "output_type": "display_data",
          "data": {
            "text/plain": [
              "<Figure size 432x432 with 1 Axes>"
            ],
            "image/png": "[encoded data removed]"
          },
          "metadata": {}
        }
      ]
    },
    {
      "cell_type": "code",
      "source": [
        "MAE"
      ],
      "metadata": {
        "colab": {
          "base_uri": "https://localhost:8080/"
        },
        "id": "Mh5EeBUxO_vf",
        "outputId": "9a8020e1-50c0-483d-b162-da5151078db7"
      },
      "execution_count": 365,
      "outputs": [
        {
          "output_type": "execute_result",
          "data": {
            "text/plain": [
              "{'Lineal': 5.033403667160277,\n",
              " 'Polinomial': 4.339059416327442,\n",
              " 'Ridge': 4.338732739362826,\n",
              " 'Lasso': 4.654760690022674}"
            ]
          },
          "metadata": {},
          "execution_count": 365
        }
      ]
    },
    {
      "cell_type": "code",
      "source": [
        "R2"
      ],
      "metadata": {
        "colab": {
          "base_uri": "https://localhost:8080/"
        },
        "id": "B60snHF0O_-H",
        "outputId": "a777f8a3-0798-4b5b-a135-9d4dcc6f71df"
      },
      "execution_count": 366,
      "outputs": [
        {
          "output_type": "execute_result",
          "data": {
            "text/plain": [
              "{'Lineal': 0.595798333672179,\n",
              " 'Polinomial': 0.7428388053898056,\n",
              " 'Ridge': 0.7427516523645881,\n",
              " 'Lasso': 0.6378168128075252}"
            ]
          },
          "metadata": {},
          "execution_count": 366
        }
      ]
    },
    {
      "cell_type": "code",
      "source": [
        "myList = MAE.items()\n",
        "x, y = zip(*myList) \n",
        "\n",
        "plt.plot(x, y)\n",
        "plt.title(\"MAE\", fontsize = 12)\n",
        "plt.show()"
      ],
      "metadata": {
        "colab": {
          "base_uri": "https://localhost:8080/",
          "height": 393
        },
        "id": "08jmIfTlPABk",
        "outputId": "d8c813f0-ba98-4494-dcaf-e799b27b3d75"
      },
      "execution_count": 367,
      "outputs": [
        {
          "output_type": "display_data",
          "data": {
            "text/plain": [
              "<Figure size 432x432 with 1 Axes>"
            ],
            "image/png": "[encoded data removed]"
          },
          "metadata": {}
        }
      ]
    },
    {
      "cell_type": "code",
      "source": [
        "myList = R2.items()\n",
        "x, y = zip(*myList) \n",
        "\n",
        "plt.plot(x, y)\n",
        "plt.title(\"R2\", fontsize = 12)\n",
        "plt.show()"
      ],
      "metadata": {
        "colab": {
          "base_uri": "https://localhost:8080/",
          "height": 393
        },
        "id": "002RvbRASt0_",
        "outputId": "3bfeecd6-c998-401e-ae49-34f41b1594fd"
      },
      "execution_count": 368,
      "outputs": [
        {
          "output_type": "display_data",
          "data": {
            "text/plain": [
              "<Figure size 432x432 with 1 Axes>"
            ],
            "image/png": "[encoded data removed]"
          },
          "metadata": {}
        }
      ]
    },
    {
      "cell_type": "markdown",
      "source": [
        "Decidí usar porcentajes de 80-20, pues esa distribución me permitió obtener un mejor score sin caer en el sobreentrenamiento, pero me dio suficientes datos de training para evitar el sub entrenamiento. Se puede observar que el comportamiento es polinomial, por lo que, en este caso, el lineal no explica para nada la variable dependiente, mientras que Lasso, al eliminar variables tampoco ayuda en el modelo polinomial, por lo que vemos que acertaron de manera muy baja. Por otro lado, el modelo polinomial y el polinomial con ridge, obtuvieron mejores resultados. \n",
        "\n",
        "En todo caso, considero que los resultados generales son más bien malos, lo que nos indica que simplemente el número de unidades no determina por si solo el costo de manofactura. Puede haber otras variables que podríamos tomar en cuenta"
      ],
      "metadata": {
        "id": "i7HKQLQoSyTu"
      }
    },
    {
      "cell_type": "markdown",
      "metadata": {
        "id": "CfqcmLmxLoe9"
      },
      "source": [
        "#Ejercicio 2\n",
        "Realiza la regresión polinomial de los siguientes datos:"
      ]
    },
    {
      "cell_type": "code",
      "source": [
        "df = pd.read_csv('https://raw.githubusercontent.com/marypazrf/bdd/main/kc_house_data.csv')\n",
        "df.sample(10)"
      ],
      "metadata": {
        "id": "57bn0j38qGrg",
        "colab": {
          "base_uri": "https://localhost:8080/",
          "height": 392
        },
        "outputId": "4d133674-28b6-49d6-a6fe-d9efe75f41c7"
      },
      "execution_count": 369,
      "outputs": [
        {
          "output_type": "execute_result",
          "data": {
            "text/plain": [
              "               id             date      price  bedrooms  bathrooms  \\\n",
              "10125  6626100260  20140806T000000   700000.0         4       2.50   \n",
              "20971  9578060540  20140614T000000   525000.0         4       2.75   \n",
              "4745   1180500100  20140924T000000   353000.0         4       2.75   \n",
              "18720  4109600306  20150218T000000   475000.0         2       1.00   \n",
              "13701  2621760360  20140926T000000   333000.0         4       2.50   \n",
              "14036  3451000442  20140717T000000   257500.0         3       1.50   \n",
              "17650  3904930730  20141105T000000   496600.0         3       2.50   \n",
              "11442  4083305085  20140520T000000  1125000.0         6       3.00   \n",
              "8679   1239400064  20150304T000000   895000.0         4       2.50   \n",
              "12967  2325059101  20150506T000000   487000.0         3       1.75   \n",
              "\n",
              "       sqft_living  sqft_lot  floors  waterfront  view  ...  grade  \\\n",
              "10125         3100     36562     2.0           0     0  ...     10   \n",
              "20971         2360      4924     2.0           0     0  ...      8   \n",
              "4745          1920      4627     1.0           0     0  ...      8   \n",
              "18720          920      5157     1.0           0     0  ...      6   \n",
              "13701         2100      7366     2.0           0     0  ...      8   \n",
              "14036         1210     12500     1.0           0     0  ...      7   \n",
              "17650         1910      5562     2.0           0     0  ...      8   \n",
              "11442         2880      3192     2.0           0     0  ...      8   \n",
              "8679          2850      8526     2.0           0     0  ...      9   \n",
              "12967         1430     12632     1.0           0     0  ...      7   \n",
              "\n",
              "       sqft_above  sqft_basement  yr_built  yr_renovated  zipcode      lat  \\\n",
              "10125        3100              0      1994             0    98077  47.7646   \n",
              "20971        2360              0      2008             0    98028  47.7737   \n",
              "4745         1010            910      1998             0    98178  47.5003   \n",
              "18720         920              0      1909             0    98118  47.5499   \n",
              "13701        2100              0      1997             0    98042  47.3703   \n",
              "14036        1210              0      1962             0    98146  47.5030   \n",
              "17650        1910              0      1988             0    98029  47.5738   \n",
              "11442        2180            700      1919             0    98103  47.6506   \n",
              "8679         2850              0      1998             0    98033  47.6747   \n",
              "12967        1430              0      1959             0    98008  47.6371   \n",
              "\n",
              "          long  sqft_living15  sqft_lot15  \n",
              "10125 -122.065           3080       39351  \n",
              "20971 -122.235           2360        4670  \n",
              "4745  -122.230           1910        7210  \n",
              "18720 -122.269           1700        5150  \n",
              "13701 -122.107           2060        7324  \n",
              "14036 -122.351           1210       12500  \n",
              "17650 -122.017           1940        4647  \n",
              "11442 -122.332           1870        4533  \n",
              "8679  -122.191           2440        7072  \n",
              "12967 -122.123           1750       10350  \n",
              "\n",
              "[10 rows x 21 columns]"
            ],
            "text/html": [
              "\n",
              "  <div id=\"df-0a098bb4-6897-401d-b2c5-9c06baf01b9d\">\n",
              "    <div class=\"colab-df-container\">\n",
              "      <div>\n",
              "<style scoped>\n",
              "    .dataframe tbody tr th:only-of-type {\n",
              "        vertical-align: middle;\n",
              "    }\n",
              "\n",
              "    .dataframe tbody tr th {\n",
              "        vertical-align: top;\n",
              "    }\n",
              "\n",
              "    .dataframe thead th {\n",
              "        text-align: right;\n",
              "    }\n",
              "</style>\n",
              "<table border=\"1\" class=\"dataframe\">\n",
              "  <thead>\n",
              "    <tr style=\"text-align: right;\">\n",
              "      <th></th>\n",
              "      <th>id</th>\n",
              "      <th>date</th>\n",
              "      <th>price</th>\n",
              "      <th>bedrooms</th>\n",
              "      <th>bathrooms</th>\n",
              "      <th>sqft_living</th>\n",
              "      <th>sqft_lot</th>\n",
              "      <th>floors</th>\n",
              "      <th>waterfront</th>\n",
              "      <th>view</th>\n",
              "      <th>...</th>\n",
              "      <th>grade</th>\n",
              "      <th>sqft_above</th>\n",
              "      <th>sqft_basement</th>\n",
              "      <th>yr_built</th>\n",
              "      <th>yr_renovated</th>\n",
              "      <th>zipcode</th>\n",
              "      <th>lat</th>\n",
              "      <th>long</th>\n",
              "      <th>sqft_living15</th>\n",
              "      <th>sqft_lot15</th>\n",
              "    </tr>\n",
              "  </thead>\n",
              "  <tbody>\n",
              "    <tr>\n",
              "      <th>10125</th>\n",
              "      <td>6626100260</td>\n",
              "      <td>20140806T000000</td>\n",
              "      <td>700000.0</td>\n",
              "      <td>4</td>\n",
              "      <td>2.50</td>\n",
              "      <td>3100</td>\n",
              "      <td>36562</td>\n",
              "      <td>2.0</td>\n",
              "      <td>0</td>\n",
              "      <td>0</td>\n",
              "      <td>...</td>\n",
              "      <td>10</td>\n",
              "      <td>3100</td>\n",
              "      <td>0</td>\n",
              "      <td>1994</td>\n",
              "      <td>0</td>\n",
              "      <td>98077</td>\n",
              "      <td>47.7646</td>\n",
              "      <td>-122.065</td>\n",
              "      <td>3080</td>\n",
              "      <td>39351</td>\n",
              "    </tr>\n",
              "    <tr>\n",
              "      <th>20971</th>\n",
              "      <td>9578060540</td>\n",
              "      <td>20140614T000000</td>\n",
              "      <td>525000.0</td>\n",
              "      <td>4</td>\n",
              "      <td>2.75</td>\n",
              "      <td>2360</td>\n",
              "      <td>4924</td>\n",
              "      <td>2.0</td>\n",
              "      <td>0</td>\n",
              "      <td>0</td>\n",
              "      <td>...</td>\n",
              "      <td>8</td>\n",
              "      <td>2360</td>\n",
              "      <td>0</td>\n",
              "      <td>2008</td>\n",
              "      <td>0</td>\n",
              "      <td>98028</td>\n",
              "      <td>47.7737</td>\n",
              "      <td>-122.235</td>\n",
              "      <td>2360</td>\n",
              "      <td>4670</td>\n",
              "    </tr>\n",
              "    <tr>\n",
              "      <th>4745</th>\n",
              "      <td>1180500100</td>\n",
              "      <td>20140924T000000</td>\n",
              "      <td>353000.0</td>\n",
              "      <td>4</td>\n",
              "      <td>2.75</td>\n",
              "      <td>1920</td>\n",
              "      <td>4627</td>\n",
              "      <td>1.0</td>\n",
              "      <td>0</td>\n",
              "      <td>0</td>\n",
              "      <td>...</td>\n",
              "      <td>8</td>\n",
              "      <td>1010</td>\n",
              "      <td>910</td>\n",
              "      <td>1998</td>\n",
              "      <td>0</td>\n",
              "      <td>98178</td>\n",
              "      <td>47.5003</td>\n",
              "      <td>-122.230</td>\n",
              "      <td>1910</td>\n",
              "      <td>7210</td>\n",
              "    </tr>\n",
              "    <tr>\n",
              "      <th>18720</th>\n",
              "      <td>4109600306</td>\n",
              "      <td>20150218T000000</td>\n",
              "      <td>475000.0</td>\n",
              "      <td>2</td>\n",
              "      <td>1.00</td>\n",
              "      <td>920</td>\n",
              "      <td>5157</td>\n",
              "      <td>1.0</td>\n",
              "      <td>0</td>\n",
              "      <td>0</td>\n",
              "      <td>...</td>\n",
              "      <td>6</td>\n",
              "      <td>920</td>\n",
              "      <td>0</td>\n",
              "      <td>1909</td>\n",
              "      <td>0</td>\n",
              "      <td>98118</td>\n",
              "      <td>47.5499</td>\n",
              "      <td>-122.269</td>\n",
              "      <td>1700</td>\n",
              "      <td>5150</td>\n",
              "    </tr>\n",
              "    <tr>\n",
              "      <th>13701</th>\n",
              "      <td>2621760360</td>\n",
              "      <td>20140926T000000</td>\n",
              "      <td>333000.0</td>\n",
              "      <td>4</td>\n",
              "      <td>2.50</td>\n",
              "      <td>2100</td>\n",
              "      <td>7366</td>\n",
              "      <td>2.0</td>\n",
              "      <td>0</td>\n",
              "      <td>0</td>\n",
              "      <td>...</td>\n",
              "      <td>8</td>\n",
              "      <td>2100</td>\n",
              "      <td>0</td>\n",
              "      <td>1997</td>\n",
              "      <td>0</td>\n",
              "      <td>98042</td>\n",
              "      <td>47.3703</td>\n",
              "      <td>-122.107</td>\n",
              "      <td>2060</td>\n",
              "      <td>7324</td>\n",
              "    </tr>\n",
              "    <tr>\n",
              "      <th>14036</th>\n",
              "      <td>3451000442</td>\n",
              "      <td>20140717T000000</td>\n",
              "      <td>257500.0</td>\n",
              "      <td>3</td>\n",
              "      <td>1.50</td>\n",
              "      <td>1210</td>\n",
              "      <td>12500</td>\n",
              "      <td>1.0</td>\n",
              "      <td>0</td>\n",
              "      <td>0</td>\n",
              "      <td>...</td>\n",
              "      <td>7</td>\n",
              "      <td>1210</td>\n",
              "      <td>0</td>\n",
              "      <td>1962</td>\n",
              "      <td>0</td>\n",
              "      <td>98146</td>\n",
              "      <td>47.5030</td>\n",
              "      <td>-122.351</td>\n",
              "      <td>1210</td>\n",
              "      <td>12500</td>\n",
              "    </tr>\n",
              "    <tr>\n",
              "      <th>17650</th>\n",
              "      <td>3904930730</td>\n",
              "      <td>20141105T000000</td>\n",
              "      <td>496600.0</td>\n",
              "      <td>3</td>\n",
              "      <td>2.50</td>\n",
              "      <td>1910</td>\n",
              "      <td>5562</td>\n",
              "      <td>2.0</td>\n",
              "      <td>0</td>\n",
              "      <td>0</td>\n",
              "      <td>...</td>\n",
              "      <td>8</td>\n",
              "      <td>1910</td>\n",
              "      <td>0</td>\n",
              "      <td>1988</td>\n",
              "      <td>0</td>\n",
              "      <td>98029</td>\n",
              "      <td>47.5738</td>\n",
              "      <td>-122.017</td>\n",
              "      <td>1940</td>\n",
              "      <td>4647</td>\n",
              "    </tr>\n",
              "    <tr>\n",
              "      <th>11442</th>\n",
              "      <td>4083305085</td>\n",
              "      <td>20140520T000000</td>\n",
              "      <td>1125000.0</td>\n",
              "      <td>6</td>\n",
              "      <td>3.00</td>\n",
              "      <td>2880</td>\n",
              "      <td>3192</td>\n",
              "      <td>2.0</td>\n",
              "      <td>0</td>\n",
              "      <td>0</td>\n",
              "      <td>...</td>\n",
              "      <td>8</td>\n",
              "      <td>2180</td>\n",
              "      <td>700</td>\n",
              "      <td>1919</td>\n",
              "      <td>0</td>\n",
              "      <td>98103</td>\n",
              "      <td>47.6506</td>\n",
              "      <td>-122.332</td>\n",
              "      <td>1870</td>\n",
              "      <td>4533</td>\n",
              "    </tr>\n",
              "    <tr>\n",
              "      <th>8679</th>\n",
              "      <td>1239400064</td>\n",
              "      <td>20150304T000000</td>\n",
              "      <td>895000.0</td>\n",
              "      <td>4</td>\n",
              "      <td>2.50</td>\n",
              "      <td>2850</td>\n",
              "      <td>8526</td>\n",
              "      <td>2.0</td>\n",
              "      <td>0</td>\n",
              "      <td>0</td>\n",
              "      <td>...</td>\n",
              "      <td>9</td>\n",
              "      <td>2850</td>\n",
              "      <td>0</td>\n",
              "      <td>1998</td>\n",
              "      <td>0</td>\n",
              "      <td>98033</td>\n",
              "      <td>47.6747</td>\n",
              "      <td>-122.191</td>\n",
              "      <td>2440</td>\n",
              "      <td>7072</td>\n",
              "    </tr>\n",
              "    <tr>\n",
              "      <th>12967</th>\n",
              "      <td>2325059101</td>\n",
              "      <td>20150506T000000</td>\n",
              "      <td>487000.0</td>\n",
              "      <td>3</td>\n",
              "      <td>1.75</td>\n",
              "      <td>1430</td>\n",
              "      <td>12632</td>\n",
              "      <td>1.0</td>\n",
              "      <td>0</td>\n",
              "      <td>0</td>\n",
              "      <td>...</td>\n",
              "      <td>7</td>\n",
              "      <td>1430</td>\n",
              "      <td>0</td>\n",
              "      <td>1959</td>\n",
              "      <td>0</td>\n",
              "      <td>98008</td>\n",
              "      <td>47.6371</td>\n",
              "      <td>-122.123</td>\n",
              "      <td>1750</td>\n",
              "      <td>10350</td>\n",
              "    </tr>\n",
              "  </tbody>\n",
              "</table>\n",
              "<p>10 rows × 21 columns</p>\n",
              "</div>\n",
              "      <button class=\"colab-df-convert\" onclick=\"convertToInteractive('df-0a098bb4-6897-401d-b2c5-9c06baf01b9d')\"\n",
              "              title=\"Convert this dataframe to an interactive table.\"\n",
              "              style=\"display:none;\">\n",
              "        \n",
              "  <svg xmlns=\"http://www.w3.org/2000/svg\" height=\"24px\"viewBox=\"0 0 24 24\"\n",
              "       width=\"24px\">\n",
              "    <path d=\"M0 0h24v24H0V0z\" fill=\"none\"/>\n",
              "    <path d=\"M18.56 5.44l.94 2.06.94-2.06 2.06-.94-2.06-.94-.94-2.06-.94 2.06-2.06.94zm-11 1L8.5 8.5l.94-2.06 2.06-.94-2.06-.94L8.5 2.5l-.94 2.06-2.06.94zm10 10l.94 2.06.94-2.06 2.06-.94-2.06-.94-.94-2.06-.94 2.06-2.06.94z\"/><path d=\"M17.41 7.96l-1.37-1.37c-.4-.4-.92-.59-1.43-.59-.52 0-1.04.2-1.43.59L10.3 9.45l-7.72 7.72c-.78.78-.78 2.05 0 2.83L4 21.41c.39.39.9.59 1.41.59.51 0 1.02-.2 1.41-.59l7.78-7.78 2.81-2.81c.8-.78.8-2.07 0-2.86zM5.41 20L4 18.59l7.72-7.72 1.47 1.35L5.41 20z\"/>\n",
              "  </svg>\n",
              "      </button>\n",
              "      \n",
              "  <style>\n",
              "    .colab-df-container {\n",
              "      display:flex;\n",
              "      flex-wrap:wrap;\n",
              "      gap: 12px;\n",
              "    }\n",
              "\n",
              "    .colab-df-convert {\n",
              "      background-color: #E8F0FE;\n",
              "      border: none;\n",
              "      border-radius: 50%;\n",
              "      cursor: pointer;\n",
              "      display: none;\n",
              "      fill: #1967D2;\n",
              "      height: 32px;\n",
              "      padding: 0 0 0 0;\n",
              "      width: 32px;\n",
              "    }\n",
              "\n",
              "    .colab-df-convert:hover {\n",
              "      background-color: #E2EBFA;\n",
              "      box-shadow: 0px 1px 2px rgba(60, 64, 67, 0.3), 0px 1px 3px 1px rgba(60, 64, 67, 0.15);\n",
              "      fill: #174EA6;\n",
              "    }\n",
              "\n",
              "    [theme=dark] .colab-df-convert {\n",
              "      background-color: #3B4455;\n",
              "      fill: #D2E3FC;\n",
              "    }\n",
              "\n",
              "    [theme=dark] .colab-df-convert:hover {\n",
              "      background-color: #434B5C;\n",
              "      box-shadow: 0px 1px 3px 1px rgba(0, 0, 0, 0.15);\n",
              "      filter: drop-shadow(0px 1px 2px rgba(0, 0, 0, 0.3));\n",
              "      fill: #FFFFFF;\n",
              "    }\n",
              "  </style>\n",
              "\n",
              "      <script>\n",
              "        const buttonEl =\n",
              "          document.querySelector('#df-0a098bb4-6897-401d-b2c5-9c06baf01b9d button.colab-df-convert');\n",
              "        buttonEl.style.display =\n",
              "          google.colab.kernel.accessAllowed ? 'block' : 'none';\n",
              "\n",
              "        async function convertToInteractive(key) {\n",
              "          const element = document.querySelector('#df-0a098bb4-6897-401d-b2c5-9c06baf01b9d');\n",
              "          const dataTable =\n",
              "            await google.colab.kernel.invokeFunction('convertToInteractive',\n",
              "                                                     [key], {});\n",
              "          if (!dataTable) return;\n",
              "\n",
              "          const docLinkHtml = 'Like what you see? Visit the ' +\n",
              "            '<a target=\"_blank\" href=https://colab.research.google.com/notebooks/data_table.ipynb>data table notebook</a>'\n",
              "            + ' to learn more about interactive tables.';\n",
              "          element.innerHTML = '';\n",
              "          dataTable['output_type'] = 'display_data';\n",
              "          await google.colab.output.renderOutput(dataTable, element);\n",
              "          const docLink = document.createElement('div');\n",
              "          docLink.innerHTML = docLinkHtml;\n",
              "          element.appendChild(docLink);\n",
              "        }\n",
              "      </script>\n",
              "    </div>\n",
              "  </div>\n",
              "  "
            ]
          },
          "metadata": {},
          "execution_count": 369
        }
      ]
    },
    {
      "cell_type": "code",
      "source": [
        "df.info()"
      ],
      "metadata": {
        "id": "n0fs14KoqI3M",
        "colab": {
          "base_uri": "https://localhost:8080/"
        },
        "outputId": "8519eac7-b4c0-402a-982b-71a7e615ac47"
      },
      "execution_count": 370,
      "outputs": [
        {
          "output_type": "stream",
          "name": "stdout",
          "text": [
            "<class 'pandas.core.frame.DataFrame'>\n",
            "RangeIndex: 21613 entries, 0 to 21612\n",
            "Data columns (total 21 columns):\n",
            " #   Column         Non-Null Count  Dtype  \n",
            "---  ------         --------------  -----  \n",
            " 0   id             21613 non-null  int64  \n",
            " 1   date           21613 non-null  object \n",
            " 2   price          21613 non-null  float64\n",
            " 3   bedrooms       21613 non-null  int64  \n",
            " 4   bathrooms      21613 non-null  float64\n",
            " 5   sqft_living    21613 non-null  int64  \n",
            " 6   sqft_lot       21613 non-null  int64  \n",
            " 7   floors         21613 non-null  float64\n",
            " 8   waterfront     21613 non-null  int64  \n",
            " 9   view           21613 non-null  int64  \n",
            " 10  condition      21613 non-null  int64  \n",
            " 11  grade          21613 non-null  int64  \n",
            " 12  sqft_above     21613 non-null  int64  \n",
            " 13  sqft_basement  21613 non-null  int64  \n",
            " 14  yr_built       21613 non-null  int64  \n",
            " 15  yr_renovated   21613 non-null  int64  \n",
            " 16  zipcode        21613 non-null  int64  \n",
            " 17  lat            21613 non-null  float64\n",
            " 18  long           21613 non-null  float64\n",
            " 19  sqft_living15  21613 non-null  int64  \n",
            " 20  sqft_lot15     21613 non-null  int64  \n",
            "dtypes: float64(5), int64(15), object(1)\n",
            "memory usage: 3.5+ MB\n"
          ]
        }
      ]
    },
    {
      "cell_type": "code",
      "source": [
        "df.describe()"
      ],
      "metadata": {
        "id": "1PNzDJZeqKhe",
        "colab": {
          "base_uri": "https://localhost:8080/",
          "height": 364
        },
        "outputId": "89907936-7ff9-4d44-abcc-dd54e2cd0bfd"
      },
      "execution_count": 371,
      "outputs": [
        {
          "output_type": "execute_result",
          "data": {
            "text/plain": [
              "                 id         price      bedrooms     bathrooms   sqft_living  \\\n",
              "count  2.161300e+04  2.161300e+04  21613.000000  21613.000000  21613.000000   \n",
              "mean   4.580302e+09  5.400881e+05      3.370842      2.114757   2079.899736   \n",
              "std    2.876566e+09  3.671272e+05      0.930062      0.770163    918.440897   \n",
              "min    1.000102e+06  7.500000e+04      0.000000      0.000000    290.000000   \n",
              "25%    2.123049e+09  3.219500e+05      3.000000      1.750000   1427.000000   \n",
              "50%    3.904930e+09  4.500000e+05      3.000000      2.250000   1910.000000   \n",
              "75%    7.308900e+09  6.450000e+05      4.000000      2.500000   2550.000000   \n",
              "max    9.900000e+09  7.700000e+06     33.000000      8.000000  13540.000000   \n",
              "\n",
              "           sqft_lot        floors    waterfront          view     condition  \\\n",
              "count  2.161300e+04  21613.000000  21613.000000  21613.000000  21613.000000   \n",
              "mean   1.510697e+04      1.494309      0.007542      0.234303      3.409430   \n",
              "std    4.142051e+04      0.539989      0.086517      0.766318      0.650743   \n",
              "min    5.200000e+02      1.000000      0.000000      0.000000      1.000000   \n",
              "25%    5.040000e+03      1.000000      0.000000      0.000000      3.000000   \n",
              "50%    7.618000e+03      1.500000      0.000000      0.000000      3.000000   \n",
              "75%    1.068800e+04      2.000000      0.000000      0.000000      4.000000   \n",
              "max    1.651359e+06      3.500000      1.000000      4.000000      5.000000   \n",
              "\n",
              "              grade    sqft_above  sqft_basement      yr_built  yr_renovated  \\\n",
              "count  21613.000000  21613.000000   21613.000000  21613.000000  21613.000000   \n",
              "mean       7.656873   1788.390691     291.509045   1971.005136     84.402258   \n",
              "std        1.175459    828.090978     442.575043     29.373411    401.679240   \n",
              "min        1.000000    290.000000       0.000000   1900.000000      0.000000   \n",
              "25%        7.000000   1190.000000       0.000000   1951.000000      0.000000   \n",
              "50%        7.000000   1560.000000       0.000000   1975.000000      0.000000   \n",
              "75%        8.000000   2210.000000     560.000000   1997.000000      0.000000   \n",
              "max       13.000000   9410.000000    4820.000000   2015.000000   2015.000000   \n",
              "\n",
              "            zipcode           lat          long  sqft_living15     sqft_lot15  \n",
              "count  21613.000000  21613.000000  21613.000000   21613.000000   21613.000000  \n",
              "mean   98077.939805     47.560053   -122.213896    1986.552492   12768.455652  \n",
              "std       53.505026      0.138564      0.140828     685.391304   27304.179631  \n",
              "min    98001.000000     47.155900   -122.519000     399.000000     651.000000  \n",
              "25%    98033.000000     47.471000   -122.328000    1490.000000    5100.000000  \n",
              "50%    98065.000000     47.571800   -122.230000    1840.000000    7620.000000  \n",
              "75%    98118.000000     47.678000   -122.125000    2360.000000   10083.000000  \n",
              "max    98199.000000     47.777600   -121.315000    6210.000000  871200.000000  "
            ],
            "text/html": [
              "\n",
              "  <div id=\"df-9bd83318-bac4-4748-876c-0000f3fcab06\">\n",
              "    <div class=\"colab-df-container\">\n",
              "      <div>\n",
              "<style scoped>\n",
              "    .dataframe tbody tr th:only-of-type {\n",
              "        vertical-align: middle;\n",
              "    }\n",
              "\n",
              "    .dataframe tbody tr th {\n",
              "        vertical-align: top;\n",
              "    }\n",
              "\n",
              "    .dataframe thead th {\n",
              "        text-align: right;\n",
              "    }\n",
              "</style>\n",
              "<table border=\"1\" class=\"dataframe\">\n",
              "  <thead>\n",
              "    <tr style=\"text-align: right;\">\n",
              "      <th></th>\n",
              "      <th>id</th>\n",
              "      <th>price</th>\n",
              "      <th>bedrooms</th>\n",
              "      <th>bathrooms</th>\n",
              "      <th>sqft_living</th>\n",
              "      <th>sqft_lot</th>\n",
              "      <th>floors</th>\n",
              "      <th>waterfront</th>\n",
              "      <th>view</th>\n",
              "      <th>condition</th>\n",
              "      <th>grade</th>\n",
              "      <th>sqft_above</th>\n",
              "      <th>sqft_basement</th>\n",
              "      <th>yr_built</th>\n",
              "      <th>yr_renovated</th>\n",
              "      <th>zipcode</th>\n",
              "      <th>lat</th>\n",
              "      <th>long</th>\n",
              "      <th>sqft_living15</th>\n",
              "      <th>sqft_lot15</th>\n",
              "    </tr>\n",
              "  </thead>\n",
              "  <tbody>\n",
              "    <tr>\n",
              "      <th>count</th>\n",
              "      <td>2.161300e+04</td>\n",
              "      <td>2.161300e+04</td>\n",
              "      <td>21613.000000</td>\n",
              "      <td>21613.000000</td>\n",
              "      <td>21613.000000</td>\n",
              "      <td>2.161300e+04</td>\n",
              "      <td>21613.000000</td>\n",
              "      <td>21613.000000</td>\n",
              "      <td>21613.000000</td>\n",
              "      <td>21613.000000</td>\n",
              "      <td>21613.000000</td>\n",
              "      <td>21613.000000</td>\n",
              "      <td>21613.000000</td>\n",
              "      <td>21613.000000</td>\n",
              "      <td>21613.000000</td>\n",
              "      <td>21613.000000</td>\n",
              "      <td>21613.000000</td>\n",
              "      <td>21613.000000</td>\n",
              "      <td>21613.000000</td>\n",
              "      <td>21613.000000</td>\n",
              "    </tr>\n",
              "    <tr>\n",
              "      <th>mean</th>\n",
              "      <td>4.580302e+09</td>\n",
              "      <td>5.400881e+05</td>\n",
              "      <td>3.370842</td>\n",
              "      <td>2.114757</td>\n",
              "      <td>2079.899736</td>\n",
              "      <td>1.510697e+04</td>\n",
              "      <td>1.494309</td>\n",
              "      <td>0.007542</td>\n",
              "      <td>0.234303</td>\n",
              "      <td>3.409430</td>\n",
              "      <td>7.656873</td>\n",
              "      <td>1788.390691</td>\n",
              "      <td>291.509045</td>\n",
              "      <td>1971.005136</td>\n",
              "      <td>84.402258</td>\n",
              "      <td>98077.939805</td>\n",
              "      <td>47.560053</td>\n",
              "      <td>-122.213896</td>\n",
              "      <td>1986.552492</td>\n",
              "      <td>12768.455652</td>\n",
              "    </tr>\n",
              "    <tr>\n",
              "      <th>std</th>\n",
              "      <td>2.876566e+09</td>\n",
              "      <td>3.671272e+05</td>\n",
              "      <td>0.930062</td>\n",
              "      <td>0.770163</td>\n",
              "      <td>918.440897</td>\n",
              "      <td>4.142051e+04</td>\n",
              "      <td>0.539989</td>\n",
              "      <td>0.086517</td>\n",
              "      <td>0.766318</td>\n",
              "      <td>0.650743</td>\n",
              "      <td>1.175459</td>\n",
              "      <td>828.090978</td>\n",
              "      <td>442.575043</td>\n",
              "      <td>29.373411</td>\n",
              "      <td>401.679240</td>\n",
              "      <td>53.505026</td>\n",
              "      <td>0.138564</td>\n",
              "      <td>0.140828</td>\n",
              "      <td>685.391304</td>\n",
              "      <td>27304.179631</td>\n",
              "    </tr>\n",
              "    <tr>\n",
              "      <th>min</th>\n",
              "      <td>1.000102e+06</td>\n",
              "      <td>7.500000e+04</td>\n",
              "      <td>0.000000</td>\n",
              "      <td>0.000000</td>\n",
              "      <td>290.000000</td>\n",
              "      <td>5.200000e+02</td>\n",
              "      <td>1.000000</td>\n",
              "      <td>0.000000</td>\n",
              "      <td>0.000000</td>\n",
              "      <td>1.000000</td>\n",
              "      <td>1.000000</td>\n",
              "      <td>290.000000</td>\n",
              "      <td>0.000000</td>\n",
              "      <td>1900.000000</td>\n",
              "      <td>0.000000</td>\n",
              "      <td>98001.000000</td>\n",
              "      <td>47.155900</td>\n",
              "      <td>-122.519000</td>\n",
              "      <td>399.000000</td>\n",
              "      <td>651.000000</td>\n",
              "    </tr>\n",
              "    <tr>\n",
              "      <th>25%</th>\n",
              "      <td>2.123049e+09</td>\n",
              "      <td>3.219500e+05</td>\n",
              "      <td>3.000000</td>\n",
              "      <td>1.750000</td>\n",
              "      <td>1427.000000</td>\n",
              "      <td>5.040000e+03</td>\n",
              "      <td>1.000000</td>\n",
              "      <td>0.000000</td>\n",
              "      <td>0.000000</td>\n",
              "      <td>3.000000</td>\n",
              "      <td>7.000000</td>\n",
              "      <td>1190.000000</td>\n",
              "      <td>0.000000</td>\n",
              "      <td>1951.000000</td>\n",
              "      <td>0.000000</td>\n",
              "      <td>98033.000000</td>\n",
              "      <td>47.471000</td>\n",
              "      <td>-122.328000</td>\n",
              "      <td>1490.000000</td>\n",
              "      <td>5100.000000</td>\n",
              "    </tr>\n",
              "    <tr>\n",
              "      <th>50%</th>\n",
              "      <td>3.904930e+09</td>\n",
              "      <td>4.500000e+05</td>\n",
              "      <td>3.000000</td>\n",
              "      <td>2.250000</td>\n",
              "      <td>1910.000000</td>\n",
              "      <td>7.618000e+03</td>\n",
              "      <td>1.500000</td>\n",
              "      <td>0.000000</td>\n",
              "      <td>0.000000</td>\n",
              "      <td>3.000000</td>\n",
              "      <td>7.000000</td>\n",
              "      <td>1560.000000</td>\n",
              "      <td>0.000000</td>\n",
              "      <td>1975.000000</td>\n",
              "      <td>0.000000</td>\n",
              "      <td>98065.000000</td>\n",
              "      <td>47.571800</td>\n",
              "      <td>-122.230000</td>\n",
              "      <td>1840.000000</td>\n",
              "      <td>7620.000000</td>\n",
              "    </tr>\n",
              "    <tr>\n",
              "      <th>75%</th>\n",
              "      <td>7.308900e+09</td>\n",
              "      <td>6.450000e+05</td>\n",
              "      <td>4.000000</td>\n",
              "      <td>2.500000</td>\n",
              "      <td>2550.000000</td>\n",
              "      <td>1.068800e+04</td>\n",
              "      <td>2.000000</td>\n",
              "      <td>0.000000</td>\n",
              "      <td>0.000000</td>\n",
              "      <td>4.000000</td>\n",
              "      <td>8.000000</td>\n",
              "      <td>2210.000000</td>\n",
              "      <td>560.000000</td>\n",
              "      <td>1997.000000</td>\n",
              "      <td>0.000000</td>\n",
              "      <td>98118.000000</td>\n",
              "      <td>47.678000</td>\n",
              "      <td>-122.125000</td>\n",
              "      <td>2360.000000</td>\n",
              "      <td>10083.000000</td>\n",
              "    </tr>\n",
              "    <tr>\n",
              "      <th>max</th>\n",
              "      <td>9.900000e+09</td>\n",
              "      <td>7.700000e+06</td>\n",
              "      <td>33.000000</td>\n",
              "      <td>8.000000</td>\n",
              "      <td>13540.000000</td>\n",
              "      <td>1.651359e+06</td>\n",
              "      <td>3.500000</td>\n",
              "      <td>1.000000</td>\n",
              "      <td>4.000000</td>\n",
              "      <td>5.000000</td>\n",
              "      <td>13.000000</td>\n",
              "      <td>9410.000000</td>\n",
              "      <td>4820.000000</td>\n",
              "      <td>2015.000000</td>\n",
              "      <td>2015.000000</td>\n",
              "      <td>98199.000000</td>\n",
              "      <td>47.777600</td>\n",
              "      <td>-121.315000</td>\n",
              "      <td>6210.000000</td>\n",
              "      <td>871200.000000</td>\n",
              "    </tr>\n",
              "  </tbody>\n",
              "</table>\n",
              "</div>\n",
              "      <button class=\"colab-df-convert\" onclick=\"convertToInteractive('df-9bd83318-bac4-4748-876c-0000f3fcab06')\"\n",
              "              title=\"Convert this dataframe to an interactive table.\"\n",
              "              style=\"display:none;\">\n",
              "        \n",
              "  <svg xmlns=\"http://www.w3.org/2000/svg\" height=\"24px\"viewBox=\"0 0 24 24\"\n",
              "       width=\"24px\">\n",
              "    <path d=\"M0 0h24v24H0V0z\" fill=\"none\"/>\n",
              "    <path d=\"M18.56 5.44l.94 2.06.94-2.06 2.06-.94-2.06-.94-.94-2.06-.94 2.06-2.06.94zm-11 1L8.5 8.5l.94-2.06 2.06-.94-2.06-.94L8.5 2.5l-.94 2.06-2.06.94zm10 10l.94 2.06.94-2.06 2.06-.94-2.06-.94-.94-2.06-.94 2.06-2.06.94z\"/><path d=\"M17.41 7.96l-1.37-1.37c-.4-.4-.92-.59-1.43-.59-.52 0-1.04.2-1.43.59L10.3 9.45l-7.72 7.72c-.78.78-.78 2.05 0 2.83L4 21.41c.39.39.9.59 1.41.59.51 0 1.02-.2 1.41-.59l7.78-7.78 2.81-2.81c.8-.78.8-2.07 0-2.86zM5.41 20L4 18.59l7.72-7.72 1.47 1.35L5.41 20z\"/>\n",
              "  </svg>\n",
              "      </button>\n",
              "      \n",
              "  <style>\n",
              "    .colab-df-container {\n",
              "      display:flex;\n",
              "      flex-wrap:wrap;\n",
              "      gap: 12px;\n",
              "    }\n",
              "\n",
              "    .colab-df-convert {\n",
              "      background-color: #E8F0FE;\n",
              "      border: none;\n",
              "      border-radius: 50%;\n",
              "      cursor: pointer;\n",
              "      display: none;\n",
              "      fill: #1967D2;\n",
              "      height: 32px;\n",
              "      padding: 0 0 0 0;\n",
              "      width: 32px;\n",
              "    }\n",
              "\n",
              "    .colab-df-convert:hover {\n",
              "      background-color: #E2EBFA;\n",
              "      box-shadow: 0px 1px 2px rgba(60, 64, 67, 0.3), 0px 1px 3px 1px rgba(60, 64, 67, 0.15);\n",
              "      fill: #174EA6;\n",
              "    }\n",
              "\n",
              "    [theme=dark] .colab-df-convert {\n",
              "      background-color: #3B4455;\n",
              "      fill: #D2E3FC;\n",
              "    }\n",
              "\n",
              "    [theme=dark] .colab-df-convert:hover {\n",
              "      background-color: #434B5C;\n",
              "      box-shadow: 0px 1px 3px 1px rgba(0, 0, 0, 0.15);\n",
              "      filter: drop-shadow(0px 1px 2px rgba(0, 0, 0, 0.3));\n",
              "      fill: #FFFFFF;\n",
              "    }\n",
              "  </style>\n",
              "\n",
              "      <script>\n",
              "        const buttonEl =\n",
              "          document.querySelector('#df-9bd83318-bac4-4748-876c-0000f3fcab06 button.colab-df-convert');\n",
              "        buttonEl.style.display =\n",
              "          google.colab.kernel.accessAllowed ? 'block' : 'none';\n",
              "\n",
              "        async function convertToInteractive(key) {\n",
              "          const element = document.querySelector('#df-9bd83318-bac4-4748-876c-0000f3fcab06');\n",
              "          const dataTable =\n",
              "            await google.colab.kernel.invokeFunction('convertToInteractive',\n",
              "                                                     [key], {});\n",
              "          if (!dataTable) return;\n",
              "\n",
              "          const docLinkHtml = 'Like what you see? Visit the ' +\n",
              "            '<a target=\"_blank\" href=https://colab.research.google.com/notebooks/data_table.ipynb>data table notebook</a>'\n",
              "            + ' to learn more about interactive tables.';\n",
              "          element.innerHTML = '';\n",
              "          dataTable['output_type'] = 'display_data';\n",
              "          await google.colab.output.renderOutput(dataTable, element);\n",
              "          const docLink = document.createElement('div');\n",
              "          docLink.innerHTML = docLinkHtml;\n",
              "          element.appendChild(docLink);\n",
              "        }\n",
              "      </script>\n",
              "    </div>\n",
              "  </div>\n",
              "  "
            ]
          },
          "metadata": {},
          "execution_count": 371
        }
      ]
    },
    {
      "cell_type": "code",
      "source": [
        "df.drop('id', axis = 1, inplace = True)\n",
        "df.drop('date', axis = 1, inplace = True)\n",
        "df.drop('zipcode', axis = 1, inplace = True)\n",
        "df.drop('lat', axis = 1, inplace = True)\n",
        "df.drop('long', axis = 1, inplace = True)\n"
      ],
      "metadata": {
        "id": "0KUD8T08qMmq"
      },
      "execution_count": 372,
      "outputs": []
    },
    {
      "cell_type": "code",
      "source": [
        "plt.figure(figsize=(12,8)) \n",
        "sns.heatmap(df.corr(), annot=True, cmap='Dark2_r', linewidths = 2)\n",
        "plt.show()"
      ],
      "metadata": {
        "id": "r-jk_nHmqKpp",
        "colab": {
          "base_uri": "https://localhost:8080/",
          "height": 561
        },
        "outputId": "8eb88af5-89a1-4136-b370-b8766a6012b3"
      },
      "execution_count": 373,
      "outputs": [
        {
          "output_type": "display_data",
          "data": {
            "text/plain": [
              "<Figure size 864x576 with 2 Axes>"
            ],
            "image/png": "[encoded data removed]"
          },
          "metadata": {}
        }
      ]
    },
    {
      "cell_type": "code",
      "source": [
        "columns = df.columns.drop('price')\n",
        "\n",
        "features = columns\n",
        "label = ['price']\n",
        "\n",
        "X = df[features]\n",
        "y = df[label]"
      ],
      "metadata": {
        "id": "p4zqCnFwq7Oc"
      },
      "execution_count": 374,
      "outputs": []
    },
    {
      "cell_type": "code",
      "source": [
        "from sklearn.model_selection import train_test_split\n",
        "X_train, X_test, y_train, y_test = train_test_split(X, y, test_size = 0.1, random_state = 101)\n",
        "\n",
        "print(f'Numero total de registros en la bdd: {len(X)}')\n",
        "print(\"*****\"*10)\n",
        "print(f'Numero total de registros en el training set: {len(X_train)}')\n",
        "print(f'Tamaño de X_train: {X_train.shape}')\n",
        "print(\"*****\"*10)\n",
        "print(f'Mumero total de registros en el test dataset: {len(X_test)}')\n",
        "print(f'Tamaño del X_test: {X_test.shape}')"
      ],
      "metadata": {
        "id": "p91PEVPLq93-",
        "colab": {
          "base_uri": "https://localhost:8080/"
        },
        "outputId": "3550a3a5-4b12-4515-e8c2-c47d046b373e"
      },
      "execution_count": 375,
      "outputs": [
        {
          "output_type": "stream",
          "name": "stdout",
          "text": [
            "Numero total de registros en la bdd: 21613\n",
            "**************************************************\n",
            "Numero total de registros en el training set: 19451\n",
            "Tamaño de X_train: (19451, 15)\n",
            "**************************************************\n",
            "Mumero total de registros en el test dataset: 2162\n",
            "Tamaño del X_test: (2162, 15)\n"
          ]
        }
      ]
    },
    {
      "cell_type": "code",
      "source": [
        "X.head()"
      ],
      "metadata": {
        "colab": {
          "base_uri": "https://localhost:8080/",
          "height": 206
        },
        "id": "fisOblB9VWBd",
        "outputId": "74d2197e-2a20-497b-9ba3-39a35c560663"
      },
      "execution_count": 381,
      "outputs": [
        {
          "output_type": "execute_result",
          "data": {
            "text/plain": [
              "   bedrooms  bathrooms  sqft_living  sqft_lot  floors  waterfront  view  \\\n",
              "0         3       1.00         1180      5650     1.0           0     0   \n",
              "1         3       2.25         2570      7242     2.0           0     0   \n",
              "2         2       1.00          770     10000     1.0           0     0   \n",
              "3         4       3.00         1960      5000     1.0           0     0   \n",
              "4         3       2.00         1680      8080     1.0           0     0   \n",
              "\n",
              "   condition  grade  sqft_above  sqft_basement  yr_built  yr_renovated  \\\n",
              "0          3      7        1180              0      1955             0   \n",
              "1          3      7        2170            400      1951          1991   \n",
              "2          3      6         770              0      1933             0   \n",
              "3          5      7        1050            910      1965             0   \n",
              "4          3      8        1680              0      1987             0   \n",
              "\n",
              "   sqft_living15  sqft_lot15  \n",
              "0           1340        5650  \n",
              "1           1690        7639  \n",
              "2           2720        8062  \n",
              "3           1360        5000  \n",
              "4           1800        7503  "
            ],
            "text/html": [
              "\n",
              "  <div id=\"df-2deacd9c-2163-4743-9a42-138586eab375\">\n",
              "    <div class=\"colab-df-container\">\n",
              "      <div>\n",
              "<style scoped>\n",
              "    .dataframe tbody tr th:only-of-type {\n",
              "        vertical-align: middle;\n",
              "    }\n",
              "\n",
              "    .dataframe tbody tr th {\n",
              "        vertical-align: top;\n",
              "    }\n",
              "\n",
              "    .dataframe thead th {\n",
              "        text-align: right;\n",
              "    }\n",
              "</style>\n",
              "<table border=\"1\" class=\"dataframe\">\n",
              "  <thead>\n",
              "    <tr style=\"text-align: right;\">\n",
              "      <th></th>\n",
              "      <th>bedrooms</th>\n",
              "      <th>bathrooms</th>\n",
              "      <th>sqft_living</th>\n",
              "      <th>sqft_lot</th>\n",
              "      <th>floors</th>\n",
              "      <th>waterfront</th>\n",
              "      <th>view</th>\n",
              "      <th>condition</th>\n",
              "      <th>grade</th>\n",
              "      <th>sqft_above</th>\n",
              "      <th>sqft_basement</th>\n",
              "      <th>yr_built</th>\n",
              "      <th>yr_renovated</th>\n",
              "      <th>sqft_living15</th>\n",
              "      <th>sqft_lot15</th>\n",
              "    </tr>\n",
              "  </thead>\n",
              "  <tbody>\n",
              "    <tr>\n",
              "      <th>0</th>\n",
              "      <td>3</td>\n",
              "      <td>1.00</td>\n",
              "      <td>1180</td>\n",
              "      <td>5650</td>\n",
              "      <td>1.0</td>\n",
              "      <td>0</td>\n",
              "      <td>0</td>\n",
              "      <td>3</td>\n",
              "      <td>7</td>\n",
              "      <td>1180</td>\n",
              "      <td>0</td>\n",
              "      <td>1955</td>\n",
              "      <td>0</td>\n",
              "      <td>1340</td>\n",
              "      <td>5650</td>\n",
              "    </tr>\n",
              "    <tr>\n",
              "      <th>1</th>\n",
              "      <td>3</td>\n",
              "      <td>2.25</td>\n",
              "      <td>2570</td>\n",
              "      <td>7242</td>\n",
              "      <td>2.0</td>\n",
              "      <td>0</td>\n",
              "      <td>0</td>\n",
              "      <td>3</td>\n",
              "      <td>7</td>\n",
              "      <td>2170</td>\n",
              "      <td>400</td>\n",
              "      <td>1951</td>\n",
              "      <td>1991</td>\n",
              "      <td>1690</td>\n",
              "      <td>7639</td>\n",
              "    </tr>\n",
              "    <tr>\n",
              "      <th>2</th>\n",
              "      <td>2</td>\n",
              "      <td>1.00</td>\n",
              "      <td>770</td>\n",
              "      <td>10000</td>\n",
              "      <td>1.0</td>\n",
              "      <td>0</td>\n",
              "      <td>0</td>\n",
              "      <td>3</td>\n",
              "      <td>6</td>\n",
              "      <td>770</td>\n",
              "      <td>0</td>\n",
              "      <td>1933</td>\n",
              "      <td>0</td>\n",
              "      <td>2720</td>\n",
              "      <td>8062</td>\n",
              "    </tr>\n",
              "    <tr>\n",
              "      <th>3</th>\n",
              "      <td>4</td>\n",
              "      <td>3.00</td>\n",
              "      <td>1960</td>\n",
              "      <td>5000</td>\n",
              "      <td>1.0</td>\n",
              "      <td>0</td>\n",
              "      <td>0</td>\n",
              "      <td>5</td>\n",
              "      <td>7</td>\n",
              "      <td>1050</td>\n",
              "      <td>910</td>\n",
              "      <td>1965</td>\n",
              "      <td>0</td>\n",
              "      <td>1360</td>\n",
              "      <td>5000</td>\n",
              "    </tr>\n",
              "    <tr>\n",
              "      <th>4</th>\n",
              "      <td>3</td>\n",
              "      <td>2.00</td>\n",
              "      <td>1680</td>\n",
              "      <td>8080</td>\n",
              "      <td>1.0</td>\n",
              "      <td>0</td>\n",
              "      <td>0</td>\n",
              "      <td>3</td>\n",
              "      <td>8</td>\n",
              "      <td>1680</td>\n",
              "      <td>0</td>\n",
              "      <td>1987</td>\n",
              "      <td>0</td>\n",
              "      <td>1800</td>\n",
              "      <td>7503</td>\n",
              "    </tr>\n",
              "  </tbody>\n",
              "</table>\n",
              "</div>\n",
              "      <button class=\"colab-df-convert\" onclick=\"convertToInteractive('df-2deacd9c-2163-4743-9a42-138586eab375')\"\n",
              "              title=\"Convert this dataframe to an interactive table.\"\n",
              "              style=\"display:none;\">\n",
              "        \n",
              "  <svg xmlns=\"http://www.w3.org/2000/svg\" height=\"24px\"viewBox=\"0 0 24 24\"\n",
              "       width=\"24px\">\n",
              "    <path d=\"M0 0h24v24H0V0z\" fill=\"none\"/>\n",
              "    <path d=\"M18.56 5.44l.94 2.06.94-2.06 2.06-.94-2.06-.94-.94-2.06-.94 2.06-2.06.94zm-11 1L8.5 8.5l.94-2.06 2.06-.94-2.06-.94L8.5 2.5l-.94 2.06-2.06.94zm10 10l.94 2.06.94-2.06 2.06-.94-2.06-.94-.94-2.06-.94 2.06-2.06.94z\"/><path d=\"M17.41 7.96l-1.37-1.37c-.4-.4-.92-.59-1.43-.59-.52 0-1.04.2-1.43.59L10.3 9.45l-7.72 7.72c-.78.78-.78 2.05 0 2.83L4 21.41c.39.39.9.59 1.41.59.51 0 1.02-.2 1.41-.59l7.78-7.78 2.81-2.81c.8-.78.8-2.07 0-2.86zM5.41 20L4 18.59l7.72-7.72 1.47 1.35L5.41 20z\"/>\n",
              "  </svg>\n",
              "      </button>\n",
              "      \n",
              "  <style>\n",
              "    .colab-df-container {\n",
              "      display:flex;\n",
              "      flex-wrap:wrap;\n",
              "      gap: 12px;\n",
              "    }\n",
              "\n",
              "    .colab-df-convert {\n",
              "      background-color: #E8F0FE;\n",
              "      border: none;\n",
              "      border-radius: 50%;\n",
              "      cursor: pointer;\n",
              "      display: none;\n",
              "      fill: #1967D2;\n",
              "      height: 32px;\n",
              "      padding: 0 0 0 0;\n",
              "      width: 32px;\n",
              "    }\n",
              "\n",
              "    .colab-df-convert:hover {\n",
              "      background-color: #E2EBFA;\n",
              "      box-shadow: 0px 1px 2px rgba(60, 64, 67, 0.3), 0px 1px 3px 1px rgba(60, 64, 67, 0.15);\n",
              "      fill: #174EA6;\n",
              "    }\n",
              "\n",
              "    [theme=dark] .colab-df-convert {\n",
              "      background-color: #3B4455;\n",
              "      fill: #D2E3FC;\n",
              "    }\n",
              "\n",
              "    [theme=dark] .colab-df-convert:hover {\n",
              "      background-color: #434B5C;\n",
              "      box-shadow: 0px 1px 3px 1px rgba(0, 0, 0, 0.15);\n",
              "      filter: drop-shadow(0px 1px 2px rgba(0, 0, 0, 0.3));\n",
              "      fill: #FFFFFF;\n",
              "    }\n",
              "  </style>\n",
              "\n",
              "      <script>\n",
              "        const buttonEl =\n",
              "          document.querySelector('#df-2deacd9c-2163-4743-9a42-138586eab375 button.colab-df-convert');\n",
              "        buttonEl.style.display =\n",
              "          google.colab.kernel.accessAllowed ? 'block' : 'none';\n",
              "\n",
              "        async function convertToInteractive(key) {\n",
              "          const element = document.querySelector('#df-2deacd9c-2163-4743-9a42-138586eab375');\n",
              "          const dataTable =\n",
              "            await google.colab.kernel.invokeFunction('convertToInteractive',\n",
              "                                                     [key], {});\n",
              "          if (!dataTable) return;\n",
              "\n",
              "          const docLinkHtml = 'Like what you see? Visit the ' +\n",
              "            '<a target=\"_blank\" href=https://colab.research.google.com/notebooks/data_table.ipynb>data table notebook</a>'\n",
              "            + ' to learn more about interactive tables.';\n",
              "          element.innerHTML = '';\n",
              "          dataTable['output_type'] = 'display_data';\n",
              "          await google.colab.output.renderOutput(dataTable, element);\n",
              "          const docLink = document.createElement('div');\n",
              "          docLink.innerHTML = docLinkHtml;\n",
              "          element.appendChild(docLink);\n",
              "        }\n",
              "      </script>\n",
              "    </div>\n",
              "  </div>\n",
              "  "
            ]
          },
          "metadata": {},
          "execution_count": 381
        }
      ]
    },
    {
      "cell_type": "code",
      "source": [
        "#lineal\n",
        "lrm = LinearRegression()\n",
        "lrm.fit(X_train, y_train)\n",
        "\n",
        "y_pred = lrm.predict(X_test)\n",
        "\n",
        "print('Coeficiente de la formula:', lrm.coef_)\n",
        "print('Intercept de la fórmula:', lrm.intercept_)\n",
        "\n",
        "formula = 'Fórmula: y = ' + str(lrm.intercept_[0]) + ' '\n",
        "for idx, coef in enumerate(lrm.coef_[0]):\n",
        "  if coef >= 0:\n",
        "    formula += '+'\n",
        "  formula += str(coef) + ' X' + str(idx + 1) + ' '\n",
        "\n",
        "print(formula)\n",
        "\n",
        "print('\\nError medio Absoluto (MAE):', metrics.mean_absolute_error(y_test, y_pred))\n",
        "print('Root Mean Squared Error:', np.sqrt(metrics.mean_squared_error(y_test, y_pred)))\n",
        "print('r2_score',r2_score(y_test, y_pred))\n",
        "\n",
        "MAE['Lineal'] = metrics.mean_absolute_error(y_test, y_pred)\n",
        "R2['Lineal'] = r2_score(y_test, y_pred)"
      ],
      "metadata": {
        "id": "0faHrN8-rv9V",
        "colab": {
          "base_uri": "https://localhost:8080/"
        },
        "outputId": "551debe9-fe8b-4923-9948-a26e597a5233"
      },
      "execution_count": 438,
      "outputs": [
        {
          "output_type": "stream",
          "name": "stdout",
          "text": [
            "Coeficiente de la formula: [[-3.82008048e+04  4.14661380e+04  1.07992584e+02  1.71356997e-02\n",
            "   3.16916913e+04  5.52691023e+05  4.12493228e+04  2.12221443e+04\n",
            "   1.19493216e+05  4.77750271e+01  6.02175565e+01 -3.55090216e+03\n",
            "   1.32602215e+01  2.90059284e+01 -5.48132603e-01]]\n",
            "Intercept de la fórmula: [6151359.2627409]\n",
            "Fórmula: y = 6151359.262740902 -38200.80483396449 X1 +41466.13802863147 X2 +107.99258400093822 X3 +0.0171356997161638 X4 +31691.691313553605 X5 +552691.0233181857 X6 +41249.32275203692 X7 +21222.144256109055 X8 +119493.21585367358 X9 +47.77502707057647 X10 +60.21755653483342 X11 -3550.9021573131968 X12 +13.260221498272529 X13 +29.00592838751345 X14 -0.5481326027838804 X15 \n",
            "\n",
            "Error medio Absoluto (MAE): 137480.1388273178\n",
            "Root Mean Squared Error: 232133.3676240749\n",
            "r2_score 0.6579723205007814\n"
          ]
        }
      ]
    },
    {
      "cell_type": "code",
      "source": [
        "#Polinomial\n",
        "poly_features = PolynomialFeatures(degree = 3, include_bias=False)\n",
        "X_train_poly = poly_features.fit_transform(X_train)\n",
        "X_test_poly = poly_features.fit_transform(X_test)\n",
        "\n",
        "lrpm = LinearRegression()\n",
        "lrpm.fit(X_train_poly, y_train)\n",
        "\n",
        "y_poly_pred = lrpm.predict(X_test_poly)\n",
        "\n",
        "print('Coeficientes de la formula:', lrpm.coef_)\n",
        "print('Intercept de la fórmula:', lrpm.intercept_)\n",
        "\n",
        "#print(\"Fórmula: y = %f %f X + %f X^2 %f X^3\" % (lrpm.intercept_, lrpm.coef_[0], lrpm.coef_[1], lrpm.coef_[2]))\n",
        "\n",
        "print('Error medio Absoluto (MAE):', metrics.mean_absolute_error(y_test, y_poly_pred))\n",
        "print('Root Mean Squared Error:', np.sqrt(metrics.mean_squared_error(y_test, y_poly_pred)))\n",
        "print('r2_score', r2_score(y_test, y_poly_pred))\n",
        "\n",
        "MAE['Polinomial'] = metrics.mean_absolute_error(y_test, y_poly_pred)\n",
        "R2['Polinomial'] = r2_score(y_test, y_poly_pred)"
      ],
      "metadata": {
        "colab": {
          "base_uri": "https://localhost:8080/"
        },
        "id": "57oqQeC1ZB0m",
        "outputId": "80504af0-10e3-4068-baf6-a761b9294067"
      },
      "execution_count": 439,
      "outputs": [
        {
          "output_type": "stream",
          "name": "stdout",
          "text": [
            "Coeficientes de la formula: [[ 3.17395792e+02 -2.70130239e+02  1.30610945e+01 -1.40757708e+01\n",
            "   2.62496809e+00  3.24633595e+00 -8.08938960e-01  3.60826046e-01\n",
            "  -6.17577143e-01  1.54124566e-01  9.07922470e-01 -2.42302232e-01\n",
            "   1.57944629e-01 -4.12303248e-01 -1.89494993e+01  2.57497810e-01\n",
            "   3.31180922e-01  2.56156276e+01 -9.51793255e-02 -6.36531339e-01\n",
            "   6.24165339e-01 -6.14143248e-02  9.57006257e-01  1.21507890e+00\n",
            "   1.85183285e+01  7.24785462e+00  3.94289500e+02  4.24069045e+00\n",
            "   5.07845227e+00 -1.89095034e+01 -4.03258004e-01 -2.08156624e+02\n",
            "  -6.15751437e+01 -4.82898236e-01 -6.40532068e-02 -8.73845428e-02\n",
            "  -1.73829295e-01 -5.97615346e-01 -1.69018199e+02 -3.91260224e+01\n",
            "  -1.76779529e+02 -4.47565136e+00 -1.70541213e+02  1.09037853e+02\n",
            "  -3.48181375e-01  5.54961266e-03 -3.10542727e+02 -2.04577118e+01\n",
            "  -5.10909707e+01  1.44081886e+02  1.11581166e+02  2.16670060e-01\n",
            "  -5.64909219e-01 -1.27410167e-01 -1.12568260e-01  1.58018890e+00\n",
            "  -3.54328039e-02  4.38742488e-05  6.16058584e+01 -2.69898947e+01\n",
            "   1.91781121e+01  1.20426825e+01  1.31650265e+01  9.34375304e-03\n",
            "  -3.73525411e-03 -1.04398912e-01  1.38884709e-02  3.01381870e-02\n",
            "   6.78520767e-05 -5.34102837e-01 -5.78470986e-02 -1.13822284e-01\n",
            "  -4.03570695e-01 -1.05966620e+00 -2.67524020e+02 -4.30187377e+01\n",
            "  -2.93222557e+02 -3.35793147e+00 -2.91958127e+02 -9.76415380e+01\n",
            "  -1.57122761e-02 -1.68119414e-01 -1.13491517e-01 -1.64619588e-01\n",
            "  -1.74203932e+01 -3.03731175e+00 -1.52993218e+01  2.89521925e-01\n",
            "  -1.93075606e+01 -1.08573905e+02 -1.08424368e-01 -7.86651310e-02\n",
            "  -1.31888702e-01 -4.03527763e+01 -1.07382336e+01 -4.51049163e+01\n",
            "  -3.19195216e+00 -5.69571664e+01 -2.42072671e+01  5.39400863e-01\n",
            "   6.90456940e-01  1.18106862e+02  2.59750399e+01  1.42884610e+02\n",
            "  -1.84020119e+00  1.37140757e+02  4.79912276e+00  7.61197307e-01\n",
            "   8.82755148e+01  2.33056421e+01  9.42517326e+01  7.84046146e-01\n",
            "   9.95172836e+01 -1.51103170e+01 -2.02758252e+00  2.24427261e+00\n",
            "   9.40121740e-01 -1.85322322e+00  1.45017708e+00 -1.97077053e-03\n",
            "  -2.80914700e+00 -1.06751495e+00  1.74066651e+00  1.30002356e-01\n",
            "  -3.34363391e-02 -1.65748055e+01  4.33882740e+01  1.57874743e+00\n",
            "   2.34932788e-02 -4.25386312e+01 -4.37936627e-01  8.20919268e-02\n",
            "  -1.48254749e+00  6.97841641e-03  3.89241075e-04  1.29106646e+02\n",
            "  -7.16509286e-01  4.15395793e+00  2.29637081e-01  4.75102521e-01\n",
            "  -7.01819595e-01 -1.06920772e+00  7.56507260e+00  2.69567648e+00\n",
            "  -4.22023433e+00  8.37419219e+00 -6.85156850e+00  3.79756814e+00\n",
            "   3.61539631e-01  1.60344901e-02 -1.34799509e+00  2.13243059e+00\n",
            "  -6.39846626e-01 -1.28598317e+00 -1.03087982e-01  1.41973419e-01\n",
            "   4.08102711e-01 -1.10957527e-01 -8.95127159e+00  1.10837021e+01\n",
            "  -2.37618609e+01 -1.72495794e+01  3.64892153e+01  5.39841200e-01\n",
            "  -5.29031580e-03  5.17471543e-06 -1.82434474e+01  2.48592345e+01\n",
            "   9.70652876e+00 -2.58285326e+00 -1.18894778e+00  1.25486887e-02\n",
            "  -1.78456991e-02  1.38371287e-02 -3.16366807e-03 -2.76695021e-02\n",
            "  -3.29956251e-04  2.69713922e-07  2.68861634e-02 -1.26045363e+00\n",
            "  -4.18980491e-01 -4.03773592e-01  3.84495844e-01  1.00009887e-04\n",
            "   1.72947060e-04 -4.46077509e-04 -2.66607598e-04 -5.94941557e-04\n",
            "   3.24147493e-06 -2.49302358e+00 -1.55857429e-01 -7.95747451e-01\n",
            "   1.24820294e+00 -6.92302224e-01  9.99272306e+01 -1.18170678e+02\n",
            "  -1.80234841e+01  1.24341160e+01 -3.70454114e+01 -3.05722749e-01\n",
            "  -9.04086603e-02 -5.54890277e-01 -3.59312692e-01 -6.56997578e-01\n",
            "   1.12996769e+02 -8.81375345e+01 -1.38295581e+02  8.41445143e+01\n",
            "  -1.22832637e+02  1.06470389e+01 -5.84909805e-01  1.47878446e+00\n",
            "   6.55293735e-02  6.31688822e+00  3.38964053e+00 -1.49911162e-01\n",
            "   1.23410332e+00 -1.84879607e+01  4.21295051e-01  2.45723093e+00\n",
            "   9.90569038e-01  2.15124127e+01 -2.40952660e+01 -1.15695968e+01\n",
            "  -3.13201438e+01  5.90213583e+00  3.09699217e-01 -3.88409775e-02\n",
            "  -7.99214707e+00  6.80319927e+00  2.45000153e+01  3.67706825e+01\n",
            "  -1.67485536e+01 -4.06624858e-01  1.14757304e-02  1.09266872e-03\n",
            "  -5.96769381e-02 -1.95002819e-02 -2.81401540e-02 -2.94626129e-04\n",
            "  -1.89352314e-02  7.35075788e-02  1.63374584e-02  4.72825090e-04\n",
            "  -2.84364091e-04 -2.06261496e-01  7.03779070e-01 -2.20908745e-02\n",
            "   1.01743906e-02 -7.37616533e-01 -3.05428264e-02  1.98429300e-04\n",
            "   5.61092921e-02  1.07510547e-03 -6.21875575e-06 -1.45227271e+00\n",
            "  -1.50402720e+01  4.38941293e-01 -8.57029035e-01 -2.82844361e-01\n",
            "  -6.23263138e-01 -9.51509340e-01  8.44226113e-01  1.46131191e+01\n",
            "  -2.96533911e+01  2.44930141e+01  4.37018048e+01 -2.32234541e+01\n",
            "   3.01150805e-02  7.16276634e-03  2.66921952e-04  1.63637824e+01\n",
            "   8.64544575e+00 -7.62589311e+00 -1.73031199e+01  4.66732372e-01\n",
            "  -1.44705438e-02  2.16317524e-02  1.47635930e-01  1.69065736e-04\n",
            "   2.48865022e-02 -8.63550868e-04 -1.25196244e-06  1.32670771e-01\n",
            "   1.46460209e+01  7.90605601e-01  5.21564376e-01 -1.50188397e+00\n",
            "   6.69195364e-04 -4.21705140e-04  3.42821759e-02 -2.60826466e-04\n",
            "   7.74301563e-04  3.42603757e-06 -5.18806542e-01 -3.62736394e-01\n",
            "  -3.75937935e-01 -9.68662133e-01 -2.91534826e-01 -2.38316465e+01\n",
            "   4.01954289e+01 -3.52413893e+01 -4.34339663e+01  2.19108836e+01\n",
            "  -8.29622275e-01 -6.40296452e-02 -3.46698619e-01 -2.08141474e-01\n",
            "  -5.42973196e-01 -1.80222051e+02  1.88867496e+02 -9.25135211e+01\n",
            "   1.04133954e+02  7.54682489e+01 -1.21674559e+00 -6.56769667e-01\n",
            "   2.39971956e-01 -1.34146108e-01 -1.53732288e+01  7.74733564e+00\n",
            "  -4.31467113e+00 -4.75471192e+00  2.75402168e+01 -9.21712475e-01\n",
            "   3.00836977e-01  1.14137571e-01 -1.05184700e+01 -6.78464992e+00\n",
            "  -1.84413585e+00  6.94897334e+00  3.64400667e+01 -1.42405322e+00\n",
            "  -2.15051706e+00  3.69261608e+01 -3.64594285e+01 -2.97260222e+01\n",
            "  -4.85093599e+01  6.83687484e+00  1.27722762e+00 -2.84662395e-02\n",
            "   1.40199152e-02  4.16508827e-02 -1.59705452e-02 -1.32942168e-02\n",
            "  -5.23843603e-04  7.61246197e-03  1.05979764e-01  1.61383753e-02\n",
            "   3.81807737e-02 -4.42915234e-04  1.98033501e-01  1.60207529e-01\n",
            "  -2.11904257e-02 -5.73440692e-02 -2.51331108e-03 -3.42451138e-03\n",
            "   7.07283993e-04 -2.53785761e-02  2.88473235e-04  3.36430025e-06\n",
            "   3.59283801e-03 -1.84543837e-03  3.51393591e-02 -1.56488409e-02\n",
            "  -7.36802083e-03  2.72790437e-02 -9.74584664e-03  5.31436971e-03\n",
            "  -2.89783411e-03  1.88096217e-03  9.77756527e-05 -1.47386872e-03\n",
            "  -3.14929070e-02 -1.18564729e+00  6.39139907e-05  7.62966605e-04\n",
            "   1.18795819e-04  3.60996606e-04 -7.04687865e-05 -2.55131381e-02\n",
            "   2.61641961e-02 -8.38328870e-03  4.37721589e-05 -6.76226852e-03\n",
            "   1.96909848e-01 -3.74988590e+01 -1.25772996e+02  9.85844849e+00\n",
            "  -1.74191333e+01 -2.17969135e+01 -3.87553188e-02  7.39008980e-02\n",
            "   3.81014000e-01 -2.81996898e-02 -7.59491930e-02  2.28709969e-04\n",
            "  -2.04577060e+01 -2.96410265e+01 -3.02065616e+00 -2.47155910e+01\n",
            "  -2.63004119e-03 -1.30188019e-02  6.07366938e-01 -2.12979332e-02\n",
            "  -7.32270956e-02 -3.32121052e-03  4.31279090e+00  1.15926026e+01\n",
            "  -2.45855576e-01  2.93857622e-03 -1.03026069e-02 -1.48711871e-02\n",
            "  -6.90015638e-04  1.53016556e-02 -4.23944850e-05  7.03912510e+00\n",
            "  -5.55238707e+00  1.46594362e-02  1.26188617e-02 -5.48376436e-02\n",
            "   4.32976387e-02 -3.59796803e-02  7.78085738e-06  1.19083107e+01\n",
            "  -1.69935336e-02  7.16494952e-03 -9.25624119e-02 -1.56590397e-02\n",
            "   1.07752061e-02 -2.92264998e-04 -1.41674597e-02 -3.67190082e-03\n",
            "  -9.63817036e-04 -1.28842069e-04 -3.07455821e-03  5.76043085e-02\n",
            "  -2.59163770e-03 -1.11586897e-03 -8.40278852e-05  2.19554870e-03\n",
            "   1.20956853e-02  1.22902845e-03 -8.26028056e-04 -7.99929450e-04\n",
            "   3.76727902e-03  8.14910046e-04  1.06110550e-04 -1.52576157e-04\n",
            "  -1.79990905e-03  1.13170795e-02 -7.21893263e-04  1.56319402e-12\n",
            "   6.28492668e-07  1.43752817e-05  4.55802656e-07  7.88525817e-07\n",
            "   5.98612587e-07  1.18564729e+00  1.18564729e+00 -2.66691678e-08\n",
            "  -1.51686486e-09  1.43636747e-09 -1.06012976e-11 -2.18140647e+00\n",
            "   1.80461936e+00 -3.43976752e-01 -1.86994897e-01  6.55163812e-01\n",
            "   9.42837441e-04 -9.42457290e-04 -3.23406635e-02  2.49112696e-04\n",
            "   9.75376495e-04  7.03160766e-07 -2.69899072e+01  5.54829858e+00\n",
            "  -1.07369914e+01  2.93981158e+00 -1.28206764e-03  2.04488923e-03\n",
            "  -4.97838618e-03 -4.43845228e-03  3.95130727e-03  3.81637757e-04\n",
            "  -2.66153406e-01 -1.43284649e-01 -1.06445616e-02 -1.88013074e-04\n",
            "   3.02764317e-04 -9.35720099e-03 -9.52296325e-04  4.25360700e-05\n",
            "   1.73309474e-06 -7.23982842e-03 -5.22633604e-01  5.01100257e-04\n",
            "  -1.13217134e-04 -4.96230936e-03 -9.12900757e-04  2.36211990e-04\n",
            "  -1.66912536e-06  4.10504239e-01 -2.61569857e-04  4.21009295e-04\n",
            "  -8.37562992e-03 -6.97448634e-05 -1.30724275e-04  3.13172729e-06\n",
            "   2.73582114e-02  3.03931892e-03  8.37552891e-03 -4.42483050e-05\n",
            "   6.76165926e-03 -1.96909853e-01 -2.43185437e-02  8.38261894e-03\n",
            "  -4.24387279e-05  6.76149902e-03 -1.96909850e-01  5.95765576e-05\n",
            "   4.17972437e-05 -1.70540308e-05 -3.76509171e-08 -4.37969719e-05\n",
            "  -1.55191986e-06  2.01351087e-08  7.75584653e-07  2.34146924e-10\n",
            "  -3.05533376e-11  2.68755049e-01 -7.25118493e-02  6.79437956e-01\n",
            "  -1.12171144e+00 -5.09293001e-01  7.52892733e+01 -1.12788132e+02\n",
            "  -7.09533359e+01 -8.81914932e+00  8.93412573e+01 -1.46832270e-01\n",
            "  -5.78488049e-02 -1.49004060e-01 -1.95330837e-01 -4.34654331e-01\n",
            "  -1.43073943e+00 -1.24342257e+02 -8.87112714e+01  3.25160687e+01\n",
            "   1.24848922e+01  1.15373949e+01  1.74841287e-01 -2.46036922e-01\n",
            "  -4.67870640e-01  8.29039979e+01 -7.30455494e+01 -7.05336575e+01\n",
            "   3.18346793e+01 -8.80748478e+00  5.50003064e-02  4.39961403e-03\n",
            "   5.29724222e-02  5.82422296e+01 -7.56613629e+01 -4.49601654e+00\n",
            "  -6.18485344e+01 -1.09929597e+01  2.18344980e-01 -1.44378877e+00\n",
            "  -6.94795800e+01  4.76826664e+01  1.32718828e+01 -4.29775822e-01\n",
            "   6.39028060e+01 -2.55128016e-01 -1.09211208e-02 -2.78394016e-02\n",
            "   1.40554974e-02 -1.77758749e-02  5.37287138e-02  1.43736533e-04\n",
            "   1.01741320e-01  3.66956193e-01 -1.04239339e-02 -1.29680845e-01\n",
            "   1.12743669e-04  2.14438570e-01 -1.06553043e-01 -2.58109659e-02\n",
            "   5.13978189e-02  3.16111165e-01 -4.22932681e-02  2.92504892e-03\n",
            "  -5.65068282e-02 -4.42405736e-04 -5.27287605e-07 -1.57104967e-02\n",
            "  -1.68118254e-01 -1.13493700e-01 -1.64617238e-01 -1.74203935e+01\n",
            "  -3.03731255e+00 -1.52993229e+01  2.89522699e-01 -1.93075602e+01\n",
            "  -1.08573908e+02 -6.93650227e-01 -1.19479841e+00 -1.14163326e+00\n",
            "   2.48304145e+02 -2.77945171e+02 -2.61408481e+02 -1.37394239e+02\n",
            "   3.40817499e+00  6.38013960e+00 -5.03329408e-01 -3.48305669e-01\n",
            "  -9.48674950e+00  6.46609334e+00 -1.63718948e+02  8.00929432e+01\n",
            "   1.27317612e+02  1.22873706e+01 -1.16579215e+00  9.14388072e+01\n",
            "  -1.16154398e+02 -1.98296674e+02 -1.34421850e+02  7.91772836e+01\n",
            "  -4.88626598e+00 -3.63568345e-02  3.37268058e-02 -6.37509651e-01\n",
            "   6.59388664e-02  8.27740497e-02 -9.57908560e-03 -4.67456104e-02\n",
            "   1.24487659e+00 -8.72368049e-02 -1.56001142e-01  6.25797347e-03\n",
            "   1.47927098e+00 -3.42394083e+00 -1.63280413e-01  6.92835904e-02\n",
            "   3.85056321e+00 -3.61221510e-02 -5.51483282e-03 -1.15578496e-01\n",
            "   1.10086886e-02  1.50008209e-05  4.54070134e-01 -2.44457033e+00\n",
            "  -1.00519157e+00 -2.00885393e+00  6.32164483e+00 -1.26392414e-01\n",
            "   4.39471527e+00 -4.09385406e-01  2.59171994e-01 -1.61502467e-01\n",
            "   1.41658957e+00  1.57664036e+01 -4.17380104e+00 -8.43096327e+00\n",
            "  -1.89620838e+01 -1.68180224e+01  3.20455413e-01 -8.70956241e-01\n",
            "  -1.32718235e+00  1.08132677e+00  1.57202151e+01 -1.54890768e+00\n",
            "  -7.18607679e+00  3.46714427e-03 -1.50945112e-02  1.80302402e-02\n",
            "  -4.20327046e-02 -2.37774971e-02  2.53359185e-03  4.81332248e-04\n",
            "  -2.83331543e-02  2.71623330e-02  2.30876937e-02  1.27679386e-02\n",
            "  -5.13280151e-04  5.78976846e-02  6.88571639e-01  5.91282483e-02\n",
            "   1.21094057e-02 -6.20814960e-01 -2.02957147e-02  9.98421113e-04\n",
            "   4.14110214e-03 -3.97032219e-04 -3.74076566e-06  2.44302779e+00\n",
            "  -4.11706841e-01  6.48602638e+00  5.53098732e-01  3.15429808e+00\n",
            "  -8.13511641e+01 -1.60550182e+01 -4.08803989e-02  6.75062796e-01\n",
            "  -1.12868923e+01  5.73450524e+00  2.97836014e+00 -1.24035844e+01\n",
            "   8.55907440e+00  9.14003901e-01 -4.56271014e-02  6.02815768e-02\n",
            "  -9.68985296e-02  2.42740534e-02  8.88306066e-03  2.17226633e-05\n",
            "  -4.76615165e-02  4.20572757e-02  1.90238204e-02 -4.48647075e-02\n",
            "  -7.40493560e-05 -8.37915721e-02 -4.02191870e-01 -6.96606069e-02\n",
            "  -3.26187220e-03  7.96631254e-01 -2.38502696e-02  2.64611349e-04\n",
            "   3.05449387e-02 -1.28392056e-03 -2.58029153e-06 -6.51035957e+00\n",
            "   4.33247110e+00  7.57583963e+00  2.05400166e+00  1.81580413e-01\n",
            "  -1.59666958e+01 -2.70606123e-01  6.44973276e-03 -2.34108211e-02\n",
            "   2.54178730e-02  6.69852179e-03 -2.13896691e-02  8.72879033e-05\n",
            "   3.05783032e-02 -1.17980814e-01 -2.23585251e-02  3.21823186e-02\n",
            "  -3.15069971e-04 -7.62892903e-02  4.54886433e-02 -2.20435019e-02\n",
            "   6.94872595e-03 -5.03128858e-02  3.89528412e-02  8.03320893e-05\n",
            "   1.72347306e-02  4.78859480e-04  1.40078675e-06  5.26912617e-03\n",
            "  -6.25908363e-04  1.63856457e-04  5.81114324e-05  4.61376278e-03\n",
            "  -2.61106795e-02 -4.14331918e-03 -2.56126508e-03  5.41679594e-05\n",
            "   3.93859867e-03 -6.71368049e-03 -1.81123271e-03 -3.15288435e-04\n",
            "  -5.13667584e-04 -3.74704535e-03  1.19793070e-03 -3.69267847e-05\n",
            "   1.51360414e-04  1.72833542e-03 -1.13173783e-02  7.21899744e-04\n",
            "   1.98690809e-03  9.98044581e-04  3.50368542e-06 -7.99844642e-04\n",
            "   1.93984379e-02 -7.26814093e-04 -7.21344526e-04  1.53503423e-04\n",
            "  -3.73151278e-03 -1.79164423e-04 -6.17807233e-05  1.51716408e-04\n",
            "   1.70905097e-03 -1.13160810e-02  7.21905751e-04  5.88194588e-03\n",
            "  -1.16677311e-02 -7.60362192e-04 -6.79225045e-06  1.42920988e-03\n",
            "   1.16093701e-04 -5.08326429e-05  6.77824183e-04 -1.95787374e-06\n",
            "  -1.88391878e-07  9.40313981e-03  5.20258503e-05  5.23455311e-06\n",
            "  -1.13821847e-05  5.18239567e-07 -1.28929738e-08  1.22511760e-05\n",
            "  -7.83032817e-07 -7.37585815e-09 -4.67537120e-12]]\n",
            "Intercept de la fórmula: [19759145.24258333]\n",
            "Error medio Absoluto (MAE): 127640.87573988685\n",
            "Root Mean Squared Error: 212376.50824233124\n",
            "r2_score 0.7137146909613681\n"
          ]
        }
      ]
    },
    {
      "cell_type": "code",
      "source": [
        "#Ridge\n",
        "poly_features = PolynomialFeatures(degree = 3, include_bias=False)\n",
        "X_train_poly = poly_features.fit_transform(X_train)\n",
        "X_test_poly = poly_features.fit_transform(X_test)\n",
        "\n",
        "RidgeModel = Ridge(alpha = .02)\n",
        "RidgeModel.fit(X_train_poly, y_train)\n",
        "\n",
        "y_ridge_pred = RidgeModel.predict(X_test_poly)\n",
        "print('Coeficientes de la formula:', lrpm.coef_)\n",
        "print('Intercept de la fórmula:', lrpm.intercept_)\n",
        "print('Álpha: ', RidgeModel.alpha)\n",
        "\n",
        "print('Error medio Absoluto (MAE):', metrics.mean_absolute_error(y_test, y_ridge_pred))\n",
        "print('Root Mean Squared Error:', np.sqrt(metrics.mean_squared_error(y_test, y_ridge_pred)))\n",
        "print('r2_score',r2_score(y_test, y_ridge_pred))\n",
        "\n",
        "\n",
        "MAE['Ridge'] = metrics.mean_absolute_error(y_test, y_ridge_pred)\n",
        "R2['Ridge'] = r2_score(y_test, y_ridge_pred)"
      ],
      "metadata": {
        "colab": {
          "base_uri": "https://localhost:8080/"
        },
        "id": "_Y4RPdtDZWTM",
        "outputId": "c71b2dce-8d28-4c7f-8115-d307a69da281"
      },
      "execution_count": 440,
      "outputs": [
        {
          "output_type": "stream",
          "name": "stdout",
          "text": [
            "Coeficientes de la formula: [[ 3.17395792e+02 -2.70130239e+02  1.30610945e+01 -1.40757708e+01\n",
            "   2.62496809e+00  3.24633595e+00 -8.08938960e-01  3.60826046e-01\n",
            "  -6.17577143e-01  1.54124566e-01  9.07922470e-01 -2.42302232e-01\n",
            "   1.57944629e-01 -4.12303248e-01 -1.89494993e+01  2.57497810e-01\n",
            "   3.31180922e-01  2.56156276e+01 -9.51793255e-02 -6.36531339e-01\n",
            "   6.24165339e-01 -6.14143248e-02  9.57006257e-01  1.21507890e+00\n",
            "   1.85183285e+01  7.24785462e+00  3.94289500e+02  4.24069045e+00\n",
            "   5.07845227e+00 -1.89095034e+01 -4.03258004e-01 -2.08156624e+02\n",
            "  -6.15751437e+01 -4.82898236e-01 -6.40532068e-02 -8.73845428e-02\n",
            "  -1.73829295e-01 -5.97615346e-01 -1.69018199e+02 -3.91260224e+01\n",
            "  -1.76779529e+02 -4.47565136e+00 -1.70541213e+02  1.09037853e+02\n",
            "  -3.48181375e-01  5.54961266e-03 -3.10542727e+02 -2.04577118e+01\n",
            "  -5.10909707e+01  1.44081886e+02  1.11581166e+02  2.16670060e-01\n",
            "  -5.64909219e-01 -1.27410167e-01 -1.12568260e-01  1.58018890e+00\n",
            "  -3.54328039e-02  4.38742488e-05  6.16058584e+01 -2.69898947e+01\n",
            "   1.91781121e+01  1.20426825e+01  1.31650265e+01  9.34375304e-03\n",
            "  -3.73525411e-03 -1.04398912e-01  1.38884709e-02  3.01381870e-02\n",
            "   6.78520767e-05 -5.34102837e-01 -5.78470986e-02 -1.13822284e-01\n",
            "  -4.03570695e-01 -1.05966620e+00 -2.67524020e+02 -4.30187377e+01\n",
            "  -2.93222557e+02 -3.35793147e+00 -2.91958127e+02 -9.76415380e+01\n",
            "  -1.57122761e-02 -1.68119414e-01 -1.13491517e-01 -1.64619588e-01\n",
            "  -1.74203932e+01 -3.03731175e+00 -1.52993218e+01  2.89521925e-01\n",
            "  -1.93075606e+01 -1.08573905e+02 -1.08424368e-01 -7.86651310e-02\n",
            "  -1.31888702e-01 -4.03527763e+01 -1.07382336e+01 -4.51049163e+01\n",
            "  -3.19195216e+00 -5.69571664e+01 -2.42072671e+01  5.39400863e-01\n",
            "   6.90456940e-01  1.18106862e+02  2.59750399e+01  1.42884610e+02\n",
            "  -1.84020119e+00  1.37140757e+02  4.79912276e+00  7.61197307e-01\n",
            "   8.82755148e+01  2.33056421e+01  9.42517326e+01  7.84046146e-01\n",
            "   9.95172836e+01 -1.51103170e+01 -2.02758252e+00  2.24427261e+00\n",
            "   9.40121740e-01 -1.85322322e+00  1.45017708e+00 -1.97077053e-03\n",
            "  -2.80914700e+00 -1.06751495e+00  1.74066651e+00  1.30002356e-01\n",
            "  -3.34363391e-02 -1.65748055e+01  4.33882740e+01  1.57874743e+00\n",
            "   2.34932788e-02 -4.25386312e+01 -4.37936627e-01  8.20919268e-02\n",
            "  -1.48254749e+00  6.97841641e-03  3.89241075e-04  1.29106646e+02\n",
            "  -7.16509286e-01  4.15395793e+00  2.29637081e-01  4.75102521e-01\n",
            "  -7.01819595e-01 -1.06920772e+00  7.56507260e+00  2.69567648e+00\n",
            "  -4.22023433e+00  8.37419219e+00 -6.85156850e+00  3.79756814e+00\n",
            "   3.61539631e-01  1.60344901e-02 -1.34799509e+00  2.13243059e+00\n",
            "  -6.39846626e-01 -1.28598317e+00 -1.03087982e-01  1.41973419e-01\n",
            "   4.08102711e-01 -1.10957527e-01 -8.95127159e+00  1.10837021e+01\n",
            "  -2.37618609e+01 -1.72495794e+01  3.64892153e+01  5.39841200e-01\n",
            "  -5.29031580e-03  5.17471543e-06 -1.82434474e+01  2.48592345e+01\n",
            "   9.70652876e+00 -2.58285326e+00 -1.18894778e+00  1.25486887e-02\n",
            "  -1.78456991e-02  1.38371287e-02 -3.16366807e-03 -2.76695021e-02\n",
            "  -3.29956251e-04  2.69713922e-07  2.68861634e-02 -1.26045363e+00\n",
            "  -4.18980491e-01 -4.03773592e-01  3.84495844e-01  1.00009887e-04\n",
            "   1.72947060e-04 -4.46077509e-04 -2.66607598e-04 -5.94941557e-04\n",
            "   3.24147493e-06 -2.49302358e+00 -1.55857429e-01 -7.95747451e-01\n",
            "   1.24820294e+00 -6.92302224e-01  9.99272306e+01 -1.18170678e+02\n",
            "  -1.80234841e+01  1.24341160e+01 -3.70454114e+01 -3.05722749e-01\n",
            "  -9.04086603e-02 -5.54890277e-01 -3.59312692e-01 -6.56997578e-01\n",
            "   1.12996769e+02 -8.81375345e+01 -1.38295581e+02  8.41445143e+01\n",
            "  -1.22832637e+02  1.06470389e+01 -5.84909805e-01  1.47878446e+00\n",
            "   6.55293735e-02  6.31688822e+00  3.38964053e+00 -1.49911162e-01\n",
            "   1.23410332e+00 -1.84879607e+01  4.21295051e-01  2.45723093e+00\n",
            "   9.90569038e-01  2.15124127e+01 -2.40952660e+01 -1.15695968e+01\n",
            "  -3.13201438e+01  5.90213583e+00  3.09699217e-01 -3.88409775e-02\n",
            "  -7.99214707e+00  6.80319927e+00  2.45000153e+01  3.67706825e+01\n",
            "  -1.67485536e+01 -4.06624858e-01  1.14757304e-02  1.09266872e-03\n",
            "  -5.96769381e-02 -1.95002819e-02 -2.81401540e-02 -2.94626129e-04\n",
            "  -1.89352314e-02  7.35075788e-02  1.63374584e-02  4.72825090e-04\n",
            "  -2.84364091e-04 -2.06261496e-01  7.03779070e-01 -2.20908745e-02\n",
            "   1.01743906e-02 -7.37616533e-01 -3.05428264e-02  1.98429300e-04\n",
            "   5.61092921e-02  1.07510547e-03 -6.21875575e-06 -1.45227271e+00\n",
            "  -1.50402720e+01  4.38941293e-01 -8.57029035e-01 -2.82844361e-01\n",
            "  -6.23263138e-01 -9.51509340e-01  8.44226113e-01  1.46131191e+01\n",
            "  -2.96533911e+01  2.44930141e+01  4.37018048e+01 -2.32234541e+01\n",
            "   3.01150805e-02  7.16276634e-03  2.66921952e-04  1.63637824e+01\n",
            "   8.64544575e+00 -7.62589311e+00 -1.73031199e+01  4.66732372e-01\n",
            "  -1.44705438e-02  2.16317524e-02  1.47635930e-01  1.69065736e-04\n",
            "   2.48865022e-02 -8.63550868e-04 -1.25196244e-06  1.32670771e-01\n",
            "   1.46460209e+01  7.90605601e-01  5.21564376e-01 -1.50188397e+00\n",
            "   6.69195364e-04 -4.21705140e-04  3.42821759e-02 -2.60826466e-04\n",
            "   7.74301563e-04  3.42603757e-06 -5.18806542e-01 -3.62736394e-01\n",
            "  -3.75937935e-01 -9.68662133e-01 -2.91534826e-01 -2.38316465e+01\n",
            "   4.01954289e+01 -3.52413893e+01 -4.34339663e+01  2.19108836e+01\n",
            "  -8.29622275e-01 -6.40296452e-02 -3.46698619e-01 -2.08141474e-01\n",
            "  -5.42973196e-01 -1.80222051e+02  1.88867496e+02 -9.25135211e+01\n",
            "   1.04133954e+02  7.54682489e+01 -1.21674559e+00 -6.56769667e-01\n",
            "   2.39971956e-01 -1.34146108e-01 -1.53732288e+01  7.74733564e+00\n",
            "  -4.31467113e+00 -4.75471192e+00  2.75402168e+01 -9.21712475e-01\n",
            "   3.00836977e-01  1.14137571e-01 -1.05184700e+01 -6.78464992e+00\n",
            "  -1.84413585e+00  6.94897334e+00  3.64400667e+01 -1.42405322e+00\n",
            "  -2.15051706e+00  3.69261608e+01 -3.64594285e+01 -2.97260222e+01\n",
            "  -4.85093599e+01  6.83687484e+00  1.27722762e+00 -2.84662395e-02\n",
            "   1.40199152e-02  4.16508827e-02 -1.59705452e-02 -1.32942168e-02\n",
            "  -5.23843603e-04  7.61246197e-03  1.05979764e-01  1.61383753e-02\n",
            "   3.81807737e-02 -4.42915234e-04  1.98033501e-01  1.60207529e-01\n",
            "  -2.11904257e-02 -5.73440692e-02 -2.51331108e-03 -3.42451138e-03\n",
            "   7.07283993e-04 -2.53785761e-02  2.88473235e-04  3.36430025e-06\n",
            "   3.59283801e-03 -1.84543837e-03  3.51393591e-02 -1.56488409e-02\n",
            "  -7.36802083e-03  2.72790437e-02 -9.74584664e-03  5.31436971e-03\n",
            "  -2.89783411e-03  1.88096217e-03  9.77756527e-05 -1.47386872e-03\n",
            "  -3.14929070e-02 -1.18564729e+00  6.39139907e-05  7.62966605e-04\n",
            "   1.18795819e-04  3.60996606e-04 -7.04687865e-05 -2.55131381e-02\n",
            "   2.61641961e-02 -8.38328870e-03  4.37721589e-05 -6.76226852e-03\n",
            "   1.96909848e-01 -3.74988590e+01 -1.25772996e+02  9.85844849e+00\n",
            "  -1.74191333e+01 -2.17969135e+01 -3.87553188e-02  7.39008980e-02\n",
            "   3.81014000e-01 -2.81996898e-02 -7.59491930e-02  2.28709969e-04\n",
            "  -2.04577060e+01 -2.96410265e+01 -3.02065616e+00 -2.47155910e+01\n",
            "  -2.63004119e-03 -1.30188019e-02  6.07366938e-01 -2.12979332e-02\n",
            "  -7.32270956e-02 -3.32121052e-03  4.31279090e+00  1.15926026e+01\n",
            "  -2.45855576e-01  2.93857622e-03 -1.03026069e-02 -1.48711871e-02\n",
            "  -6.90015638e-04  1.53016556e-02 -4.23944850e-05  7.03912510e+00\n",
            "  -5.55238707e+00  1.46594362e-02  1.26188617e-02 -5.48376436e-02\n",
            "   4.32976387e-02 -3.59796803e-02  7.78085738e-06  1.19083107e+01\n",
            "  -1.69935336e-02  7.16494952e-03 -9.25624119e-02 -1.56590397e-02\n",
            "   1.07752061e-02 -2.92264998e-04 -1.41674597e-02 -3.67190082e-03\n",
            "  -9.63817036e-04 -1.28842069e-04 -3.07455821e-03  5.76043085e-02\n",
            "  -2.59163770e-03 -1.11586897e-03 -8.40278852e-05  2.19554870e-03\n",
            "   1.20956853e-02  1.22902845e-03 -8.26028056e-04 -7.99929450e-04\n",
            "   3.76727902e-03  8.14910046e-04  1.06110550e-04 -1.52576157e-04\n",
            "  -1.79990905e-03  1.13170795e-02 -7.21893263e-04  1.56319402e-12\n",
            "   6.28492668e-07  1.43752817e-05  4.55802656e-07  7.88525817e-07\n",
            "   5.98612587e-07  1.18564729e+00  1.18564729e+00 -2.66691678e-08\n",
            "  -1.51686486e-09  1.43636747e-09 -1.06012976e-11 -2.18140647e+00\n",
            "   1.80461936e+00 -3.43976752e-01 -1.86994897e-01  6.55163812e-01\n",
            "   9.42837441e-04 -9.42457290e-04 -3.23406635e-02  2.49112696e-04\n",
            "   9.75376495e-04  7.03160766e-07 -2.69899072e+01  5.54829858e+00\n",
            "  -1.07369914e+01  2.93981158e+00 -1.28206764e-03  2.04488923e-03\n",
            "  -4.97838618e-03 -4.43845228e-03  3.95130727e-03  3.81637757e-04\n",
            "  -2.66153406e-01 -1.43284649e-01 -1.06445616e-02 -1.88013074e-04\n",
            "   3.02764317e-04 -9.35720099e-03 -9.52296325e-04  4.25360700e-05\n",
            "   1.73309474e-06 -7.23982842e-03 -5.22633604e-01  5.01100257e-04\n",
            "  -1.13217134e-04 -4.96230936e-03 -9.12900757e-04  2.36211990e-04\n",
            "  -1.66912536e-06  4.10504239e-01 -2.61569857e-04  4.21009295e-04\n",
            "  -8.37562992e-03 -6.97448634e-05 -1.30724275e-04  3.13172729e-06\n",
            "   2.73582114e-02  3.03931892e-03  8.37552891e-03 -4.42483050e-05\n",
            "   6.76165926e-03 -1.96909853e-01 -2.43185437e-02  8.38261894e-03\n",
            "  -4.24387279e-05  6.76149902e-03 -1.96909850e-01  5.95765576e-05\n",
            "   4.17972437e-05 -1.70540308e-05 -3.76509171e-08 -4.37969719e-05\n",
            "  -1.55191986e-06  2.01351087e-08  7.75584653e-07  2.34146924e-10\n",
            "  -3.05533376e-11  2.68755049e-01 -7.25118493e-02  6.79437956e-01\n",
            "  -1.12171144e+00 -5.09293001e-01  7.52892733e+01 -1.12788132e+02\n",
            "  -7.09533359e+01 -8.81914932e+00  8.93412573e+01 -1.46832270e-01\n",
            "  -5.78488049e-02 -1.49004060e-01 -1.95330837e-01 -4.34654331e-01\n",
            "  -1.43073943e+00 -1.24342257e+02 -8.87112714e+01  3.25160687e+01\n",
            "   1.24848922e+01  1.15373949e+01  1.74841287e-01 -2.46036922e-01\n",
            "  -4.67870640e-01  8.29039979e+01 -7.30455494e+01 -7.05336575e+01\n",
            "   3.18346793e+01 -8.80748478e+00  5.50003064e-02  4.39961403e-03\n",
            "   5.29724222e-02  5.82422296e+01 -7.56613629e+01 -4.49601654e+00\n",
            "  -6.18485344e+01 -1.09929597e+01  2.18344980e-01 -1.44378877e+00\n",
            "  -6.94795800e+01  4.76826664e+01  1.32718828e+01 -4.29775822e-01\n",
            "   6.39028060e+01 -2.55128016e-01 -1.09211208e-02 -2.78394016e-02\n",
            "   1.40554974e-02 -1.77758749e-02  5.37287138e-02  1.43736533e-04\n",
            "   1.01741320e-01  3.66956193e-01 -1.04239339e-02 -1.29680845e-01\n",
            "   1.12743669e-04  2.14438570e-01 -1.06553043e-01 -2.58109659e-02\n",
            "   5.13978189e-02  3.16111165e-01 -4.22932681e-02  2.92504892e-03\n",
            "  -5.65068282e-02 -4.42405736e-04 -5.27287605e-07 -1.57104967e-02\n",
            "  -1.68118254e-01 -1.13493700e-01 -1.64617238e-01 -1.74203935e+01\n",
            "  -3.03731255e+00 -1.52993229e+01  2.89522699e-01 -1.93075602e+01\n",
            "  -1.08573908e+02 -6.93650227e-01 -1.19479841e+00 -1.14163326e+00\n",
            "   2.48304145e+02 -2.77945171e+02 -2.61408481e+02 -1.37394239e+02\n",
            "   3.40817499e+00  6.38013960e+00 -5.03329408e-01 -3.48305669e-01\n",
            "  -9.48674950e+00  6.46609334e+00 -1.63718948e+02  8.00929432e+01\n",
            "   1.27317612e+02  1.22873706e+01 -1.16579215e+00  9.14388072e+01\n",
            "  -1.16154398e+02 -1.98296674e+02 -1.34421850e+02  7.91772836e+01\n",
            "  -4.88626598e+00 -3.63568345e-02  3.37268058e-02 -6.37509651e-01\n",
            "   6.59388664e-02  8.27740497e-02 -9.57908560e-03 -4.67456104e-02\n",
            "   1.24487659e+00 -8.72368049e-02 -1.56001142e-01  6.25797347e-03\n",
            "   1.47927098e+00 -3.42394083e+00 -1.63280413e-01  6.92835904e-02\n",
            "   3.85056321e+00 -3.61221510e-02 -5.51483282e-03 -1.15578496e-01\n",
            "   1.10086886e-02  1.50008209e-05  4.54070134e-01 -2.44457033e+00\n",
            "  -1.00519157e+00 -2.00885393e+00  6.32164483e+00 -1.26392414e-01\n",
            "   4.39471527e+00 -4.09385406e-01  2.59171994e-01 -1.61502467e-01\n",
            "   1.41658957e+00  1.57664036e+01 -4.17380104e+00 -8.43096327e+00\n",
            "  -1.89620838e+01 -1.68180224e+01  3.20455413e-01 -8.70956241e-01\n",
            "  -1.32718235e+00  1.08132677e+00  1.57202151e+01 -1.54890768e+00\n",
            "  -7.18607679e+00  3.46714427e-03 -1.50945112e-02  1.80302402e-02\n",
            "  -4.20327046e-02 -2.37774971e-02  2.53359185e-03  4.81332248e-04\n",
            "  -2.83331543e-02  2.71623330e-02  2.30876937e-02  1.27679386e-02\n",
            "  -5.13280151e-04  5.78976846e-02  6.88571639e-01  5.91282483e-02\n",
            "   1.21094057e-02 -6.20814960e-01 -2.02957147e-02  9.98421113e-04\n",
            "   4.14110214e-03 -3.97032219e-04 -3.74076566e-06  2.44302779e+00\n",
            "  -4.11706841e-01  6.48602638e+00  5.53098732e-01  3.15429808e+00\n",
            "  -8.13511641e+01 -1.60550182e+01 -4.08803989e-02  6.75062796e-01\n",
            "  -1.12868923e+01  5.73450524e+00  2.97836014e+00 -1.24035844e+01\n",
            "   8.55907440e+00  9.14003901e-01 -4.56271014e-02  6.02815768e-02\n",
            "  -9.68985296e-02  2.42740534e-02  8.88306066e-03  2.17226633e-05\n",
            "  -4.76615165e-02  4.20572757e-02  1.90238204e-02 -4.48647075e-02\n",
            "  -7.40493560e-05 -8.37915721e-02 -4.02191870e-01 -6.96606069e-02\n",
            "  -3.26187220e-03  7.96631254e-01 -2.38502696e-02  2.64611349e-04\n",
            "   3.05449387e-02 -1.28392056e-03 -2.58029153e-06 -6.51035957e+00\n",
            "   4.33247110e+00  7.57583963e+00  2.05400166e+00  1.81580413e-01\n",
            "  -1.59666958e+01 -2.70606123e-01  6.44973276e-03 -2.34108211e-02\n",
            "   2.54178730e-02  6.69852179e-03 -2.13896691e-02  8.72879033e-05\n",
            "   3.05783032e-02 -1.17980814e-01 -2.23585251e-02  3.21823186e-02\n",
            "  -3.15069971e-04 -7.62892903e-02  4.54886433e-02 -2.20435019e-02\n",
            "   6.94872595e-03 -5.03128858e-02  3.89528412e-02  8.03320893e-05\n",
            "   1.72347306e-02  4.78859480e-04  1.40078675e-06  5.26912617e-03\n",
            "  -6.25908363e-04  1.63856457e-04  5.81114324e-05  4.61376278e-03\n",
            "  -2.61106795e-02 -4.14331918e-03 -2.56126508e-03  5.41679594e-05\n",
            "   3.93859867e-03 -6.71368049e-03 -1.81123271e-03 -3.15288435e-04\n",
            "  -5.13667584e-04 -3.74704535e-03  1.19793070e-03 -3.69267847e-05\n",
            "   1.51360414e-04  1.72833542e-03 -1.13173783e-02  7.21899744e-04\n",
            "   1.98690809e-03  9.98044581e-04  3.50368542e-06 -7.99844642e-04\n",
            "   1.93984379e-02 -7.26814093e-04 -7.21344526e-04  1.53503423e-04\n",
            "  -3.73151278e-03 -1.79164423e-04 -6.17807233e-05  1.51716408e-04\n",
            "   1.70905097e-03 -1.13160810e-02  7.21905751e-04  5.88194588e-03\n",
            "  -1.16677311e-02 -7.60362192e-04 -6.79225045e-06  1.42920988e-03\n",
            "   1.16093701e-04 -5.08326429e-05  6.77824183e-04 -1.95787374e-06\n",
            "  -1.88391878e-07  9.40313981e-03  5.20258503e-05  5.23455311e-06\n",
            "  -1.13821847e-05  5.18239567e-07 -1.28929738e-08  1.22511760e-05\n",
            "  -7.83032817e-07 -7.37585815e-09 -4.67537120e-12]]\n",
            "Intercept de la fórmula: [19759145.24258333]\n",
            "Álpha:  0.02\n",
            "Error medio Absoluto (MAE): 212729.89643194448\n",
            "Root Mean Squared Error: 425193.8150960709\n",
            "r2_score -0.147519270305162\n"
          ]
        }
      ]
    },
    {
      "cell_type": "code",
      "source": [
        "#Lasso\n",
        "poly_features = PolynomialFeatures(degree = 4, include_bias=False)\n",
        "X_train_poly = poly_features.fit_transform(X_train)\n",
        "X_test_poly = poly_features.fit_transform(X_test)\n",
        "\n",
        "LassoModel = Lasso(alpha = 1)\n",
        "LassoModel.fit(X_train_poly, y_train)\n",
        "\n",
        "y_lasso_pred = LassoModel.predict(X_test_poly)\n",
        "\n",
        "print('Error medio Absoluto (MAE):', metrics.mean_absolute_error(y_test, y_lasso_pred))\n",
        "print('Root Mean Squared Error:', np.sqrt(metrics.mean_squared_error(y_test, y_lasso_pred)))\n",
        "print('r2_score',r2_score(y_test, y_lasso_pred))\n",
        "\n",
        "MAE['Lasso'] = metrics.mean_absolute_error(y_test, y_lasso_pred)\n",
        "R2['Lasso'] = r2_score(y_test, y_lasso_pred)"
      ],
      "metadata": {
        "colab": {
          "base_uri": "https://localhost:8080/"
        },
        "id": "ZTYh-L-UZlwa",
        "outputId": "d368c298-3b56-46ff-a276-8732aad55317"
      },
      "execution_count": 441,
      "outputs": [
        {
          "output_type": "stream",
          "name": "stdout",
          "text": [
            "Error medio Absoluto (MAE): 124557.60268925689\n",
            "Root Mean Squared Error: 235149.53836999479\n",
            "r2_score 0.6490264639963815\n"
          ]
        },
        {
          "output_type": "stream",
          "name": "stderr",
          "text": [
            "/usr/local/lib/python3.7/dist-packages/sklearn/linear_model/_coordinate_descent.py:648: ConvergenceWarning: Objective did not converge. You might want to increase the number of iterations, check the scale of the features or consider increasing regularisation. Duality gap: 2.656e+14, tolerance: 2.572e+11\n",
            "  coef_, l1_reg, l2_reg, X, y, max_iter, tol, rng, random, positive\n"
          ]
        }
      ]
    },
    {
      "cell_type": "code",
      "source": [
        "MAE"
      ],
      "metadata": {
        "colab": {
          "base_uri": "https://localhost:8080/"
        },
        "id": "opX66BymaUVD",
        "outputId": "f259ba39-a99c-46bf-9c15-74af82467849"
      },
      "execution_count": 442,
      "outputs": [
        {
          "output_type": "execute_result",
          "data": {
            "text/plain": [
              "{'Lineal': 137480.1388273178,\n",
              " 'Polinomial': 127640.87573988685,\n",
              " 'Ridge': 212729.89643194448,\n",
              " 'Lasso': 124557.60268925689}"
            ]
          },
          "metadata": {},
          "execution_count": 442
        }
      ]
    },
    {
      "cell_type": "code",
      "source": [
        "R2"
      ],
      "metadata": {
        "colab": {
          "base_uri": "https://localhost:8080/"
        },
        "id": "LMkvQ0HdaVMA",
        "outputId": "5316a2f3-126a-4add-a953-3a3607ed5b4b"
      },
      "execution_count": 443,
      "outputs": [
        {
          "output_type": "execute_result",
          "data": {
            "text/plain": [
              "{'Lineal': 0.6579723205007814,\n",
              " 'Polinomial': 0.7137146909613681,\n",
              " 'Ridge': -0.147519270305162,\n",
              " 'Lasso': 0.6490264639963815}"
            ]
          },
          "metadata": {},
          "execution_count": 443
        }
      ]
    },
    {
      "cell_type": "code",
      "source": [
        "myList = MAE.items()\n",
        "x, y = zip(*myList) \n",
        "\n",
        "plt.plot(x, y)\n",
        "plt.title(\"MAE\", fontsize = 12)\n",
        "plt.show()"
      ],
      "metadata": {
        "colab": {
          "base_uri": "https://localhost:8080/",
          "height": 393
        },
        "id": "uz_BjCpzaWYF",
        "outputId": "5aa99b7f-e66d-46c9-f118-a88dc136ccc3"
      },
      "execution_count": 444,
      "outputs": [
        {
          "output_type": "display_data",
          "data": {
            "text/plain": [
              "<Figure size 432x432 with 1 Axes>"
            ],
            "image/png": "[encoded data removed]"
          },
          "metadata": {}
        }
      ]
    },
    {
      "cell_type": "code",
      "source": [
        "myList = R2.items()\n",
        "x, y = zip(*myList) \n",
        "\n",
        "plt.plot(x, y)\n",
        "plt.title(\"R2\", fontsize = 12)\n",
        "plt.show()"
      ],
      "metadata": {
        "colab": {
          "base_uri": "https://localhost:8080/",
          "height": 393
        },
        "id": "jRA-pIl_aWdq",
        "outputId": "6b8dad11-fc9d-4edc-efac-8f0ca02d8360"
      },
      "execution_count": 445,
      "outputs": [
        {
          "output_type": "display_data",
          "data": {
            "text/plain": [
              "<Figure size 432x432 with 1 Axes>"
            ],
            "image/png": "[encoded data removed]"
          },
          "metadata": {}
        }
      ]
    },
    {
      "cell_type": "markdown",
      "source": [
        "Ahora observamos como el modelo polinomial nuevamente fue el más acertado, seguido de cerca por el lineal. Ridge está penalizando demasiado, acá valdría la pena seguir jugando con los valores de alpha para ver hasta cuanto deberíamos penalizar para óptimos resultados. "
      ],
      "metadata": {
        "id": "eJD_9Tnqac7J"
      }
    },
    {
      "cell_type": "code",
      "source": [],
      "metadata": {
        "id": "k7J6qSnEarZr"
      },
      "execution_count": 445,
      "outputs": []
    }
  ]
}