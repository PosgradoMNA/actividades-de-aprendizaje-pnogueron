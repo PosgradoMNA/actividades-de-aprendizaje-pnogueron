{
  "nbformat": 4,
  "nbformat_minor": 0,
  "metadata": {
    "colab": {
      "provenance": [],
      "collapsed_sections": [],
      "authorship_tag": "ABX9TyMWZEdDPrOceBDjECWYlwva",
      "include_colab_link": true
    },
    "kernelspec": {
      "name": "python3",
      "display_name": "Python 3"
    },
    "language_info": {
      "name": "python"
    }
  },
  "cells": [
    {
      "cell_type": "markdown",
      "metadata": {
        "id": "view-in-github",
        "colab_type": "text"
      },
      "source": [
        "<a href=\"https://colab.research.google.com/github/PosgradoMNA/actividades-de-aprendizaje-pnogueron/blob/main/Semana1_Actividad2_A01097897.ipynb\" target=\"_parent\"><img src=\"https://colab.research.google.com/assets/colab-badge.svg\" alt=\"Open In Colab\"/></a>"
      ]
    },
    {
      "cell_type": "markdown",
      "source": [
        "<h1> Module 1 </h1>\n",
        "\n",
        "<h2> 1.1 - Tu primer programa </h2>"
      ],
      "metadata": {
        "id": "PjSQiprEDZys"
      }
    },
    {
      "cell_type": "markdown",
      "source": [
        "Hello World"
      ],
      "metadata": {
        "id": "9QipwBZHCz3E"
      }
    },
    {
      "cell_type": "code",
      "execution_count": 5,
      "metadata": {
        "colab": {
          "base_uri": "https://localhost:8080/"
        },
        "id": "GNh2SzOtCK9Z",
        "outputId": "62d4486d-7f29-4f13-bfb9-0d8b1e506f13"
      },
      "outputs": [
        {
          "output_type": "stream",
          "name": "stdout",
          "text": [
            "Hello world\n"
          ]
        }
      ],
      "source": [
        "print(\"Hello world\")"
      ]
    },
    {
      "cell_type": "markdown",
      "source": [
        "Hello World in two lines"
      ],
      "metadata": {
        "id": "sh0k6WSkDOFh"
      }
    },
    {
      "cell_type": "code",
      "source": [
        "print(\"Hello\\nWorld\")"
      ],
      "metadata": {
        "colab": {
          "base_uri": "https://localhost:8080/"
        },
        "id": "4m-w1OXQDP4t",
        "outputId": "7bb4467d-6eb1-4d92-be29-dadcf327e7ae"
      },
      "execution_count": 4,
      "outputs": [
        {
          "output_type": "stream",
          "name": "stdout",
          "text": [
            "Hello\n",
            "World\n"
          ]
        }
      ]
    },
    {
      "cell_type": "markdown",
      "source": [
        "Los comentarios deben ser precedidos por almohadilla"
      ],
      "metadata": {
        "id": "vpPEaRwCDUKg"
      }
    },
    {
      "cell_type": "code",
      "source": [
        "# this is a comment"
      ],
      "metadata": {
        "id": "9HwarkXwDXgj"
      },
      "execution_count": 3,
      "outputs": []
    },
    {
      "cell_type": "markdown",
      "source": [
        "<h2> 1.2 - Tipos de datos </h2>"
      ],
      "metadata": {
        "id": "-UxZ7rDNFKd6"
      }
    },
    {
      "cell_type": "markdown",
      "source": [
        "Encuentra el tipo de datos de \"Hello world\""
      ],
      "metadata": {
        "id": "tDimIAc-GyO5"
      }
    },
    {
      "cell_type": "code",
      "source": [
        "type(\"Hello world\")\n"
      ],
      "metadata": {
        "id": "53wwSsboFWTc",
        "outputId": "e8ce2b78-9316-4b45-a310-60125a21b1c8",
        "colab": {
          "base_uri": "https://localhost:8080/"
        }
      },
      "execution_count": 2,
      "outputs": [
        {
          "output_type": "execute_result",
          "data": {
            "text/plain": [
              "str"
            ]
          },
          "metadata": {},
          "execution_count": 2
        }
      ]
    },
    {
      "cell_type": "markdown",
      "source": [
        "Encuentra el tipo de datos de \"1.1\""
      ],
      "metadata": {
        "id": "Xxb5wEEtG3WL"
      }
    },
    {
      "cell_type": "code",
      "source": [
        "type(\"1.1\")"
      ],
      "metadata": {
        "colab": {
          "base_uri": "https://localhost:8080/"
        },
        "id": "gY2VRf2cG72O",
        "outputId": "cb215a20-db0b-411a-a8f7-77db94b0764e"
      },
      "execution_count": 1,
      "outputs": [
        {
          "output_type": "execute_result",
          "data": {
            "text/plain": [
              "str"
            ]
          },
          "metadata": {},
          "execution_count": 1
        }
      ]
    },
    {
      "cell_type": "markdown",
      "source": [
        "Castea \"1\" a entero y luego a boolean"
      ],
      "metadata": {
        "id": "dV2srlB0HMn1"
      }
    },
    {
      "cell_type": "code",
      "source": [
        "print(int(\"1\"))\n",
        "print(bool(\"1\"))\n",
        "print(bool(int(\"1\")))\n"
      ],
      "metadata": {
        "colab": {
          "base_uri": "https://localhost:8080/"
        },
        "id": "Ng6YZuSOHOn3",
        "outputId": "7a0ebc27-0dc8-4a98-990b-2c0c407ffea0"
      },
      "execution_count": 10,
      "outputs": [
        {
          "output_type": "stream",
          "name": "stdout",
          "text": [
            "1\n",
            "True\n",
            "True\n"
          ]
        }
      ]
    },
    {
      "cell_type": "markdown",
      "source": [
        "<h2> Escribe tu primer programa </h2>"
      ],
      "metadata": {
        "id": "pTNQPkvyK6Fc"
      }
    },
    {
      "cell_type": "code",
      "source": [
        "#TU primer programa\n",
        "print(\"Hello, world!\")"
      ],
      "metadata": {
        "colab": {
          "base_uri": "https://localhost:8080/"
        },
        "id": "9mDiagypK80E",
        "outputId": "3253aa91-71b7-453f-e7f4-365b6d5531c9"
      },
      "execution_count": 11,
      "outputs": [
        {
          "output_type": "stream",
          "name": "stdout",
          "text": [
            "Hello, world!\n"
          ]
        }
      ]
    },
    {
      "cell_type": "code",
      "source": [
        "#Print + comments in one line\n",
        "print(\"Hello, world!\") #Print the traditional hello world"
      ],
      "metadata": {
        "colab": {
          "base_uri": "https://localhost:8080/"
        },
        "id": "okghktfULR-D",
        "outputId": "4ca0073d-68b3-414f-e202-524d72dcb3d1"
      },
      "execution_count": 12,
      "outputs": [
        {
          "output_type": "stream",
          "name": "stdout",
          "text": [
            "Hello, world!\n"
          ]
        }
      ]
    },
    {
      "cell_type": "code",
      "source": [
        "#In the code cell below, use the type() function to check the object type of 12.0.\n",
        "type(12.0)"
      ],
      "metadata": {
        "colab": {
          "base_uri": "https://localhost:8080/"
        },
        "id": "0JON9bNLLg12",
        "outputId": "1e45679f-bb75-43e8-ea1f-4d8feafdeb8b"
      },
      "execution_count": 13,
      "outputs": [
        {
          "output_type": "execute_result",
          "data": {
            "text/plain": [
              "float"
            ]
          },
          "metadata": {},
          "execution_count": 13
        }
      ]
    },
    {
      "cell_type": "code",
      "source": [
        "#What is the data type of the result of: 6 / 2?\n",
        "type(6/2)"
      ],
      "metadata": {
        "colab": {
          "base_uri": "https://localhost:8080/"
        },
        "id": "X0rLL7mfMM8a",
        "outputId": "fdb999e5-c3f8-4983-8d82-ff6b839a06ca"
      },
      "execution_count": 14,
      "outputs": [
        {
          "output_type": "execute_result",
          "data": {
            "text/plain": [
              "float"
            ]
          },
          "metadata": {},
          "execution_count": 14
        }
      ]
    },
    {
      "cell_type": "code",
      "source": [
        "#What is the type of the result of: 6 // 2? (Note the double slash //.)\n",
        "#It will be a int\n",
        "type(6//2)"
      ],
      "metadata": {
        "colab": {
          "base_uri": "https://localhost:8080/"
        },
        "id": "4PLMo3HTMY1C",
        "outputId": "6ee5ebb8-f323-40b7-86b7-dd954459b6f0"
      },
      "execution_count": 16,
      "outputs": [
        {
          "output_type": "execute_result",
          "data": {
            "text/plain": [
              "int"
            ]
          },
          "metadata": {},
          "execution_count": 16
        }
      ]
    },
    {
      "cell_type": "code",
      "source": [
        "#Let's write an expression that calculates how many hours there are in 160 minutes:\n",
        "#Horas en float (tomamos en cuenta decimales)\n",
        "print(160/60)\n",
        "\n",
        "#Horas en entero (No tomamos en cuenta decimales)\n",
        "print(160//60)"
      ],
      "metadata": {
        "colab": {
          "base_uri": "https://localhost:8080/"
        },
        "id": "AB1bsa61M37Q",
        "outputId": "29a35012-add6-41c0-d5c5-128d23cb961c"
      },
      "execution_count": 17,
      "outputs": [
        {
          "output_type": "stream",
          "name": "stdout",
          "text": [
            "2.6666666666666665\n",
            "2\n"
          ]
        }
      ]
    },
    {
      "cell_type": "code",
      "source": [
        "#What is the value of x where x = 3 + 2 * 2\n",
        "x = 3 + 2 * 2\n",
        "print(x)"
      ],
      "metadata": {
        "colab": {
          "base_uri": "https://localhost:8080/"
        },
        "id": "TWSIOeYbNiTb",
        "outputId": "d80eee49-54df-42ec-c673-4c86550b05b4"
      },
      "execution_count": 18,
      "outputs": [
        {
          "output_type": "stream",
          "name": "stdout",
          "text": [
            "7\n"
          ]
        }
      ]
    },
    {
      "cell_type": "code",
      "source": [
        "#What is the value of y where y = (3 + 2) * 2?\n",
        "y = (3 + 2) * 2\n",
        "print (y)"
      ],
      "metadata": {
        "colab": {
          "base_uri": "https://localhost:8080/"
        },
        "id": "8oEhD-I3NicN",
        "outputId": "ee235032-a47c-4cd4-a887-0ce9fcbeaa27"
      },
      "execution_count": 19,
      "outputs": [
        {
          "output_type": "stream",
          "name": "stdout",
          "text": [
            "10\n"
          ]
        }
      ]
    },
    {
      "cell_type": "code",
      "source": [
        "#What is the value of z where z = x + y?\n",
        "z = x + y\n",
        "print (z)"
      ],
      "metadata": {
        "colab": {
          "base_uri": "https://localhost:8080/"
        },
        "id": "ZLDVWeVcN01r",
        "outputId": "dc7aacc8-6c4d-4b0c-ebf4-5dee8f3921cc"
      },
      "execution_count": 22,
      "outputs": [
        {
          "output_type": "stream",
          "name": "stdout",
          "text": [
            "17\n"
          ]
        }
      ]
    },
    {
      "cell_type": "markdown",
      "source": [
        "<h2> 1.3 - Operaciones con cadenas </h2>"
      ],
      "metadata": {
        "id": "m-sAoUYoSeEn"
      }
    },
    {
      "cell_type": "code",
      "source": [
        "#Use slicing to find the first four elements of the following string:\n",
        "Letters=\"ABCDEFGHIJK\"\n",
        "Letters[0:4]"
      ],
      "metadata": {
        "colab": {
          "base_uri": "https://localhost:8080/",
          "height": 35
        },
        "id": "e2pNteB9ShbS",
        "outputId": "18bf0a06-7d40-4ca3-96a7-8cd7a3095ab1"
      },
      "execution_count": 23,
      "outputs": [
        {
          "output_type": "execute_result",
          "data": {
            "text/plain": [
              "'ABCD'"
            ],
            "application/vnd.google.colaboratory.intrinsic+json": {
              "type": "string"
            }
          },
          "metadata": {},
          "execution_count": 23
        }
      ]
    },
    {
      "cell_type": "code",
      "source": [
        "#Use a stride value of 2 on the following string :\n",
        "Good=\"GsoAo+d\"\n",
        "Good[::2]"
      ],
      "metadata": {
        "colab": {
          "base_uri": "https://localhost:8080/",
          "height": 35
        },
        "id": "kj59urBjSmhy",
        "outputId": "2ea9d857-2b4e-4258-b461-a0d524be2715"
      },
      "execution_count": 24,
      "outputs": [
        {
          "output_type": "execute_result",
          "data": {
            "text/plain": [
              "'Good'"
            ],
            "application/vnd.google.colaboratory.intrinsic+json": {
              "type": "string"
            }
          },
          "metadata": {},
          "execution_count": 24
        }
      ]
    },
    {
      "cell_type": "code",
      "source": [
        "#Convert the following string to uppercase using the method upper():\n",
        "\"uppercase\"\n",
        "\"uppercase\".upper()"
      ],
      "metadata": {
        "colab": {
          "base_uri": "https://localhost:8080/",
          "height": 35
        },
        "id": "g-exNShKSv9S",
        "outputId": "ad52c3ab-5f31-4af8-b0e2-860de971316e"
      },
      "execution_count": 25,
      "outputs": [
        {
          "output_type": "execute_result",
          "data": {
            "text/plain": [
              "'UPPERCASE'"
            ],
            "application/vnd.google.colaboratory.intrinsic+json": {
              "type": "string"
            }
          },
          "metadata": {},
          "execution_count": 25
        }
      ]
    },
    {
      "cell_type": "markdown",
      "source": [
        "<h2> Strings </h2>"
      ],
      "metadata": {
        "id": "2-ZbYNfrTSyT"
      }
    },
    {
      "cell_type": "code",
      "source": [
        "# Use quotation marks for defining string\n",
        "\n",
        "\"Michael Jackson\""
      ],
      "metadata": {
        "colab": {
          "base_uri": "https://localhost:8080/",
          "height": 35
        },
        "id": "nyJzYbmjTU3M",
        "outputId": "a922228f-d278-4052-abaa-bf6e83216f50"
      },
      "execution_count": 26,
      "outputs": [
        {
          "output_type": "execute_result",
          "data": {
            "text/plain": [
              "'Michael Jackson'"
            ],
            "application/vnd.google.colaboratory.intrinsic+json": {
              "type": "string"
            }
          },
          "metadata": {},
          "execution_count": 26
        }
      ]
    },
    {
      "cell_type": "code",
      "source": [
        "# Use single quotation marks for defining string\n",
        "\n",
        "'Michael Jackson'"
      ],
      "metadata": {
        "colab": {
          "base_uri": "https://localhost:8080/",
          "height": 35
        },
        "id": "G6-WFy89T2dh",
        "outputId": "434e58d9-f689-41eb-e99a-ac0e464a4d2c"
      },
      "execution_count": 27,
      "outputs": [
        {
          "output_type": "execute_result",
          "data": {
            "text/plain": [
              "'Michael Jackson'"
            ],
            "application/vnd.google.colaboratory.intrinsic+json": {
              "type": "string"
            }
          },
          "metadata": {},
          "execution_count": 27
        }
      ]
    },
    {
      "cell_type": "code",
      "source": [
        "# Digitals and spaces in string\n",
        "\n",
        "'1 2 3 4 5 6 '"
      ],
      "metadata": {
        "colab": {
          "base_uri": "https://localhost:8080/",
          "height": 35
        },
        "id": "2PcAU7cQT4TM",
        "outputId": "0b7bea68-c3fe-423c-965f-1821847b2312"
      },
      "execution_count": 28,
      "outputs": [
        {
          "output_type": "execute_result",
          "data": {
            "text/plain": [
              "'1 2 3 4 5 6 '"
            ],
            "application/vnd.google.colaboratory.intrinsic+json": {
              "type": "string"
            }
          },
          "metadata": {},
          "execution_count": 28
        }
      ]
    },
    {
      "cell_type": "code",
      "source": [
        "# Special characters in string\n",
        "\n",
        "'@#2_#]&*^%$'"
      ],
      "metadata": {
        "colab": {
          "base_uri": "https://localhost:8080/",
          "height": 35
        },
        "id": "U_frU7mlT6Tw",
        "outputId": "6353369d-6293-446d-d9a2-e7cd6c5ac6a3"
      },
      "execution_count": 29,
      "outputs": [
        {
          "output_type": "execute_result",
          "data": {
            "text/plain": [
              "'@#2_#]&*^%$'"
            ],
            "application/vnd.google.colaboratory.intrinsic+json": {
              "type": "string"
            }
          },
          "metadata": {},
          "execution_count": 29
        }
      ]
    },
    {
      "cell_type": "code",
      "source": [
        "# Print the string\n",
        "\n",
        "print(\"hello!\")"
      ],
      "metadata": {
        "colab": {
          "base_uri": "https://localhost:8080/"
        },
        "id": "8rtyGn--T8Oo",
        "outputId": "069380eb-5ba3-4a07-f74a-e2becd1439d2"
      },
      "execution_count": 30,
      "outputs": [
        {
          "output_type": "stream",
          "name": "stdout",
          "text": [
            "hello!\n"
          ]
        }
      ]
    },
    {
      "cell_type": "code",
      "source": [
        "# Assign string to variable\n",
        "\n",
        "name = \"Michael Jackson\"\n",
        "name"
      ],
      "metadata": {
        "colab": {
          "base_uri": "https://localhost:8080/",
          "height": 35
        },
        "id": "yfF8lY6sT-JY",
        "outputId": "1af13cfc-1aa9-4874-e668-d1499672f4ac"
      },
      "execution_count": 31,
      "outputs": [
        {
          "output_type": "execute_result",
          "data": {
            "text/plain": [
              "'Michael Jackson'"
            ],
            "application/vnd.google.colaboratory.intrinsic+json": {
              "type": "string"
            }
          },
          "metadata": {},
          "execution_count": 31
        }
      ]
    },
    {
      "cell_type": "code",
      "source": [
        "# Print the first element in the string\n",
        "\n",
        "print(name[0])"
      ],
      "metadata": {
        "colab": {
          "base_uri": "https://localhost:8080/"
        },
        "id": "FbpIU2cnUEGW",
        "outputId": "83b51df9-7588-40bb-b641-62fccdbdaeab"
      },
      "execution_count": 32,
      "outputs": [
        {
          "output_type": "stream",
          "name": "stdout",
          "text": [
            "M\n"
          ]
        }
      ]
    },
    {
      "cell_type": "code",
      "source": [
        "# Print the element on index 6 in the string\n",
        "\n",
        "print(name[6])"
      ],
      "metadata": {
        "colab": {
          "base_uri": "https://localhost:8080/"
        },
        "id": "LZiPQfdAUGl2",
        "outputId": "cbd14e0e-f8c6-4421-c72b-8f7f18245a9c"
      },
      "execution_count": 33,
      "outputs": [
        {
          "output_type": "stream",
          "name": "stdout",
          "text": [
            "l\n"
          ]
        }
      ]
    },
    {
      "cell_type": "code",
      "source": [
        "# Print the element on the 13th index in the string\n",
        "\n",
        "print(name[13])"
      ],
      "metadata": {
        "colab": {
          "base_uri": "https://localhost:8080/"
        },
        "id": "Yh78vl_FUIHJ",
        "outputId": "6c91c66e-b912-4d24-8fc3-9bca1395f953"
      },
      "execution_count": 34,
      "outputs": [
        {
          "output_type": "stream",
          "name": "stdout",
          "text": [
            "o\n"
          ]
        }
      ]
    },
    {
      "cell_type": "code",
      "source": [
        "# Print the last element in the string\n",
        "\n",
        "print(name[-1])"
      ],
      "metadata": {
        "colab": {
          "base_uri": "https://localhost:8080/"
        },
        "id": "VmRQLH_IUJ8t",
        "outputId": "c1f3effe-ab4f-445b-bb68-60a35646c2a5"
      },
      "execution_count": 35,
      "outputs": [
        {
          "output_type": "stream",
          "name": "stdout",
          "text": [
            "n\n"
          ]
        }
      ]
    },
    {
      "cell_type": "code",
      "source": [
        "# Print the first element in the string\n",
        "\n",
        "print(name[-15])"
      ],
      "metadata": {
        "colab": {
          "base_uri": "https://localhost:8080/"
        },
        "id": "yebSxhDPULl9",
        "outputId": "bb774813-2ad1-433b-bcaa-a31861fa3c88"
      },
      "execution_count": 36,
      "outputs": [
        {
          "output_type": "stream",
          "name": "stdout",
          "text": [
            "M\n"
          ]
        }
      ]
    },
    {
      "cell_type": "code",
      "source": [
        "# Find the length of string\n",
        "\n",
        "len(\"Michael Jackson\")"
      ],
      "metadata": {
        "colab": {
          "base_uri": "https://localhost:8080/"
        },
        "id": "ZaRzupB5UNET",
        "outputId": "4a6f857c-d66b-40a4-caaa-0ac9f8af53ca"
      },
      "execution_count": 37,
      "outputs": [
        {
          "output_type": "execute_result",
          "data": {
            "text/plain": [
              "15"
            ]
          },
          "metadata": {},
          "execution_count": 37
        }
      ]
    },
    {
      "cell_type": "code",
      "source": [
        "# Take the slice on variable name with only index 0 to index 3\n",
        "\n",
        "name[0:4]"
      ],
      "metadata": {
        "colab": {
          "base_uri": "https://localhost:8080/",
          "height": 35
        },
        "id": "SsW87NZzUPEN",
        "outputId": "4a2798d8-273a-4cd4-a05b-b594bf097cb1"
      },
      "execution_count": 38,
      "outputs": [
        {
          "output_type": "execute_result",
          "data": {
            "text/plain": [
              "'Mich'"
            ],
            "application/vnd.google.colaboratory.intrinsic+json": {
              "type": "string"
            }
          },
          "metadata": {},
          "execution_count": 38
        }
      ]
    },
    {
      "cell_type": "code",
      "source": [
        "# Take the slice on variable name with only index 8 to index 11\n",
        "\n",
        "name[8:12]"
      ],
      "metadata": {
        "colab": {
          "base_uri": "https://localhost:8080/",
          "height": 35
        },
        "id": "Z3MkXAhjUQ6S",
        "outputId": "0aaecb65-833d-40ca-a0d7-442a4f9a5299"
      },
      "execution_count": 39,
      "outputs": [
        {
          "output_type": "execute_result",
          "data": {
            "text/plain": [
              "'Jack'"
            ],
            "application/vnd.google.colaboratory.intrinsic+json": {
              "type": "string"
            }
          },
          "metadata": {},
          "execution_count": 39
        }
      ]
    },
    {
      "cell_type": "code",
      "source": [
        "# Get every second element. The elments on index 1, 3, 5 ...\n",
        "\n",
        "name[::2]"
      ],
      "metadata": {
        "colab": {
          "base_uri": "https://localhost:8080/",
          "height": 35
        },
        "id": "KbpjTBUhUSyv",
        "outputId": "74888248-da03-43a6-85fc-45991746ab14"
      },
      "execution_count": 40,
      "outputs": [
        {
          "output_type": "execute_result",
          "data": {
            "text/plain": [
              "'McalJcsn'"
            ],
            "application/vnd.google.colaboratory.intrinsic+json": {
              "type": "string"
            }
          },
          "metadata": {},
          "execution_count": 40
        }
      ]
    },
    {
      "cell_type": "code",
      "source": [
        "# Get every second element in the range from index 0 to index 4\n",
        "\n",
        "name[0:5:2]"
      ],
      "metadata": {
        "colab": {
          "base_uri": "https://localhost:8080/",
          "height": 35
        },
        "id": "HLbKMqZaUX2d",
        "outputId": "f38f3230-3beb-4998-824d-e4abc5ab98d4"
      },
      "execution_count": 41,
      "outputs": [
        {
          "output_type": "execute_result",
          "data": {
            "text/plain": [
              "'Mca'"
            ],
            "application/vnd.google.colaboratory.intrinsic+json": {
              "type": "string"
            }
          },
          "metadata": {},
          "execution_count": 41
        }
      ]
    },
    {
      "cell_type": "code",
      "source": [
        "# Concatenate two strings\n",
        "\n",
        "statement = name + \"is the best\"\n",
        "statement"
      ],
      "metadata": {
        "colab": {
          "base_uri": "https://localhost:8080/",
          "height": 35
        },
        "id": "HjTGr9hvUZnJ",
        "outputId": "e63581e0-1169-433d-e2cb-7002627ccc4c"
      },
      "execution_count": 42,
      "outputs": [
        {
          "output_type": "execute_result",
          "data": {
            "text/plain": [
              "'Michael Jacksonis the best'"
            ],
            "application/vnd.google.colaboratory.intrinsic+json": {
              "type": "string"
            }
          },
          "metadata": {},
          "execution_count": 42
        }
      ]
    },
    {
      "cell_type": "code",
      "source": [
        "# Print the string for 3 times\n",
        "\n",
        "3 * \"Michael Jackson\""
      ],
      "metadata": {
        "colab": {
          "base_uri": "https://localhost:8080/",
          "height": 35
        },
        "id": "H4pAANqOUbvh",
        "outputId": "eebe93b3-5eb7-4cd1-e342-82629666eb46"
      },
      "execution_count": 43,
      "outputs": [
        {
          "output_type": "execute_result",
          "data": {
            "text/plain": [
              "'Michael JacksonMichael JacksonMichael Jackson'"
            ],
            "application/vnd.google.colaboratory.intrinsic+json": {
              "type": "string"
            }
          },
          "metadata": {},
          "execution_count": 43
        }
      ]
    },
    {
      "cell_type": "code",
      "source": [
        "# Concatenate strings\n",
        "\n",
        "name = \"Michael Jackson\"\n",
        "name = name + \" is the best\"\n",
        "name"
      ],
      "metadata": {
        "colab": {
          "base_uri": "https://localhost:8080/",
          "height": 35
        },
        "id": "NnTeUkPhUd1z",
        "outputId": "05cc3073-1a9d-4005-f907-3e518c98ae41"
      },
      "execution_count": 44,
      "outputs": [
        {
          "output_type": "execute_result",
          "data": {
            "text/plain": [
              "'Michael Jackson is the best'"
            ],
            "application/vnd.google.colaboratory.intrinsic+json": {
              "type": "string"
            }
          },
          "metadata": {},
          "execution_count": 44
        }
      ]
    },
    {
      "cell_type": "code",
      "source": [
        "# New line escape sequence\n",
        "\n",
        "print(\" Michael Jackson \\n is the best\" )"
      ],
      "metadata": {
        "colab": {
          "base_uri": "https://localhost:8080/"
        },
        "id": "KOGEqTUKUgZV",
        "outputId": "7aa97308-e47e-45ab-a277-d1016010ecbd"
      },
      "execution_count": 45,
      "outputs": [
        {
          "output_type": "stream",
          "name": "stdout",
          "text": [
            " Michael Jackson \n",
            " is the best\n"
          ]
        }
      ]
    },
    {
      "cell_type": "code",
      "source": [
        "# Tab escape sequence\n",
        "\n",
        "print(\" Michael Jackson \\t is the best\" )"
      ],
      "metadata": {
        "colab": {
          "base_uri": "https://localhost:8080/"
        },
        "id": "knBI3X89Uh_A",
        "outputId": "ca86a07d-38a5-4806-ab3c-9f37646c9c48"
      },
      "execution_count": 46,
      "outputs": [
        {
          "output_type": "stream",
          "name": "stdout",
          "text": [
            " Michael Jackson \t is the best\n"
          ]
        }
      ]
    },
    {
      "cell_type": "code",
      "source": [
        "# Include back slash in string\n",
        "\n",
        "print(\" Michael Jackson \\\\ is the best\" )"
      ],
      "metadata": {
        "colab": {
          "base_uri": "https://localhost:8080/"
        },
        "id": "aVBOWbq5UkCB",
        "outputId": "f4832d07-a150-4f71-ffc6-154aeeba7cc5"
      },
      "execution_count": 47,
      "outputs": [
        {
          "output_type": "stream",
          "name": "stdout",
          "text": [
            " Michael Jackson \\ is the best\n"
          ]
        }
      ]
    },
    {
      "cell_type": "code",
      "source": [
        "# r will tell python that string will be display as raw string\n",
        "\n",
        "print(r\" Michael Jackson \\ is the best\" )"
      ],
      "metadata": {
        "colab": {
          "base_uri": "https://localhost:8080/"
        },
        "id": "Pfk8G3ysUlwd",
        "outputId": "1fbc192f-18a4-4212-8482-4b9cec9b6788"
      },
      "execution_count": 48,
      "outputs": [
        {
          "output_type": "stream",
          "name": "stdout",
          "text": [
            " Michael Jackson \\ is the best\n"
          ]
        }
      ]
    },
    {
      "cell_type": "code",
      "source": [
        "# Convert all the characters in string to upper case\n",
        "\n",
        "a = \"Thriller is the sixth studio album\"\n",
        "print(\"before upper:\", a)\n",
        "b = a.upper()\n",
        "print(\"After upper:\", b)"
      ],
      "metadata": {
        "colab": {
          "base_uri": "https://localhost:8080/"
        },
        "id": "Am0xopSmUoqb",
        "outputId": "024743e1-83d3-4bce-f1b1-1e55af10efb0"
      },
      "execution_count": 49,
      "outputs": [
        {
          "output_type": "stream",
          "name": "stdout",
          "text": [
            "before upper: Thriller is the sixth studio album\n",
            "After upper: THRILLER IS THE SIXTH STUDIO ALBUM\n"
          ]
        }
      ]
    },
    {
      "cell_type": "code",
      "source": [
        "# Replace the old substring with the new target substring is the segment has been found in the string\n",
        "\n",
        "a = \"Michael Jackson is the best\"\n",
        "b = a.replace('Michael', 'Janet')\n",
        "b"
      ],
      "metadata": {
        "colab": {
          "base_uri": "https://localhost:8080/",
          "height": 35
        },
        "id": "3bRI3Ac2UrYC",
        "outputId": "ccbad296-88d2-4782-d91e-641747792592"
      },
      "execution_count": 50,
      "outputs": [
        {
          "output_type": "execute_result",
          "data": {
            "text/plain": [
              "'Janet Jackson is the best'"
            ],
            "application/vnd.google.colaboratory.intrinsic+json": {
              "type": "string"
            }
          },
          "metadata": {},
          "execution_count": 50
        }
      ]
    },
    {
      "cell_type": "code",
      "source": [
        "# Find the substring in the string. Only the index of the first elment of substring in string will be the output\n",
        "\n",
        "name = \"Michael Jackson\"\n",
        "name.find('el')"
      ],
      "metadata": {
        "colab": {
          "base_uri": "https://localhost:8080/"
        },
        "id": "R4nmWn9UU0bX",
        "outputId": "3cef6fba-3ad1-45a4-d326-7b6f1ab9b6e6"
      },
      "execution_count": 51,
      "outputs": [
        {
          "output_type": "execute_result",
          "data": {
            "text/plain": [
              "5"
            ]
          },
          "metadata": {},
          "execution_count": 51
        }
      ]
    },
    {
      "cell_type": "code",
      "source": [
        "# Find the substring in the string.\n",
        "\n",
        "name.find('Jack')"
      ],
      "metadata": {
        "colab": {
          "base_uri": "https://localhost:8080/"
        },
        "id": "AJCemJbQU3cX",
        "outputId": "461af50a-dc8e-424b-8b61-78d8679488ba"
      },
      "execution_count": 52,
      "outputs": [
        {
          "output_type": "execute_result",
          "data": {
            "text/plain": [
              "8"
            ]
          },
          "metadata": {},
          "execution_count": 52
        }
      ]
    },
    {
      "cell_type": "code",
      "source": [
        "# If cannot find the substring in the string\n",
        "\n",
        "name.find('Jasdfasdasdf')"
      ],
      "metadata": {
        "colab": {
          "base_uri": "https://localhost:8080/"
        },
        "id": "J940EjBfU64s",
        "outputId": "3d756a30-4c9d-40a4-b0b3-2344c081550f"
      },
      "execution_count": 53,
      "outputs": [
        {
          "output_type": "execute_result",
          "data": {
            "text/plain": [
              "-1"
            ]
          },
          "metadata": {},
          "execution_count": 53
        }
      ]
    },
    {
      "cell_type": "code",
      "source": [
        "#What is the value of the variable a after the following code is executed?\n",
        "a = \"1\"\n",
        "a"
      ],
      "metadata": {
        "colab": {
          "base_uri": "https://localhost:8080/",
          "height": 35
        },
        "id": "d0KjKtruVIba",
        "outputId": "1512ed47-8257-4a64-946c-f6bdd14cc0bb"
      },
      "execution_count": 54,
      "outputs": [
        {
          "output_type": "execute_result",
          "data": {
            "text/plain": [
              "'1'"
            ],
            "application/vnd.google.colaboratory.intrinsic+json": {
              "type": "string"
            }
          },
          "metadata": {},
          "execution_count": 54
        }
      ]
    },
    {
      "cell_type": "code",
      "source": [
        "#What is the value of the variable b after the following code is executed?\n",
        "b = \"2\"\n",
        "b"
      ],
      "metadata": {
        "colab": {
          "base_uri": "https://localhost:8080/",
          "height": 35
        },
        "id": "2Tjpfp1AVMcA",
        "outputId": "ab0e227e-e148-48ce-e24a-46e27686e749"
      },
      "execution_count": 55,
      "outputs": [
        {
          "output_type": "execute_result",
          "data": {
            "text/plain": [
              "'2'"
            ],
            "application/vnd.google.colaboratory.intrinsic+json": {
              "type": "string"
            }
          },
          "metadata": {},
          "execution_count": 55
        }
      ]
    },
    {
      "cell_type": "code",
      "source": [
        "#What is the value of the variable c after the following code is executed?\n",
        "c = a + b\n",
        "c"
      ],
      "metadata": {
        "colab": {
          "base_uri": "https://localhost:8080/",
          "height": 35
        },
        "id": "fdSer1U9VT8z",
        "outputId": "a5dcb3d9-b5dd-45c9-ef32-b012cd87fb27"
      },
      "execution_count": 56,
      "outputs": [
        {
          "output_type": "execute_result",
          "data": {
            "text/plain": [
              "'12'"
            ],
            "application/vnd.google.colaboratory.intrinsic+json": {
              "type": "string"
            }
          },
          "metadata": {},
          "execution_count": 56
        }
      ]
    },
    {
      "cell_type": "code",
      "source": [
        "#Consider the variable d use slicing to print out the first three elements:\n",
        "d = \"ABCDEFG\"\n",
        "print(d[0:3])"
      ],
      "metadata": {
        "colab": {
          "base_uri": "https://localhost:8080/"
        },
        "id": "aPAHRMMNVeBt",
        "outputId": "54ab49aa-854e-4ed0-ce5c-e69004d53ff2"
      },
      "execution_count": 59,
      "outputs": [
        {
          "output_type": "stream",
          "name": "stdout",
          "text": [
            "ABC\n"
          ]
        }
      ]
    },
    {
      "cell_type": "code",
      "source": [
        "#Use a stride value of 2 to print out every second character of the string e:\n",
        "e = 'clocrkr1e1c1t'\n",
        "print(e[::2])"
      ],
      "metadata": {
        "colab": {
          "base_uri": "https://localhost:8080/"
        },
        "id": "qfL1v5BDV48j",
        "outputId": "b01f1528-eba1-4f3c-f6a9-be5093ad0ab2"
      },
      "execution_count": 60,
      "outputs": [
        {
          "output_type": "stream",
          "name": "stdout",
          "text": [
            "correct\n"
          ]
        }
      ]
    },
    {
      "cell_type": "code",
      "source": [
        "#Print out a backslash:\n",
        "print(\"\\\\\")"
      ],
      "metadata": {
        "colab": {
          "base_uri": "https://localhost:8080/"
        },
        "id": "KakrMR2iV-Qp",
        "outputId": "6ca54da6-dc7d-4e1b-f0e0-2450de4dab7a"
      },
      "execution_count": 61,
      "outputs": [
        {
          "output_type": "stream",
          "name": "stdout",
          "text": [
            "\\\n"
          ]
        }
      ]
    },
    {
      "cell_type": "code",
      "source": [
        "#Convert the variable f to uppercase:\n",
        "f = \"You are wrong\"\n",
        "print (f.upper())"
      ],
      "metadata": {
        "colab": {
          "base_uri": "https://localhost:8080/"
        },
        "id": "hZKqrwMzWJb3",
        "outputId": "19232bdf-0986-40d7-c8e5-9dda13e0fea7"
      },
      "execution_count": 64,
      "outputs": [
        {
          "output_type": "stream",
          "name": "stdout",
          "text": [
            "YOU ARE WRONG\n"
          ]
        }
      ]
    },
    {
      "cell_type": "code",
      "source": [
        "#Consider the variable g, and find the first index of the sub-string snow:\n",
        "g = \"Mary had a little lamb Little lamb, little lamb Mary had a little lamb \\\n",
        "Its fleece was white as snow And everywhere that Mary went Mary went, Mary went \\\n",
        "Everywhere that Mary went The lamb was sure to go\"\n",
        "g.find(\"snow\")"
      ],
      "metadata": {
        "colab": {
          "base_uri": "https://localhost:8080/"
        },
        "id": "y0Rw3PMiWUdi",
        "outputId": "bd7c147d-5320-4702-87a7-e3a2b04e2e14"
      },
      "execution_count": 65,
      "outputs": [
        {
          "output_type": "execute_result",
          "data": {
            "text/plain": [
              "95"
            ]
          },
          "metadata": {},
          "execution_count": 65
        }
      ]
    },
    {
      "cell_type": "code",
      "source": [
        "#In the variable g, replace the sub-string Mary with Bob:\n",
        "g.replace('Mary', 'Bob')"
      ],
      "metadata": {
        "colab": {
          "base_uri": "https://localhost:8080/",
          "height": 35
        },
        "id": "9nDCyZWXWmvm",
        "outputId": "dfed1b9f-2e9a-44a2-9417-0662164900b2"
      },
      "execution_count": 69,
      "outputs": [
        {
          "output_type": "execute_result",
          "data": {
            "text/plain": [
              "'Bob had a little lamb Little lamb, little lamb Bob had a little lamb Its fleece was white as snow And everywhere that Bob went Bob went, Bob went Everywhere that Bob went The lamb was sure to go'"
            ],
            "application/vnd.google.colaboratory.intrinsic+json": {
              "type": "string"
            }
          },
          "metadata": {},
          "execution_count": 69
        }
      ]
    },
    {
      "cell_type": "markdown",
      "source": [
        "<h1> Module 2 </h1>"
      ],
      "metadata": {
        "id": "PoG8hzqlZljS"
      }
    },
    {
      "cell_type": "markdown",
      "source": [
        "<h3> 2.1 List tuples</h3>"
      ],
      "metadata": {
        "id": "VJKM-S_Zqv16"
      }
    },
    {
      "cell_type": "code",
      "source": [
        "#Create a tuple  (0,1,2,3)  and assign it to variable A:\n",
        "A = (0, 1, 2, 3)\n",
        "A"
      ],
      "metadata": {
        "colab": {
          "base_uri": "https://localhost:8080/"
        },
        "id": "B7U3QmRBZk0h",
        "outputId": "8de1eb83-815b-432e-fdd3-791040fee7be"
      },
      "execution_count": 70,
      "outputs": [
        {
          "output_type": "execute_result",
          "data": {
            "text/plain": [
              "(0, 1, 2, 3)"
            ]
          },
          "metadata": {},
          "execution_count": 70
        }
      ]
    },
    {
      "cell_type": "code",
      "source": [
        "#Find the first two elements of tuple  A :\n",
        "A[0:2]"
      ],
      "metadata": {
        "colab": {
          "base_uri": "https://localhost:8080/"
        },
        "id": "YaOFZmQwq_R6",
        "outputId": "97e5f2df-b9fb-4ff8-85ec-9ce70db8f7fe"
      },
      "execution_count": 72,
      "outputs": [
        {
          "output_type": "execute_result",
          "data": {
            "text/plain": [
              "(0, 1)"
            ]
          },
          "metadata": {},
          "execution_count": 72
        }
      ]
    },
    {
      "cell_type": "code",
      "source": [
        "B=[\"a\",\"b\",\"c\"]"
      ],
      "metadata": {
        "id": "yNqAslRSrJl_"
      },
      "execution_count": 73,
      "outputs": []
    },
    {
      "cell_type": "code",
      "source": [
        "#Find the first two elements of the list  B:\n",
        "B[0:2]"
      ],
      "metadata": {
        "colab": {
          "base_uri": "https://localhost:8080/"
        },
        "id": "8KaVWhf8rMS-",
        "outputId": "eb76bfd4-935c-4019-f42f-9f4b4a0bb278"
      },
      "execution_count": 75,
      "outputs": [
        {
          "output_type": "execute_result",
          "data": {
            "text/plain": [
              "['a', 'b']"
            ]
          },
          "metadata": {},
          "execution_count": 75
        }
      ]
    },
    {
      "cell_type": "code",
      "source": [
        "#Change the first element of the list to an uppercase \"A\".\n",
        "B[0] = str(B[0]).upper()\n",
        "B[0]"
      ],
      "metadata": {
        "colab": {
          "base_uri": "https://localhost:8080/",
          "height": 35
        },
        "id": "dIfM7xYZrYeU",
        "outputId": "a60a6e4c-2444-43f6-f183-833e69e65f77"
      },
      "execution_count": 83,
      "outputs": [
        {
          "output_type": "execute_result",
          "data": {
            "text/plain": [
              "'A'"
            ],
            "application/vnd.google.colaboratory.intrinsic+json": {
              "type": "string"
            }
          },
          "metadata": {},
          "execution_count": 83
        }
      ]
    },
    {
      "cell_type": "markdown",
      "source": [
        "<h3>Lab Tuples</h3>"
      ],
      "metadata": {
        "id": "NJDPqeW_sdfn"
      }
    },
    {
      "cell_type": "code",
      "source": [
        "# Create your first tuple\n",
        "\n",
        "tuple1 = (\"disco\",10,1.2 )\n",
        "tuple1"
      ],
      "metadata": {
        "colab": {
          "base_uri": "https://localhost:8080/"
        },
        "id": "fzBoeNxMshvH",
        "outputId": "300b8d45-d97f-4ceb-faa6-8c4f54031dac"
      },
      "execution_count": 84,
      "outputs": [
        {
          "output_type": "execute_result",
          "data": {
            "text/plain": [
              "('disco', 10, 1.2)"
            ]
          },
          "metadata": {},
          "execution_count": 84
        }
      ]
    },
    {
      "cell_type": "code",
      "source": [
        "# Print the type of the tuple you created\n",
        "\n",
        "type(tuple1)"
      ],
      "metadata": {
        "colab": {
          "base_uri": "https://localhost:8080/"
        },
        "id": "4BnES_ektIb0",
        "outputId": "253dd6ae-f43f-4b76-a2d1-de90acfdeae6"
      },
      "execution_count": 85,
      "outputs": [
        {
          "output_type": "execute_result",
          "data": {
            "text/plain": [
              "tuple"
            ]
          },
          "metadata": {},
          "execution_count": 85
        }
      ]
    },
    {
      "cell_type": "code",
      "source": [
        "# Print the variable on each index\n",
        "\n",
        "print(tuple1[0])\n",
        "print(tuple1[1])\n",
        "print(tuple1[2])"
      ],
      "metadata": {
        "colab": {
          "base_uri": "https://localhost:8080/"
        },
        "id": "aDb6-FUYtKri",
        "outputId": "1add012c-704d-4a64-a874-da6a397a4609"
      },
      "execution_count": 86,
      "outputs": [
        {
          "output_type": "stream",
          "name": "stdout",
          "text": [
            "disco\n",
            "10\n",
            "1.2\n"
          ]
        }
      ]
    },
    {
      "cell_type": "code",
      "source": [
        "# Print the type of value on each index\n",
        "\n",
        "print(type(tuple1[0]))\n",
        "print(type(tuple1[1]))\n",
        "print(type(tuple1[2]))"
      ],
      "metadata": {
        "colab": {
          "base_uri": "https://localhost:8080/"
        },
        "id": "ZoUchbXUtNnC",
        "outputId": "bb08002b-b3be-41bb-d11d-448329c8bfd0"
      },
      "execution_count": 87,
      "outputs": [
        {
          "output_type": "stream",
          "name": "stdout",
          "text": [
            "<class 'str'>\n",
            "<class 'int'>\n",
            "<class 'float'>\n"
          ]
        }
      ]
    },
    {
      "cell_type": "code",
      "source": [
        "# Use negative index to get the value of the last element\n",
        "\n",
        "tuple1[-1]"
      ],
      "metadata": {
        "colab": {
          "base_uri": "https://localhost:8080/"
        },
        "id": "VuEuNY-HtPmr",
        "outputId": "86d7263e-ecf0-4fd0-f5df-e6fdf445e16f"
      },
      "execution_count": 88,
      "outputs": [
        {
          "output_type": "execute_result",
          "data": {
            "text/plain": [
              "1.2"
            ]
          },
          "metadata": {},
          "execution_count": 88
        }
      ]
    },
    {
      "cell_type": "code",
      "source": [
        "# Use negative index to get the value of the second last element\n",
        "\n",
        "tuple1[-2]"
      ],
      "metadata": {
        "colab": {
          "base_uri": "https://localhost:8080/"
        },
        "id": "ywm_kB3JtRMi",
        "outputId": "2e19e1e7-c5aa-442d-ae2b-8a837194968f"
      },
      "execution_count": 89,
      "outputs": [
        {
          "output_type": "execute_result",
          "data": {
            "text/plain": [
              "10"
            ]
          },
          "metadata": {},
          "execution_count": 89
        }
      ]
    },
    {
      "cell_type": "code",
      "source": [
        "# Use negative index to get the value of the third last element\n",
        "\n",
        "tuple1[-3]"
      ],
      "metadata": {
        "colab": {
          "base_uri": "https://localhost:8080/",
          "height": 35
        },
        "id": "nrFEvOigtSqy",
        "outputId": "e050d442-ea04-441f-8d48-f54427aaa34f"
      },
      "execution_count": 90,
      "outputs": [
        {
          "output_type": "execute_result",
          "data": {
            "text/plain": [
              "'disco'"
            ],
            "application/vnd.google.colaboratory.intrinsic+json": {
              "type": "string"
            }
          },
          "metadata": {},
          "execution_count": 90
        }
      ]
    },
    {
      "cell_type": "code",
      "source": [
        "# Concatenate two tuples\n",
        "\n",
        "tuple2 = tuple1 + (\"hard rock\", 10)\n",
        "tuple2"
      ],
      "metadata": {
        "colab": {
          "base_uri": "https://localhost:8080/"
        },
        "id": "0Nxg6NUntUL6",
        "outputId": "076b2a25-3d8b-4260-d061-fcb634bc8033"
      },
      "execution_count": 91,
      "outputs": [
        {
          "output_type": "execute_result",
          "data": {
            "text/plain": [
              "('disco', 10, 1.2, 'hard rock', 10)"
            ]
          },
          "metadata": {},
          "execution_count": 91
        }
      ]
    },
    {
      "cell_type": "code",
      "source": [
        "# Slice from index 0 to index 2\n",
        "\n",
        "tuple2[0:3]"
      ],
      "metadata": {
        "colab": {
          "base_uri": "https://localhost:8080/"
        },
        "id": "0fmIk2getWzm",
        "outputId": "65470a0b-60bc-4a1b-c74e-0c005ec135f3"
      },
      "execution_count": 92,
      "outputs": [
        {
          "output_type": "execute_result",
          "data": {
            "text/plain": [
              "('disco', 10, 1.2)"
            ]
          },
          "metadata": {},
          "execution_count": 92
        }
      ]
    },
    {
      "cell_type": "code",
      "source": [
        "# Slice from index 3 to index 4\n",
        "\n",
        "tuple2[3:5]"
      ],
      "metadata": {
        "colab": {
          "base_uri": "https://localhost:8080/"
        },
        "id": "Dtewo2tqtYey",
        "outputId": "17e534a7-5f08-47a4-c4b5-da68dabecfd4"
      },
      "execution_count": 93,
      "outputs": [
        {
          "output_type": "execute_result",
          "data": {
            "text/plain": [
              "('hard rock', 10)"
            ]
          },
          "metadata": {},
          "execution_count": 93
        }
      ]
    },
    {
      "cell_type": "code",
      "source": [
        "# Get the length of tuple\n",
        "\n",
        "len(tuple2)"
      ],
      "metadata": {
        "colab": {
          "base_uri": "https://localhost:8080/"
        },
        "id": "uifdGHYstZ9t",
        "outputId": "db901690-60bf-44e8-a832-bceec387d583"
      },
      "execution_count": 94,
      "outputs": [
        {
          "output_type": "execute_result",
          "data": {
            "text/plain": [
              "5"
            ]
          },
          "metadata": {},
          "execution_count": 94
        }
      ]
    },
    {
      "cell_type": "code",
      "source": [
        "# A sample tuple\n",
        "\n",
        "Ratings = (0, 9, 6, 5, 10, 8, 9, 6, 2)"
      ],
      "metadata": {
        "id": "ONp5FOZrtb7h"
      },
      "execution_count": 95,
      "outputs": []
    },
    {
      "cell_type": "code",
      "source": [
        "# Sort the tuple\n",
        "\n",
        "RatingsSorted = sorted(Ratings)\n",
        "RatingsSorted"
      ],
      "metadata": {
        "colab": {
          "base_uri": "https://localhost:8080/"
        },
        "id": "hHt_D9kjtdjh",
        "outputId": "922e8be9-b3ec-48c0-cdd7-a4b719cd013d"
      },
      "execution_count": 96,
      "outputs": [
        {
          "output_type": "execute_result",
          "data": {
            "text/plain": [
              "[0, 2, 5, 6, 6, 8, 9, 9, 10]"
            ]
          },
          "metadata": {},
          "execution_count": 96
        }
      ]
    },
    {
      "cell_type": "code",
      "source": [
        "# Create a nest tuple\n",
        "\n",
        "NestedT =(1, 2, (\"pop\", \"rock\") ,(3,4),(\"disco\",(1,2)))\n",
        "NestedT"
      ],
      "metadata": {
        "colab": {
          "base_uri": "https://localhost:8080/"
        },
        "id": "HxJrcdH6tgPQ",
        "outputId": "5e9e8b9c-26f9-4a38-e575-4e8111370478"
      },
      "execution_count": 99,
      "outputs": [
        {
          "output_type": "execute_result",
          "data": {
            "text/plain": [
              "(1, 2, ('pop', 'rock'), (3, 4), ('disco', (1, 2)))"
            ]
          },
          "metadata": {},
          "execution_count": 99
        }
      ]
    },
    {
      "cell_type": "code",
      "source": [
        "# Print element on each index\n",
        "\n",
        "print(\"Element 0 of Tuple: \", NestedT[0])\n",
        "print(\"Element 1 of Tuple: \", NestedT[1])\n",
        "print(\"Element 2 of Tuple: \", NestedT[2])\n",
        "print(\"Element 3 of Tuple: \", NestedT[3])\n",
        "print(\"Element 4 of Tuple: \", NestedT[4])"
      ],
      "metadata": {
        "colab": {
          "base_uri": "https://localhost:8080/"
        },
        "id": "V0o_bMC_tkDi",
        "outputId": "3386e410-e842-4df6-9c99-f265bbffce04"
      },
      "execution_count": 100,
      "outputs": [
        {
          "output_type": "stream",
          "name": "stdout",
          "text": [
            "Element 0 of Tuple:  1\n",
            "Element 1 of Tuple:  2\n",
            "Element 2 of Tuple:  ('pop', 'rock')\n",
            "Element 3 of Tuple:  (3, 4)\n",
            "Element 4 of Tuple:  ('disco', (1, 2))\n"
          ]
        }
      ]
    },
    {
      "cell_type": "code",
      "source": [
        "# Print element on each index, including nest indexes\n",
        "\n",
        "print(\"Element 2, 0 of Tuple: \",   NestedT[2][0])\n",
        "print(\"Element 2, 1 of Tuple: \",   NestedT[2][1])\n",
        "print(\"Element 3, 0 of Tuple: \",   NestedT[3][0])\n",
        "print(\"Element 3, 1 of Tuple: \",   NestedT[3][1])\n",
        "print(\"Element 4, 0 of Tuple: \",   NestedT[4][0])\n",
        "print(\"Element 4, 1 of Tuple: \",   NestedT[4][1])"
      ],
      "metadata": {
        "colab": {
          "base_uri": "https://localhost:8080/"
        },
        "id": "Ccj6LbnytoCH",
        "outputId": "544b785b-e799-4dd4-d25c-b9a1f9dae7d2"
      },
      "execution_count": 101,
      "outputs": [
        {
          "output_type": "stream",
          "name": "stdout",
          "text": [
            "Element 2, 0 of Tuple:  pop\n",
            "Element 2, 1 of Tuple:  rock\n",
            "Element 3, 0 of Tuple:  3\n",
            "Element 3, 1 of Tuple:  4\n",
            "Element 4, 0 of Tuple:  disco\n",
            "Element 4, 1 of Tuple:  (1, 2)\n"
          ]
        }
      ]
    },
    {
      "cell_type": "code",
      "source": [
        "# Print the first element in the second nested tuples\n",
        "\n",
        "NestedT[2][1][0]"
      ],
      "metadata": {
        "colab": {
          "base_uri": "https://localhost:8080/",
          "height": 35
        },
        "id": "a2qLo5QXt0Az",
        "outputId": "302c8172-2831-46a9-99f4-f58aac2b76b3"
      },
      "execution_count": 102,
      "outputs": [
        {
          "output_type": "execute_result",
          "data": {
            "text/plain": [
              "'r'"
            ],
            "application/vnd.google.colaboratory.intrinsic+json": {
              "type": "string"
            }
          },
          "metadata": {},
          "execution_count": 102
        }
      ]
    },
    {
      "cell_type": "code",
      "source": [
        "# Print the second element in the second nested tuples\n",
        "\n",
        "NestedT[2][1][1]"
      ],
      "metadata": {
        "colab": {
          "base_uri": "https://localhost:8080/",
          "height": 35
        },
        "id": "Ij3xwYPbt4KZ",
        "outputId": "480cdef5-b561-443c-d2ab-a652ed69fb72"
      },
      "execution_count": 103,
      "outputs": [
        {
          "output_type": "execute_result",
          "data": {
            "text/plain": [
              "'o'"
            ],
            "application/vnd.google.colaboratory.intrinsic+json": {
              "type": "string"
            }
          },
          "metadata": {},
          "execution_count": 103
        }
      ]
    },
    {
      "cell_type": "code",
      "source": [
        "# Print the first element in the second nested tuples\n",
        "\n",
        "NestedT[4][1][0]"
      ],
      "metadata": {
        "colab": {
          "base_uri": "https://localhost:8080/"
        },
        "id": "g5OC1j_Ht7Bu",
        "outputId": "f26e7796-77e8-4c17-ed94-577e6fd18e7b"
      },
      "execution_count": 104,
      "outputs": [
        {
          "output_type": "execute_result",
          "data": {
            "text/plain": [
              "1"
            ]
          },
          "metadata": {},
          "execution_count": 104
        }
      ]
    },
    {
      "cell_type": "code",
      "source": [
        "# Print the second element in the second nested tuples\n",
        "\n",
        "NestedT[4][1][1]"
      ],
      "metadata": {
        "colab": {
          "base_uri": "https://localhost:8080/"
        },
        "id": "XMgQsQlAt_NB",
        "outputId": "84003793-eac5-4cc9-e6ed-fd7cfe0ba8bf"
      },
      "execution_count": 105,
      "outputs": [
        {
          "output_type": "execute_result",
          "data": {
            "text/plain": [
              "2"
            ]
          },
          "metadata": {},
          "execution_count": 105
        }
      ]
    },
    {
      "cell_type": "code",
      "source": [
        "#Quiz on tuples\n",
        "# sample tuple\n",
        "\n",
        "genres_tuple = (\"pop\", \"rock\", \"soul\", \"hard rock\", \"soft rock\", \\\n",
        "                \"R&B\", \"progressive rock\", \"disco\") \n",
        "genres_tuple"
      ],
      "metadata": {
        "colab": {
          "base_uri": "https://localhost:8080/"
        },
        "id": "O2FRYI3buCgC",
        "outputId": "90fa489c-ead3-4d88-af3d-fc033557d8e4"
      },
      "execution_count": 106,
      "outputs": [
        {
          "output_type": "execute_result",
          "data": {
            "text/plain": [
              "('pop',\n",
              " 'rock',\n",
              " 'soul',\n",
              " 'hard rock',\n",
              " 'soft rock',\n",
              " 'R&B',\n",
              " 'progressive rock',\n",
              " 'disco')"
            ]
          },
          "metadata": {},
          "execution_count": 106
        }
      ]
    },
    {
      "cell_type": "code",
      "source": [
        "#Find the length of the tuple, genres_tuple:\n",
        "len(genres_tuple)"
      ],
      "metadata": {
        "colab": {
          "base_uri": "https://localhost:8080/"
        },
        "id": "DIEmMOFguIRy",
        "outputId": "b78d4555-b1dc-42cc-ab25-7b30a9ca246c"
      },
      "execution_count": 107,
      "outputs": [
        {
          "output_type": "execute_result",
          "data": {
            "text/plain": [
              "8"
            ]
          },
          "metadata": {},
          "execution_count": 107
        }
      ]
    },
    {
      "cell_type": "code",
      "source": [
        "#Access the element, with respect to index 3:\n",
        "genres_tuple[3]"
      ],
      "metadata": {
        "colab": {
          "base_uri": "https://localhost:8080/",
          "height": 35
        },
        "id": "izJHikG2uTsu",
        "outputId": "d3a73596-1860-467e-a020-d6ffc0469863"
      },
      "execution_count": 108,
      "outputs": [
        {
          "output_type": "execute_result",
          "data": {
            "text/plain": [
              "'hard rock'"
            ],
            "application/vnd.google.colaboratory.intrinsic+json": {
              "type": "string"
            }
          },
          "metadata": {},
          "execution_count": 108
        }
      ]
    },
    {
      "cell_type": "code",
      "source": [
        "#Use slicing to obtain indexes 3, 4 and 5:\n",
        "genres_tuple[3:6]"
      ],
      "metadata": {
        "colab": {
          "base_uri": "https://localhost:8080/"
        },
        "id": "2CM914_TuYJw",
        "outputId": "99432f14-c96d-4bfe-e1c4-4aa1c5ccf5ea"
      },
      "execution_count": 110,
      "outputs": [
        {
          "output_type": "execute_result",
          "data": {
            "text/plain": [
              "('hard rock', 'soft rock', 'R&B')"
            ]
          },
          "metadata": {},
          "execution_count": 110
        }
      ]
    },
    {
      "cell_type": "code",
      "source": [
        "#Find the first two elements of the tuple genres_tuple:\n",
        "genres_tuple[0:2]\n"
      ],
      "metadata": {
        "colab": {
          "base_uri": "https://localhost:8080/"
        },
        "id": "ymQhMOLkugQo",
        "outputId": "45cc5308-7b58-48ba-dd8c-3be0835a9a14"
      },
      "execution_count": 111,
      "outputs": [
        {
          "output_type": "execute_result",
          "data": {
            "text/plain": [
              "('pop', 'rock')"
            ]
          },
          "metadata": {},
          "execution_count": 111
        }
      ]
    },
    {
      "cell_type": "code",
      "source": [
        "#Find the first index of \"disco\":\n",
        "genres_tuple.index(\"disco\")"
      ],
      "metadata": {
        "colab": {
          "base_uri": "https://localhost:8080/"
        },
        "id": "jGjlYbjOuocL",
        "outputId": "c1445dd6-1855-4222-da95-a0e034885e17"
      },
      "execution_count": 115,
      "outputs": [
        {
          "output_type": "execute_result",
          "data": {
            "text/plain": [
              "7"
            ]
          },
          "metadata": {},
          "execution_count": 115
        }
      ]
    },
    {
      "cell_type": "code",
      "source": [
        "#Generate a sorted List from the Tuple C_tuple=(-5, 1, -3):\n",
        "C_tuple = (-5, 1, -3)\n",
        "sorted_c_tuple = sorted(C_tuple)\n",
        "sorted_c_tuple"
      ],
      "metadata": {
        "colab": {
          "base_uri": "https://localhost:8080/"
        },
        "id": "68AyEY7BvCmf",
        "outputId": "e5a1dfc4-7f14-48f7-c770-2a781391b8a1"
      },
      "execution_count": 120,
      "outputs": [
        {
          "output_type": "execute_result",
          "data": {
            "text/plain": [
              "[-5, -3, 1]"
            ]
          },
          "metadata": {},
          "execution_count": 120
        }
      ]
    },
    {
      "cell_type": "markdown",
      "source": [
        "<h3>Lab Lists</h3>"
      ],
      "metadata": {
        "id": "hhyqpIQuvjue"
      }
    },
    {
      "cell_type": "code",
      "source": [
        "# Create a list\n",
        "\n",
        "L = [\"Michael Jackson\", 10.1, 1982]\n",
        "L"
      ],
      "metadata": {
        "colab": {
          "base_uri": "https://localhost:8080/"
        },
        "id": "2l2YJ52Kvl_U",
        "outputId": "46a1bb95-7150-4faf-f0d4-9f008dd44038"
      },
      "execution_count": 121,
      "outputs": [
        {
          "output_type": "execute_result",
          "data": {
            "text/plain": [
              "['Michael Jackson', 10.1, 1982]"
            ]
          },
          "metadata": {},
          "execution_count": 121
        }
      ]
    },
    {
      "cell_type": "code",
      "source": [
        "# Print the elements on each index\n",
        "\n",
        "print('the same element using negative and positive indexing:\\n Postive:',L[0],\n",
        "'\\n Negative:' , L[-3]  )\n",
        "print('the same element using negative and positive indexing:\\n Postive:',L[1],\n",
        "'\\n Negative:' , L[-2]  )\n",
        "print('the same element using negative and positive indexing:\\n Postive:',L[2],\n",
        "'\\n Negative:' , L[-1]  )"
      ],
      "metadata": {
        "colab": {
          "base_uri": "https://localhost:8080/"
        },
        "id": "uX9dEnK6vsqo",
        "outputId": "8310c0b0-8a72-4af9-e24f-4ac6173983ae"
      },
      "execution_count": 122,
      "outputs": [
        {
          "output_type": "stream",
          "name": "stdout",
          "text": [
            "the same element using negative and positive indexing:\n",
            " Postive: Michael Jackson \n",
            " Negative: Michael Jackson\n",
            "the same element using negative and positive indexing:\n",
            " Postive: 10.1 \n",
            " Negative: 10.1\n",
            "the same element using negative and positive indexing:\n",
            " Postive: 1982 \n",
            " Negative: 1982\n"
          ]
        }
      ]
    },
    {
      "cell_type": "code",
      "source": [
        "# Sample List\n",
        "\n",
        "[\"Michael Jackson\", 10.1, 1982, [1, 2], (\"A\", 1)]"
      ],
      "metadata": {
        "colab": {
          "base_uri": "https://localhost:8080/"
        },
        "id": "BVAXMgJmvwgn",
        "outputId": "50916690-e514-4264-98bc-0a61b6eae50d"
      },
      "execution_count": 123,
      "outputs": [
        {
          "output_type": "execute_result",
          "data": {
            "text/plain": [
              "['Michael Jackson', 10.1, 1982, [1, 2], ('A', 1)]"
            ]
          },
          "metadata": {},
          "execution_count": 123
        }
      ]
    },
    {
      "cell_type": "code",
      "source": [
        "# Sample List\n",
        "\n",
        "L = [\"Michael Jackson\", 10.1,1982,\"MJ\",1]\n",
        "L"
      ],
      "metadata": {
        "colab": {
          "base_uri": "https://localhost:8080/"
        },
        "id": "gX31648yv0Oy",
        "outputId": "0459c23c-5ed9-4dbf-ba72-7ac3dec30258"
      },
      "execution_count": 124,
      "outputs": [
        {
          "output_type": "execute_result",
          "data": {
            "text/plain": [
              "['Michael Jackson', 10.1, 1982, 'MJ', 1]"
            ]
          },
          "metadata": {},
          "execution_count": 124
        }
      ]
    },
    {
      "cell_type": "code",
      "source": [
        "# List slicing\n",
        "\n",
        "L[3:5]"
      ],
      "metadata": {
        "colab": {
          "base_uri": "https://localhost:8080/"
        },
        "id": "L5vwblHUv3jT",
        "outputId": "b9fde28b-9f36-483f-89d4-4fcf5476ebb0"
      },
      "execution_count": 125,
      "outputs": [
        {
          "output_type": "execute_result",
          "data": {
            "text/plain": [
              "['MJ', 1]"
            ]
          },
          "metadata": {},
          "execution_count": 125
        }
      ]
    },
    {
      "cell_type": "code",
      "source": [
        "# Use extend to add elements to list\n",
        "\n",
        "L = [ \"Michael Jackson\", 10.2]\n",
        "L.extend(['pop', 10])\n",
        "L"
      ],
      "metadata": {
        "colab": {
          "base_uri": "https://localhost:8080/"
        },
        "id": "U3Z_p_G2v5cl",
        "outputId": "ae11cb26-7c29-4186-b758-a7255c87bf6b"
      },
      "execution_count": 126,
      "outputs": [
        {
          "output_type": "execute_result",
          "data": {
            "text/plain": [
              "['Michael Jackson', 10.2, 'pop', 10]"
            ]
          },
          "metadata": {},
          "execution_count": 126
        }
      ]
    },
    {
      "cell_type": "code",
      "source": [
        "# Use append to add elements to list\n",
        "\n",
        "L = [ \"Michael Jackson\", 10.2]\n",
        "L.append(['pop', 10])\n",
        "L"
      ],
      "metadata": {
        "colab": {
          "base_uri": "https://localhost:8080/"
        },
        "id": "CQ5vGNOQv9U5",
        "outputId": "80171b87-69c7-452c-f8b7-319cd7b9904f"
      },
      "execution_count": 127,
      "outputs": [
        {
          "output_type": "execute_result",
          "data": {
            "text/plain": [
              "['Michael Jackson', 10.2, ['pop', 10]]"
            ]
          },
          "metadata": {},
          "execution_count": 127
        }
      ]
    },
    {
      "cell_type": "code",
      "source": [
        "# Use extend to add elements to list\n",
        "\n",
        "L = [ \"Michael Jackson\", 10.2]\n",
        "L.extend(['pop', 10])\n",
        "L"
      ],
      "metadata": {
        "colab": {
          "base_uri": "https://localhost:8080/"
        },
        "id": "ERCVjWkHwJeO",
        "outputId": "3b364896-ccc0-4f8e-eec3-066524ccf945"
      },
      "execution_count": 128,
      "outputs": [
        {
          "output_type": "execute_result",
          "data": {
            "text/plain": [
              "['Michael Jackson', 10.2, 'pop', 10]"
            ]
          },
          "metadata": {},
          "execution_count": 128
        }
      ]
    },
    {
      "cell_type": "code",
      "source": [
        "# Use append to add elements to list\n",
        "\n",
        "L.append(['a','b'])\n",
        "L"
      ],
      "metadata": {
        "colab": {
          "base_uri": "https://localhost:8080/"
        },
        "id": "Rzzt46qxwMNC",
        "outputId": "4ee12128-9834-4fb0-a13a-72f575a1f6d7"
      },
      "execution_count": 129,
      "outputs": [
        {
          "output_type": "execute_result",
          "data": {
            "text/plain": [
              "['Michael Jackson', 10.2, 'pop', 10, ['a', 'b']]"
            ]
          },
          "metadata": {},
          "execution_count": 129
        }
      ]
    },
    {
      "cell_type": "code",
      "source": [
        "# Change the element based on the index\n",
        "\n",
        "A = [\"disco\", 10, 1.2]\n",
        "print('Before change:', A)\n",
        "A[0] = 'hard rock'\n",
        "print('After change:', A)"
      ],
      "metadata": {
        "colab": {
          "base_uri": "https://localhost:8080/"
        },
        "id": "Jtip9cG_wOQg",
        "outputId": "e5c63efc-2cd7-4ffc-a0c6-deb8f91df40d"
      },
      "execution_count": 130,
      "outputs": [
        {
          "output_type": "stream",
          "name": "stdout",
          "text": [
            "Before change: ['disco', 10, 1.2]\n",
            "After change: ['hard rock', 10, 1.2]\n"
          ]
        }
      ]
    },
    {
      "cell_type": "code",
      "source": [
        "# Delete the element based on the index\n",
        "\n",
        "print('Before change:', A)\n",
        "del(A[0])\n",
        "print('After change:', A)"
      ],
      "metadata": {
        "colab": {
          "base_uri": "https://localhost:8080/"
        },
        "id": "2ie_1ydqwRYk",
        "outputId": "272b24af-edec-4eba-a94b-ce4de1e51fd1"
      },
      "execution_count": 131,
      "outputs": [
        {
          "output_type": "stream",
          "name": "stdout",
          "text": [
            "Before change: ['hard rock', 10, 1.2]\n",
            "After change: [10, 1.2]\n"
          ]
        }
      ]
    },
    {
      "cell_type": "code",
      "source": [
        "# Split the string, default is by space\n",
        "\n",
        "'hard rock'.split()"
      ],
      "metadata": {
        "colab": {
          "base_uri": "https://localhost:8080/"
        },
        "id": "4ooD1RghwTx2",
        "outputId": "d9c11055-0773-4b41-9703-7494c5562658"
      },
      "execution_count": 132,
      "outputs": [
        {
          "output_type": "execute_result",
          "data": {
            "text/plain": [
              "['hard', 'rock']"
            ]
          },
          "metadata": {},
          "execution_count": 132
        }
      ]
    },
    {
      "cell_type": "code",
      "source": [
        "# Split the string by comma\n",
        "\n",
        "'A,B,C,D'.split(',')"
      ],
      "metadata": {
        "colab": {
          "base_uri": "https://localhost:8080/"
        },
        "id": "yEI3Lk4WwXIg",
        "outputId": "8c36a3bb-c719-4fdb-e020-393c2cb25071"
      },
      "execution_count": 133,
      "outputs": [
        {
          "output_type": "execute_result",
          "data": {
            "text/plain": [
              "['A', 'B', 'C', 'D']"
            ]
          },
          "metadata": {},
          "execution_count": 133
        }
      ]
    },
    {
      "cell_type": "code",
      "source": [
        "# Copy (copy by reference) the list A\n",
        "\n",
        "A = [\"hard rock\", 10, 1.2]\n",
        "B = A\n",
        "print('A:', A)\n",
        "print('B:', B)"
      ],
      "metadata": {
        "colab": {
          "base_uri": "https://localhost:8080/"
        },
        "id": "lVc68eBJwYxe",
        "outputId": "24418688-b1c3-459a-a785-45a47d32df36"
      },
      "execution_count": 134,
      "outputs": [
        {
          "output_type": "stream",
          "name": "stdout",
          "text": [
            "A: ['hard rock', 10, 1.2]\n",
            "B: ['hard rock', 10, 1.2]\n"
          ]
        }
      ]
    },
    {
      "cell_type": "code",
      "source": [
        "# Examine the copy by reference\n",
        "\n",
        "print('B[0]:', B[0])\n",
        "A[0] = \"banana\"\n",
        "print('B[0]:', B[0])"
      ],
      "metadata": {
        "colab": {
          "base_uri": "https://localhost:8080/"
        },
        "id": "_t-W-70bwasZ",
        "outputId": "aaf3d7ab-2af5-4cd5-dbf5-4b24b646281e"
      },
      "execution_count": 135,
      "outputs": [
        {
          "output_type": "stream",
          "name": "stdout",
          "text": [
            "B[0]: hard rock\n",
            "B[0]: banana\n"
          ]
        }
      ]
    },
    {
      "cell_type": "code",
      "source": [
        "# Clone (clone by value) the list A\n",
        "\n",
        "B = A[:]\n",
        "B"
      ],
      "metadata": {
        "colab": {
          "base_uri": "https://localhost:8080/"
        },
        "id": "_YH2VUq2wrDR",
        "outputId": "f755b597-53dc-4c86-df15-16e7cd9c7497"
      },
      "execution_count": 136,
      "outputs": [
        {
          "output_type": "execute_result",
          "data": {
            "text/plain": [
              "['banana', 10, 1.2]"
            ]
          },
          "metadata": {},
          "execution_count": 136
        }
      ]
    },
    {
      "cell_type": "code",
      "source": [
        "print('B[0]:', B[0])\n",
        "A[0] = \"hard rock\"\n",
        "print('B[0]:', B[0])"
      ],
      "metadata": {
        "colab": {
          "base_uri": "https://localhost:8080/"
        },
        "id": "W-t_rcGtwtqF",
        "outputId": "cc2c08f7-924d-43bc-f505-aa8e8ef55022"
      },
      "execution_count": 137,
      "outputs": [
        {
          "output_type": "stream",
          "name": "stdout",
          "text": [
            "B[0]: banana\n",
            "B[0]: banana\n"
          ]
        }
      ]
    },
    {
      "cell_type": "markdown",
      "source": [
        "<h3>Quiz on lists</h3>"
      ],
      "metadata": {
        "id": "XEY081HGwziU"
      }
    },
    {
      "cell_type": "code",
      "source": [
        "#Create a list a_list, with the following elements 1, hello, [1,2,3] and True.\n",
        "a_list = [1, \"hello\", [1,2,3], True]\n",
        "a_list"
      ],
      "metadata": {
        "colab": {
          "base_uri": "https://localhost:8080/"
        },
        "id": "AMkGFKQaw3R1",
        "outputId": "c8a84059-e3b0-4a6d-9356-c24e150ac90c"
      },
      "execution_count": 139,
      "outputs": [
        {
          "output_type": "execute_result",
          "data": {
            "text/plain": [
              "[1, 'hello', [1, 2, 3], True]"
            ]
          },
          "metadata": {},
          "execution_count": 139
        }
      ]
    },
    {
      "cell_type": "code",
      "source": [
        "#Find the value stored at index 1 of a_list.\n",
        "a_list[1]"
      ],
      "metadata": {
        "colab": {
          "base_uri": "https://localhost:8080/",
          "height": 35
        },
        "id": "6HazJT_VxHB3",
        "outputId": "da86e83c-0a55-4f48-dacc-c6524cdb7695"
      },
      "execution_count": 140,
      "outputs": [
        {
          "output_type": "execute_result",
          "data": {
            "text/plain": [
              "'hello'"
            ],
            "application/vnd.google.colaboratory.intrinsic+json": {
              "type": "string"
            }
          },
          "metadata": {},
          "execution_count": 140
        }
      ]
    },
    {
      "cell_type": "code",
      "source": [
        "#Retrieve the elements stored at index 1, 2 and 3 of a_list.\n",
        "a_list[1:4]\n"
      ],
      "metadata": {
        "colab": {
          "base_uri": "https://localhost:8080/"
        },
        "id": "jVp25rRvxLle",
        "outputId": "03974a1a-eac2-4156-d791-451399658fe3"
      },
      "execution_count": 141,
      "outputs": [
        {
          "output_type": "execute_result",
          "data": {
            "text/plain": [
              "['hello', [1, 2, 3], True]"
            ]
          },
          "metadata": {},
          "execution_count": 141
        }
      ]
    },
    {
      "cell_type": "code",
      "source": [
        "#Concatenate the following lists A = [1, 'a'] and B = [2, 1, 'd']:\n",
        "A = [1, 'a']\n",
        "B = [2, 1, 'd']\n",
        "C = A + B\n",
        "C"
      ],
      "metadata": {
        "colab": {
          "base_uri": "https://localhost:8080/"
        },
        "id": "dwarQ6wdxUaa",
        "outputId": "c254cfbb-531d-4c26-8658-5334955a79c1"
      },
      "execution_count": 144,
      "outputs": [
        {
          "output_type": "execute_result",
          "data": {
            "text/plain": [
              "[1, 'a', 2, 1, 'd']"
            ]
          },
          "metadata": {},
          "execution_count": 144
        }
      ]
    },
    {
      "cell_type": "markdown",
      "source": [
        "<h3> 2.2 Sets</h3>"
      ],
      "metadata": {
        "id": "Nq72p3fqyUJd"
      }
    },
    {
      "cell_type": "code",
      "source": [
        "#Cast the following list to a set: ['A','B','C','A','B','C']\n",
        "set(['A','B','C','A','B','C'])"
      ],
      "metadata": {
        "colab": {
          "base_uri": "https://localhost:8080/"
        },
        "id": "JEURU9rWyvns",
        "outputId": "7466248d-5764-4e6b-c573-5e3fe36e2203"
      },
      "execution_count": 145,
      "outputs": [
        {
          "output_type": "execute_result",
          "data": {
            "text/plain": [
              "{'A', 'B', 'C'}"
            ]
          },
          "metadata": {},
          "execution_count": 145
        }
      ]
    },
    {
      "cell_type": "code",
      "source": [
        "#Add the string 'D' to the set S.\n",
        "S={'A','B','C'}\n",
        "S.add('D')\n",
        "S"
      ],
      "metadata": {
        "colab": {
          "base_uri": "https://localhost:8080/"
        },
        "id": "JqBrsvaQzdaL",
        "outputId": "f291d479-1701-4073-85aa-fe7e29e3e4ba"
      },
      "execution_count": 146,
      "outputs": [
        {
          "output_type": "execute_result",
          "data": {
            "text/plain": [
              "{'A', 'B', 'C', 'D'}"
            ]
          },
          "metadata": {},
          "execution_count": 146
        }
      ]
    },
    {
      "cell_type": "code",
      "source": [
        "#Find the intersection of set A and B.\n",
        "A={1,2,3,4,5}\n",
        "B={1,3,9, 12}\n",
        "C = A & B\n",
        "C"
      ],
      "metadata": {
        "colab": {
          "base_uri": "https://localhost:8080/"
        },
        "id": "F3iSf4_Ezmf-",
        "outputId": "38e00064-3fb2-4ffd-b630-8dc265249dd4"
      },
      "execution_count": 147,
      "outputs": [
        {
          "output_type": "execute_result",
          "data": {
            "text/plain": [
              "{1, 3}"
            ]
          },
          "metadata": {},
          "execution_count": 147
        }
      ]
    },
    {
      "cell_type": "markdown",
      "source": [
        "<h3>Lab Sets</h3>"
      ],
      "metadata": {
        "id": "qOS4uwPI0SlB"
      }
    },
    {
      "cell_type": "code",
      "source": [
        "# Create a set\n",
        "\n",
        "set1 = {\"pop\", \"rock\", \"soul\", \"hard rock\", \"rock\", \"R&B\", \"rock\", \"disco\"}\n",
        "set1"
      ],
      "metadata": {
        "colab": {
          "base_uri": "https://localhost:8080/"
        },
        "id": "jeD9nAXM0T-8",
        "outputId": "aaabcc90-9883-4cbd-fecb-41363638466e"
      },
      "execution_count": 148,
      "outputs": [
        {
          "output_type": "execute_result",
          "data": {
            "text/plain": [
              "{'R&B', 'disco', 'hard rock', 'pop', 'rock', 'soul'}"
            ]
          },
          "metadata": {},
          "execution_count": 148
        }
      ]
    },
    {
      "cell_type": "code",
      "source": [
        "# Convert list to set\n",
        "\n",
        "album_list = [ \"Michael Jackson\", \"Thriller\", 1982, \"00:42:19\", \\\n",
        "              \"Pop, Rock, R&B\", 46.0, 65, \"30-Nov-82\", None, 10.0]\n",
        "album_set = set(album_list)             \n",
        "album_set"
      ],
      "metadata": {
        "colab": {
          "base_uri": "https://localhost:8080/"
        },
        "id": "IdFvLy8Q0X79",
        "outputId": "d554f3eb-e8bd-4f04-93a7-c144ed436ef4"
      },
      "execution_count": 149,
      "outputs": [
        {
          "output_type": "execute_result",
          "data": {
            "text/plain": [
              "{'00:42:19',\n",
              " 10.0,\n",
              " 1982,\n",
              " '30-Nov-82',\n",
              " 46.0,\n",
              " 65,\n",
              " 'Michael Jackson',\n",
              " None,\n",
              " 'Pop, Rock, R&B',\n",
              " 'Thriller'}"
            ]
          },
          "metadata": {},
          "execution_count": 149
        }
      ]
    },
    {
      "cell_type": "code",
      "source": [
        "# Convert list to set\n",
        "\n",
        "music_genres = set([\"pop\", \"pop\", \"rock\", \"folk rock\", \"hard rock\", \"soul\", \\\n",
        "                    \"progressive rock\", \"soft rock\", \"R&B\", \"disco\"])\n",
        "music_genres"
      ],
      "metadata": {
        "colab": {
          "base_uri": "https://localhost:8080/"
        },
        "id": "Ao1xNh1y0Z83",
        "outputId": "47459808-70e7-4b8d-bfac-5a4088db2715"
      },
      "execution_count": 150,
      "outputs": [
        {
          "output_type": "execute_result",
          "data": {
            "text/plain": [
              "{'R&B',\n",
              " 'disco',\n",
              " 'folk rock',\n",
              " 'hard rock',\n",
              " 'pop',\n",
              " 'progressive rock',\n",
              " 'rock',\n",
              " 'soft rock',\n",
              " 'soul'}"
            ]
          },
          "metadata": {},
          "execution_count": 150
        }
      ]
    },
    {
      "cell_type": "code",
      "source": [
        "# Sample set\n",
        "\n",
        "A = set([\"Thriller\", \"Back in Black\", \"AC/DC\"])\n",
        "A"
      ],
      "metadata": {
        "colab": {
          "base_uri": "https://localhost:8080/"
        },
        "id": "0kRluJng0dyK",
        "outputId": "0614ac71-e047-4602-b8b4-92687ef763ce"
      },
      "execution_count": 151,
      "outputs": [
        {
          "output_type": "execute_result",
          "data": {
            "text/plain": [
              "{'AC/DC', 'Back in Black', 'Thriller'}"
            ]
          },
          "metadata": {},
          "execution_count": 151
        }
      ]
    },
    {
      "cell_type": "code",
      "source": [
        "# Add element to set\n",
        "\n",
        "A.add(\"NSYNC\")\n",
        "A"
      ],
      "metadata": {
        "colab": {
          "base_uri": "https://localhost:8080/"
        },
        "id": "5EhwZVZW0fbi",
        "outputId": "403e1bce-bf4c-4db2-8e4c-f89f198903c0"
      },
      "execution_count": 152,
      "outputs": [
        {
          "output_type": "execute_result",
          "data": {
            "text/plain": [
              "{'AC/DC', 'Back in Black', 'NSYNC', 'Thriller'}"
            ]
          },
          "metadata": {},
          "execution_count": 152
        }
      ]
    },
    {
      "cell_type": "code",
      "source": [
        "# Try to add duplicate element to the set\n",
        "\n",
        "A.add(\"NSYNC\")\n",
        "A"
      ],
      "metadata": {
        "colab": {
          "base_uri": "https://localhost:8080/"
        },
        "id": "ioJJbH_-0iC2",
        "outputId": "bc2d3726-3003-47ee-f9f0-115352d1d1eb"
      },
      "execution_count": 153,
      "outputs": [
        {
          "output_type": "execute_result",
          "data": {
            "text/plain": [
              "{'AC/DC', 'Back in Black', 'NSYNC', 'Thriller'}"
            ]
          },
          "metadata": {},
          "execution_count": 153
        }
      ]
    },
    {
      "cell_type": "code",
      "source": [
        "# Remove the element from set\n",
        "\n",
        "A.remove(\"NSYNC\")\n",
        "A"
      ],
      "metadata": {
        "colab": {
          "base_uri": "https://localhost:8080/"
        },
        "id": "gp6wTvqA0j-C",
        "outputId": "734c7a65-120d-4956-bdec-8fefaf6356f0"
      },
      "execution_count": 154,
      "outputs": [
        {
          "output_type": "execute_result",
          "data": {
            "text/plain": [
              "{'AC/DC', 'Back in Black', 'Thriller'}"
            ]
          },
          "metadata": {},
          "execution_count": 154
        }
      ]
    },
    {
      "cell_type": "code",
      "source": [
        "# Verify if the element is in the set\n",
        "\n",
        "\"AC/DC\" in A"
      ],
      "metadata": {
        "colab": {
          "base_uri": "https://localhost:8080/"
        },
        "id": "SkBtvJil0m9X",
        "outputId": "96a3667a-5018-47c1-8657-eee41b1f4544"
      },
      "execution_count": 155,
      "outputs": [
        {
          "output_type": "execute_result",
          "data": {
            "text/plain": [
              "True"
            ]
          },
          "metadata": {},
          "execution_count": 155
        }
      ]
    },
    {
      "cell_type": "code",
      "source": [
        "# Sample Sets\n",
        "\n",
        "album_set1 = set([\"Thriller\", 'AC/DC', 'Back in Black'])\n",
        "album_set2 = set([ \"AC/DC\", \"Back in Black\", \"The Dark Side of the Moon\"])"
      ],
      "metadata": {
        "id": "RFyoiA9Z0pK3"
      },
      "execution_count": 157,
      "outputs": []
    },
    {
      "cell_type": "code",
      "source": [
        "# Print two sets\n",
        "\n",
        "album_set1, album_set2"
      ],
      "metadata": {
        "colab": {
          "base_uri": "https://localhost:8080/"
        },
        "id": "IhftXeIu0tCD",
        "outputId": "9b964641-38bb-4154-9a9d-f88eda5b44e3"
      },
      "execution_count": 158,
      "outputs": [
        {
          "output_type": "execute_result",
          "data": {
            "text/plain": [
              "({'AC/DC', 'Back in Black', 'Thriller'},\n",
              " {'AC/DC', 'Back in Black', 'The Dark Side of the Moon'})"
            ]
          },
          "metadata": {},
          "execution_count": 158
        }
      ]
    },
    {
      "cell_type": "code",
      "source": [
        "# Find the intersections\n",
        "\n",
        "intersection = album_set1 & album_set2\n",
        "intersection"
      ],
      "metadata": {
        "colab": {
          "base_uri": "https://localhost:8080/"
        },
        "id": "CO8reQb50v0K",
        "outputId": "fd145377-04dc-4704-9873-1a29a6380454"
      },
      "execution_count": 159,
      "outputs": [
        {
          "output_type": "execute_result",
          "data": {
            "text/plain": [
              "{'AC/DC', 'Back in Black'}"
            ]
          },
          "metadata": {},
          "execution_count": 159
        }
      ]
    },
    {
      "cell_type": "code",
      "source": [
        "# Find the difference in set1 but not set2\n",
        "\n",
        "album_set1.difference(album_set2)  "
      ],
      "metadata": {
        "colab": {
          "base_uri": "https://localhost:8080/"
        },
        "id": "kzBpg4pt0xVp",
        "outputId": "af572a8f-7f55-469f-8c28-0ce039f1462e"
      },
      "execution_count": 160,
      "outputs": [
        {
          "output_type": "execute_result",
          "data": {
            "text/plain": [
              "{'Thriller'}"
            ]
          },
          "metadata": {},
          "execution_count": 160
        }
      ]
    },
    {
      "cell_type": "code",
      "source": [
        "album_set2.difference(album_set1)  "
      ],
      "metadata": {
        "colab": {
          "base_uri": "https://localhost:8080/"
        },
        "id": "C74J-tAs00p-",
        "outputId": "a50bb9f7-4143-4159-fcfb-ed308e08adae"
      },
      "execution_count": 161,
      "outputs": [
        {
          "output_type": "execute_result",
          "data": {
            "text/plain": [
              "{'The Dark Side of the Moon'}"
            ]
          },
          "metadata": {},
          "execution_count": 161
        }
      ]
    },
    {
      "cell_type": "code",
      "source": [
        "# Use intersection method to find the intersection of album_list1 and album_list2\n",
        "\n",
        "album_set1.intersection(album_set2)   "
      ],
      "metadata": {
        "colab": {
          "base_uri": "https://localhost:8080/"
        },
        "id": "PniHjzEh03f3",
        "outputId": "85efb3b7-aabf-478d-ff1f-a3b530cbc64e"
      },
      "execution_count": 162,
      "outputs": [
        {
          "output_type": "execute_result",
          "data": {
            "text/plain": [
              "{'AC/DC', 'Back in Black'}"
            ]
          },
          "metadata": {},
          "execution_count": 162
        }
      ]
    },
    {
      "cell_type": "code",
      "source": [
        "# Find the union of two sets\n",
        "\n",
        "album_set1.union(album_set2)"
      ],
      "metadata": {
        "colab": {
          "base_uri": "https://localhost:8080/"
        },
        "id": "S4N7_Afi057k",
        "outputId": "1ea0f887-00bb-4aec-d816-0a3534f1ced5"
      },
      "execution_count": 163,
      "outputs": [
        {
          "output_type": "execute_result",
          "data": {
            "text/plain": [
              "{'AC/DC', 'Back in Black', 'The Dark Side of the Moon', 'Thriller'}"
            ]
          },
          "metadata": {},
          "execution_count": 163
        }
      ]
    },
    {
      "cell_type": "code",
      "source": [
        "# Check if superset\n",
        "\n",
        "set(album_set1).issuperset(album_set2)   "
      ],
      "metadata": {
        "colab": {
          "base_uri": "https://localhost:8080/"
        },
        "id": "zZO4aKjd09LH",
        "outputId": "b03beb11-c8c4-413d-a12e-4d47ec184b94"
      },
      "execution_count": 164,
      "outputs": [
        {
          "output_type": "execute_result",
          "data": {
            "text/plain": [
              "False"
            ]
          },
          "metadata": {},
          "execution_count": 164
        }
      ]
    },
    {
      "cell_type": "code",
      "source": [
        "# Check if subset\n",
        "\n",
        "set(album_set2).issubset(album_set1)    "
      ],
      "metadata": {
        "colab": {
          "base_uri": "https://localhost:8080/"
        },
        "id": "4V3-MNLG1DZz",
        "outputId": "6719afe7-cc68-43f1-c35f-97f4a4fc7a76"
      },
      "execution_count": 165,
      "outputs": [
        {
          "output_type": "execute_result",
          "data": {
            "text/plain": [
              "False"
            ]
          },
          "metadata": {},
          "execution_count": 165
        }
      ]
    },
    {
      "cell_type": "code",
      "source": [
        "# Check if subset\n",
        "\n",
        "set({\"Back in Black\", \"AC/DC\"}).issubset(album_set1) "
      ],
      "metadata": {
        "colab": {
          "base_uri": "https://localhost:8080/"
        },
        "id": "BkobKync1GCh",
        "outputId": "0f49cac4-351f-4412-aca5-790a932446fd"
      },
      "execution_count": 166,
      "outputs": [
        {
          "output_type": "execute_result",
          "data": {
            "text/plain": [
              "True"
            ]
          },
          "metadata": {},
          "execution_count": 166
        }
      ]
    },
    {
      "cell_type": "code",
      "source": [
        "# Check if superset\n",
        "\n",
        "album_set1.issuperset({\"Back in Black\", \"AC/DC\"})   "
      ],
      "metadata": {
        "colab": {
          "base_uri": "https://localhost:8080/"
        },
        "id": "S-EPvZBk1JF_",
        "outputId": "af34a080-a61a-4e25-f575-d68803f56e96"
      },
      "execution_count": 167,
      "outputs": [
        {
          "output_type": "execute_result",
          "data": {
            "text/plain": [
              "True"
            ]
          },
          "metadata": {},
          "execution_count": 167
        }
      ]
    },
    {
      "cell_type": "markdown",
      "source": [
        "<h3>Quiz on sets</h3>"
      ],
      "metadata": {
        "id": "7nevtIrR1K2-"
      }
    },
    {
      "cell_type": "code",
      "source": [
        "#Convert the list ['rap','house','electronic music', 'rap'] to a set:\n",
        "set(['rap','house','electronic music', 'rap'])"
      ],
      "metadata": {
        "colab": {
          "base_uri": "https://localhost:8080/"
        },
        "id": "Tf23VeVx1OE8",
        "outputId": "241d1349-c584-45c6-a26e-43a5fd6b0b8d"
      },
      "execution_count": 168,
      "outputs": [
        {
          "output_type": "execute_result",
          "data": {
            "text/plain": [
              "{'electronic music', 'house', 'rap'}"
            ]
          },
          "metadata": {},
          "execution_count": 168
        }
      ]
    },
    {
      "cell_type": "code",
      "source": [
        "#Consider the list A = [1, 2, 2, 1] and set B = set([1, 2, 2, 1]), does sum(A) == sum(B)?\n",
        "A = [1, 2, 2, 1]\n",
        "\n",
        "B = set([1, 2, 2, 1])\n",
        "\n",
        "print(sum(A))\n",
        "print(sum(B))\n",
        "\n",
        "print(sum(A) == sum(B))\n",
        "\n"
      ],
      "metadata": {
        "colab": {
          "base_uri": "https://localhost:8080/"
        },
        "id": "Ko69XJTk1Yzj",
        "outputId": "fa61ecb6-3ec8-4b1a-d61c-bdace28839fe"
      },
      "execution_count": 176,
      "outputs": [
        {
          "output_type": "stream",
          "name": "stdout",
          "text": [
            "6\n",
            "3\n",
            "False\n"
          ]
        }
      ]
    },
    {
      "cell_type": "code",
      "source": [
        "#Create a new set album_set3 that is the union of album_set1 and album_set2:\n",
        "album_set1 = set([\"Thriller\", 'AC/DC', 'Back in Black'])\n",
        "album_set2 = set([ \"AC/DC\", \"Back in Black\", \"The Dark Side of the Moon\"])\n",
        "album_set3 = album_set1.union(album_set2)\n",
        "album_set3"
      ],
      "metadata": {
        "colab": {
          "base_uri": "https://localhost:8080/"
        },
        "id": "R0qYkYsP1zus",
        "outputId": "ce50f784-9d01-4817-9785-05d89ae68c87"
      },
      "execution_count": 179,
      "outputs": [
        {
          "output_type": "execute_result",
          "data": {
            "text/plain": [
              "{'AC/DC', 'Back in Black', 'The Dark Side of the Moon', 'Thriller'}"
            ]
          },
          "metadata": {},
          "execution_count": 179
        }
      ]
    },
    {
      "cell_type": "code",
      "source": [
        "#Find out if album_set1 is a subset of album_set3:\n",
        "album_set1.issubset(album_set3)"
      ],
      "metadata": {
        "colab": {
          "base_uri": "https://localhost:8080/"
        },
        "id": "LmXC6tMW2AJ2",
        "outputId": "e24837c0-ca6c-4746-a09d-ebd497418614"
      },
      "execution_count": 180,
      "outputs": [
        {
          "output_type": "execute_result",
          "data": {
            "text/plain": [
              "True"
            ]
          },
          "metadata": {},
          "execution_count": 180
        }
      ]
    },
    {
      "cell_type": "code",
      "source": [
        "#Find out if album_set1 is a superset of album_set3:\n",
        "album_set3.issuperset(album_set1)"
      ],
      "metadata": {
        "colab": {
          "base_uri": "https://localhost:8080/"
        },
        "id": "3m45KCPU6i-L",
        "outputId": "966593e5-59f7-4d48-922e-3b6ce38de180"
      },
      "execution_count": 198,
      "outputs": [
        {
          "output_type": "execute_result",
          "data": {
            "text/plain": [
              "True"
            ]
          },
          "metadata": {},
          "execution_count": 198
        }
      ]
    },
    {
      "cell_type": "markdown",
      "source": [
        "<h3> 2.3 Dictionaries</h3>"
      ],
      "metadata": {
        "id": "a78SINPu4esN"
      }
    },
    {
      "cell_type": "code",
      "source": [
        "D={'a':0,'b':1,'c':2}\n",
        "D"
      ],
      "metadata": {
        "colab": {
          "base_uri": "https://localhost:8080/"
        },
        "id": "p0Yw4_VO4dJL",
        "outputId": "03ab7bed-c073-4a34-ae69-b2c9a4e05347"
      },
      "execution_count": 182,
      "outputs": [
        {
          "output_type": "execute_result",
          "data": {
            "text/plain": [
              "{'a': 0, 'b': 1, 'c': 2}"
            ]
          },
          "metadata": {},
          "execution_count": 182
        }
      ]
    },
    {
      "cell_type": "code",
      "source": [
        "#Find the value for the key 'a':\n",
        "D['a']"
      ],
      "metadata": {
        "colab": {
          "base_uri": "https://localhost:8080/"
        },
        "id": "RovP5L-u4j6R",
        "outputId": "b49529f6-7696-478a-ffdd-3498b08e3c52"
      },
      "execution_count": 184,
      "outputs": [
        {
          "output_type": "execute_result",
          "data": {
            "text/plain": [
              "0"
            ]
          },
          "metadata": {},
          "execution_count": 184
        }
      ]
    },
    {
      "cell_type": "code",
      "source": [
        "#Find the keys of the dictionary D:\n",
        "D.keys()"
      ],
      "metadata": {
        "colab": {
          "base_uri": "https://localhost:8080/"
        },
        "id": "nSjtCm5-5Flv",
        "outputId": "b9236382-7f0f-4c03-989b-96d1837430c9"
      },
      "execution_count": 185,
      "outputs": [
        {
          "output_type": "execute_result",
          "data": {
            "text/plain": [
              "dict_keys(['a', 'b', 'c'])"
            ]
          },
          "metadata": {},
          "execution_count": 185
        }
      ]
    },
    {
      "cell_type": "markdown",
      "source": [
        "<h3>Lab Dictionaries</h3>"
      ],
      "metadata": {
        "id": "RYz-97xe52IZ"
      }
    },
    {
      "cell_type": "code",
      "source": [
        "# Create the dictionary\n",
        "\n",
        "Dict = {\"key1\": 1, \"key2\": \"2\", \"key3\": [3, 3, 3], \"key4\": (4, 4, 4), ('key5'): 5, (0, 1): 6}\n",
        "Dict"
      ],
      "metadata": {
        "colab": {
          "base_uri": "https://localhost:8080/"
        },
        "id": "JesvkjFr53Te",
        "outputId": "8779e901-c60f-47f2-8815-13ab5250a73a"
      },
      "execution_count": 186,
      "outputs": [
        {
          "output_type": "execute_result",
          "data": {
            "text/plain": [
              "{'key1': 1,\n",
              " 'key2': '2',\n",
              " 'key3': [3, 3, 3],\n",
              " 'key4': (4, 4, 4),\n",
              " 'key5': 5,\n",
              " (0, 1): 6}"
            ]
          },
          "metadata": {},
          "execution_count": 186
        }
      ]
    },
    {
      "cell_type": "code",
      "source": [
        "# Access to the value by the key\n",
        "\n",
        "Dict[\"key1\"]"
      ],
      "metadata": {
        "colab": {
          "base_uri": "https://localhost:8080/"
        },
        "id": "08DYXxiw56nU",
        "outputId": "edfbffd0-973b-4cfd-b17d-a69e78101df7"
      },
      "execution_count": 187,
      "outputs": [
        {
          "output_type": "execute_result",
          "data": {
            "text/plain": [
              "1"
            ]
          },
          "metadata": {},
          "execution_count": 187
        }
      ]
    },
    {
      "cell_type": "code",
      "source": [
        "# Access to the value by the key\n",
        "\n",
        "Dict[(0, 1)]"
      ],
      "metadata": {
        "colab": {
          "base_uri": "https://localhost:8080/"
        },
        "id": "X6r-YfFH59mu",
        "outputId": "66959465-472a-46e8-d8a3-3d9322fd3b79"
      },
      "execution_count": 188,
      "outputs": [
        {
          "output_type": "execute_result",
          "data": {
            "text/plain": [
              "6"
            ]
          },
          "metadata": {},
          "execution_count": 188
        }
      ]
    },
    {
      "cell_type": "code",
      "source": [
        "# Create a sample dictionary\n",
        "\n",
        "release_year_dict = {\"Thriller\": \"1982\", \"Back in Black\": \"1980\", \\\n",
        "                    \"The Dark Side of the Moon\": \"1973\", \"The Bodyguard\": \"1992\", \\\n",
        "                    \"Bat Out of Hell\": \"1977\", \"Their Greatest Hits (1971-1975)\": \"1976\", \\\n",
        "                    \"Saturday Night Fever\": \"1977\", \"Rumours\": \"1977\"}\n",
        "release_year_dict"
      ],
      "metadata": {
        "colab": {
          "base_uri": "https://localhost:8080/"
        },
        "id": "wYoQrmmX6Ijq",
        "outputId": "9c384084-5a3e-4e8e-be96-8f0ca9c23608"
      },
      "execution_count": 189,
      "outputs": [
        {
          "output_type": "execute_result",
          "data": {
            "text/plain": [
              "{'Thriller': '1982',\n",
              " 'Back in Black': '1980',\n",
              " 'The Dark Side of the Moon': '1973',\n",
              " 'The Bodyguard': '1992',\n",
              " 'Bat Out of Hell': '1977',\n",
              " 'Their Greatest Hits (1971-1975)': '1976',\n",
              " 'Saturday Night Fever': '1977',\n",
              " 'Rumours': '1977'}"
            ]
          },
          "metadata": {},
          "execution_count": 189
        }
      ]
    },
    {
      "cell_type": "code",
      "source": [
        "# Get value by keys\n",
        "\n",
        "release_year_dict['Thriller'] "
      ],
      "metadata": {
        "colab": {
          "base_uri": "https://localhost:8080/",
          "height": 35
        },
        "id": "Ui5CAvE76N9r",
        "outputId": "bfe9dcd9-939b-4073-8d3e-0b56386e820c"
      },
      "execution_count": 190,
      "outputs": [
        {
          "output_type": "execute_result",
          "data": {
            "text/plain": [
              "'1982'"
            ],
            "application/vnd.google.colaboratory.intrinsic+json": {
              "type": "string"
            }
          },
          "metadata": {},
          "execution_count": 190
        }
      ]
    },
    {
      "cell_type": "code",
      "source": [
        "# Get value by key\n",
        "\n",
        "release_year_dict['The Bodyguard'] "
      ],
      "metadata": {
        "colab": {
          "base_uri": "https://localhost:8080/",
          "height": 35
        },
        "id": "mndtk6q66PyR",
        "outputId": "faf5e780-f4b7-4ddf-e9b8-a1157237961a"
      },
      "execution_count": 191,
      "outputs": [
        {
          "output_type": "execute_result",
          "data": {
            "text/plain": [
              "'1992'"
            ],
            "application/vnd.google.colaboratory.intrinsic+json": {
              "type": "string"
            }
          },
          "metadata": {},
          "execution_count": 191
        }
      ]
    },
    {
      "cell_type": "code",
      "source": [
        "# Get all the keys in dictionary\n",
        "\n",
        "release_year_dict.keys() "
      ],
      "metadata": {
        "colab": {
          "base_uri": "https://localhost:8080/"
        },
        "id": "mOPXk1IV6TlH",
        "outputId": "9ddf2f99-2d2e-46a2-f649-febedd586b5b"
      },
      "execution_count": 192,
      "outputs": [
        {
          "output_type": "execute_result",
          "data": {
            "text/plain": [
              "dict_keys(['Thriller', 'Back in Black', 'The Dark Side of the Moon', 'The Bodyguard', 'Bat Out of Hell', 'Their Greatest Hits (1971-1975)', 'Saturday Night Fever', 'Rumours'])"
            ]
          },
          "metadata": {},
          "execution_count": 192
        }
      ]
    },
    {
      "cell_type": "code",
      "source": [
        "# Get all the values in dictionary\n",
        "\n",
        "release_year_dict.values() "
      ],
      "metadata": {
        "colab": {
          "base_uri": "https://localhost:8080/"
        },
        "id": "wRDmQmz-6Ws9",
        "outputId": "1cd7e6a8-5193-4bea-caf7-21c70a8fc010"
      },
      "execution_count": 193,
      "outputs": [
        {
          "output_type": "execute_result",
          "data": {
            "text/plain": [
              "dict_values(['1982', '1980', '1973', '1992', '1977', '1976', '1977', '1977'])"
            ]
          },
          "metadata": {},
          "execution_count": 193
        }
      ]
    },
    {
      "cell_type": "code",
      "source": [
        "# Append value with key into dictionary\n",
        "\n",
        "release_year_dict['Graduation'] = '2007'\n",
        "release_year_dict"
      ],
      "metadata": {
        "colab": {
          "base_uri": "https://localhost:8080/"
        },
        "id": "B-WByr7D6Y-W",
        "outputId": "d7d4a8d2-c37e-4e2c-a4ed-1362d3107aad"
      },
      "execution_count": 194,
      "outputs": [
        {
          "output_type": "execute_result",
          "data": {
            "text/plain": [
              "{'Thriller': '1982',\n",
              " 'Back in Black': '1980',\n",
              " 'The Dark Side of the Moon': '1973',\n",
              " 'The Bodyguard': '1992',\n",
              " 'Bat Out of Hell': '1977',\n",
              " 'Their Greatest Hits (1971-1975)': '1976',\n",
              " 'Saturday Night Fever': '1977',\n",
              " 'Rumours': '1977',\n",
              " 'Graduation': '2007'}"
            ]
          },
          "metadata": {},
          "execution_count": 194
        }
      ]
    },
    {
      "cell_type": "code",
      "source": [
        "# Delete entries by key\n",
        "\n",
        "del(release_year_dict['Thriller'])\n",
        "del(release_year_dict['Graduation'])\n",
        "release_year_dict"
      ],
      "metadata": {
        "colab": {
          "base_uri": "https://localhost:8080/"
        },
        "id": "2-IPWQHD6bfq",
        "outputId": "5fb3300a-3cc3-4d9b-bc65-a875d8743757"
      },
      "execution_count": 195,
      "outputs": [
        {
          "output_type": "execute_result",
          "data": {
            "text/plain": [
              "{'Back in Black': '1980',\n",
              " 'The Dark Side of the Moon': '1973',\n",
              " 'The Bodyguard': '1992',\n",
              " 'Bat Out of Hell': '1977',\n",
              " 'Their Greatest Hits (1971-1975)': '1976',\n",
              " 'Saturday Night Fever': '1977',\n",
              " 'Rumours': '1977'}"
            ]
          },
          "metadata": {},
          "execution_count": 195
        }
      ]
    },
    {
      "cell_type": "code",
      "source": [
        "# Verify the key is in the dictionary\n",
        "\n",
        "'The Bodyguard' in release_year_dict"
      ],
      "metadata": {
        "colab": {
          "base_uri": "https://localhost:8080/"
        },
        "id": "LLWbi-IO6dy1",
        "outputId": "f8c6f94b-7cc4-431e-9cc1-1323c1e4881d"
      },
      "execution_count": 196,
      "outputs": [
        {
          "output_type": "execute_result",
          "data": {
            "text/plain": [
              "True"
            ]
          },
          "metadata": {},
          "execution_count": 196
        }
      ]
    },
    {
      "cell_type": "markdown",
      "source": [
        "<h3>Quiz on dictionaries</h3>"
      ],
      "metadata": {
        "id": "_mvtjUeS6vGW"
      }
    },
    {
      "cell_type": "code",
      "source": [
        "# Question sample dictionary\n",
        "\n",
        "soundtrack_dic = {\"The Bodyguard\":\"1992\", \"Saturday Night Fever\":\"1977\"}\n",
        "soundtrack_dic "
      ],
      "metadata": {
        "colab": {
          "base_uri": "https://localhost:8080/"
        },
        "id": "Kz4QFpZd6wnG",
        "outputId": "6c13a57d-2bef-4193-d336-93883c5c3ca9"
      },
      "execution_count": 199,
      "outputs": [
        {
          "output_type": "execute_result",
          "data": {
            "text/plain": [
              "{'The Bodyguard': '1992', 'Saturday Night Fever': '1977'}"
            ]
          },
          "metadata": {},
          "execution_count": 199
        }
      ]
    },
    {
      "cell_type": "code",
      "source": [
        "#a) In the dictionary soundtrack_dic what are the keys ?\n",
        "soundtrack_dic.keys()"
      ],
      "metadata": {
        "colab": {
          "base_uri": "https://localhost:8080/"
        },
        "id": "5giPvhOU60fd",
        "outputId": "1cfdca93-3ff5-4901-e79a-9f5ac33ee4c4"
      },
      "execution_count": 200,
      "outputs": [
        {
          "output_type": "execute_result",
          "data": {
            "text/plain": [
              "dict_keys(['The Bodyguard', 'Saturday Night Fever'])"
            ]
          },
          "metadata": {},
          "execution_count": 200
        }
      ]
    },
    {
      "cell_type": "code",
      "source": [
        "#b) In the dictionary soundtrack_dic what are the values ?\n",
        "soundtrack_dic.values()"
      ],
      "metadata": {
        "colab": {
          "base_uri": "https://localhost:8080/"
        },
        "id": "UQ70u5xA6-Qc",
        "outputId": "a4f7cd58-f0fb-4245-e04c-6ef4878ff40c"
      },
      "execution_count": 201,
      "outputs": [
        {
          "output_type": "execute_result",
          "data": {
            "text/plain": [
              "dict_values(['1992', '1977'])"
            ]
          },
          "metadata": {},
          "execution_count": 201
        }
      ]
    },
    {
      "cell_type": "code",
      "source": [
        "#a) Create a dictionary album_sales_dict where the keys are the album name and the sales in millions are the values.\n",
        "album_sales_dict = {\"Back in Black\" : 50, \"The Bodyguard\" : 50, \"Thriller\" : 65 }\n",
        "album_sales_dict"
      ],
      "metadata": {
        "colab": {
          "base_uri": "https://localhost:8080/"
        },
        "id": "BEfL9-oT7OmP",
        "outputId": "be92aaa0-16e4-46e3-9ccd-c4e7239d4222"
      },
      "execution_count": 203,
      "outputs": [
        {
          "output_type": "execute_result",
          "data": {
            "text/plain": [
              "{'Back in Black': 50, 'The Bodyguard': 50, 'Thriller': 65}"
            ]
          },
          "metadata": {},
          "execution_count": 203
        }
      ]
    },
    {
      "cell_type": "code",
      "source": [
        "#b) Use the dictionary to find the total sales of Thriller:\n",
        "album_sales_dict[\"Thriller\"]"
      ],
      "metadata": {
        "colab": {
          "base_uri": "https://localhost:8080/"
        },
        "id": "fcIKyBtx7ocY",
        "outputId": "27e3bbd0-4ed4-4b28-90db-0e44018af05a"
      },
      "execution_count": 205,
      "outputs": [
        {
          "output_type": "execute_result",
          "data": {
            "text/plain": [
              "65"
            ]
          },
          "metadata": {},
          "execution_count": 205
        }
      ]
    },
    {
      "cell_type": "code",
      "source": [
        "#) Find the names of the albums from the dictionary using the method keys():\n",
        "album_sales_dict.keys()"
      ],
      "metadata": {
        "colab": {
          "base_uri": "https://localhost:8080/"
        },
        "id": "ytCXrOQM7vgO",
        "outputId": "d5d464a7-95a5-4da6-eb2e-b114e0868e67"
      },
      "execution_count": 206,
      "outputs": [
        {
          "output_type": "execute_result",
          "data": {
            "text/plain": [
              "dict_keys(['Back in Black', 'The Bodyguard', 'Thriller'])"
            ]
          },
          "metadata": {},
          "execution_count": 206
        }
      ]
    },
    {
      "cell_type": "code",
      "source": [
        "#d) Find the values of the recording sales from the dictionary using the method values:\n",
        "album_sales_dict.values()"
      ],
      "metadata": {
        "colab": {
          "base_uri": "https://localhost:8080/"
        },
        "id": "TuBphexs70oQ",
        "outputId": "74485394-025f-4903-8615-90ab09731c9a"
      },
      "execution_count": 207,
      "outputs": [
        {
          "output_type": "execute_result",
          "data": {
            "text/plain": [
              "dict_values([50, 50, 65])"
            ]
          },
          "metadata": {},
          "execution_count": 207
        }
      ]
    },
    {
      "cell_type": "markdown",
      "source": [
        "<h1> Module 3 </h1>"
      ],
      "metadata": {
        "id": "d9Dcw2cx8YS7"
      }
    },
    {
      "cell_type": "markdown",
      "source": [
        "<h3> 3.1 Comparision Operations</h3>"
      ],
      "metadata": {
        "id": "tX_2wXXG9_fI"
      }
    },
    {
      "cell_type": "code",
      "source": [
        "#Find the value of i that produces a True:\n",
        "i=1\n",
        "i!=0"
      ],
      "metadata": {
        "colab": {
          "base_uri": "https://localhost:8080/"
        },
        "id": "qHf4WHCZ8Z2D",
        "outputId": "7611f0b7-7e08-4a5b-ee6b-dfb1d856b6d5"
      },
      "execution_count": 208,
      "outputs": [
        {
          "output_type": "execute_result",
          "data": {
            "text/plain": [
              "True"
            ]
          },
          "metadata": {},
          "execution_count": 208
        }
      ]
    },
    {
      "cell_type": "code",
      "source": [
        "#Find the value of x that prints the statement \"this is a\":\n",
        "x = 'a'\n",
        "if(x=='a'):\n",
        "    print(\"this is a\")\n",
        "else:\n",
        "    print(\"this is  not a\")"
      ],
      "metadata": {
        "colab": {
          "base_uri": "https://localhost:8080/"
        },
        "id": "3p0BQ50i-Mfq",
        "outputId": "a08a763b-7868-40f3-d511-9c8febb70a92"
      },
      "execution_count": 209,
      "outputs": [
        {
          "output_type": "stream",
          "name": "stdout",
          "text": [
            "this is a\n"
          ]
        }
      ]
    },
    {
      "cell_type": "code",
      "source": [
        "#Find the value of y that produces a True statement:\n",
        "y=5\n",
        "x=1\n",
        "x>0 and y<10"
      ],
      "metadata": {
        "colab": {
          "base_uri": "https://localhost:8080/"
        },
        "id": "mAKbTvXR-TGW",
        "outputId": "3271c621-fd2e-4df6-a311-ea3c13bf6353"
      },
      "execution_count": 210,
      "outputs": [
        {
          "output_type": "execute_result",
          "data": {
            "text/plain": [
              "True"
            ]
          },
          "metadata": {},
          "execution_count": 210
        }
      ]
    },
    {
      "cell_type": "markdown",
      "source": [
        "<h2>Lab - Conditions and Branching</h2>\n"
      ],
      "metadata": {
        "id": "uMGVbTi1-4uT"
      }
    },
    {
      "cell_type": "code",
      "source": [
        "# Condition Equal\n",
        "\n",
        "a = 5\n",
        "a == 6"
      ],
      "metadata": {
        "colab": {
          "base_uri": "https://localhost:8080/"
        },
        "id": "10aGB7JP-8hv",
        "outputId": "37088ffe-8272-4c4e-f2be-7307df34b747"
      },
      "execution_count": 211,
      "outputs": [
        {
          "output_type": "execute_result",
          "data": {
            "text/plain": [
              "False"
            ]
          },
          "metadata": {},
          "execution_count": 211
        }
      ]
    },
    {
      "cell_type": "code",
      "source": [
        "# Greater than Sign\n",
        "\n",
        "i = 6\n",
        "i > 5"
      ],
      "metadata": {
        "colab": {
          "base_uri": "https://localhost:8080/"
        },
        "id": "CVqAlBDt_RHt",
        "outputId": "67760e2d-b137-4251-fa47-6a95acb7bf0c"
      },
      "execution_count": 212,
      "outputs": [
        {
          "output_type": "execute_result",
          "data": {
            "text/plain": [
              "True"
            ]
          },
          "metadata": {},
          "execution_count": 212
        }
      ]
    },
    {
      "cell_type": "code",
      "source": [
        "# Greater than Sign\n",
        "\n",
        "i = 2\n",
        "i > 5"
      ],
      "metadata": {
        "colab": {
          "base_uri": "https://localhost:8080/"
        },
        "id": "-gEpSLgn_T13",
        "outputId": "ce37d4fc-cb1e-4a49-9210-6772bee2ed1b"
      },
      "execution_count": 213,
      "outputs": [
        {
          "output_type": "execute_result",
          "data": {
            "text/plain": [
              "False"
            ]
          },
          "metadata": {},
          "execution_count": 213
        }
      ]
    },
    {
      "cell_type": "code",
      "source": [
        "# Inequality Sign\n",
        "\n",
        "i = 2\n",
        "i != 6"
      ],
      "metadata": {
        "colab": {
          "base_uri": "https://localhost:8080/"
        },
        "id": "ANyiaIP4_WiG",
        "outputId": "60580b8d-bd52-4e29-ca46-ceb3c7dfe7aa"
      },
      "execution_count": 214,
      "outputs": [
        {
          "output_type": "execute_result",
          "data": {
            "text/plain": [
              "True"
            ]
          },
          "metadata": {},
          "execution_count": 214
        }
      ]
    },
    {
      "cell_type": "code",
      "source": [
        "# Inequality Sign\n",
        "\n",
        "i = 6\n",
        "i != 6"
      ],
      "metadata": {
        "colab": {
          "base_uri": "https://localhost:8080/"
        },
        "id": "bitMBjzj_W9P",
        "outputId": "bd83b901-1db1-4316-a565-ca8bc76d42a6"
      },
      "execution_count": 215,
      "outputs": [
        {
          "output_type": "execute_result",
          "data": {
            "text/plain": [
              "False"
            ]
          },
          "metadata": {},
          "execution_count": 215
        }
      ]
    },
    {
      "cell_type": "code",
      "source": [
        "# Use Equality sign to compare the strings\n",
        "\n",
        "\"ACDC\" == \"Michael Jackson\""
      ],
      "metadata": {
        "colab": {
          "base_uri": "https://localhost:8080/"
        },
        "id": "kRrEjthv_Ywm",
        "outputId": "da8bf224-7704-4f2a-9ad1-3b5b31943c83"
      },
      "execution_count": 216,
      "outputs": [
        {
          "output_type": "execute_result",
          "data": {
            "text/plain": [
              "False"
            ]
          },
          "metadata": {},
          "execution_count": 216
        }
      ]
    },
    {
      "cell_type": "code",
      "source": [
        "# Use Inequality sign to compare the strings\n",
        "\n",
        "\"ACDC\" != \"Michael Jackson\""
      ],
      "metadata": {
        "colab": {
          "base_uri": "https://localhost:8080/"
        },
        "id": "BdnfMp5C_anF",
        "outputId": "d28e5796-bcc2-4d7d-9f0c-e61f408f4886"
      },
      "execution_count": 217,
      "outputs": [
        {
          "output_type": "execute_result",
          "data": {
            "text/plain": [
              "True"
            ]
          },
          "metadata": {},
          "execution_count": 217
        }
      ]
    },
    {
      "cell_type": "code",
      "source": [
        "# Compare characters\n",
        "\n",
        "'B' > 'A'"
      ],
      "metadata": {
        "colab": {
          "base_uri": "https://localhost:8080/"
        },
        "id": "ERGnR-Ok_c58",
        "outputId": "5aee6a35-a582-48cc-cead-e4bc32e3cc10"
      },
      "execution_count": 218,
      "outputs": [
        {
          "output_type": "execute_result",
          "data": {
            "text/plain": [
              "True"
            ]
          },
          "metadata": {},
          "execution_count": 218
        }
      ]
    },
    {
      "cell_type": "code",
      "source": [
        "# Compare characters\n",
        "\n",
        "'BA' > 'AB'"
      ],
      "metadata": {
        "colab": {
          "base_uri": "https://localhost:8080/"
        },
        "id": "Jpj6jfZg_gSm",
        "outputId": "c05c05c4-27d6-459a-d35a-f4c1a1541253"
      },
      "execution_count": 219,
      "outputs": [
        {
          "output_type": "execute_result",
          "data": {
            "text/plain": [
              "True"
            ]
          },
          "metadata": {},
          "execution_count": 219
        }
      ]
    },
    {
      "cell_type": "code",
      "source": [
        "# If statement example\n",
        "\n",
        "age = 19\n",
        "age = 18\n",
        "\n",
        "#expression that can be true or false\n",
        "if age > 18:\n",
        "    \n",
        "    #within an indent, we have the expression that is run if the condition is true\n",
        "    print(\"you can enter\" )\n",
        "\n",
        "#The statements after the if statement will run regardless if the condition is true or false \n",
        "print(\"move on\")"
      ],
      "metadata": {
        "colab": {
          "base_uri": "https://localhost:8080/"
        },
        "id": "p4uiWxLf_iWi",
        "outputId": "44d23101-974a-45e0-bdea-37cc3ed49a1a"
      },
      "execution_count": 221,
      "outputs": [
        {
          "output_type": "stream",
          "name": "stdout",
          "text": [
            "move on\n"
          ]
        }
      ]
    },
    {
      "cell_type": "code",
      "source": [
        "# Else statement example\n",
        "\n",
        "age = 18\n",
        "age = 19\n",
        "\n",
        "if age > 18:\n",
        "    print(\"you can enter\" )\n",
        "else:\n",
        "    print(\"go see Meat Loaf\" )\n",
        "    \n",
        "print(\"move on\")"
      ],
      "metadata": {
        "colab": {
          "base_uri": "https://localhost:8080/"
        },
        "id": "Mnyt7G8z_osN",
        "outputId": "c0cb0441-fa66-497d-f5e6-0f56b3ac1654"
      },
      "execution_count": 223,
      "outputs": [
        {
          "output_type": "stream",
          "name": "stdout",
          "text": [
            "you can enter\n",
            "move on\n"
          ]
        }
      ]
    },
    {
      "cell_type": "code",
      "source": [
        "# Elif statment example\n",
        "\n",
        "age = 18\n",
        "\n",
        "if age > 18:\n",
        "    print(\"you can enter\" )\n",
        "elif age == 18:\n",
        "    print(\"go see Pink Floyd\")\n",
        "else:\n",
        "    print(\"go see Meat Loaf\" )\n",
        "    \n",
        "print(\"move on\")"
      ],
      "metadata": {
        "colab": {
          "base_uri": "https://localhost:8080/"
        },
        "id": "qjhH3fLY_vKQ",
        "outputId": "c5ef35db-c038-4696-f57c-d4c19c63b3b3"
      },
      "execution_count": 224,
      "outputs": [
        {
          "output_type": "stream",
          "name": "stdout",
          "text": [
            "go see Pink Floyd\n",
            "move on\n"
          ]
        }
      ]
    },
    {
      "cell_type": "code",
      "source": [
        "# Condition statement example\n",
        "\n",
        "album_year = 1983\n",
        "#album_year = 1970\n",
        "\n",
        "if album_year > 1980:\n",
        "    print(\"Album year is greater than 1980\")\n",
        "    \n",
        "print('do something..')"
      ],
      "metadata": {
        "colab": {
          "base_uri": "https://localhost:8080/"
        },
        "id": "U9slXrmY_1dB",
        "outputId": "d2e42e4c-2ede-4332-c114-c59578929983"
      },
      "execution_count": 226,
      "outputs": [
        {
          "output_type": "stream",
          "name": "stdout",
          "text": [
            "Album year is greater than 1980\n",
            "do something..\n"
          ]
        }
      ]
    },
    {
      "cell_type": "code",
      "source": [
        "# Condition statement example\n",
        "\n",
        "album_year = 1983\n",
        "#album_year = 1970\n",
        "\n",
        "if album_year > 1980:\n",
        "    print(\"Album year is greater than 1980\")\n",
        "else:\n",
        "    print(\"less than 1980\")\n",
        "\n",
        "print('do something..')"
      ],
      "metadata": {
        "colab": {
          "base_uri": "https://localhost:8080/"
        },
        "id": "GZAzjiZyAGKa",
        "outputId": "9f657556-ca8b-478e-94fa-cb4fe44794d9"
      },
      "execution_count": 227,
      "outputs": [
        {
          "output_type": "stream",
          "name": "stdout",
          "text": [
            "Album year is greater than 1980\n",
            "do something..\n"
          ]
        }
      ]
    },
    {
      "cell_type": "code",
      "source": [
        "# Condition statement example\n",
        "\n",
        "album_year = 1980\n",
        "\n",
        "if(album_year > 1979) and (album_year < 1990):\n",
        "    print (\"Album year was in between 1980 and 1989\")\n",
        "    \n",
        "print(\"\")\n",
        "print(\"Do Stuff..\")"
      ],
      "metadata": {
        "colab": {
          "base_uri": "https://localhost:8080/"
        },
        "id": "4MwhtEdjAQ5a",
        "outputId": "c24eb55d-a9e5-4a54-d2f5-9fec93a76dd7"
      },
      "execution_count": 228,
      "outputs": [
        {
          "output_type": "stream",
          "name": "stdout",
          "text": [
            "Album year was in between 1980 and 1989\n",
            "\n",
            "Do Stuff..\n"
          ]
        }
      ]
    },
    {
      "cell_type": "code",
      "source": [
        "# Condition statement example\n",
        "\n",
        "album_year = 1990\n",
        "\n",
        "if(album_year < 1980) or (album_year > 1989):\n",
        "    print (\"Album was not made in the 1980's\")\n",
        "else:\n",
        "    print(\"The Album was made in the 1980's \")"
      ],
      "metadata": {
        "colab": {
          "base_uri": "https://localhost:8080/"
        },
        "id": "VZOGaEGYARI3",
        "outputId": "d82b8aec-59e8-4d59-e81d-92abc3ea59d9"
      },
      "execution_count": 229,
      "outputs": [
        {
          "output_type": "stream",
          "name": "stdout",
          "text": [
            "Album was not made in the 1980's\n"
          ]
        }
      ]
    },
    {
      "cell_type": "code",
      "source": [
        "# Condition statement example\n",
        "\n",
        "album_year = 1983\n",
        "\n",
        "if not (album_year == 1984):\n",
        "    print (\"Album year is not 1984\")"
      ],
      "metadata": {
        "colab": {
          "base_uri": "https://localhost:8080/"
        },
        "id": "tNpRSNbnATnQ",
        "outputId": "6eaa6df5-4115-481c-bbf1-56ba3aa5d411"
      },
      "execution_count": 230,
      "outputs": [
        {
          "output_type": "stream",
          "name": "stdout",
          "text": [
            "Album year is not 1984\n"
          ]
        }
      ]
    },
    {
      "cell_type": "markdown",
      "source": [
        "<h3>Quiz on conditions</h3>"
      ],
      "metadata": {
        "id": "IvfA6lh4AYiI"
      }
    },
    {
      "cell_type": "code",
      "source": [
        "#Write an if statement to determine if an album had a rating greater than 8. Test it using the rating for the album “Back in Black” that had a rating of 8.5. If the statement is true print \"This album is Amazing!\"\n",
        "backInBlackRating = 8.5\n",
        "\n",
        "if(backInBlackRating > 8):\n",
        "    print(\"This album is Amazing!\")\n",
        "    "
      ],
      "metadata": {
        "colab": {
          "base_uri": "https://localhost:8080/"
        },
        "id": "P_BoPHwZAWUa",
        "outputId": "5cd6a1e6-c68e-4229-a5f2-69385cbceda0"
      },
      "execution_count": 231,
      "outputs": [
        {
          "output_type": "stream",
          "name": "stdout",
          "text": [
            "This album is Amazing!\n"
          ]
        }
      ]
    },
    {
      "cell_type": "code",
      "source": [
        "#Write an if-else statement that performs the following. If the rating is larger then eight print “this album is amazing”. If the rating is less than or equal to 8 print “this album is ok”.\n",
        "backInBlackRating = 8\n",
        "\n",
        "if(backInBlackRating > 8):\n",
        "    print(\"This album is Amazing!\")\n",
        "else:\n",
        "    print('This album is ok')"
      ],
      "metadata": {
        "colab": {
          "base_uri": "https://localhost:8080/"
        },
        "id": "Lo7-vtTZA0ml",
        "outputId": "d4a265eb-aac3-4454-9192-b4efb2f88268"
      },
      "execution_count": 233,
      "outputs": [
        {
          "output_type": "stream",
          "name": "stdout",
          "text": [
            "This album is ok\n"
          ]
        }
      ]
    },
    {
      "cell_type": "code",
      "source": [
        "#Write an if statement to determine if an album came out before 1980 or in the years: 1991 or 1993. If the condition is true print out the year the album came out.\n",
        "#year = 1970\n",
        "#year = 1981\n",
        "#year = 1991\n",
        "year = 1993\n",
        "\n",
        "if(year < 1980) or (year == 1991) or (year == 1993):\n",
        "    print(year)"
      ],
      "metadata": {
        "colab": {
          "base_uri": "https://localhost:8080/"
        },
        "id": "JK3-PjkrBGbq",
        "outputId": "8340b955-13f5-40a0-94f8-0c18196d5b46"
      },
      "execution_count": 238,
      "outputs": [
        {
          "output_type": "stream",
          "name": "stdout",
          "text": [
            "1993\n"
          ]
        }
      ]
    },
    {
      "cell_type": "markdown",
      "source": [
        "<h3> 3.2 Loops</h3>"
      ],
      "metadata": {
        "id": "xPYcOrbXCPR9"
      }
    },
    {
      "cell_type": "code",
      "source": [
        "#Use loops to print out the elements in the list A:\n",
        "A = [3,4,5]\n",
        "\n",
        "for a in A:\n",
        "  print(a)\n"
      ],
      "metadata": {
        "colab": {
          "base_uri": "https://localhost:8080/"
        },
        "id": "nvl0YBHwCRR7",
        "outputId": "bc91a824-9f39-4b7f-a308-e1151b5e3e86"
      },
      "execution_count": 241,
      "outputs": [
        {
          "output_type": "stream",
          "name": "stdout",
          "text": [
            "3\n",
            "4\n",
            "5\n"
          ]
        }
      ]
    },
    {
      "cell_type": "code",
      "source": [
        "#Find the value of  x  that will print out the sequence  1,2,..,10 :\n",
        "x = 11\n",
        "y = 1\n",
        "while(y != x):\n",
        "    print(y)\n",
        "    y=y+1"
      ],
      "metadata": {
        "colab": {
          "base_uri": "https://localhost:8080/"
        },
        "id": "kFSPi9FICkzE",
        "outputId": "73d54c01-3b1e-4f9a-f663-3fa74b9edf6d"
      },
      "execution_count": 242,
      "outputs": [
        {
          "output_type": "stream",
          "name": "stdout",
          "text": [
            "1\n",
            "2\n",
            "3\n",
            "4\n",
            "5\n",
            "6\n",
            "7\n",
            "8\n",
            "9\n",
            "10\n"
          ]
        }
      ]
    },
    {
      "cell_type": "markdown",
      "source": [
        "<h2>Lab - Loops </h2>"
      ],
      "metadata": {
        "id": "5QKgx7D1CxGW"
      }
    },
    {
      "cell_type": "code",
      "source": [
        "# Use the range\n",
        "\n",
        "range(3)"
      ],
      "metadata": {
        "colab": {
          "base_uri": "https://localhost:8080/"
        },
        "id": "_LsFK7Y4C018",
        "outputId": "71be85ea-cac5-45f7-92c5-e0ef2abd4333"
      },
      "execution_count": 243,
      "outputs": [
        {
          "output_type": "execute_result",
          "data": {
            "text/plain": [
              "range(0, 3)"
            ]
          },
          "metadata": {},
          "execution_count": 243
        }
      ]
    },
    {
      "cell_type": "code",
      "source": [
        "# For loop example\n",
        "\n",
        "dates = [1982,1980,1973]\n",
        "N = len(dates)\n",
        "print(N)\n",
        "\n",
        "for i in range(N):\n",
        "    print(dates[i])   "
      ],
      "metadata": {
        "colab": {
          "base_uri": "https://localhost:8080/"
        },
        "id": "G9I3C7d5DTP_",
        "outputId": "2f9b0658-5706-4f4d-c6ef-d6a735d1f8f1"
      },
      "execution_count": 247,
      "outputs": [
        {
          "output_type": "stream",
          "name": "stdout",
          "text": [
            "3\n",
            "1982\n",
            "1980\n",
            "1973\n"
          ]
        }
      ]
    },
    {
      "cell_type": "code",
      "source": [
        "# Example of for loop\n",
        "\n",
        "for i in range(0, 8):\n",
        "    print(i)"
      ],
      "metadata": {
        "colab": {
          "base_uri": "https://localhost:8080/"
        },
        "id": "wWoLeGuWDssE",
        "outputId": "40749937-9b2f-4961-91b6-4723c1268ebe"
      },
      "execution_count": 248,
      "outputs": [
        {
          "output_type": "stream",
          "name": "stdout",
          "text": [
            "0\n",
            "1\n",
            "2\n",
            "3\n",
            "4\n",
            "5\n",
            "6\n",
            "7\n"
          ]
        }
      ]
    },
    {
      "cell_type": "code",
      "source": [
        "# Exmaple of for loop, loop through list\n",
        "\n",
        "for year in dates:  \n",
        "    print(year)   "
      ],
      "metadata": {
        "colab": {
          "base_uri": "https://localhost:8080/"
        },
        "id": "88NiGLLHDvHX",
        "outputId": "ed3f6b7e-ba23-44b3-a3b7-7264ba938ac6"
      },
      "execution_count": 249,
      "outputs": [
        {
          "output_type": "stream",
          "name": "stdout",
          "text": [
            "1982\n",
            "1980\n",
            "1973\n"
          ]
        }
      ]
    },
    {
      "cell_type": "code",
      "source": [
        "# Use for loop to change the elements in list\n",
        "\n",
        "squares = ['red', 'yellow', 'green', 'purple', 'blue']\n",
        "\n",
        "for i in range(0, 5):\n",
        "    print(\"Before square \", i, 'is',  squares[i])\n",
        "    squares[i] = 'white'\n",
        "    print(\"After square \", i, 'is',  squares[i])"
      ],
      "metadata": {
        "colab": {
          "base_uri": "https://localhost:8080/"
        },
        "id": "fiBfJUDeD1G4",
        "outputId": "6461dbb3-e4cb-4d76-92c5-536d7e751130"
      },
      "execution_count": 250,
      "outputs": [
        {
          "output_type": "stream",
          "name": "stdout",
          "text": [
            "Before square  0 is red\n",
            "After square  0 is white\n",
            "Before square  1 is yellow\n",
            "After square  1 is white\n",
            "Before square  2 is green\n",
            "After square  2 is white\n",
            "Before square  3 is purple\n",
            "After square  3 is white\n",
            "Before square  4 is blue\n",
            "After square  4 is white\n"
          ]
        }
      ]
    },
    {
      "cell_type": "code",
      "source": [
        "# Loop through the list and iterate on both index and element value\n",
        "\n",
        "squares=['red', 'yellow', 'green', 'purple', 'blue']\n",
        "\n",
        "for i, square in enumerate(squares):\n",
        "    print(i, square)"
      ],
      "metadata": {
        "colab": {
          "base_uri": "https://localhost:8080/"
        },
        "id": "qrnnOYRfEAyI",
        "outputId": "7cd47629-cd4a-4211-ff37-bfc2d0a8760e"
      },
      "execution_count": 253,
      "outputs": [
        {
          "output_type": "stream",
          "name": "stdout",
          "text": [
            "0 red\n",
            "1 yellow\n",
            "2 green\n",
            "3 purple\n",
            "4 blue\n"
          ]
        }
      ]
    },
    {
      "cell_type": "code",
      "source": [
        "# While Loop Example\n",
        "\n",
        "dates = [1982, 1980, 1973, 2000]\n",
        "\n",
        "i = 0\n",
        "year = dates[0]\n",
        "\n",
        "while(year != 1973):    \n",
        "    print(year)\n",
        "    i = i + 1\n",
        "    year = dates[i]\n",
        "    \n",
        "\n",
        "print(\"It took \", i ,\"repetitions to get out of loop.\")"
      ],
      "metadata": {
        "colab": {
          "base_uri": "https://localhost:8080/"
        },
        "id": "WgH2wWNtETpL",
        "outputId": "127aab72-4b45-4260-eaf3-d2f536bbe393"
      },
      "execution_count": 255,
      "outputs": [
        {
          "output_type": "stream",
          "name": "stdout",
          "text": [
            "1982\n",
            "1980\n",
            "It took  2 repetitions to get out of loop.\n"
          ]
        }
      ]
    },
    {
      "cell_type": "markdown",
      "source": [
        "<h3>Quiz on loops</h3>"
      ],
      "metadata": {
        "id": "ShfAB-qEEckn"
      }
    },
    {
      "cell_type": "code",
      "source": [
        "#Write a for loop the prints out all the element between -5 and 5 using the range function.\n",
        "r = range(-4, 5)\n",
        "\n",
        "for i in r:\n",
        "  print(i)"
      ],
      "metadata": {
        "colab": {
          "base_uri": "https://localhost:8080/"
        },
        "id": "riR8At0cEdzx",
        "outputId": "4c9bbce8-8a7c-46bf-a369-a0b418706744"
      },
      "execution_count": 259,
      "outputs": [
        {
          "output_type": "stream",
          "name": "stdout",
          "text": [
            "-4\n",
            "-3\n",
            "-2\n",
            "-1\n",
            "0\n",
            "1\n",
            "2\n",
            "3\n",
            "4\n"
          ]
        }
      ]
    },
    {
      "cell_type": "code",
      "source": [
        "#Print the elements of the following list: Genres=[ 'rock', 'R&B', 'Soundtrack', 'R&B', 'soul', 'pop'] Make sure you follow Python conventions.\n",
        "Genres=[ 'rock', 'R&B', 'Soundtrack', 'R&B', 'soul', 'pop']\n",
        "\n",
        "for genre in Genres:\n",
        "    print(genre)"
      ],
      "metadata": {
        "colab": {
          "base_uri": "https://localhost:8080/"
        },
        "id": "R7F9AdAdEzRp",
        "outputId": "525ed6df-a55d-42cd-95cc-d60aa1bc2710"
      },
      "execution_count": 260,
      "outputs": [
        {
          "output_type": "stream",
          "name": "stdout",
          "text": [
            "rock\n",
            "R&B\n",
            "Soundtrack\n",
            "R&B\n",
            "soul\n",
            "pop\n"
          ]
        }
      ]
    },
    {
      "cell_type": "code",
      "source": [
        "#Write a for loop that prints out the following list: squares=['red', 'yellow', 'green', 'purple', 'blue']\n",
        "squares=['red', 'yellow', 'green', 'purple', 'blue']\n",
        "\n",
        "for square in squares:\n",
        "    print(square)"
      ],
      "metadata": {
        "colab": {
          "base_uri": "https://localhost:8080/"
        },
        "id": "Uk3mlbcQE-0x",
        "outputId": "b4fa9786-5689-4bde-8023-4e792d937cb7"
      },
      "execution_count": 261,
      "outputs": [
        {
          "output_type": "stream",
          "name": "stdout",
          "text": [
            "red\n",
            "yellow\n",
            "green\n",
            "purple\n",
            "blue\n"
          ]
        }
      ]
    },
    {
      "cell_type": "code",
      "source": [
        "#Write a while loop to display the values of the Rating of an album playlist stored in the list PlayListRatings. \n",
        "#If the score is less than 6, exit the loop. The list PlayListRatings is given by: PlayListRatings = [10, 9.5, 10, 8, 7.5, 5, 10, 10]\n",
        "\n",
        "PlayListRatings = [10, 9.5, 10, 8, 7.5, 5, 10, 10]\n",
        "\n",
        "i = 0\n",
        "currentRating = PlayListRatings[i]\n",
        "\n",
        "while(currentRating >= 6 and i < len(PlayListRatings) ):\n",
        "    print(currentRating)\n",
        "    i = i + 1\n",
        "    currentRating = PlayListRatings[i]\n"
      ],
      "metadata": {
        "colab": {
          "base_uri": "https://localhost:8080/"
        },
        "id": "_k8GLdXeFK6b",
        "outputId": "c46af6d4-85d4-42be-a007-0b11e5384a50"
      },
      "execution_count": 264,
      "outputs": [
        {
          "output_type": "stream",
          "name": "stdout",
          "text": [
            "10\n",
            "9.5\n",
            "10\n",
            "8\n",
            "7.5\n"
          ]
        }
      ]
    },
    {
      "cell_type": "code",
      "source": [
        "#Write a while loop to copy the strings 'orange' of the list squares to the list new_squares. Stop and exit the loop if the value on the list is not 'orange':\n",
        "squares = ['orange', 'orange', 'purple', 'blue ', 'orange']\n",
        "new_squares = []\n",
        "\n",
        "i = 0\n",
        "\n",
        "while(squares[i] == 'orange'):\n",
        "  new_squares.append(squares[i])\n",
        "  i = i + 1\n",
        "\n",
        "new_squares\n"
      ],
      "metadata": {
        "colab": {
          "base_uri": "https://localhost:8080/"
        },
        "id": "6Biz_c9PGRdy",
        "outputId": "16b49802-e48c-4127-cfd1-c190c9676040"
      },
      "execution_count": 267,
      "outputs": [
        {
          "output_type": "execute_result",
          "data": {
            "text/plain": [
              "['orange', 'orange']"
            ]
          },
          "metadata": {},
          "execution_count": 267
        }
      ]
    },
    {
      "cell_type": "markdown",
      "source": [
        "<h3> 3.3 Functions</h3>"
      ],
      "metadata": {
        "id": "qknUP3XvIged"
      }
    },
    {
      "cell_type": "code",
      "source": [
        "def f(a,b):\n",
        "    \n",
        "    return a*b"
      ],
      "metadata": {
        "id": "ufaFlwlQIilb"
      },
      "execution_count": 269,
      "outputs": []
    },
    {
      "cell_type": "code",
      "source": [
        "a=4\n",
        "b=2\n",
        "\n",
        "if a*b==f(a,b):   \n",
        "    print(\"Correct.\")   \n",
        "else:    \n",
        "    print(\"Incorrect.\")"
      ],
      "metadata": {
        "colab": {
          "base_uri": "https://localhost:8080/"
        },
        "id": "p1S9QyOVIsYJ",
        "outputId": "fd5d7b91-2a0a-4759-87c0-7bfed98eb37f"
      },
      "execution_count": 270,
      "outputs": [
        {
          "output_type": "stream",
          "name": "stdout",
          "text": [
            "Correct.\n"
          ]
        }
      ]
    },
    {
      "cell_type": "code",
      "source": [
        "#Complete the function g such that the input c is a list of integers and the output is the sum of all the elements in the list.\n",
        "def g(c):\n",
        "\n",
        "    return sum(c)"
      ],
      "metadata": {
        "id": "yLZ195CcI0I4"
      },
      "execution_count": 271,
      "outputs": []
    },
    {
      "cell_type": "code",
      "source": [
        "c=[1,2,3,4,5]\n",
        "\n",
        "if sum(c)==g(c):   \n",
        "    print(\"Correct.\")   \n",
        "else:    \n",
        "    print(\"Incorrect.\")"
      ],
      "metadata": {
        "colab": {
          "base_uri": "https://localhost:8080/"
        },
        "id": "nDk35xe3JBjw",
        "outputId": "d60d3db1-c3f9-4cda-8417-c2595341b87c"
      },
      "execution_count": 272,
      "outputs": [
        {
          "output_type": "stream",
          "name": "stdout",
          "text": [
            "Correct.\n"
          ]
        }
      ]
    },
    {
      "cell_type": "code",
      "source": [
        "def f(*x):\n",
        "\n",
        "  return sum(x)\n",
        "\n",
        "f(1,2,3)"
      ],
      "metadata": {
        "colab": {
          "base_uri": "https://localhost:8080/"
        },
        "id": "x7bH-DyrJMC9",
        "outputId": "746b1039-d337-4364-c072-a62e8007e566"
      },
      "execution_count": 278,
      "outputs": [
        {
          "output_type": "execute_result",
          "data": {
            "text/plain": [
              "6"
            ]
          },
          "metadata": {},
          "execution_count": 278
        }
      ]
    },
    {
      "cell_type": "markdown",
      "source": [
        "<h2>Lab - Functions </h2>"
      ],
      "metadata": {
        "id": "A9iaelZQLmhl"
      }
    },
    {
      "cell_type": "code",
      "source": [
        "# First function example: Add 1 to a and store as b\n",
        "\n",
        "def add(a):\n",
        "    \"\"\"\n",
        "    add 1 to a\n",
        "    \"\"\"\n",
        "    b = a + 1\n",
        "    print(a, \"if you add one\", b)\n",
        "    return(b)"
      ],
      "metadata": {
        "id": "GHCX0VBdLn2Z"
      },
      "execution_count": 279,
      "outputs": []
    },
    {
      "cell_type": "code",
      "source": [
        "# Get a help on add function\n",
        "\n",
        "help(add)"
      ],
      "metadata": {
        "colab": {
          "base_uri": "https://localhost:8080/"
        },
        "id": "L7YuvwxaLsit",
        "outputId": "2d548cdb-abc7-4955-b49f-1f2aea1ae3dd"
      },
      "execution_count": 280,
      "outputs": [
        {
          "output_type": "stream",
          "name": "stdout",
          "text": [
            "Help on function add in module __main__:\n",
            "\n",
            "add(a)\n",
            "    add 1 to a\n",
            "\n"
          ]
        }
      ]
    },
    {
      "cell_type": "code",
      "source": [
        "# Call the function add()\n",
        "\n",
        "add(1)"
      ],
      "metadata": {
        "colab": {
          "base_uri": "https://localhost:8080/"
        },
        "id": "CbJ4y7tGLud5",
        "outputId": "a414e532-5333-4b03-eee6-96f5d5002afa"
      },
      "execution_count": 281,
      "outputs": [
        {
          "output_type": "stream",
          "name": "stdout",
          "text": [
            "1 if you add one 2\n"
          ]
        },
        {
          "output_type": "execute_result",
          "data": {
            "text/plain": [
              "2"
            ]
          },
          "metadata": {},
          "execution_count": 281
        }
      ]
    },
    {
      "cell_type": "code",
      "source": [
        "# Call the function add()\n",
        "\n",
        "add(2)"
      ],
      "metadata": {
        "colab": {
          "base_uri": "https://localhost:8080/"
        },
        "id": "9m_-wU1ALxHz",
        "outputId": "21e16240-825d-407d-876c-9cf4d1895b30"
      },
      "execution_count": 282,
      "outputs": [
        {
          "output_type": "stream",
          "name": "stdout",
          "text": [
            "2 if you add one 3\n"
          ]
        },
        {
          "output_type": "execute_result",
          "data": {
            "text/plain": [
              "3"
            ]
          },
          "metadata": {},
          "execution_count": 282
        }
      ]
    },
    {
      "cell_type": "code",
      "source": [
        "# Define a function for multiple two numbers\n",
        "\n",
        "def Mult(a, b):\n",
        "    c = a * b\n",
        "    return(c)\n",
        "    print('This is not printed')\n",
        "    \n",
        "result = Mult(12,2)\n",
        "print(result)"
      ],
      "metadata": {
        "colab": {
          "base_uri": "https://localhost:8080/"
        },
        "id": "Bws9UntgLy_b",
        "outputId": "645c5aef-d0a4-4f2a-be1c-882816ad62d5"
      },
      "execution_count": 283,
      "outputs": [
        {
          "output_type": "stream",
          "name": "stdout",
          "text": [
            "24\n"
          ]
        }
      ]
    },
    {
      "cell_type": "code",
      "source": [
        "# Use mult() multiply two integers\n",
        "\n",
        "Mult(2, 3)"
      ],
      "metadata": {
        "colab": {
          "base_uri": "https://localhost:8080/"
        },
        "id": "S5hvHeLzL3WL",
        "outputId": "e4cfa20d-46a4-45ab-bfc5-a219051b2080"
      },
      "execution_count": 284,
      "outputs": [
        {
          "output_type": "execute_result",
          "data": {
            "text/plain": [
              "6"
            ]
          },
          "metadata": {},
          "execution_count": 284
        }
      ]
    },
    {
      "cell_type": "code",
      "source": [
        "# Use mult() multiply two floats\n",
        "\n",
        "Mult(10.0, 3.14)"
      ],
      "metadata": {
        "colab": {
          "base_uri": "https://localhost:8080/"
        },
        "id": "oxG5Z36iL4zW",
        "outputId": "ba9999ed-0e57-4f3b-ef67-497d2f9c4bbe"
      },
      "execution_count": 285,
      "outputs": [
        {
          "output_type": "execute_result",
          "data": {
            "text/plain": [
              "31.400000000000002"
            ]
          },
          "metadata": {},
          "execution_count": 285
        }
      ]
    },
    {
      "cell_type": "code",
      "source": [
        "# Use mult() multiply two different type values together\n",
        "\n",
        "Mult(2, \"Michael Jackson \")"
      ],
      "metadata": {
        "colab": {
          "base_uri": "https://localhost:8080/",
          "height": 35
        },
        "id": "0S0wVZv2L6i2",
        "outputId": "de532977-a4d9-4f7b-a092-07560a228959"
      },
      "execution_count": 286,
      "outputs": [
        {
          "output_type": "execute_result",
          "data": {
            "text/plain": [
              "'Michael Jackson Michael Jackson '"
            ],
            "application/vnd.google.colaboratory.intrinsic+json": {
              "type": "string"
            }
          },
          "metadata": {},
          "execution_count": 286
        }
      ]
    },
    {
      "cell_type": "code",
      "source": [
        "# Function Definition\n",
        "\n",
        "def square(a):\n",
        "    \n",
        "    # Local variable b\n",
        "    b = 1\n",
        "    c = a * a + b\n",
        "    print(a, \"if you square + 1\", c) \n",
        "    return(c)"
      ],
      "metadata": {
        "id": "E6MjZ15XL81m"
      },
      "execution_count": 287,
      "outputs": []
    },
    {
      "cell_type": "code",
      "source": [
        "# Initializes Global variable  \n",
        "\n",
        "x = 3\n",
        "# Makes function call and return function a y\n",
        "y = square(x)\n",
        "y"
      ],
      "metadata": {
        "colab": {
          "base_uri": "https://localhost:8080/"
        },
        "id": "_XG1uPAwMAu_",
        "outputId": "eaa2ae04-c794-47ad-8272-d3f310835ab6"
      },
      "execution_count": 288,
      "outputs": [
        {
          "output_type": "stream",
          "name": "stdout",
          "text": [
            "3 if you square + 1 10\n"
          ]
        },
        {
          "output_type": "execute_result",
          "data": {
            "text/plain": [
              "10"
            ]
          },
          "metadata": {},
          "execution_count": 288
        }
      ]
    },
    {
      "cell_type": "code",
      "source": [
        "# Directly enter a number as parameter\n",
        "\n",
        "square(2)"
      ],
      "metadata": {
        "colab": {
          "base_uri": "https://localhost:8080/"
        },
        "id": "cpFpYB89MJhw",
        "outputId": "8ba46270-a756-479a-8e49-35f84d9c4212"
      },
      "execution_count": 289,
      "outputs": [
        {
          "output_type": "stream",
          "name": "stdout",
          "text": [
            "2 if you square + 1 5\n"
          ]
        },
        {
          "output_type": "execute_result",
          "data": {
            "text/plain": [
              "5"
            ]
          },
          "metadata": {},
          "execution_count": 289
        }
      ]
    },
    {
      "cell_type": "code",
      "source": [
        "# Define functions, one with return value None and other without return value\n",
        "\n",
        "def MJ():\n",
        "    print('Michael Jackson')\n",
        "    \n",
        "def MJ1():\n",
        "    print('Michael Jackson')\n",
        "    return(None)"
      ],
      "metadata": {
        "id": "6oEAzPoMMLdR"
      },
      "execution_count": 290,
      "outputs": []
    },
    {
      "cell_type": "code",
      "source": [
        "# See the output\n",
        "\n",
        "MJ()"
      ],
      "metadata": {
        "colab": {
          "base_uri": "https://localhost:8080/"
        },
        "id": "tWvbsuBoMPPo",
        "outputId": "fa35be04-4713-47fe-fbfa-436552ec153e"
      },
      "execution_count": 291,
      "outputs": [
        {
          "output_type": "stream",
          "name": "stdout",
          "text": [
            "Michael Jackson\n"
          ]
        }
      ]
    },
    {
      "cell_type": "code",
      "source": [
        "# See the output\n",
        "\n",
        "MJ1()"
      ],
      "metadata": {
        "colab": {
          "base_uri": "https://localhost:8080/"
        },
        "id": "sNNNccnCMQ-q",
        "outputId": "bae96ff6-e324-40e0-a995-4e48c9b90a5f"
      },
      "execution_count": 292,
      "outputs": [
        {
          "output_type": "stream",
          "name": "stdout",
          "text": [
            "Michael Jackson\n"
          ]
        }
      ]
    },
    {
      "cell_type": "code",
      "source": [
        "# See what functions returns are\n",
        "\n",
        "print(MJ())\n",
        "print(MJ1())"
      ],
      "metadata": {
        "colab": {
          "base_uri": "https://localhost:8080/"
        },
        "id": "S7gHionZMTsX",
        "outputId": "98aec69f-8ed4-480a-fbf1-879ce8fc7666"
      },
      "execution_count": 294,
      "outputs": [
        {
          "output_type": "stream",
          "name": "stdout",
          "text": [
            "Michael Jackson\n",
            "None\n",
            "Michael Jackson\n",
            "None\n"
          ]
        }
      ]
    },
    {
      "cell_type": "code",
      "source": [
        "# Define the function for combining strings\n",
        "\n",
        "def con(a, b):\n",
        "    return(a + b)"
      ],
      "metadata": {
        "id": "aAhh8feYMaLm"
      },
      "execution_count": 295,
      "outputs": []
    },
    {
      "cell_type": "code",
      "source": [
        "# Test on the con() function\n",
        "\n",
        "con(\"This \", \"is\")"
      ],
      "metadata": {
        "colab": {
          "base_uri": "https://localhost:8080/",
          "height": 35
        },
        "id": "CLghpjPpMcY-",
        "outputId": "5b467d7e-7049-4302-8371-73c839123a0c"
      },
      "execution_count": 296,
      "outputs": [
        {
          "output_type": "execute_result",
          "data": {
            "text/plain": [
              "'This is'"
            ],
            "application/vnd.google.colaboratory.intrinsic+json": {
              "type": "string"
            }
          },
          "metadata": {},
          "execution_count": 296
        }
      ]
    },
    {
      "cell_type": "code",
      "source": [
        "# a and b calculation block1\n",
        "\n",
        "a1 = 4\n",
        "b1 = 5\n",
        "c1 = a1 + b1 + 2 * a1 * b1 - 1\n",
        "if(c1 < 0):\n",
        "    c1 = 0 \n",
        "else:\n",
        "    c1 = 5\n",
        "c1   "
      ],
      "metadata": {
        "colab": {
          "base_uri": "https://localhost:8080/"
        },
        "id": "-GztxKiuMfjP",
        "outputId": "bfe9caf2-d2ed-40c2-f292-a3a031a1bb63"
      },
      "execution_count": 297,
      "outputs": [
        {
          "output_type": "execute_result",
          "data": {
            "text/plain": [
              "5"
            ]
          },
          "metadata": {},
          "execution_count": 297
        }
      ]
    },
    {
      "cell_type": "code",
      "source": [
        "# a and b calculation block2\n",
        "\n",
        "a2 = 0\n",
        "b2 = 0\n",
        "c2 = a2 + b2 + 2 * a2 * b2 - 1\n",
        "if(c2 < 0):\n",
        "    c2 = 0 \n",
        "else:\n",
        "    c2 = 5\n",
        "c2   "
      ],
      "metadata": {
        "colab": {
          "base_uri": "https://localhost:8080/"
        },
        "id": "PBCm91wqMmDt",
        "outputId": "9b5ddad8-6c6d-458f-cfea-809bcabb81f2"
      },
      "execution_count": 298,
      "outputs": [
        {
          "output_type": "execute_result",
          "data": {
            "text/plain": [
              "0"
            ]
          },
          "metadata": {},
          "execution_count": 298
        }
      ]
    },
    {
      "cell_type": "code",
      "source": [
        "# Make a Function for the calculation above\n",
        "\n",
        "def Equation(a,b):\n",
        "    c = a + b + 2 * a * b - 1\n",
        "    if(c < 0):\n",
        "        c = 0 \n",
        "    else:\n",
        "        c = 5\n",
        "    return(c) "
      ],
      "metadata": {
        "id": "CrOma9K1Moil"
      },
      "execution_count": 299,
      "outputs": []
    },
    {
      "cell_type": "code",
      "source": [
        "a1 = 4\n",
        "b1 = 5\n",
        "c1 = Equation(a1, b1)\n",
        "c1"
      ],
      "metadata": {
        "colab": {
          "base_uri": "https://localhost:8080/"
        },
        "id": "fnq7DHA-Mt-_",
        "outputId": "255896ad-6b42-4e93-f44a-2293686ca08b"
      },
      "execution_count": 300,
      "outputs": [
        {
          "output_type": "execute_result",
          "data": {
            "text/plain": [
              "5"
            ]
          },
          "metadata": {},
          "execution_count": 300
        }
      ]
    },
    {
      "cell_type": "code",
      "source": [
        "a2 = 0\n",
        "b2 = 0\n",
        "c2 = Equation(a2, b2)\n",
        "c2"
      ],
      "metadata": {
        "colab": {
          "base_uri": "https://localhost:8080/"
        },
        "id": "T1bCv5TyMvjh",
        "outputId": "5a00e578-6593-4176-a4ab-223b12b96358"
      },
      "execution_count": 301,
      "outputs": [
        {
          "output_type": "execute_result",
          "data": {
            "text/plain": [
              "0"
            ]
          },
          "metadata": {},
          "execution_count": 301
        }
      ]
    },
    {
      "cell_type": "code",
      "source": [
        "# Build-in function print()\n",
        "\n",
        "album_ratings = [10.0, 8.5, 9.5, 7.0, 7.0, 9.5, 9.0, 9.5] \n",
        "print(album_ratings)"
      ],
      "metadata": {
        "colab": {
          "base_uri": "https://localhost:8080/"
        },
        "id": "v0EXZoviMxzi",
        "outputId": "7332b5d4-71b6-43ba-9ce5-c4aa177ba173"
      },
      "execution_count": 302,
      "outputs": [
        {
          "output_type": "stream",
          "name": "stdout",
          "text": [
            "[10.0, 8.5, 9.5, 7.0, 7.0, 9.5, 9.0, 9.5]\n"
          ]
        }
      ]
    },
    {
      "cell_type": "code",
      "source": [
        "# Use sum() to add every element in a list or tuple together\n",
        "\n",
        "sum(album_ratings)"
      ],
      "metadata": {
        "colab": {
          "base_uri": "https://localhost:8080/"
        },
        "id": "ACt0JGxxM0zq",
        "outputId": "df3a34f8-b53c-417a-dc99-ca05f1472a3d"
      },
      "execution_count": 303,
      "outputs": [
        {
          "output_type": "execute_result",
          "data": {
            "text/plain": [
              "70.0"
            ]
          },
          "metadata": {},
          "execution_count": 303
        }
      ]
    },
    {
      "cell_type": "code",
      "source": [
        "# Show the length of the list or tuple\n",
        "\n",
        "len(album_ratings)"
      ],
      "metadata": {
        "colab": {
          "base_uri": "https://localhost:8080/"
        },
        "id": "I3kLiuGJM2Lo",
        "outputId": "0de52130-ce32-430e-d019-4c8383994b17"
      },
      "execution_count": 304,
      "outputs": [
        {
          "output_type": "execute_result",
          "data": {
            "text/plain": [
              "8"
            ]
          },
          "metadata": {},
          "execution_count": 304
        }
      ]
    },
    {
      "cell_type": "code",
      "source": [
        "# Function example\n",
        "\n",
        "def type_of_album(artist, album, year_released):\n",
        "    \n",
        "    print(artist, album, year_released)\n",
        "    if year_released > 1980:\n",
        "        return \"Modern\"\n",
        "    else:\n",
        "        return \"Oldie\"\n",
        "    \n",
        "x = type_of_album(\"Michael Jackson\", \"Thriller\", 1980)\n",
        "print(x)"
      ],
      "metadata": {
        "colab": {
          "base_uri": "https://localhost:8080/"
        },
        "id": "waT-DmBDM4SS",
        "outputId": "8138c7c0-a5c8-40dc-9685-aecdf7c73234"
      },
      "execution_count": 305,
      "outputs": [
        {
          "output_type": "stream",
          "name": "stdout",
          "text": [
            "Michael Jackson Thriller 1980\n",
            "Oldie\n"
          ]
        }
      ]
    },
    {
      "cell_type": "code",
      "source": [
        "# Print the list using for loop\n",
        "\n",
        "def PrintList(the_list):\n",
        "    for element in the_list:\n",
        "        print(element)"
      ],
      "metadata": {
        "id": "aFEggCsPM7Rj"
      },
      "execution_count": 306,
      "outputs": []
    },
    {
      "cell_type": "code",
      "source": [
        "# Implement the printlist function\n",
        "\n",
        "PrintList(['1', 1, 'the man', \"abc\"])"
      ],
      "metadata": {
        "colab": {
          "base_uri": "https://localhost:8080/"
        },
        "id": "jzqUnc1NM9S1",
        "outputId": "4cfea463-d392-4a04-c123-47624b95f162"
      },
      "execution_count": 307,
      "outputs": [
        {
          "output_type": "stream",
          "name": "stdout",
          "text": [
            "1\n",
            "1\n",
            "the man\n",
            "abc\n"
          ]
        }
      ]
    },
    {
      "cell_type": "code",
      "source": [
        "# Example for setting param with default value\n",
        "\n",
        "def isGoodRating(rating=4): \n",
        "    if(rating < 7):\n",
        "        print(\"this album sucks it's rating is\",rating)\n",
        "        \n",
        "    else:\n",
        "        print(\"this album is good its rating is\",rating)\n"
      ],
      "metadata": {
        "id": "bv-YMMZjNlGE"
      },
      "execution_count": 308,
      "outputs": []
    },
    {
      "cell_type": "code",
      "source": [
        "# Test the value with default value and with input\n",
        "\n",
        "isGoodRating()\n",
        "isGoodRating(10)"
      ],
      "metadata": {
        "colab": {
          "base_uri": "https://localhost:8080/"
        },
        "id": "z38FgF_zNnh0",
        "outputId": "e0cd07f5-15df-4ad1-daa5-9cf227d97ab8"
      },
      "execution_count": 309,
      "outputs": [
        {
          "output_type": "stream",
          "name": "stdout",
          "text": [
            "this album sucks it's rating is 4\n",
            "this album is good its rating is 10\n"
          ]
        }
      ]
    },
    {
      "cell_type": "code",
      "source": [
        "# Example of global variable\n",
        "\n",
        "artist = \"Michael Jackson\"\n",
        "def printer1(artist):\n",
        "    internal_var1 = artist\n",
        "    print(artist, \"is an artist\")\n",
        "    \n",
        "printer1(artist)\n",
        "# try runningthe following code\n",
        "#printer1(internal_var1) "
      ],
      "metadata": {
        "colab": {
          "base_uri": "https://localhost:8080/"
        },
        "id": "Ub0HY3ExNpXV",
        "outputId": "f3faee55-7d84-4350-c1e1-6ca96d13c78b"
      },
      "execution_count": 310,
      "outputs": [
        {
          "output_type": "stream",
          "name": "stdout",
          "text": [
            "Michael Jackson is an artist\n"
          ]
        }
      ]
    },
    {
      "cell_type": "code",
      "source": [
        "artist = \"Michael Jackson\"\n",
        "\n",
        "def printer(artist):\n",
        "    global internal_var \n",
        "    internal_var= \"Whitney Houston\"\n",
        "    print(artist,\"is an artist\")\n",
        "\n",
        "printer(artist) \n",
        "printer(internal_var)"
      ],
      "metadata": {
        "colab": {
          "base_uri": "https://localhost:8080/"
        },
        "id": "d8QuijGsNzDY",
        "outputId": "cc3927a3-9df4-4c37-93d3-dfef0b66db87"
      },
      "execution_count": 311,
      "outputs": [
        {
          "output_type": "stream",
          "name": "stdout",
          "text": [
            "Michael Jackson is an artist\n",
            "Whitney Houston is an artist\n"
          ]
        }
      ]
    },
    {
      "cell_type": "code",
      "source": [
        "# Example of global variable\n",
        "\n",
        "myFavouriteBand = \"AC/DC\"\n",
        "\n",
        "def getBandRating(bandname):\n",
        "    if bandname == myFavouriteBand:\n",
        "        return 10.0\n",
        "    else:\n",
        "        return 0.0\n",
        "\n",
        "print(\"AC/DC's rating is:\", getBandRating(\"AC/DC\"))\n",
        "print(\"Deep Purple's rating is:\",getBandRating(\"Deep Purple\"))\n",
        "print(\"My favourite band is:\", myFavouriteBand)"
      ],
      "metadata": {
        "colab": {
          "base_uri": "https://localhost:8080/"
        },
        "id": "sYymYcAHN3MQ",
        "outputId": "69cb1cf1-e230-4874-c938-d976d6da4dd9"
      },
      "execution_count": 312,
      "outputs": [
        {
          "output_type": "stream",
          "name": "stdout",
          "text": [
            "AC/DC's rating is: 10.0\n",
            "Deep Purple's rating is: 0.0\n",
            "My favourite band is: AC/DC\n"
          ]
        }
      ]
    },
    {
      "cell_type": "code",
      "source": [
        "# Deleting the variable \"myFavouriteBand\" from the previous example to demonstrate an example of a local variable \n",
        "\n",
        "#del myFavouriteBand\n",
        "\n",
        "# Example of local variable\n",
        "\n",
        "def getBandRating(bandname):\n",
        "    myFavouriteBand = \"AC/DC\"\n",
        "    if bandname == myFavouriteBand:\n",
        "        return 10.0\n",
        "    else:\n",
        "        return 0.0\n",
        "\n",
        "print(\"AC/DC's rating is: \", getBandRating(\"AC/DC\"))\n",
        "print(\"Deep Purple's rating is: \", getBandRating(\"Deep Purple\"))\n",
        "print(\"My favourite band is\", myFavouriteBand)"
      ],
      "metadata": {
        "colab": {
          "base_uri": "https://localhost:8080/"
        },
        "id": "wepumZJ4N69v",
        "outputId": "a893826b-5961-49f2-9030-d73dfa3ee1d1"
      },
      "execution_count": 318,
      "outputs": [
        {
          "output_type": "stream",
          "name": "stdout",
          "text": [
            "AC/DC's rating is:  10.0\n",
            "Deep Purple's rating is:  0.0\n",
            "My favourite band is AC/DC\n"
          ]
        }
      ]
    },
    {
      "cell_type": "code",
      "source": [
        "# Example of global variable and local variable with the same name\n",
        "\n",
        "myFavouriteBand = \"AC/DC\"\n",
        "\n",
        "def getBandRating(bandname):\n",
        "    myFavouriteBand = \"Deep Purple\"\n",
        "    if bandname == myFavouriteBand:\n",
        "        return 10.0\n",
        "    else:\n",
        "        return 0.0\n",
        "\n",
        "print(\"AC/DC's rating is:\",getBandRating(\"AC/DC\"))\n",
        "print(\"Deep Purple's rating is: \",getBandRating(\"Deep Purple\"))\n",
        "print(\"My favourite band is:\",myFavouriteBand)"
      ],
      "metadata": {
        "colab": {
          "base_uri": "https://localhost:8080/"
        },
        "id": "F3J2WE7TOEj_",
        "outputId": "b602955e-3de2-4437-a737-b57aa90d06f7"
      },
      "execution_count": 314,
      "outputs": [
        {
          "output_type": "stream",
          "name": "stdout",
          "text": [
            "AC/DC's rating is: 0.0\n",
            "Deep Purple's rating is:  10.0\n",
            "My favourite band is: AC/DC\n"
          ]
        }
      ]
    },
    {
      "cell_type": "code",
      "source": [
        "def printAll(*args): # All the arguments are 'packed' into args which can be treated like a tuple\n",
        "    print(\"No of arguments:\", len(args)) \n",
        "    for argument in args:\n",
        "        print(argument)\n",
        "#printAll with 3 arguments\n",
        "printAll('Horsefeather','Adonis','Bone')\n",
        "#printAll with 4 arguments\n",
        "printAll('Sidecar','Long Island','Mudslide','Carriage')"
      ],
      "metadata": {
        "colab": {
          "base_uri": "https://localhost:8080/"
        },
        "id": "biWvUKL-OG5A",
        "outputId": "cbd4d6a0-7e0d-4d7b-92ca-d1aa67dcc0ff"
      },
      "execution_count": 315,
      "outputs": [
        {
          "output_type": "stream",
          "name": "stdout",
          "text": [
            "No of arguments: 3\n",
            "Horsefeather\n",
            "Adonis\n",
            "Bone\n",
            "No of arguments: 4\n",
            "Sidecar\n",
            "Long Island\n",
            "Mudslide\n",
            "Carriage\n"
          ]
        }
      ]
    },
    {
      "cell_type": "code",
      "source": [
        "def printDictionary(**args):\n",
        "    for key in args:\n",
        "        print(key + \" : \" + args[key])\n",
        "\n",
        "printDictionary(Country='Canada',Province='Ontario',City='Toronto')\n",
        "    "
      ],
      "metadata": {
        "colab": {
          "base_uri": "https://localhost:8080/"
        },
        "id": "dCAlk_IVONkS",
        "outputId": "33496506-9ecb-4eb7-d158-026d3a4cdc37"
      },
      "execution_count": 316,
      "outputs": [
        {
          "output_type": "stream",
          "name": "stdout",
          "text": [
            "Country : Canada\n",
            "Province : Ontario\n",
            "City : Toronto\n"
          ]
        }
      ]
    },
    {
      "cell_type": "code",
      "source": [
        "def addItems(list):\n",
        "    list.append(\"Three\")\n",
        "    list.append(\"Four\")\n",
        "\n",
        "myList = [\"One\",\"Two\"]\n",
        "\n",
        "addItems(myList)\n",
        "\n",
        "myList"
      ],
      "metadata": {
        "colab": {
          "base_uri": "https://localhost:8080/"
        },
        "id": "CiwXsPb1OPb5",
        "outputId": "1a926cb8-de0f-4b73-ffcc-70d450311709"
      },
      "execution_count": 317,
      "outputs": [
        {
          "output_type": "execute_result",
          "data": {
            "text/plain": [
              "['One', 'Two', 'Three', 'Four']"
            ]
          },
          "metadata": {},
          "execution_count": 317
        }
      ]
    },
    {
      "cell_type": "markdown",
      "source": [
        "<h3>Quiz on functions</h3>"
      ],
      "metadata": {
        "id": "8gc0yfgjOYlE"
      }
    },
    {
      "cell_type": "code",
      "source": [
        "# Write your code below and press Shift+Enter to execute\n",
        "def divNumbers(a, b):\n",
        "    return a / b\n",
        "\n",
        "divNumbers(10, 2)"
      ],
      "metadata": {
        "colab": {
          "base_uri": "https://localhost:8080/"
        },
        "id": "uoKPSDUNObDH",
        "outputId": "bf3c60cb-ca43-4705-a931-248c783c00a2"
      },
      "execution_count": 319,
      "outputs": [
        {
          "output_type": "execute_result",
          "data": {
            "text/plain": [
              "5.0"
            ]
          },
          "metadata": {},
          "execution_count": 319
        }
      ]
    },
    {
      "cell_type": "code",
      "source": [
        "# Use the con function for the following question\n",
        "\n",
        "def con(a, b):\n",
        "    return(a + b)"
      ],
      "metadata": {
        "id": "zifWtVvmOr3q"
      },
      "execution_count": 320,
      "outputs": []
    },
    {
      "cell_type": "code",
      "source": [
        "#Can the con function we defined before be used to add two integers or strings?\n",
        "print(con(5, 10))\n",
        "\n",
        "print(con('esto ', 'tambien'))"
      ],
      "metadata": {
        "colab": {
          "base_uri": "https://localhost:8080/"
        },
        "id": "MMeA1ec6PAOf",
        "outputId": "1ee1417a-9728-4f68-8a43-5ae214136f0e"
      },
      "execution_count": 321,
      "outputs": [
        {
          "output_type": "stream",
          "name": "stdout",
          "text": [
            "15\n",
            "esto tambien\n"
          ]
        }
      ]
    },
    {
      "cell_type": "code",
      "source": [
        "#Can the con function we defined before be used to concatenate lists or tuples?\n",
        "print(con(['a','b'], ['c', 'd']))\n",
        "\n",
        "print(con((1, 2),(3, 4)))"
      ],
      "metadata": {
        "colab": {
          "base_uri": "https://localhost:8080/"
        },
        "id": "i2kaOSlyPNUD",
        "outputId": "4a488c82-fad1-42c2-ebbe-b95e3b600482"
      },
      "execution_count": 324,
      "outputs": [
        {
          "output_type": "stream",
          "name": "stdout",
          "text": [
            "['a', 'b', 'c', 'd']\n",
            "(1, 2, 3, 4)\n"
          ]
        }
      ]
    },
    {
      "cell_type": "markdown",
      "source": [
        "<h3> 3.4 Objects</h3>"
      ],
      "metadata": {
        "id": "lgopD3IYQPaO"
      }
    },
    {
      "cell_type": "code",
      "source": [
        "class Car(object):\n",
        "    def __init__(self,make,model,color):\n",
        "        self.make=make;\n",
        "        self.model=model;\n",
        "        self.color=color;\n",
        "        self.owner_number=0 \n",
        "    def car_info(self):\n",
        "        print(\"make: \",self.make)\n",
        "        print(\"model:\", self.model)\n",
        "        print(\"color:\",self.color)\n",
        "        print(\"number of owners:\",self.owner_number)\n",
        "    def sell(self):\n",
        "        self.owner_number=self.owner_number+1"
      ],
      "metadata": {
        "id": "eHpMFgOsQRo9"
      },
      "execution_count": 325,
      "outputs": []
    },
    {
      "cell_type": "code",
      "source": [
        "#Create a  Car  object \"my_car\" with the given data attributes:\n",
        "make=\"BMW\"\n",
        "model=\"M3\"\n",
        "color=\"red\"\n",
        "car1 = Car(make, model, color)"
      ],
      "metadata": {
        "id": "Oa6OeTKcQj7M"
      },
      "execution_count": 326,
      "outputs": []
    },
    {
      "cell_type": "code",
      "source": [
        "#Use the method car_info() to print out the data attributes.\n",
        "car1.car_info()"
      ],
      "metadata": {
        "colab": {
          "base_uri": "https://localhost:8080/"
        },
        "id": "mxO9_e5IQ2wf",
        "outputId": "b4686862-85d6-498d-f463-ba71c33abff2"
      },
      "execution_count": 327,
      "outputs": [
        {
          "output_type": "stream",
          "name": "stdout",
          "text": [
            "make:  BMW\n",
            "model: M3\n",
            "color: red\n",
            "number of owners: 0\n"
          ]
        }
      ]
    },
    {
      "cell_type": "code",
      "source": [
        "#Call the method  sell()  in the loop, then call the method  car_info() again\n",
        "for i in range(5):\n",
        "    car1.sell()\n",
        "\n",
        "car1.car_info()"
      ],
      "metadata": {
        "colab": {
          "base_uri": "https://localhost:8080/"
        },
        "id": "UuUPH3uVQ_Vp",
        "outputId": "31555504-bf1a-4408-a53d-dd755bb9e7cc"
      },
      "execution_count": 328,
      "outputs": [
        {
          "output_type": "stream",
          "name": "stdout",
          "text": [
            "make:  BMW\n",
            "model: M3\n",
            "color: red\n",
            "number of owners: 5\n"
          ]
        }
      ]
    },
    {
      "cell_type": "markdown",
      "source": [
        "<h2>Lab - Clases and Objects </h2>"
      ],
      "metadata": {
        "id": "9eKWx76VSicM"
      }
    },
    {
      "cell_type": "code",
      "source": [
        "# Import the library\n",
        "\n",
        "import matplotlib.pyplot as plt\n",
        "%matplotlib inline  "
      ],
      "metadata": {
        "id": "6TXnIeuASj_K"
      },
      "execution_count": 329,
      "outputs": []
    },
    {
      "cell_type": "code",
      "source": [
        "# Create a class Circle\n",
        "\n",
        "class Circle(object):\n",
        "    \n",
        "    # Constructor\n",
        "    def __init__(self, radius=3, color='blue'):\n",
        "        self.radius = radius\n",
        "        self.color = color \n",
        "    \n",
        "    # Method\n",
        "    def add_radius(self, r):\n",
        "        self.radius = self.radius + r\n",
        "        return(self.radius)\n",
        "    \n",
        "    # Method\n",
        "    def drawCircle(self):\n",
        "        plt.gca().add_patch(plt.Circle((0, 0), radius=self.radius, fc=self.color))\n",
        "        plt.axis('scaled')\n",
        "        plt.show()  "
      ],
      "metadata": {
        "id": "2GGI2-xYSy7g"
      },
      "execution_count": 330,
      "outputs": []
    },
    {
      "cell_type": "code",
      "source": [
        "# Create an object RedCircle\n",
        "\n",
        "RedCircle = Circle(10, 'red')"
      ],
      "metadata": {
        "id": "w-WEGh6_TDCl"
      },
      "execution_count": 338,
      "outputs": []
    },
    {
      "cell_type": "code",
      "source": [
        "# Find out the methods can be used on the object RedCircle\n",
        "\n",
        "dir(RedCircle)"
      ],
      "metadata": {
        "colab": {
          "base_uri": "https://localhost:8080/"
        },
        "id": "xyDbdHCBTT7B",
        "outputId": "2b83b545-6195-49ff-c0a1-49e0a2763e55"
      },
      "execution_count": 339,
      "outputs": [
        {
          "output_type": "execute_result",
          "data": {
            "text/plain": [
              "['__class__',\n",
              " '__delattr__',\n",
              " '__dict__',\n",
              " '__dir__',\n",
              " '__doc__',\n",
              " '__eq__',\n",
              " '__format__',\n",
              " '__ge__',\n",
              " '__getattribute__',\n",
              " '__gt__',\n",
              " '__hash__',\n",
              " '__init__',\n",
              " '__init_subclass__',\n",
              " '__le__',\n",
              " '__lt__',\n",
              " '__module__',\n",
              " '__ne__',\n",
              " '__new__',\n",
              " '__reduce__',\n",
              " '__reduce_ex__',\n",
              " '__repr__',\n",
              " '__setattr__',\n",
              " '__sizeof__',\n",
              " '__str__',\n",
              " '__subclasshook__',\n",
              " '__weakref__',\n",
              " 'add_radius',\n",
              " 'color',\n",
              " 'drawCircle',\n",
              " 'radius']"
            ]
          },
          "metadata": {},
          "execution_count": 339
        }
      ]
    },
    {
      "cell_type": "code",
      "source": [
        "# Print the object attribute radius\n",
        "\n",
        "RedCircle.radius"
      ],
      "metadata": {
        "colab": {
          "base_uri": "https://localhost:8080/"
        },
        "id": "aakwIO7xTaig",
        "outputId": "48de2983-cc0b-452d-f076-8d998b67d233"
      },
      "execution_count": 340,
      "outputs": [
        {
          "output_type": "execute_result",
          "data": {
            "text/plain": [
              "10"
            ]
          },
          "metadata": {},
          "execution_count": 340
        }
      ]
    },
    {
      "cell_type": "code",
      "source": [
        "# Print the object attribute color\n",
        "\n",
        "RedCircle.color"
      ],
      "metadata": {
        "colab": {
          "base_uri": "https://localhost:8080/",
          "height": 35
        },
        "id": "5NcB_IcETcw4",
        "outputId": "e81da6b3-49ca-4467-cf2b-c0d49a6bd8f5"
      },
      "execution_count": 341,
      "outputs": [
        {
          "output_type": "execute_result",
          "data": {
            "text/plain": [
              "'red'"
            ],
            "application/vnd.google.colaboratory.intrinsic+json": {
              "type": "string"
            }
          },
          "metadata": {},
          "execution_count": 341
        }
      ]
    },
    {
      "cell_type": "code",
      "source": [
        "# Set the object attribute radius\n",
        "\n",
        "RedCircle.radius = 1\n",
        "RedCircle.radius"
      ],
      "metadata": {
        "colab": {
          "base_uri": "https://localhost:8080/"
        },
        "id": "-SGmO4j9Tem1",
        "outputId": "11b7b8bb-d405-4ba3-e229-ac17c2700405"
      },
      "execution_count": 342,
      "outputs": [
        {
          "output_type": "execute_result",
          "data": {
            "text/plain": [
              "1"
            ]
          },
          "metadata": {},
          "execution_count": 342
        }
      ]
    },
    {
      "cell_type": "code",
      "source": [
        "# Call the method drawCircle\n",
        "\n",
        "RedCircle.drawCircle()"
      ],
      "metadata": {
        "colab": {
          "base_uri": "https://localhost:8080/",
          "height": 265
        },
        "id": "Xc7W8_5hTgUa",
        "outputId": "56cc2040-341f-4fd3-981b-9deca40c7cb7"
      },
      "execution_count": 343,
      "outputs": [
        {
          "output_type": "display_data",
          "data": {
            "text/plain": [
              "<Figure size 432x288 with 1 Axes>"
            ],
            "image/png": "[encoded data removed]"
          },
          "metadata": {
            "needs_background": "light"
          }
        }
      ]
    },
    {
      "cell_type": "code",
      "source": [
        "# Use method to change the object attribute radius\n",
        "\n",
        "print('Radius of object:',RedCircle.radius)\n",
        "RedCircle.add_radius(2)\n",
        "print('Radius of object of after applying the method add_radius(2):',RedCircle.radius)\n",
        "RedCircle.add_radius(5)\n",
        "print('Radius of object of after applying the method add_radius(5):',RedCircle.radius)"
      ],
      "metadata": {
        "colab": {
          "base_uri": "https://localhost:8080/"
        },
        "id": "kU5q23ZRTjN-",
        "outputId": "f5bb5782-56e8-4337-a773-c1506f83ba48"
      },
      "execution_count": 344,
      "outputs": [
        {
          "output_type": "stream",
          "name": "stdout",
          "text": [
            "Radius of object: 1\n",
            "Radius of object of after applying the method add_radius(2): 3\n",
            "Radius of object of after applying the method add_radius(5): 8\n"
          ]
        }
      ]
    },
    {
      "cell_type": "code",
      "source": [
        "# Create a blue circle with a given radius\n",
        "\n",
        "BlueCircle = Circle(radius=100)"
      ],
      "metadata": {
        "id": "h0q4dX48Tncl"
      },
      "execution_count": 345,
      "outputs": []
    },
    {
      "cell_type": "code",
      "source": [
        "# Print the object attribute radius\n",
        "\n",
        "BlueCircle.radius"
      ],
      "metadata": {
        "colab": {
          "base_uri": "https://localhost:8080/"
        },
        "id": "MM2k9z8fTp7w",
        "outputId": "14b6576e-6b54-4163-dff5-3a2c84918062"
      },
      "execution_count": 346,
      "outputs": [
        {
          "output_type": "execute_result",
          "data": {
            "text/plain": [
              "100"
            ]
          },
          "metadata": {},
          "execution_count": 346
        }
      ]
    },
    {
      "cell_type": "code",
      "source": [
        "# Print the object attribute color\n",
        "\n",
        "BlueCircle.color"
      ],
      "metadata": {
        "colab": {
          "base_uri": "https://localhost:8080/",
          "height": 35
        },
        "id": "a15tPrCgTrhm",
        "outputId": "1d0fd971-85a5-4ec2-b401-f73bb0333b15"
      },
      "execution_count": 347,
      "outputs": [
        {
          "output_type": "execute_result",
          "data": {
            "text/plain": [
              "'blue'"
            ],
            "application/vnd.google.colaboratory.intrinsic+json": {
              "type": "string"
            }
          },
          "metadata": {},
          "execution_count": 347
        }
      ]
    },
    {
      "cell_type": "code",
      "source": [
        "# Call the method drawCircle\n",
        "\n",
        "BlueCircle.drawCircle()"
      ],
      "metadata": {
        "colab": {
          "base_uri": "https://localhost:8080/",
          "height": 265
        },
        "id": "5XgcjXsjTuFy",
        "outputId": "032e9a1c-f3e0-469c-b61a-10bb94bd8f5a"
      },
      "execution_count": 348,
      "outputs": [
        {
          "output_type": "display_data",
          "data": {
            "text/plain": [
              "<Figure size 432x288 with 1 Axes>"
            ],
            "image/png": "[encoded data removed]"
          },
          "metadata": {
            "needs_background": "light"
          }
        }
      ]
    },
    {
      "cell_type": "code",
      "source": [
        "# Create a new Rectangle class for creating a rectangle object\n",
        "\n",
        "class Rectangle(object):\n",
        "    \n",
        "    # Constructor\n",
        "    def __init__(self, width=2, height=3, color='r'):\n",
        "        self.height = height \n",
        "        self.width = width\n",
        "        self.color = color\n",
        "    \n",
        "    # Method\n",
        "    def drawRectangle(self):\n",
        "        plt.gca().add_patch(plt.Rectangle((0, 0), self.width, self.height ,fc=self.color))\n",
        "        plt.axis('scaled')\n",
        "        plt.show()\n",
        "        "
      ],
      "metadata": {
        "id": "fkBxPS8BTxms"
      },
      "execution_count": 349,
      "outputs": []
    },
    {
      "cell_type": "code",
      "source": [
        "# Create a new object rectangle\n",
        "\n",
        "SkinnyBlueRectangle = Rectangle(2, 3, 'blue')"
      ],
      "metadata": {
        "id": "9OIdj5dAT0Xd"
      },
      "execution_count": 350,
      "outputs": []
    },
    {
      "cell_type": "code",
      "source": [
        "# Print the object attribute height\n",
        "\n",
        "SkinnyBlueRectangle.height "
      ],
      "metadata": {
        "colab": {
          "base_uri": "https://localhost:8080/"
        },
        "id": "pQtDO83xT2Uo",
        "outputId": "08ba4bb7-9076-4188-c03c-e6b7e10e8452"
      },
      "execution_count": 351,
      "outputs": [
        {
          "output_type": "execute_result",
          "data": {
            "text/plain": [
              "3"
            ]
          },
          "metadata": {},
          "execution_count": 351
        }
      ]
    },
    {
      "cell_type": "code",
      "source": [
        "# Print the object attribute width\n",
        "\n",
        "SkinnyBlueRectangle.width"
      ],
      "metadata": {
        "colab": {
          "base_uri": "https://localhost:8080/"
        },
        "id": "gynsFfzlT4Ex",
        "outputId": "469d475e-66f7-4eb4-f41c-414d044fe747"
      },
      "execution_count": 352,
      "outputs": [
        {
          "output_type": "execute_result",
          "data": {
            "text/plain": [
              "2"
            ]
          },
          "metadata": {},
          "execution_count": 352
        }
      ]
    },
    {
      "cell_type": "code",
      "source": [
        "# Print the object attribute color\n",
        "\n",
        "SkinnyBlueRectangle.color"
      ],
      "metadata": {
        "colab": {
          "base_uri": "https://localhost:8080/",
          "height": 35
        },
        "id": "RfFiDSaxT5pp",
        "outputId": "15b2f9b3-e388-4ea3-a1d2-0a2564b0673a"
      },
      "execution_count": 353,
      "outputs": [
        {
          "output_type": "execute_result",
          "data": {
            "text/plain": [
              "'blue'"
            ],
            "application/vnd.google.colaboratory.intrinsic+json": {
              "type": "string"
            }
          },
          "metadata": {},
          "execution_count": 353
        }
      ]
    },
    {
      "cell_type": "code",
      "source": [
        "# Use the drawRectangle method to draw the shape\n",
        "\n",
        "SkinnyBlueRectangle.drawRectangle()"
      ],
      "metadata": {
        "colab": {
          "base_uri": "https://localhost:8080/",
          "height": 265
        },
        "id": "QrDZnL_5T7Up",
        "outputId": "7c6e1ebd-11c4-40df-d44d-f2fca7170c8a"
      },
      "execution_count": 354,
      "outputs": [
        {
          "output_type": "display_data",
          "data": {
            "text/plain": [
              "<Figure size 432x288 with 1 Axes>"
            ],
            "image/png": "[encoded data removed]"
          },
          "metadata": {
            "needs_background": "light"
          }
        }
      ]
    },
    {
      "cell_type": "code",
      "source": [
        "# Create a new object rectangle\n",
        "\n",
        "FatYellowRectangle = Rectangle(20, 5, 'yellow')"
      ],
      "metadata": {
        "id": "VkoowWpjT9b3"
      },
      "execution_count": 355,
      "outputs": []
    },
    {
      "cell_type": "code",
      "source": [
        "# Print the object attribute height\n",
        "\n",
        "FatYellowRectangle.height "
      ],
      "metadata": {
        "colab": {
          "base_uri": "https://localhost:8080/"
        },
        "id": "klHV-OIdT-8Z",
        "outputId": "5e5acd9e-89e2-410e-aed4-256871ec80ab"
      },
      "execution_count": 356,
      "outputs": [
        {
          "output_type": "execute_result",
          "data": {
            "text/plain": [
              "5"
            ]
          },
          "metadata": {},
          "execution_count": 356
        }
      ]
    },
    {
      "cell_type": "code",
      "source": [
        "# Print the object attribute width\n",
        "\n",
        "FatYellowRectangle.width"
      ],
      "metadata": {
        "colab": {
          "base_uri": "https://localhost:8080/"
        },
        "id": "DC7pX8tUUAS9",
        "outputId": "58850c2c-2755-4e81-dc90-f0b3b9d5dc2f"
      },
      "execution_count": 357,
      "outputs": [
        {
          "output_type": "execute_result",
          "data": {
            "text/plain": [
              "20"
            ]
          },
          "metadata": {},
          "execution_count": 357
        }
      ]
    },
    {
      "cell_type": "code",
      "source": [
        "# Print the object attribute color\n",
        "\n",
        "FatYellowRectangle.color"
      ],
      "metadata": {
        "colab": {
          "base_uri": "https://localhost:8080/",
          "height": 35
        },
        "id": "_BWVCrC8UBxW",
        "outputId": "8e60bc23-d3b3-4480-8b34-be7b75126a65"
      },
      "execution_count": 358,
      "outputs": [
        {
          "output_type": "execute_result",
          "data": {
            "text/plain": [
              "'yellow'"
            ],
            "application/vnd.google.colaboratory.intrinsic+json": {
              "type": "string"
            }
          },
          "metadata": {},
          "execution_count": 358
        }
      ]
    },
    {
      "cell_type": "code",
      "source": [
        "# Use the drawRectangle method to draw the shape\n",
        "\n",
        "FatYellowRectangle.drawRectangle()"
      ],
      "metadata": {
        "colab": {
          "base_uri": "https://localhost:8080/",
          "height": 132
        },
        "id": "vsh6t7grUDOv",
        "outputId": "85b929fc-e344-409a-98fb-a52010875dc7"
      },
      "execution_count": 359,
      "outputs": [
        {
          "output_type": "display_data",
          "data": {
            "text/plain": [
              "<Figure size 432x288 with 1 Axes>"
            ],
            "image/png": "[encoded data removed]"
          },
          "metadata": {
            "needs_background": "light"
          }
        }
      ]
    },
    {
      "cell_type": "markdown",
      "source": [
        "<h3>Excercises - Text analysis</h3>"
      ],
      "metadata": {
        "id": "d-eoXDa3UJQG"
      }
    },
    {
      "cell_type": "code",
      "source": [
        "class analysedText(object):\n",
        "    \n",
        "    def __init__ (self, text):\n",
        "\n",
        "        # TODO: Remove the punctuation from <text> and make it lower case.\n",
        "        self.text = text.replace('.', '').replace('!','').replace(',','').replace('?','').lower()\n",
        "\n",
        "        # TODO: Assign the formatted text to a new attribute called \"fmtText\"\n",
        "        self.fmtText = self.text\n",
        "\n",
        "    \n",
        "    def freqAll(self):    \n",
        "\n",
        "        # TODO: Split the text into a list of words  \n",
        "        listOfWords = self.fmtText.split(' ')\n",
        "        setOfWords = set(listOfWords)\n",
        "\n",
        "        # TODO: Create a dictionary with the unique words in the text as keys\n",
        "        # and the number of times they occur in the text as values\n",
        "        dictionaryOfWords = {}\n",
        "        for word in setOfWords:\n",
        "            dictionaryOfWords[word] = self.freqOf(word)\n",
        "      \n",
        "        return dictionaryOfWords\n",
        "    \n",
        "    def freqOf(self, word):\n",
        "\n",
        "        # TODO: return the number of occurrences of <word> in <fmtText>\n",
        "        listOfWords = self.fmtText.split(' ')\n",
        "        return listOfWords.count(word)\n",
        "        "
      ],
      "metadata": {
        "id": "gutTTVEuU6Zn"
      },
      "execution_count": 418,
      "outputs": []
    },
    {
      "cell_type": "code",
      "source": [
        "import sys\n",
        "\n",
        "sampleMap = {'eirmod': 1,'sed': 1, 'amet': 2, 'diam': 5, 'consetetur': 1, 'labore': 1, 'tempor': 1, 'dolor': 1, 'magna': 2, 'et': 3, 'nonumy': 1, 'ipsum': 1, 'lorem': 2}\n",
        "\n",
        "def testMsg(passed):\n",
        "    if passed:\n",
        "       return 'Test Passed'\n",
        "    else :\n",
        "       return 'Test Failed'\n",
        "\n",
        "print(\"Constructor: \")\n",
        "try:\n",
        "    samplePassage = analysedText(\"Lorem ipsum dolor! diam amet, consetetur Lorem magna. sed diam nonumy eirmod tempor. diam et labore? et diam magna. et diam amet.\")\n",
        "    print(testMsg(samplePassage.fmtText == \"lorem ipsum dolor diam amet consetetur lorem magna sed diam nonumy eirmod tempor diam et labore et diam magna et diam amet\"))\n",
        "except:\n",
        "    print(\"Error detected. Recheck your function \" )\n",
        "print(\"freqAll: \")\n",
        "try:\n",
        "    wordMap = samplePassage.freqAll()\n",
        "    print(testMsg(wordMap==sampleMap))\n",
        "    \n",
        "except:\n",
        "    print(\"Error detected. Recheck your function \" )\n",
        "print(\"freqOf: \")\n",
        "try:\n",
        "    passed = True\n",
        "    for word in sampleMap:\n",
        "        if samplePassage.freqOf(word) != sampleMap[word]:\n",
        "            passed = False\n",
        "            break\n",
        "    print(testMsg(passed))\n",
        "    \n",
        "except:\n",
        "    print(\"Error detected. Recheck your function  \" )"
      ],
      "metadata": {
        "colab": {
          "base_uri": "https://localhost:8080/"
        },
        "id": "dAmDtz2LW0Lw",
        "outputId": "d5679cf9-7f91-4605-b4f0-0db88c496188"
      },
      "execution_count": 419,
      "outputs": [
        {
          "output_type": "stream",
          "name": "stdout",
          "text": [
            "Constructor: \n",
            "Test Passed\n",
            "freqAll: \n",
            "Test Passed\n",
            "freqOf: \n",
            "Test Passed\n"
          ]
        }
      ]
    },
    {
      "cell_type": "markdown",
      "source": [
        "<h2>3.1.2 Exception handling</h2>\n"
      ],
      "metadata": {
        "id": "JL44dk1setPf"
      }
    },
    {
      "cell_type": "code",
      "source": [
        "#Run each piece of code and observe the exception raised\n",
        "1/0"
      ],
      "metadata": {
        "colab": {
          "base_uri": "https://localhost:8080/",
          "height": 183
        },
        "id": "DDa7-Rgee0RV",
        "outputId": "c0e38c32-e165-426d-f9a7-07a85c3ffa1c"
      },
      "execution_count": 420,
      "outputs": [
        {
          "output_type": "error",
          "ename": "ZeroDivisionError",
          "evalue": "ignored",
          "traceback": [
            "\u001b[0;31m---------------------------------------------------------------------------\u001b[0m",
            "\u001b[0;31mZeroDivisionError\u001b[0m                         Traceback (most recent call last)",
            "\u001b[0;32m<ipython-input-420-cebcf0d59ae2>\u001b[0m in \u001b[0;36m<module>\u001b[0;34m\u001b[0m\n\u001b[1;32m      1\u001b[0m \u001b[0;31m#Run each piece of code and observe the exception raised\u001b[0m\u001b[0;34m\u001b[0m\u001b[0;34m\u001b[0m\u001b[0;34m\u001b[0m\u001b[0m\n\u001b[0;32m----> 2\u001b[0;31m \u001b[0;36m1\u001b[0m\u001b[0;34m/\u001b[0m\u001b[0;36m0\u001b[0m\u001b[0;34m\u001b[0m\u001b[0;34m\u001b[0m\u001b[0m\n\u001b[0m",
            "\u001b[0;31mZeroDivisionError\u001b[0m: division by zero"
          ]
        }
      ]
    },
    {
      "cell_type": "code",
      "source": [
        "del a\n",
        "y = a + 5"
      ],
      "metadata": {
        "colab": {
          "base_uri": "https://localhost:8080/",
          "height": 183
        },
        "id": "W57NTxWae4Hb",
        "outputId": "f333e304-925c-4bd5-874c-35d4c2b7429d"
      },
      "execution_count": 423,
      "outputs": [
        {
          "output_type": "error",
          "ename": "NameError",
          "evalue": "ignored",
          "traceback": [
            "\u001b[0;31m---------------------------------------------------------------------------\u001b[0m",
            "\u001b[0;31mNameError\u001b[0m                                 Traceback (most recent call last)",
            "\u001b[0;32m<ipython-input-423-de7272fcf39b>\u001b[0m in \u001b[0;36m<module>\u001b[0;34m\u001b[0m\n\u001b[1;32m      1\u001b[0m \u001b[0;32mdel\u001b[0m \u001b[0ma\u001b[0m\u001b[0;34m\u001b[0m\u001b[0;34m\u001b[0m\u001b[0m\n\u001b[0;32m----> 2\u001b[0;31m \u001b[0my\u001b[0m \u001b[0;34m=\u001b[0m \u001b[0ma\u001b[0m \u001b[0;34m+\u001b[0m \u001b[0;36m5\u001b[0m\u001b[0;34m\u001b[0m\u001b[0;34m\u001b[0m\u001b[0m\n\u001b[0m",
            "\u001b[0;31mNameError\u001b[0m: name 'a' is not defined"
          ]
        }
      ]
    },
    {
      "cell_type": "code",
      "source": [
        "a = [1, 2, 3]\n",
        "a[10]"
      ],
      "metadata": {
        "colab": {
          "base_uri": "https://localhost:8080/",
          "height": 183
        },
        "id": "l12P1yQ4e-L_",
        "outputId": "4f6d63f4-edfb-4f8d-9a2f-3ff128eea879"
      },
      "execution_count": 424,
      "outputs": [
        {
          "output_type": "error",
          "ename": "IndexError",
          "evalue": "ignored",
          "traceback": [
            "\u001b[0;31m---------------------------------------------------------------------------\u001b[0m",
            "\u001b[0;31mIndexError\u001b[0m                                Traceback (most recent call last)",
            "\u001b[0;32m<ipython-input-424-3f911ca4e3d3>\u001b[0m in \u001b[0;36m<module>\u001b[0;34m\u001b[0m\n\u001b[1;32m      1\u001b[0m \u001b[0ma\u001b[0m \u001b[0;34m=\u001b[0m \u001b[0;34m[\u001b[0m\u001b[0;36m1\u001b[0m\u001b[0;34m,\u001b[0m \u001b[0;36m2\u001b[0m\u001b[0;34m,\u001b[0m \u001b[0;36m3\u001b[0m\u001b[0;34m]\u001b[0m\u001b[0;34m\u001b[0m\u001b[0;34m\u001b[0m\u001b[0m\n\u001b[0;32m----> 2\u001b[0;31m \u001b[0ma\u001b[0m\u001b[0;34m[\u001b[0m\u001b[0;36m10\u001b[0m\u001b[0;34m]\u001b[0m\u001b[0;34m\u001b[0m\u001b[0;34m\u001b[0m\u001b[0m\n\u001b[0m",
            "\u001b[0;31mIndexError\u001b[0m: list index out of range"
          ]
        }
      ]
    },
    {
      "cell_type": "code",
      "source": [
        "a = 1\n",
        "\n",
        "try:\n",
        "    b = int(input(\"Please enter a number to divide a\"))\n",
        "    a = a/b\n",
        "    print(\"Success a=\",a)\n",
        "except:\n",
        "    print(\"There was an error\")\n",
        "        "
      ],
      "metadata": {
        "colab": {
          "base_uri": "https://localhost:8080/"
        },
        "id": "puLFxLtxfCeV",
        "outputId": "33f7b947-8da3-4f0c-f2be-ab6ef1817beb"
      },
      "execution_count": 425,
      "outputs": [
        {
          "output_type": "stream",
          "name": "stdout",
          "text": [
            "Please enter a number to divide a0\n",
            "There was an error\n"
          ]
        }
      ]
    },
    {
      "cell_type": "code",
      "source": [
        "a = 1\n",
        "\n",
        "try:\n",
        "    b = int(input(\"Please enter a number to divide a\"))\n",
        "    a = a/b\n",
        "    print(\"Success a=\",a)\n",
        "except ZeroDivisionError:\n",
        "    print(\"The number you provided cant divide 1 because it is 0\")\n",
        "except ValueError:\n",
        "    print(\"You did not provide a number\")\n",
        "except:\n",
        "    print(\"Something went wrong\")\n",
        "        "
      ],
      "metadata": {
        "colab": {
          "base_uri": "https://localhost:8080/"
        },
        "id": "x_-xaN03fP34",
        "outputId": "3579a670-fa17-44c4-a04b-d267f1d94802"
      },
      "execution_count": 427,
      "outputs": [
        {
          "output_type": "stream",
          "name": "stdout",
          "text": [
            "Please enter a number to divide a3r\n",
            "You did not provide a number\n"
          ]
        }
      ]
    },
    {
      "cell_type": "code",
      "source": [
        "a = 1\n",
        "\n",
        "try:\n",
        "    b = int(input(\"Please enter a number to divide a\"))\n",
        "    a = a/b\n",
        "except ZeroDivisionError:\n",
        "    print(\"The number you provided cant divide 1 because it is 0\")\n",
        "except ValueError:\n",
        "    print(\"You did not provide a number\")\n",
        "except:\n",
        "    print(\"Something went wrong\")\n",
        "else:\n",
        "    print(\"success a=\",a)"
      ],
      "metadata": {
        "colab": {
          "base_uri": "https://localhost:8080/"
        },
        "id": "OUJjvBGafX_2",
        "outputId": "77826e49-3521-4489-8dce-486d3699915c"
      },
      "execution_count": 428,
      "outputs": [
        {
          "output_type": "stream",
          "name": "stdout",
          "text": [
            "Please enter a number to divide a0\n",
            "The number you provided cant divide 1 because it is 0\n"
          ]
        }
      ]
    },
    {
      "cell_type": "code",
      "source": [
        "\n",
        "try:\n",
        "    b = int(input(\"Please enter a number to divide a\"))\n",
        "    a = a/b\n",
        "except ZeroDivisionError:\n",
        "    print(\"The number you provided cant divide 1 because it is 0\")\n",
        "except ValueError:\n",
        "    print(\"You did not provide a number\")\n",
        "except:\n",
        "    print(\"Something went wrong\")\n",
        "else:\n",
        "    print(\"success a=\",a)\n",
        "finally:\n",
        "    print(\"Processing Complete\")"
      ],
      "metadata": {
        "colab": {
          "base_uri": "https://localhost:8080/"
        },
        "id": "pWG1O0Rzfgal",
        "outputId": "4a081439-2863-4052-806a-4e42a95a97a0"
      },
      "execution_count": 429,
      "outputs": [
        {
          "output_type": "stream",
          "name": "stdout",
          "text": [
            "Please enter a number to divide a0\n",
            "The number you provided cant divide 1 because it is 0\n",
            "Processing Complete\n"
          ]
        }
      ]
    }
  ]
}